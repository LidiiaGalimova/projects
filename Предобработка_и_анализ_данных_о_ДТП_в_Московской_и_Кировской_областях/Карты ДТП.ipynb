{
 "cells": [
  {
   "cell_type": "markdown",
   "id": "3a8452be",
   "metadata": {},
   "source": [
    "# Карты ДТП"
   ]
  },
  {
   "cell_type": "markdown",
   "id": "324ffd99",
   "metadata": {},
   "source": [
    "Автор: Галимова Лидия\n",
    "\n",
    "Дата: 10.09.2025"
   ]
  },
  {
   "cell_type": "markdown",
   "id": "19bb9f33",
   "metadata": {},
   "source": [
    "#### Цели и задачи:\n",
    "\n",
    "##### Цель: \n",
    "* Проанализировать качество данных, дать рекомендации заказчику (на какие проблемы или особенности обратить внимание).\n",
    "\n",
    "##### Задачи: \n",
    "* Проверить данные на дубликаты и пропуски\n",
    "* Проверить корректность типов данных и названий столбцов\n",
    "* Провести анализ данных"
   ]
  },
  {
   "cell_type": "markdown",
   "id": "3ef3078f",
   "metadata": {},
   "source": [
    "#### Описание данных:\n",
    "\n",
    "##### Датасеты Kirovskaya_oblast.csv, Moscowskaya_oblast.csv содержат информацию о ДТП:\n",
    "* geometry.coordinates — координаты ДТП;\n",
    "* id — идентификатор ДТП;\n",
    "* properties.tags — тег происшествия;\n",
    "* properties.light — освещённость;\n",
    "* properties.point.lat — широта;\n",
    "* properties.point.long — долгота;\n",
    "* properties.nearby — ближайшие объекты;\n",
    "* properties.region — регион;\n",
    "* properties.scheme — схема ДТП;\n",
    "* properties.address — ближайший адрес;\n",
    "* properties.weather — погода;\n",
    "* properties.category — категория ДТП;\n",
    "* properties.datetime — дата и время ДТП;\n",
    "* properties.injured_count — число пострадавших;\n",
    "* properties.parent_region — область;\n",
    "* properties.road_conditions — состояние покрытия;\n",
    "* properties.participants_count — число участников;\n",
    "* properties.participant_categories — категории участников.\n",
    "\n",
    "##### Датасеты Moscowskaya_oblast_participiants.csv, Kirovskaya_oblast_participiants.csv хранят сведения об участниках ДТП:\n",
    "* role — роль;\n",
    "* gender — пол;\n",
    "* violations — какие правила дорожного движения были нарушены конкретным участником;\n",
    "* health_status — состояние здоровья после ДТП;\n",
    "* years_of_driving_experience — число лет опыта;\n",
    "* id — идентификатор ДТП.\n",
    "\n",
    "##### Датасеты Kirovskaya_oblast_vehicles.csv, Moscowskaya_oblast_vehicles.csv хранят сведения о транспортных средствах:\n",
    "* year — год выпуска;\n",
    "* brand — марка транспортного средства;\n",
    "* color — цвет;\n",
    "* model — модель;\n",
    "* category — категория;\n",
    "* id — идентификатор ДТП. "
   ]
  },
  {
   "cell_type": "markdown",
   "id": "24f5c4cb",
   "metadata": {},
   "source": [
    "# 1.Предобработка данных"
   ]
  },
  {
   "cell_type": "code",
   "execution_count": 1,
   "id": "c24ecca3",
   "metadata": {},
   "outputs": [],
   "source": [
    "#загружаем библиотеки\n",
    "import pandas as pd"
   ]
  },
  {
   "cell_type": "code",
   "execution_count": 2,
   "id": "8f79697c",
   "metadata": {},
   "outputs": [],
   "source": [
    "#выгружаем данные\n",
    "Kir_obl = pd.read_csv('https://code.s3.yandex.net/datasets/Kirovskaya_oblast.csv')\n",
    "Mos_obl = pd.read_csv('https://code.s3.yandex.net/datasets/Moscowskaya_oblast.csv')\n",
    "Kir_par = pd.read_csv('https://code.s3.yandex.net/datasets/Kirovskaya_oblast_participiants.csv')\n",
    "Mos_par = pd.read_csv('https://code.s3.yandex.net/datasets/Moscowskaya_oblast_participiants.csv')\n",
    "Kir_veh = pd.read_csv('https://code.s3.yandex.net/datasets/Kirovskaya_oblast_vehicles.csv')\n",
    "Mos_veh = pd.read_csv('https://code.s3.yandex.net/datasets/Moscowskaya_oblast_vehicles.csv') "
   ]
  },
  {
   "cell_type": "markdown",
   "id": "066c4b64",
   "metadata": {},
   "source": [
    "#### Предобработка датасета Kir_obl"
   ]
  },
  {
   "cell_type": "code",
   "execution_count": 3,
   "id": "4b3b23e0",
   "metadata": {},
   "outputs": [
    {
     "data": {
      "text/html": [
       "<div>\n",
       "<style scoped>\n",
       "    .dataframe tbody tr th:only-of-type {\n",
       "        vertical-align: middle;\n",
       "    }\n",
       "\n",
       "    .dataframe tbody tr th {\n",
       "        vertical-align: top;\n",
       "    }\n",
       "\n",
       "    .dataframe thead th {\n",
       "        text-align: right;\n",
       "    }\n",
       "</style>\n",
       "<table border=\"1\" class=\"dataframe\">\n",
       "  <thead>\n",
       "    <tr style=\"text-align: right;\">\n",
       "      <th></th>\n",
       "      <th>geometry.coordinates</th>\n",
       "      <th>id</th>\n",
       "      <th>properties.tags</th>\n",
       "      <th>properties.light</th>\n",
       "      <th>properties.point.lat</th>\n",
       "      <th>properties.point.long</th>\n",
       "      <th>properties.nearby</th>\n",
       "      <th>properties.region</th>\n",
       "      <th>properties.scheme</th>\n",
       "      <th>properties.address</th>\n",
       "      <th>properties.weather</th>\n",
       "      <th>properties.category</th>\n",
       "      <th>properties.datetime</th>\n",
       "      <th>properties.injured_count</th>\n",
       "      <th>properties.parent_region</th>\n",
       "      <th>properties.road_conditions</th>\n",
       "      <th>properties.participants_count</th>\n",
       "      <th>properties.participant_categories</th>\n",
       "    </tr>\n",
       "  </thead>\n",
       "  <tbody>\n",
       "    <tr>\n",
       "      <th>0</th>\n",
       "      <td>[47.875603, 57.24379]</td>\n",
       "      <td>1983180</td>\n",
       "      <td>Дорожно-транспортные происшествия</td>\n",
       "      <td>Светлое время суток</td>\n",
       "      <td>57.243790</td>\n",
       "      <td>47.875603</td>\n",
       "      <td>[]</td>\n",
       "      <td>Яранский район</td>\n",
       "      <td>600.0</td>\n",
       "      <td>Р-176 Вятка Чебоксары - Йошкар-Ола - Киров - С...</td>\n",
       "      <td>['Дождь']</td>\n",
       "      <td>Опрокидывание</td>\n",
       "      <td>2017-07-01 18:00:00</td>\n",
       "      <td>1</td>\n",
       "      <td>Кировская область</td>\n",
       "      <td>['Мокрое']</td>\n",
       "      <td>3</td>\n",
       "      <td>['Все участники']</td>\n",
       "    </tr>\n",
       "    <tr>\n",
       "      <th>1</th>\n",
       "      <td>[47.87903, 57.304807]</td>\n",
       "      <td>2889433</td>\n",
       "      <td>Дорожно-транспортные происшествия</td>\n",
       "      <td>Светлое время суток</td>\n",
       "      <td>57.304807</td>\n",
       "      <td>47.879030</td>\n",
       "      <td>['Административные здания', 'Нерегулируемый пе...</td>\n",
       "      <td>Яранский район</td>\n",
       "      <td>710.0</td>\n",
       "      <td>г Яранск, ул Кирова, 10</td>\n",
       "      <td>['Ясно']</td>\n",
       "      <td>Наезд на пешехода</td>\n",
       "      <td>2023-09-12 17:10:00</td>\n",
       "      <td>1</td>\n",
       "      <td>Кировская область</td>\n",
       "      <td>['Сухое', 'Отсутствие, плохая различимость гор...</td>\n",
       "      <td>2</td>\n",
       "      <td>['Все участники', 'Пешеходы']</td>\n",
       "    </tr>\n",
       "    <tr>\n",
       "      <th>2</th>\n",
       "      <td>[47.840781, 57.297156]</td>\n",
       "      <td>2591208</td>\n",
       "      <td>Дорожно-транспортные происшествия</td>\n",
       "      <td>Сумерки</td>\n",
       "      <td>57.297156</td>\n",
       "      <td>47.840781</td>\n",
       "      <td>['Жилые дома индивидуальной застройки', 'Нерег...</td>\n",
       "      <td>Яранский район</td>\n",
       "      <td>NaN</td>\n",
       "      <td>г Яранск, ул Чапаева, 80</td>\n",
       "      <td>['Пасмурно']</td>\n",
       "      <td>Съезд с дороги</td>\n",
       "      <td>2021-07-02 21:25:00</td>\n",
       "      <td>1</td>\n",
       "      <td>Кировская область</td>\n",
       "      <td>['Мокрое']</td>\n",
       "      <td>1</td>\n",
       "      <td>['Все участники']</td>\n",
       "    </tr>\n",
       "    <tr>\n",
       "      <th>3</th>\n",
       "      <td>[47.834365, 57.244775]</td>\n",
       "      <td>2577639</td>\n",
       "      <td>Дорожно-транспортные происшествия</td>\n",
       "      <td>Светлое время суток</td>\n",
       "      <td>57.244775</td>\n",
       "      <td>47.834365</td>\n",
       "      <td>['Жилые дома индивидуальной застройки']</td>\n",
       "      <td>Яранский район</td>\n",
       "      <td>200.0</td>\n",
       "      <td>м Знаменка, ул Кирова, 15</td>\n",
       "      <td>['Пасмурно']</td>\n",
       "      <td>Столкновение</td>\n",
       "      <td>2021-05-31 18:55:00</td>\n",
       "      <td>1</td>\n",
       "      <td>Кировская область</td>\n",
       "      <td>['Сухое']</td>\n",
       "      <td>2</td>\n",
       "      <td>['Все участники', 'Мотоциклисты']</td>\n",
       "    </tr>\n",
       "    <tr>\n",
       "      <th>4</th>\n",
       "      <td>[47.968197, 57.357738]</td>\n",
       "      <td>1981026</td>\n",
       "      <td>Дорожно-транспортные происшествия</td>\n",
       "      <td>Светлое время суток</td>\n",
       "      <td>57.357738</td>\n",
       "      <td>47.968197</td>\n",
       "      <td>['Нерегулируемый перекрёсток неравнозначных ул...</td>\n",
       "      <td>Яранский район</td>\n",
       "      <td>NaN</td>\n",
       "      <td>с/п Никольское, Киров-Советск- Яранск - подъез...</td>\n",
       "      <td>['Ясно']</td>\n",
       "      <td>Опрокидывание</td>\n",
       "      <td>2018-05-16 16:25:00</td>\n",
       "      <td>2</td>\n",
       "      <td>Кировская область</td>\n",
       "      <td>['Сухое', 'Отсутствие, плохая различимость гор...</td>\n",
       "      <td>2</td>\n",
       "      <td>['Все участники']</td>\n",
       "    </tr>\n",
       "  </tbody>\n",
       "</table>\n",
       "</div>"
      ],
      "text/plain": [
       "     geometry.coordinates       id                    properties.tags  \\\n",
       "0   [47.875603, 57.24379]  1983180  Дорожно-транспортные происшествия   \n",
       "1   [47.87903, 57.304807]  2889433  Дорожно-транспортные происшествия   \n",
       "2  [47.840781, 57.297156]  2591208  Дорожно-транспортные происшествия   \n",
       "3  [47.834365, 57.244775]  2577639  Дорожно-транспортные происшествия   \n",
       "4  [47.968197, 57.357738]  1981026  Дорожно-транспортные происшествия   \n",
       "\n",
       "      properties.light  properties.point.lat  properties.point.long  \\\n",
       "0  Светлое время суток             57.243790              47.875603   \n",
       "1  Светлое время суток             57.304807              47.879030   \n",
       "2              Сумерки             57.297156              47.840781   \n",
       "3  Светлое время суток             57.244775              47.834365   \n",
       "4  Светлое время суток             57.357738              47.968197   \n",
       "\n",
       "                                   properties.nearby properties.region  \\\n",
       "0                                                 []    Яранский район   \n",
       "1  ['Административные здания', 'Нерегулируемый пе...    Яранский район   \n",
       "2  ['Жилые дома индивидуальной застройки', 'Нерег...    Яранский район   \n",
       "3            ['Жилые дома индивидуальной застройки']    Яранский район   \n",
       "4  ['Нерегулируемый перекрёсток неравнозначных ул...    Яранский район   \n",
       "\n",
       "   properties.scheme                                 properties.address  \\\n",
       "0              600.0  Р-176 Вятка Чебоксары - Йошкар-Ола - Киров - С...   \n",
       "1              710.0                            г Яранск, ул Кирова, 10   \n",
       "2                NaN                           г Яранск, ул Чапаева, 80   \n",
       "3              200.0                          м Знаменка, ул Кирова, 15   \n",
       "4                NaN  с/п Никольское, Киров-Советск- Яранск - подъез...   \n",
       "\n",
       "  properties.weather properties.category  properties.datetime  \\\n",
       "0          ['Дождь']       Опрокидывание  2017-07-01 18:00:00   \n",
       "1           ['Ясно']   Наезд на пешехода  2023-09-12 17:10:00   \n",
       "2       ['Пасмурно']      Съезд с дороги  2021-07-02 21:25:00   \n",
       "3       ['Пасмурно']        Столкновение  2021-05-31 18:55:00   \n",
       "4           ['Ясно']       Опрокидывание  2018-05-16 16:25:00   \n",
       "\n",
       "   properties.injured_count properties.parent_region  \\\n",
       "0                         1        Кировская область   \n",
       "1                         1        Кировская область   \n",
       "2                         1        Кировская область   \n",
       "3                         1        Кировская область   \n",
       "4                         2        Кировская область   \n",
       "\n",
       "                          properties.road_conditions  \\\n",
       "0                                         ['Мокрое']   \n",
       "1  ['Сухое', 'Отсутствие, плохая различимость гор...   \n",
       "2                                         ['Мокрое']   \n",
       "3                                          ['Сухое']   \n",
       "4  ['Сухое', 'Отсутствие, плохая различимость гор...   \n",
       "\n",
       "   properties.participants_count  properties.participant_categories  \n",
       "0                              3                  ['Все участники']  \n",
       "1                              2      ['Все участники', 'Пешеходы']  \n",
       "2                              1                  ['Все участники']  \n",
       "3                              2  ['Все участники', 'Мотоциклисты']  \n",
       "4                              2                  ['Все участники']  "
      ]
     },
     "execution_count": 3,
     "metadata": {},
     "output_type": "execute_result"
    }
   ],
   "source": [
    "#проверяем данные Kir_obl (первые 5 строк)\n",
    "Kir_obl.head()"
   ]
  },
  {
   "cell_type": "code",
   "execution_count": 4,
   "id": "c2c1549b",
   "metadata": {},
   "outputs": [
    {
     "name": "stdout",
     "output_type": "stream",
     "text": [
      "<class 'pandas.core.frame.DataFrame'>\n",
      "RangeIndex: 14517 entries, 0 to 14516\n",
      "Data columns (total 18 columns):\n",
      " #   Column                             Non-Null Count  Dtype  \n",
      "---  ------                             --------------  -----  \n",
      " 0   geometry.coordinates               14517 non-null  object \n",
      " 1   id                                 14517 non-null  int64  \n",
      " 2   properties.tags                    14517 non-null  object \n",
      " 3   properties.light                   14517 non-null  object \n",
      " 4   properties.point.lat               14485 non-null  float64\n",
      " 5   properties.point.long              14485 non-null  float64\n",
      " 6   properties.nearby                  14517 non-null  object \n",
      " 7   properties.region                  14517 non-null  object \n",
      " 8   properties.scheme                  13380 non-null  float64\n",
      " 9   properties.address                 13843 non-null  object \n",
      " 10  properties.weather                 14517 non-null  object \n",
      " 11  properties.category                14517 non-null  object \n",
      " 12  properties.datetime                14517 non-null  object \n",
      " 13  properties.injured_count           14517 non-null  int64  \n",
      " 14  properties.parent_region           14517 non-null  object \n",
      " 15  properties.road_conditions         14517 non-null  object \n",
      " 16  properties.participants_count      14517 non-null  int64  \n",
      " 17  properties.participant_categories  14517 non-null  object \n",
      "dtypes: float64(3), int64(3), object(12)\n",
      "memory usage: 2.0+ MB\n"
     ]
    }
   ],
   "source": [
    "#выводим информацию о датасете\n",
    "Kir_obl.info()"
   ]
  },
  {
   "cell_type": "markdown",
   "id": "ee725c52",
   "metadata": {},
   "source": [
    "Необходимо заменить названия столбцов на наиболее подходящие для работы. Также необходимо разобраться с пропусками: пропуски есть в столбцах properties.point.lat,properties.point.long,properties.scheme,properties.address. Также необходимо заменить тип данных в столбце properties.datetime."
   ]
  },
  {
   "cell_type": "code",
   "execution_count": 5,
   "id": "8bb18802",
   "metadata": {},
   "outputs": [],
   "source": [
    "#Меняем названия столбцов\n",
    "Kir_obl.columns=[col.lower().\n",
    "                 replace('.','_'). \n",
    "                 replace('properties_', '') \n",
    "                 for col in Kir_obl.columns]"
   ]
  },
  {
   "cell_type": "code",
   "execution_count": 6,
   "id": "13aec7d2",
   "metadata": {},
   "outputs": [],
   "source": [
    "#Меняем тип данных на datetime\n",
    "Kir_obl['datetime'] = pd.to_datetime(Kir_obl['datetime'])"
   ]
  },
  {
   "cell_type": "code",
   "execution_count": 7,
   "id": "3033850b",
   "metadata": {},
   "outputs": [],
   "source": [
    "#Меняем тип данных для экономии памяти\n",
    "Kir_obl[\"id\"] = pd.to_numeric(Kir_obl[\"id\"], downcast=\"integer\")# выбирает автоматически нужный формат\n",
    "Kir_obl[\"injured_count\"] = pd.to_numeric(Kir_obl[\"id\"], downcast=\"integer\")\n",
    "Kir_obl[\"participants_count\"] = pd.to_numeric(Kir_obl[\"id\"], downcast=\"integer\")"
   ]
  },
  {
   "cell_type": "code",
   "execution_count": 8,
   "id": "4e0db047",
   "metadata": {},
   "outputs": [
    {
     "data": {
      "text/plain": [
       "geometry_coordinates         0\n",
       "id                           0\n",
       "tags                         0\n",
       "light                        0\n",
       "point_lat                   32\n",
       "point_long                  32\n",
       "nearby                       0\n",
       "region                       0\n",
       "scheme                    1137\n",
       "address                    674\n",
       "weather                      0\n",
       "category                     0\n",
       "datetime                     0\n",
       "injured_count                0\n",
       "parent_region                0\n",
       "road_conditions              0\n",
       "participants_count           0\n",
       "participant_categories       0\n",
       "dtype: int64"
      ]
     },
     "execution_count": 8,
     "metadata": {},
     "output_type": "execute_result"
    }
   ],
   "source": [
    "# Выводим количество пропущенных строк в датафрейме\n",
    "Kir_obl.isna().sum()"
   ]
  },
  {
   "cell_type": "code",
   "execution_count": 9,
   "id": "fd0d7757",
   "metadata": {},
   "outputs": [
    {
     "data": {
      "text/plain": [
       "geometry_coordinates      0.000000\n",
       "id                        0.000000\n",
       "tags                      0.000000\n",
       "light                     0.000000\n",
       "point_lat                 0.220431\n",
       "point_long                0.220431\n",
       "nearby                    0.000000\n",
       "region                    0.000000\n",
       "scheme                    7.832197\n",
       "address                   4.642833\n",
       "weather                   0.000000\n",
       "category                  0.000000\n",
       "datetime                  0.000000\n",
       "injured_count             0.000000\n",
       "parent_region             0.000000\n",
       "road_conditions           0.000000\n",
       "participants_count        0.000000\n",
       "participant_categories    0.000000\n",
       "dtype: float64"
      ]
     },
     "execution_count": 9,
     "metadata": {},
     "output_type": "execute_result"
    }
   ],
   "source": [
    "# Подсчитываем процент строк с пропусками\n",
    "Kir_obl.isna().sum() / len(Kir_obl)*100"
   ]
  },
  {
   "cell_type": "markdown",
   "id": "deb2b10a",
   "metadata": {},
   "source": [
    "В столбцах point_lat и point_long всего по 0,22% пропусков, так как признак не ключевой, строки с пропусками можно удалить, или поставить маркер \"Unknown\". В столбце scheme почти 8% пропусков, в столбце address 4.6%. Данные не являются ключевыми, можно также удалить строки или поставить маркер \"Unknown\". В данном проекте все пропущенные значения заменим маркерами \"Unknown\"."
   ]
  },
  {
   "cell_type": "code",
   "execution_count": 10,
   "id": "69e6d4fb",
   "metadata": {},
   "outputs": [],
   "source": [
    "#Заменяем пропуски значением Unknown\n",
    "Kir_obl['point_lat'].fillna(\"Unknown\", inplace=True) #inplace=True изменения вносятся прямо в текущий DataFrame, без создания копии.\n",
    "Kir_obl['point_long'].fillna(\"Unknown\", inplace=True)\n",
    "Kir_obl['scheme'].fillna(\"Unknown\", inplace=True)\n",
    "Kir_obl['address'].fillna(\"Unknown\", inplace=True)"
   ]
  },
  {
   "cell_type": "code",
   "execution_count": 11,
   "id": "50f5453d",
   "metadata": {
    "scrolled": true
   },
   "outputs": [
    {
     "data": {
      "text/plain": [
       "0"
      ]
     },
     "execution_count": 11,
     "metadata": {},
     "output_type": "execute_result"
    }
   ],
   "source": [
    "#Поиск явных дубликатов\n",
    "Kir_obl.duplicated().sum()"
   ]
  },
  {
   "cell_type": "code",
   "execution_count": 12,
   "id": "c4591725",
   "metadata": {},
   "outputs": [
    {
     "data": {
      "text/plain": [
       "Дорожно-транспортные происшествия    14517\n",
       "Name: tags, dtype: int64"
      ]
     },
     "execution_count": 12,
     "metadata": {},
     "output_type": "execute_result"
    }
   ],
   "source": [
    "#Поиск неявных дубликатов в столбце 'tags'\n",
    "Kir_obl['tags'].value_counts()"
   ]
  },
  {
   "cell_type": "code",
   "execution_count": 13,
   "id": "3bf3630d",
   "metadata": {},
   "outputs": [
    {
     "data": {
      "text/plain": [
       "Светлое время суток                            9258\n",
       "В темное время суток, освещение включено       3137\n",
       "В темное время суток, освещение отсутствует    1457\n",
       "Сумерки                                         435\n",
       "В темное время суток, освещение не включено     230\n",
       "Name: light, dtype: int64"
      ]
     },
     "execution_count": 13,
     "metadata": {},
     "output_type": "execute_result"
    }
   ],
   "source": [
    "#Поиск неявных дубликатов в столбце 'light'\n",
    "Kir_obl['light'].value_counts()"
   ]
  },
  {
   "cell_type": "code",
   "execution_count": 14,
   "id": "1090906b",
   "metadata": {},
   "outputs": [
    {
     "data": {
      "text/plain": [
       "[]                                                                                                                                                                                                                                                                 2893\n",
       "['Жилые дома индивидуальной застройки']                                                                                                                                                                                                                             767\n",
       "['Нерегулируемый перекрёсток неравнозначных улиц (дорог)']                                                                                                                                                                                                          273\n",
       "['Многоквартирные жилые дома', 'Внутридворовая территория']                                                                                                                                                                                                         240\n",
       "['Жилые дома индивидуальной застройки', 'Нерегулируемый перекрёсток неравнозначных улиц (дорог)']                                                                                                                                                                   237\n",
       "                                                                                                                                                                                                                                                                   ... \n",
       "['Крупный торговый объект (являющийся объектом массового тяготения пешеходов и (или) транспорта)', 'Нерегулируемый перекрёсток неравнозначных улиц (дорог)', 'Кладбище']                                                                                              1\n",
       "['Производственное предприятие', 'Жилые дома индивидуальной застройки', 'Регулируемый пешеходный переход']                                                                                                                                                            1\n",
       "['Многоквартирные жилые дома', 'Выезд с прилегающей территории', 'АЗС', 'Регулируемый перекрёсток']                                                                                                                                                                   1\n",
       "['Мост', 'Остановка общественного транспорта', 'Подход к мосту, эстакаде, путепроводу', 'Нерегулируемый пешеходный переход', 'Нерегулируемый перекрёсток']                                                                                                            1\n",
       "['Многоквартирные жилые дома', 'Жилые дома индивидуальной застройки', 'Крупный торговый объект (являющийся объектом массового тяготения пешеходов и (или) транспорта)', 'Нерегулируемый перекрёсток неравнозначных улиц (дорог)', 'Нерегулируемый перекрёсток']       1\n",
       "Name: nearby, Length: 2644, dtype: int64"
      ]
     },
     "execution_count": 14,
     "metadata": {},
     "output_type": "execute_result"
    }
   ],
   "source": [
    "#Поиск неявных дубликатов в столбце 'nearby'\n",
    "Kir_obl['nearby'].value_counts()"
   ]
  },
  {
   "cell_type": "code",
   "execution_count": 15,
   "id": "cc630e14",
   "metadata": {},
   "outputs": [
    {
     "data": {
      "text/plain": [
       "Киров                     7512\n",
       "Кирово-Чепецки район      1045\n",
       "Слободской район           749\n",
       "Котельничский район        485\n",
       "Вятско-Полянский район     393\n",
       "Оричевский район           334\n",
       "Омутнинский район          333\n",
       "Юрьянский район            320\n",
       "Яранский район             310\n",
       "Белохолуницкий район       211\n",
       "Советский район            201\n",
       "Малмыжский район           190\n",
       "Орловский район            187\n",
       "Нолинский район            163\n",
       "Верхошижемский район       154\n",
       "Уржумский район            153\n",
       "Куменский район            140\n",
       "Афанасьевский район        138\n",
       "Зуевский район             122\n",
       "Шабалинский район          103\n",
       "Лузский район               96\n",
       "Пижанский район             87\n",
       "Подосиновский район         86\n",
       "Мурашинский район           84\n",
       "Даровской район             82\n",
       "Сунский район               79\n",
       "Кильмезский район           77\n",
       "Кикнурский район            74\n",
       "Арбажский район             74\n",
       "Свечинский район            71\n",
       "Верхнекамский район         61\n",
       "Лебяжский район             59\n",
       "Нагорский район             58\n",
       "Немский район               52\n",
       "Санчурский район            51\n",
       "Фаленский район             50\n",
       "Тужинский район             46\n",
       "Унинский район              35\n",
       "Богородский район           29\n",
       "Опаринскийрайон             23\n",
       "Name: region, dtype: int64"
      ]
     },
     "execution_count": 15,
     "metadata": {},
     "output_type": "execute_result"
    }
   ],
   "source": [
    "#Поиск неявных дубликатов в столбце 'region'\n",
    "Kir_obl['region'].value_counts()"
   ]
  },
  {
   "cell_type": "code",
   "execution_count": 16,
   "id": "0622526c",
   "metadata": {},
   "outputs": [
    {
     "data": {
      "text/plain": [
       "['Пасмурно']                             6701\n",
       "['Ясно']                                 6264\n",
       "['Снегопад']                              608\n",
       "['Дождь']                                 593\n",
       "['Пасмурно', 'Снегопад']                  108\n",
       "['Пасмурно', 'Дождь']                      85\n",
       "['Ясно', 'Температура выше +30С']          66\n",
       "['Метель']                                 27\n",
       "['Туман']                                  18\n",
       "['Снегопад', 'Метель']                     14\n",
       "['Ясно', 'Температура ниже -30С']          11\n",
       "['Пасмурно', 'Температура ниже -30С']       6\n",
       "['Пасмурно', 'Туман']                       5\n",
       "['Дождь', 'Снегопад']                       4\n",
       "['Пасмурно', 'Метель']                      3\n",
       "['Пасмурно', 'Ураганный ветер']             2\n",
       "['Ясно', 'Туман']                           1\n",
       "['Дождь', 'Туман']                          1\n",
       "Name: weather, dtype: int64"
      ]
     },
     "execution_count": 16,
     "metadata": {},
     "output_type": "execute_result"
    }
   ],
   "source": [
    "#Поиск неявных дубликатов в столбце 'weather'\n",
    "Kir_obl['weather'].value_counts()"
   ]
  },
  {
   "cell_type": "code",
   "execution_count": 17,
   "id": "d422561c",
   "metadata": {},
   "outputs": [
    {
     "data": {
      "text/plain": [
       "Столкновение                                                                                                 5423\n",
       "Наезд на пешехода                                                                                            4364\n",
       "Съезд с дороги                                                                                               1155\n",
       "Опрокидывание                                                                                                1002\n",
       "Падение пассажира                                                                                             738\n",
       "Наезд на препятствие                                                                                          667\n",
       "Наезд на велосипедиста                                                                                        589\n",
       "Наезд на стоящее ТС                                                                                           312\n",
       "Иной вид ДТП                                                                                                  129\n",
       "Наезд на животное                                                                                              89\n",
       "Отбрасывание предмета                                                                                          18\n",
       "Наезд на лицо, не являющееся участником дорожного движения, осуществляющее производство работ                  12\n",
       "Наезд на лицо, не являющееся участником дорожного движения, осуществляющее несение службы                      10\n",
       "Наезд на внезапно возникшее препятствие                                                                         4\n",
       "Наезд на лицо, не являющееся участником дорожного движения, осуществляющее какую-либо другую деятельность       3\n",
       "Падение груза                                                                                                   2\n",
       "Name: category, dtype: int64"
      ]
     },
     "execution_count": 17,
     "metadata": {},
     "output_type": "execute_result"
    }
   ],
   "source": [
    "#Поиск неявных дубликатов в столбце 'category'\n",
    "Kir_obl['category'].value_counts()"
   ]
  },
  {
   "cell_type": "code",
   "execution_count": 18,
   "id": "d53e49e5",
   "metadata": {},
   "outputs": [
    {
     "data": {
      "text/plain": [
       "Кировская область    14517\n",
       "Name: parent_region, dtype: int64"
      ]
     },
     "execution_count": 18,
     "metadata": {},
     "output_type": "execute_result"
    }
   ],
   "source": [
    "#Поиск неявных дубликатов в столбце 'parent_region'\n",
    "Kir_obl['parent_region'].value_counts()"
   ]
  },
  {
   "cell_type": "code",
   "execution_count": 19,
   "id": "d51615fb",
   "metadata": {},
   "outputs": [
    {
     "data": {
      "text/plain": [
       "['Сухое']                                                                                                                                                                                           4135\n",
       "['Сухое', 'Отсутствие, плохая различимость горизонтальной разметки проезжей части']                                                                                                                 1534\n",
       "['Мокрое']                                                                                                                                                                                          1342\n",
       "['Обработанное противогололедными материалами']                                                                                                                                                      886\n",
       "['Заснеженное']                                                                                                                                                                                      647\n",
       "                                                                                                                                                                                                    ... \n",
       "['Обработанное противогололедными материалами', 'Недостатки зимнего содержания', 'Отсутствие дорожных знаков в необходимых местах', 'Неправильное применение, плохая видимость дорожных знаков']       1\n",
       "['Неисправность светофора', 'Мокрое', 'Дефекты покрытия', 'Отсутствие дорожных знаков в необходимых местах', 'Отсутствие пешеходных ограждений в необходимых местах']                                  1\n",
       "['Мокрое', 'Отсутствие временных ТСОД в местах проведения работ']                                                                                                                                      1\n",
       "['Отсутствие элементов обустройства остановочного пункта общественного пассажирского транспорта', 'Сухое', 'Неровное покрытие']                                                                        1\n",
       "['Недостатки зимнего содержания', 'Дефекты покрытия', 'Заснеженное']                                                                                                                                   1\n",
       "Name: road_conditions, Length: 827, dtype: int64"
      ]
     },
     "execution_count": 19,
     "metadata": {},
     "output_type": "execute_result"
    }
   ],
   "source": [
    "#Поиск неявных дубликатов в столбце 'road_conditions'\n",
    "Kir_obl['road_conditions'].value_counts()"
   ]
  },
  {
   "cell_type": "code",
   "execution_count": 20,
   "id": "79054ad7",
   "metadata": {},
   "outputs": [
    {
     "data": {
      "text/plain": [
       "['Все участники']                                             7591\n",
       "['Все участники', 'Пешеходы']                                 3757\n",
       "['Все участники', 'Мотоциклисты']                              948\n",
       "['Все участники', 'Дети']                                      650\n",
       "['Все участники', 'Пешеходы', 'Дети']                          637\n",
       "['Все участники', 'Велосипедисты']                             457\n",
       "['Все участники', 'Общ. транспорт']                            135\n",
       "['Все участники', 'Велосипедисты', 'Дети']                     131\n",
       "['Все участники', 'Пешеходы', 'Мотоциклисты']                   82\n",
       "['Все участники', 'Мотоциклисты', 'Дети']                       57\n",
       "['Все участники', 'Пешеходы', 'Мотоциклисты', 'Дети']           16\n",
       "['Все участники', 'Общ. транспорт', 'Дети']                     12\n",
       "['Все участники', 'Велосипедисты', 'Мотоциклисты']              12\n",
       "['Все участники', 'Велосипедисты', 'Мотоциклисты', 'Дети']       8\n",
       "['Все участники', 'Пешеходы', 'Общ. транспорт']                  7\n",
       "['Пешеходы', 'Все участники']                                    5\n",
       "['Общ. транспорт', 'Все участники']                              3\n",
       "['Мотоциклисты', 'Все участники']                                2\n",
       "['Все участники', 'Пешеходы', 'Общ. транспорт', 'Дети']          2\n",
       "['Все участники', 'Пешеходы', 'Велосипедисты', 'Дети']           2\n",
       "['Все участники', 'Пешеходы', 'Велосипедисты']                   1\n",
       "['Общ. транспорт', 'Дети', 'Все участники']                      1\n",
       "['Пешеходы', 'Дети', 'Все участники']                            1\n",
       "Name: participant_categories, dtype: int64"
      ]
     },
     "execution_count": 20,
     "metadata": {},
     "output_type": "execute_result"
    }
   ],
   "source": [
    "#Поиск неявных дубликатов в столбце 'participant_categories'\n",
    "Kir_obl['participant_categories'].value_counts()"
   ]
  },
  {
   "cell_type": "code",
   "execution_count": 21,
   "id": "fb51fcc1",
   "metadata": {},
   "outputs": [
    {
     "data": {
      "text/plain": [
       "0"
      ]
     },
     "execution_count": 21,
     "metadata": {},
     "output_type": "execute_result"
    }
   ],
   "source": [
    "#Поиск явных дубликатов в столбце 'id'\n",
    "Kir_obl['id'].duplicated().sum()"
   ]
  },
  {
   "cell_type": "code",
   "execution_count": 22,
   "id": "71dbe846",
   "metadata": {},
   "outputs": [
    {
     "data": {
      "text/html": [
       "<div>\n",
       "<style scoped>\n",
       "    .dataframe tbody tr th:only-of-type {\n",
       "        vertical-align: middle;\n",
       "    }\n",
       "\n",
       "    .dataframe tbody tr th {\n",
       "        vertical-align: top;\n",
       "    }\n",
       "\n",
       "    .dataframe thead th {\n",
       "        text-align: right;\n",
       "    }\n",
       "</style>\n",
       "<table border=\"1\" class=\"dataframe\">\n",
       "  <thead>\n",
       "    <tr style=\"text-align: right;\">\n",
       "      <th></th>\n",
       "      <th>geometry_coordinates</th>\n",
       "      <th>id</th>\n",
       "      <th>tags</th>\n",
       "      <th>light</th>\n",
       "      <th>point_lat</th>\n",
       "      <th>point_long</th>\n",
       "      <th>nearby</th>\n",
       "      <th>region</th>\n",
       "      <th>scheme</th>\n",
       "      <th>address</th>\n",
       "      <th>weather</th>\n",
       "      <th>category</th>\n",
       "      <th>datetime</th>\n",
       "      <th>injured_count</th>\n",
       "      <th>parent_region</th>\n",
       "      <th>road_conditions</th>\n",
       "      <th>participants_count</th>\n",
       "      <th>participant_categories</th>\n",
       "    </tr>\n",
       "  </thead>\n",
       "  <tbody>\n",
       "  </tbody>\n",
       "</table>\n",
       "</div>"
      ],
      "text/plain": [
       "Empty DataFrame\n",
       "Columns: [geometry_coordinates, id, tags, light, point_lat, point_long, nearby, region, scheme, address, weather, category, datetime, injured_count, parent_region, road_conditions, participants_count, participant_categories]\n",
       "Index: []"
      ]
     },
     "execution_count": 22,
     "metadata": {},
     "output_type": "execute_result"
    }
   ],
   "source": [
    "#Проверим кол-во дубликатов по дате и координатам\n",
    "Kir_obl[Kir_obl.duplicated(subset=['point_lat', 'point_long', 'datetime'])]"
   ]
  },
  {
   "cell_type": "code",
   "execution_count": 23,
   "id": "749a6df5",
   "metadata": {},
   "outputs": [
    {
     "name": "stdout",
     "output_type": "stream",
     "text": [
      "<class 'pandas.core.frame.DataFrame'>\n",
      "RangeIndex: 14517 entries, 0 to 14516\n",
      "Data columns (total 18 columns):\n",
      " #   Column                  Non-Null Count  Dtype         \n",
      "---  ------                  --------------  -----         \n",
      " 0   geometry_coordinates    14517 non-null  object        \n",
      " 1   id                      14517 non-null  int32         \n",
      " 2   tags                    14517 non-null  object        \n",
      " 3   light                   14517 non-null  object        \n",
      " 4   point_lat               14517 non-null  object        \n",
      " 5   point_long              14517 non-null  object        \n",
      " 6   nearby                  14517 non-null  object        \n",
      " 7   region                  14517 non-null  object        \n",
      " 8   scheme                  14517 non-null  object        \n",
      " 9   address                 14517 non-null  object        \n",
      " 10  weather                 14517 non-null  object        \n",
      " 11  category                14517 non-null  object        \n",
      " 12  datetime                14517 non-null  datetime64[ns]\n",
      " 13  injured_count           14517 non-null  int32         \n",
      " 14  parent_region           14517 non-null  object        \n",
      " 15  road_conditions         14517 non-null  object        \n",
      " 16  participants_count      14517 non-null  int32         \n",
      " 17  participant_categories  14517 non-null  object        \n",
      "dtypes: datetime64[ns](1), int32(3), object(14)\n",
      "memory usage: 1.8+ MB\n"
     ]
    }
   ],
   "source": [
    "#Выводим информацию об обновленном датафрейме\n",
    "Kir_obl.info()"
   ]
  },
  {
   "cell_type": "markdown",
   "id": "b7dae90d",
   "metadata": {},
   "source": [
    "#### Предобработка датасета Mos_obl"
   ]
  },
  {
   "cell_type": "code",
   "execution_count": 24,
   "id": "766da651",
   "metadata": {},
   "outputs": [
    {
     "data": {
      "text/html": [
       "<div>\n",
       "<style scoped>\n",
       "    .dataframe tbody tr th:only-of-type {\n",
       "        vertical-align: middle;\n",
       "    }\n",
       "\n",
       "    .dataframe tbody tr th {\n",
       "        vertical-align: top;\n",
       "    }\n",
       "\n",
       "    .dataframe thead th {\n",
       "        text-align: right;\n",
       "    }\n",
       "</style>\n",
       "<table border=\"1\" class=\"dataframe\">\n",
       "  <thead>\n",
       "    <tr style=\"text-align: right;\">\n",
       "      <th></th>\n",
       "      <th>geometry.coordinates</th>\n",
       "      <th>id</th>\n",
       "      <th>properties.tags</th>\n",
       "      <th>properties.light</th>\n",
       "      <th>properties.point.lat</th>\n",
       "      <th>properties.point.long</th>\n",
       "      <th>properties.nearby</th>\n",
       "      <th>properties.region</th>\n",
       "      <th>properties.scheme</th>\n",
       "      <th>properties.address</th>\n",
       "      <th>properties.weather</th>\n",
       "      <th>properties.category</th>\n",
       "      <th>properties.datetime</th>\n",
       "      <th>properties.injured_count</th>\n",
       "      <th>properties.parent_region</th>\n",
       "      <th>properties.road_conditions</th>\n",
       "      <th>properties.participants_count</th>\n",
       "      <th>properties.participant_categories</th>\n",
       "    </tr>\n",
       "  </thead>\n",
       "  <tbody>\n",
       "    <tr>\n",
       "      <th>0</th>\n",
       "      <td>[37.5253, 55.9992]</td>\n",
       "      <td>2163589</td>\n",
       "      <td>['Дорожно-транспортные происшествия']</td>\n",
       "      <td>Светлое время суток</td>\n",
       "      <td>55.999200</td>\n",
       "      <td>37.525300</td>\n",
       "      <td>['Мост, эстакада, путепровод', 'Крупный торгов...</td>\n",
       "      <td>Мытищинский</td>\n",
       "      <td>NaN</td>\n",
       "      <td>ХЛЕБНИКОВО-РОГАЧЕВО, 0 км</td>\n",
       "      <td>['Ясно']</td>\n",
       "      <td>Столкновение</td>\n",
       "      <td>2019-01-31 09:05:00</td>\n",
       "      <td>1</td>\n",
       "      <td>Московская область</td>\n",
       "      <td>['Мокрое', 'Отсутствие, плохая различимость го...</td>\n",
       "      <td>3</td>\n",
       "      <td>['Все участники']</td>\n",
       "    </tr>\n",
       "    <tr>\n",
       "      <th>1</th>\n",
       "      <td>[37.058966, 55.788688]</td>\n",
       "      <td>2155398</td>\n",
       "      <td>['Дорожно-транспортные происшествия', 'ДТП и п...</td>\n",
       "      <td>В темное время суток, освещение включено</td>\n",
       "      <td>55.788688</td>\n",
       "      <td>37.058966</td>\n",
       "      <td>[]</td>\n",
       "      <td>Истринский</td>\n",
       "      <td>70.0</td>\n",
       "      <td>М-9 Балтия Москва - Волоколамск - граница с Ла...</td>\n",
       "      <td>['Ясно']</td>\n",
       "      <td>Столкновение</td>\n",
       "      <td>2018-09-22 05:00:00</td>\n",
       "      <td>2</td>\n",
       "      <td>Московская область</td>\n",
       "      <td>['Сухое']</td>\n",
       "      <td>4</td>\n",
       "      <td>['Все участники', 'Дети']</td>\n",
       "    </tr>\n",
       "    <tr>\n",
       "      <th>2</th>\n",
       "      <td>[37.4419, 56.0081]</td>\n",
       "      <td>2163319</td>\n",
       "      <td>['Дорожно-транспортные происшествия']</td>\n",
       "      <td>В темное время суток, освещение включено</td>\n",
       "      <td>56.008100</td>\n",
       "      <td>37.441900</td>\n",
       "      <td>['Многоквартирные жилые дома', 'Остановка обще...</td>\n",
       "      <td>Лобня</td>\n",
       "      <td>820.0</td>\n",
       "      <td>г Лобня, ул Ленина, 43</td>\n",
       "      <td>['Пасмурно']</td>\n",
       "      <td>Наезд на пешехода</td>\n",
       "      <td>2019-01-24 19:30:00</td>\n",
       "      <td>1</td>\n",
       "      <td>Московская область</td>\n",
       "      <td>['Обработанное противогололедными материалами']</td>\n",
       "      <td>2</td>\n",
       "      <td>['Все участники', 'Пешеходы']</td>\n",
       "    </tr>\n",
       "    <tr>\n",
       "      <th>3</th>\n",
       "      <td>[38.6614, 55.4358]</td>\n",
       "      <td>2143938</td>\n",
       "      <td>['Дорожно-транспортные происшествия']</td>\n",
       "      <td>Светлое время суток</td>\n",
       "      <td>55.435800</td>\n",
       "      <td>38.661400</td>\n",
       "      <td>['Регулируемый перекресток']</td>\n",
       "      <td>Воскресенский</td>\n",
       "      <td>300.0</td>\n",
       "      <td>ЖУКОВСКИЙ-РАМЕНСКОЕ-СТ.БРОННИЦЫ-ЧЕЧЕВИЛОВО-МБК...</td>\n",
       "      <td>['Ясно']</td>\n",
       "      <td>Столкновение</td>\n",
       "      <td>2018-01-25 16:00:00</td>\n",
       "      <td>2</td>\n",
       "      <td>Московская область</td>\n",
       "      <td>['Обработанное противогололедными материалами'...</td>\n",
       "      <td>3</td>\n",
       "      <td>['Все участники']</td>\n",
       "    </tr>\n",
       "    <tr>\n",
       "      <th>4</th>\n",
       "      <td>[38.29207, 55.50502]</td>\n",
       "      <td>2163390</td>\n",
       "      <td>['Дорожно-транспортные происшествия']</td>\n",
       "      <td>В темное время суток, освещение отсутствует</td>\n",
       "      <td>55.505020</td>\n",
       "      <td>38.292070</td>\n",
       "      <td>['Нерегулируемый перекрёсток неравнозначных ул...</td>\n",
       "      <td>Раменский</td>\n",
       "      <td>500.0</td>\n",
       "      <td>ММК-РАМЕНСКОЕ, 4 км</td>\n",
       "      <td>['Ясно']</td>\n",
       "      <td>Столкновение</td>\n",
       "      <td>2019-01-14 17:40:00</td>\n",
       "      <td>1</td>\n",
       "      <td>Московская область</td>\n",
       "      <td>['Обработанное противогололедными материалами']</td>\n",
       "      <td>2</td>\n",
       "      <td>['Все участники']</td>\n",
       "    </tr>\n",
       "  </tbody>\n",
       "</table>\n",
       "</div>"
      ],
      "text/plain": [
       "     geometry.coordinates       id  \\\n",
       "0      [37.5253, 55.9992]  2163589   \n",
       "1  [37.058966, 55.788688]  2155398   \n",
       "2      [37.4419, 56.0081]  2163319   \n",
       "3      [38.6614, 55.4358]  2143938   \n",
       "4    [38.29207, 55.50502]  2163390   \n",
       "\n",
       "                                     properties.tags  \\\n",
       "0              ['Дорожно-транспортные происшествия']   \n",
       "1  ['Дорожно-транспортные происшествия', 'ДТП и п...   \n",
       "2              ['Дорожно-транспортные происшествия']   \n",
       "3              ['Дорожно-транспортные происшествия']   \n",
       "4              ['Дорожно-транспортные происшествия']   \n",
       "\n",
       "                              properties.light  properties.point.lat  \\\n",
       "0                          Светлое время суток             55.999200   \n",
       "1     В темное время суток, освещение включено             55.788688   \n",
       "2     В темное время суток, освещение включено             56.008100   \n",
       "3                          Светлое время суток             55.435800   \n",
       "4  В темное время суток, освещение отсутствует             55.505020   \n",
       "\n",
       "   properties.point.long                                  properties.nearby  \\\n",
       "0              37.525300  ['Мост, эстакада, путепровод', 'Крупный торгов...   \n",
       "1              37.058966                                                 []   \n",
       "2              37.441900  ['Многоквартирные жилые дома', 'Остановка обще...   \n",
       "3              38.661400                       ['Регулируемый перекресток']   \n",
       "4              38.292070  ['Нерегулируемый перекрёсток неравнозначных ул...   \n",
       "\n",
       "  properties.region  properties.scheme  \\\n",
       "0       Мытищинский                NaN   \n",
       "1        Истринский               70.0   \n",
       "2             Лобня              820.0   \n",
       "3     Воскресенский              300.0   \n",
       "4         Раменский              500.0   \n",
       "\n",
       "                                  properties.address properties.weather  \\\n",
       "0                          ХЛЕБНИКОВО-РОГАЧЕВО, 0 км           ['Ясно']   \n",
       "1  М-9 Балтия Москва - Волоколамск - граница с Ла...           ['Ясно']   \n",
       "2                             г Лобня, ул Ленина, 43       ['Пасмурно']   \n",
       "3  ЖУКОВСКИЙ-РАМЕНСКОЕ-СТ.БРОННИЦЫ-ЧЕЧЕВИЛОВО-МБК...           ['Ясно']   \n",
       "4                                ММК-РАМЕНСКОЕ, 4 км           ['Ясно']   \n",
       "\n",
       "  properties.category  properties.datetime  properties.injured_count  \\\n",
       "0        Столкновение  2019-01-31 09:05:00                         1   \n",
       "1        Столкновение  2018-09-22 05:00:00                         2   \n",
       "2   Наезд на пешехода  2019-01-24 19:30:00                         1   \n",
       "3        Столкновение  2018-01-25 16:00:00                         2   \n",
       "4        Столкновение  2019-01-14 17:40:00                         1   \n",
       "\n",
       "  properties.parent_region                         properties.road_conditions  \\\n",
       "0       Московская область  ['Мокрое', 'Отсутствие, плохая различимость го...   \n",
       "1       Московская область                                          ['Сухое']   \n",
       "2       Московская область    ['Обработанное противогололедными материалами']   \n",
       "3       Московская область  ['Обработанное противогололедными материалами'...   \n",
       "4       Московская область    ['Обработанное противогололедными материалами']   \n",
       "\n",
       "   properties.participants_count properties.participant_categories  \n",
       "0                              3                 ['Все участники']  \n",
       "1                              4         ['Все участники', 'Дети']  \n",
       "2                              2     ['Все участники', 'Пешеходы']  \n",
       "3                              3                 ['Все участники']  \n",
       "4                              2                 ['Все участники']  "
      ]
     },
     "execution_count": 24,
     "metadata": {},
     "output_type": "execute_result"
    }
   ],
   "source": [
    "#проверяем данные Mos_obl (первые 5 строк)\n",
    "Mos_obl.head()"
   ]
  },
  {
   "cell_type": "code",
   "execution_count": 25,
   "id": "0841127f",
   "metadata": {},
   "outputs": [
    {
     "name": "stdout",
     "output_type": "stream",
     "text": [
      "<class 'pandas.core.frame.DataFrame'>\n",
      "RangeIndex: 45618 entries, 0 to 45617\n",
      "Data columns (total 18 columns):\n",
      " #   Column                             Non-Null Count  Dtype  \n",
      "---  ------                             --------------  -----  \n",
      " 0   geometry.coordinates               45618 non-null  object \n",
      " 1   id                                 45618 non-null  int64  \n",
      " 2   properties.tags                    45618 non-null  object \n",
      " 3   properties.light                   45618 non-null  object \n",
      " 4   properties.point.lat               45615 non-null  float64\n",
      " 5   properties.point.long              45615 non-null  float64\n",
      " 6   properties.nearby                  45618 non-null  object \n",
      " 7   properties.region                  45618 non-null  object \n",
      " 8   properties.scheme                  44235 non-null  float64\n",
      " 9   properties.address                 43862 non-null  object \n",
      " 10  properties.weather                 45618 non-null  object \n",
      " 11  properties.category                45618 non-null  object \n",
      " 12  properties.datetime                45618 non-null  object \n",
      " 13  properties.injured_count           45618 non-null  int64  \n",
      " 14  properties.parent_region           45618 non-null  object \n",
      " 15  properties.road_conditions         45618 non-null  object \n",
      " 16  properties.participants_count      45618 non-null  int64  \n",
      " 17  properties.participant_categories  45618 non-null  object \n",
      "dtypes: float64(3), int64(3), object(12)\n",
      "memory usage: 6.3+ MB\n"
     ]
    }
   ],
   "source": [
    "#выводим информацию о датасете\n",
    "Mos_obl.info()"
   ]
  },
  {
   "cell_type": "markdown",
   "id": "a65ddfe3",
   "metadata": {},
   "source": [
    "Необходимо заменить названия столбцов на наиболее подходящие для работы. Также необходимо разобраться с пропусками: пропуски есть в столбцах properties.point.lat,properties.point.long,properties.scheme,properties.address. Также необходимо заменить тип данных в столбце properties.datetimeb"
   ]
  },
  {
   "cell_type": "code",
   "execution_count": 26,
   "id": "b659526e",
   "metadata": {},
   "outputs": [],
   "source": [
    "#Меняем названия столбцов\n",
    "Mos_obl.columns = [col.lower().\n",
    "                        replace('.','_').\n",
    "                        replace('properties_','')\n",
    "                  for col in Mos_obl.columns]"
   ]
  },
  {
   "cell_type": "code",
   "execution_count": 27,
   "id": "71462fb1",
   "metadata": {},
   "outputs": [],
   "source": [
    "#Меняем тип данных на datetime\n",
    "Mos_obl['datetime'] = pd.to_datetime(Mos_obl['datetime'])"
   ]
  },
  {
   "cell_type": "code",
   "execution_count": 28,
   "id": "634f19db",
   "metadata": {},
   "outputs": [],
   "source": [
    "#Меняем тип данных для экономии памяти\n",
    "Mos_obl[\"id\"] = pd.to_numeric(Mos_obl[\"id\"], downcast=\"integer\")# выбирает автоматически нужный формат\n",
    "Mos_obl[\"injured_count\"] = pd.to_numeric(Mos_obl[\"id\"], downcast=\"integer\")\n",
    "Mos_obl[\"participants_count\"] = pd.to_numeric(Mos_obl[\"id\"], downcast=\"integer\")"
   ]
  },
  {
   "cell_type": "code",
   "execution_count": 29,
   "id": "f5c2633d",
   "metadata": {},
   "outputs": [
    {
     "data": {
      "text/plain": [
       "geometry_coordinates         0\n",
       "id                           0\n",
       "tags                         0\n",
       "light                        0\n",
       "point_lat                    3\n",
       "point_long                   3\n",
       "nearby                       0\n",
       "region                       0\n",
       "scheme                    1383\n",
       "address                   1756\n",
       "weather                      0\n",
       "category                     0\n",
       "datetime                     0\n",
       "injured_count                0\n",
       "parent_region                0\n",
       "road_conditions              0\n",
       "participants_count           0\n",
       "participant_categories       0\n",
       "dtype: int64"
      ]
     },
     "execution_count": 29,
     "metadata": {},
     "output_type": "execute_result"
    }
   ],
   "source": [
    "# Выводим количество пропущенных строк в датафрейме\n",
    "Mos_obl.isna().sum()"
   ]
  },
  {
   "cell_type": "code",
   "execution_count": 30,
   "id": "a5893696",
   "metadata": {},
   "outputs": [
    {
     "data": {
      "text/plain": [
       "geometry_coordinates      0.000000\n",
       "id                        0.000000\n",
       "tags                      0.000000\n",
       "light                     0.000000\n",
       "point_lat                 0.006576\n",
       "point_long                0.006576\n",
       "nearby                    0.000000\n",
       "region                    0.000000\n",
       "scheme                    3.031698\n",
       "address                   3.849358\n",
       "weather                   0.000000\n",
       "category                  0.000000\n",
       "datetime                  0.000000\n",
       "injured_count             0.000000\n",
       "parent_region             0.000000\n",
       "road_conditions           0.000000\n",
       "participants_count        0.000000\n",
       "participant_categories    0.000000\n",
       "dtype: float64"
      ]
     },
     "execution_count": 30,
     "metadata": {},
     "output_type": "execute_result"
    }
   ],
   "source": [
    "# Подсчитываем процент строк с пропусками\n",
    "Mos_obl.isna().sum() / len(Mos_obl)*100"
   ]
  },
  {
   "cell_type": "markdown",
   "id": "c6f283a8",
   "metadata": {},
   "source": [
    "В столбцах point_lat и point_long всего по 0,006% пропусков, так как признак не ключевой, строки с пропусками можно удалить, или поставить маркер \"Unknown\". В столбце scheme 3% пропусков, в столбце address 3.8%. Данные не являются ключевыми, можно также удалить строки или поставить маркер \"Unknown\". В данном проекте все пропущенные значения заменим маркерами \"Unknown\"."
   ]
  },
  {
   "cell_type": "code",
   "execution_count": 31,
   "id": "da569dbe",
   "metadata": {},
   "outputs": [],
   "source": [
    "#Заменяем пропуски значением Unknown\n",
    "Mos_obl['point_lat'].fillna('Unknown', inplace=True)\n",
    "Mos_obl['point_long'].fillna('Unknown', inplace=True)\n",
    "Mos_obl['scheme'].fillna('Unknown', inplace=True)\n",
    "Mos_obl['address'].fillna('Unknown', inplace=True)"
   ]
  },
  {
   "cell_type": "code",
   "execution_count": 32,
   "id": "771e0609",
   "metadata": {},
   "outputs": [
    {
     "data": {
      "text/plain": [
       "0"
      ]
     },
     "execution_count": 32,
     "metadata": {},
     "output_type": "execute_result"
    }
   ],
   "source": [
    "#Поиск явных дубликатов\n",
    "Mos_obl.duplicated().sum()"
   ]
  },
  {
   "cell_type": "code",
   "execution_count": 33,
   "id": "06915cfa",
   "metadata": {},
   "outputs": [
    {
     "data": {
      "text/plain": [
       "['Дорожно-транспортные происшествия']                                                                                                                                                          41542\n",
       "['Дорожно-транспортные происшествия', 'ДТП и пострадавшие дети в возрасте до 16 лет']                                                                                                           3678\n",
       "['Дорожно-транспортные происшествия', 'ДТП и пострадавшие пешеходы, из-за наезда на пешеходов, на пешеходных переходах, по вине пешеходов']                                                      342\n",
       "['Дорожно-транспортные происшествия', 'ДТП и пострадавшие пешеходы, из-за наезда на пешеходов, на пешеходных переходах, по вине пешеходов', 'ДТП и пострадавшие дети в возрасте до 16 лет']       56\n",
       "Name: tags, dtype: int64"
      ]
     },
     "execution_count": 33,
     "metadata": {},
     "output_type": "execute_result"
    }
   ],
   "source": [
    "#Поиск неявных дубликатов в столбце 'tags'\n",
    "Mos_obl['tags'].value_counts()"
   ]
  },
  {
   "cell_type": "code",
   "execution_count": 34,
   "id": "8541ebe0",
   "metadata": {},
   "outputs": [
    {
     "data": {
      "text/plain": [
       "Светлое время суток                            28022\n",
       "В темное время суток, освещение включено       12320\n",
       "В темное время суток, освещение отсутствует     4429\n",
       "Сумерки                                          461\n",
       "В темное время суток, освещение не включено      386\n",
       "Name: light, dtype: int64"
      ]
     },
     "execution_count": 34,
     "metadata": {},
     "output_type": "execute_result"
    }
   ],
   "source": [
    "#Поиск неявных дубликатов в столбце 'light'\n",
    "Mos_obl['light'].value_counts()"
   ]
  },
  {
   "cell_type": "code",
   "execution_count": 35,
   "id": "c5755157",
   "metadata": {},
   "outputs": [
    {
     "data": {
      "text/plain": [
       "[]                                                                                                                                                                                                                                                   10571\n",
       "['Жилые дома индивидуальной застройки']                                                                                                                                                                                                               1859\n",
       "['Нерегулируемый перекрёсток неравнозначных улиц (дорог)']                                                                                                                                                                                            1513\n",
       "['Многоквартирные жилые дома', 'Нерегулируемый пешеходный переход']                                                                                                                                                                                    937\n",
       "['Многоквартирные жилые дома', 'Внутридворовая территория']                                                                                                                                                                                            932\n",
       "                                                                                                                                                                                                                                                     ...  \n",
       "['Многоквартирные жилые дома', 'Крупный торговый объект (являющийся объектом массового тяготения пешеходов и (или) транспорта)', 'Внутридворовая территория', 'Автостоянка (отделенная от проезжей части)', 'Медицинские (лечебные) организации']        1\n",
       "['Многоквартирные жилые дома', 'Остановка общественного транспорта', 'Иной объект', 'Регулируемый перекресток']                                                                                                                                          1\n",
       "['Жилые дома индивидуальной застройки', 'Регулируемый перекресток', 'Автостоянка (отделенная от проезжей части)', 'Регулируемый пешеходный переход']                                                                                                     1\n",
       "['Производственное предприятие', 'Остановка общественного транспорта', 'Нерегулируемый пешеходный переход', 'Нерегулируемый перекрёсток', 'Автостоянка (отделенная от проезжей части)']                                                                  1\n",
       "['Иной объект', 'Регулируемый перекресток', 'Школа либо иная детская (в т.ч. дошкольная) организация', 'Регулируемый пешеходный переход']                                                                                                                1\n",
       "Name: nearby, Length: 4850, dtype: int64"
      ]
     },
     "execution_count": 35,
     "metadata": {},
     "output_type": "execute_result"
    }
   ],
   "source": [
    "#Поиск неявных дубликатов в столбце 'nearby'\n",
    "Mos_obl['nearby'].value_counts()"
   ]
  },
  {
   "cell_type": "code",
   "execution_count": 36,
   "id": "10df152a",
   "metadata": {},
   "outputs": [
    {
     "data": {
      "text/plain": [
       "Домодедово       2596\n",
       "Одинцовский      2430\n",
       "Подольский       2213\n",
       "Раменский        2092\n",
       "Люберецкий       2014\n",
       "                 ... \n",
       "Коломна           100\n",
       "Красноармейск      49\n",
       "Рошаль             32\n",
       "Пущино             26\n",
       "Подольск            8\n",
       "Name: region, Length: 65, dtype: int64"
      ]
     },
     "execution_count": 36,
     "metadata": {},
     "output_type": "execute_result"
    }
   ],
   "source": [
    "#Поиск неявных дубликатов в столбце 'region'\n",
    "Mos_obl['region'].value_counts()"
   ]
  },
  {
   "cell_type": "code",
   "execution_count": 37,
   "id": "c7d93fbf",
   "metadata": {},
   "outputs": [
    {
     "data": {
      "text/plain": [
       "['Ясно']                             23193\n",
       "['Пасмурно']                         17292\n",
       "['Дождь']                             2551\n",
       "['Снегопад']                          1877\n",
       "['Пасмурно', 'Дождь']                  322\n",
       "['Пасмурно', 'Снегопад']               213\n",
       "['Туман']                               65\n",
       "['Пасмурно', 'Туман']                   31\n",
       "['Дождь', 'Снегопад']                   16\n",
       "['Ясно', 'Температура выше +30С']       14\n",
       "['Ясно', 'Туман']                       14\n",
       "['Метель']                              12\n",
       "['Снегопад', 'Метель']                  12\n",
       "['Дождь', 'Туман']                       3\n",
       "['Ясно', 'Температура ниже -30С']        1\n",
       "['Пасмурно', 'Ураганный ветер']          1\n",
       "['Дождь', 'Ураганный ветер']             1\n",
       "Name: weather, dtype: int64"
      ]
     },
     "execution_count": 37,
     "metadata": {},
     "output_type": "execute_result"
    }
   ],
   "source": [
    "#Поиск неявных дубликатов в столбце 'weather'\n",
    "Mos_obl['weather'].value_counts()"
   ]
  },
  {
   "cell_type": "code",
   "execution_count": 38,
   "id": "9abec59c",
   "metadata": {},
   "outputs": [
    {
     "data": {
      "text/plain": [
       "Столкновение                                                                                                 21599\n",
       "Наезд на пешехода                                                                                            13695\n",
       "Наезд на препятствие                                                                                          3360\n",
       "Опрокидывание                                                                                                 1699\n",
       "Наезд на стоящее ТС                                                                                           1605\n",
       "Наезд на велосипедиста                                                                                        1397\n",
       "Съезд с дороги                                                                                                1322\n",
       "Падение пассажира                                                                                              544\n",
       "Иной вид ДТП                                                                                                   213\n",
       "Наезд на животное                                                                                               96\n",
       "Наезд на лицо, не являющееся участником дорожного движения, осуществляющее производство работ                   28\n",
       "Отбрасывание предмета                                                                                           27\n",
       "Наезд на внезапно возникшее препятствие                                                                         10\n",
       "Падение груза                                                                                                    9\n",
       "Наезд на лицо, не являющееся участником дорожного движения, осуществляющее несение службы                        8\n",
       "Наезд на лицо, не являющееся участником дорожного движения, осуществляющее какую-либо другую деятельность        6\n",
       "Name: category, dtype: int64"
      ]
     },
     "execution_count": 38,
     "metadata": {},
     "output_type": "execute_result"
    }
   ],
   "source": [
    "#Поиск неявных дубликатов в столбце 'category'\n",
    "Mos_obl['category'].value_counts()"
   ]
  },
  {
   "cell_type": "code",
   "execution_count": 39,
   "id": "6b2e72f7",
   "metadata": {},
   "outputs": [
    {
     "data": {
      "text/plain": [
       "Московская область    45618\n",
       "Name: parent_region, dtype: int64"
      ]
     },
     "execution_count": 39,
     "metadata": {},
     "output_type": "execute_result"
    }
   ],
   "source": [
    "#Поиск неявных дубликатов в столбце 'parent_region'\n",
    "Mos_obl['parent_region'].value_counts()"
   ]
  },
  {
   "cell_type": "code",
   "execution_count": 40,
   "id": "99ac2826",
   "metadata": {},
   "outputs": [
    {
     "data": {
      "text/plain": [
       "['Сухое']                                                                                                                                                                                                                                                                                                                               19097\n",
       "['Мокрое']                                                                                                                                                                                                                                                                                                                               7935\n",
       "['Сухое', 'Отсутствие, плохая различимость горизонтальной разметки проезжей части']                                                                                                                                                                                                                                                      3264\n",
       "['Обработанное противогололедными материалами']                                                                                                                                                                                                                                                                                          2299\n",
       "['Мокрое', 'Отсутствие, плохая различимость горизонтальной разметки проезжей части']                                                                                                                                                                                                                                                     1216\n",
       "                                                                                                                                                                                                                                                                                                                                        ...  \n",
       "['Недостатки зимнего содержания', 'Пыльное']                                                                                                                                                                                                                                                                                                1\n",
       "['Обработанное противогололедными материалами', 'Неудовлетворительное состояние обочин', 'Отсутствие освещения', 'Отсутствие тротуаров (пешеходных дорожек)']                                                                                                                                                                               1\n",
       "['Сужение проезжей части, наличие препятствий, затрудняющих движение транспортных средств', 'Отсутствие, плохая различимость горизонтальной разметки проезжей части', 'Обработанное противогололедными материалами', 'Отсутствие дорожных знаков в необходимых местах', 'Неправильное применение, плохая видимость дорожных знаков']        1\n",
       "['Сухое', 'Отсутствие дорожных знаков в необходимых местах', 'Нарушения в размещении наружной рекламы']                                                                                                                                                                                                                                     1\n",
       "['Заснеженное', 'Отсутствие временных ТСОД в местах проведения работ']                                                                                                                                                                                                                                                                      1\n",
       "Name: road_conditions, Length: 934, dtype: int64"
      ]
     },
     "execution_count": 40,
     "metadata": {},
     "output_type": "execute_result"
    }
   ],
   "source": [
    "#Поиск неявных дубликатов в столбце 'road_conditions'\n",
    "Mos_obl['road_conditions'].value_counts()"
   ]
  },
  {
   "cell_type": "code",
   "execution_count": 41,
   "id": "4457de31",
   "metadata": {},
   "outputs": [
    {
     "data": {
      "text/plain": [
       "['Все участники']                                             24083\n",
       "['Все участники', 'Пешеходы']                                 12320\n",
       "['Все участники', 'Мотоциклисты']                              4050\n",
       "['Все участники', 'Пешеходы', 'Дети']                          1633\n",
       "['Все участники', 'Дети']                                      1556\n",
       "['Все участники', 'Велосипедисты']                             1082\n",
       "['Все участники', 'Велосипедисты', 'Дети']                      323\n",
       "['Все участники', 'Пешеходы', 'Мотоциклисты']                   219\n",
       "['Все участники', 'Мотоциклисты', 'Дети']                       153\n",
       "['Все участники', 'Общ. транспорт']                              66\n",
       "['Все участники', 'Пешеходы', 'Мотоциклисты', 'Дети']            47\n",
       "['Все участники', 'Велосипедисты', 'Мотоциклисты']               30\n",
       "['Все участники', 'Пешеходы', 'Общ. транспорт']                  23\n",
       "['Все участники', 'Велосипедисты', 'Мотоциклисты', 'Дети']       13\n",
       "['Все участники', 'Общ. транспорт', 'Дети']                       4\n",
       "['Пешеходы', 'Все участники']                                     3\n",
       "['Все участники', 'Пешеходы', 'Велосипедисты']                    3\n",
       "['Мотоциклисты', 'Все участники']                                 2\n",
       "['Все участники', 'Пешеходы', 'Велосипедисты', 'Дети']            2\n",
       "['Дети', 'Велосипедисты', 'Все участники']                        1\n",
       "['Дети', 'Пешеходы', 'Все участники']                             1\n",
       "['Велосипедисты', 'Все участники']                                1\n",
       "['Все участники', 'Велосипедисты', 'Общ. транспорт']              1\n",
       "['Все участники', 'Мотоциклисты', 'Общ. транспорт']               1\n",
       "['Велосипедисты', 'Дети', 'Все участники']                        1\n",
       "Name: participant_categories, dtype: int64"
      ]
     },
     "execution_count": 41,
     "metadata": {},
     "output_type": "execute_result"
    }
   ],
   "source": [
    "#Поиск неявных дубликатов в столбце 'participant_categories'\n",
    "Mos_obl['participant_categories'].value_counts()"
   ]
  },
  {
   "cell_type": "code",
   "execution_count": 42,
   "id": "36dec416",
   "metadata": {},
   "outputs": [
    {
     "data": {
      "text/plain": [
       "0"
      ]
     },
     "execution_count": 42,
     "metadata": {},
     "output_type": "execute_result"
    }
   ],
   "source": [
    "#Поиск явных дубликатов в столбце 'id'\n",
    "Mos_obl['id'].duplicated().sum()"
   ]
  },
  {
   "cell_type": "code",
   "execution_count": 43,
   "id": "43a08094",
   "metadata": {},
   "outputs": [
    {
     "data": {
      "text/html": [
       "<div>\n",
       "<style scoped>\n",
       "    .dataframe tbody tr th:only-of-type {\n",
       "        vertical-align: middle;\n",
       "    }\n",
       "\n",
       "    .dataframe tbody tr th {\n",
       "        vertical-align: top;\n",
       "    }\n",
       "\n",
       "    .dataframe thead th {\n",
       "        text-align: right;\n",
       "    }\n",
       "</style>\n",
       "<table border=\"1\" class=\"dataframe\">\n",
       "  <thead>\n",
       "    <tr style=\"text-align: right;\">\n",
       "      <th></th>\n",
       "      <th>geometry_coordinates</th>\n",
       "      <th>id</th>\n",
       "      <th>tags</th>\n",
       "      <th>light</th>\n",
       "      <th>point_lat</th>\n",
       "      <th>point_long</th>\n",
       "      <th>nearby</th>\n",
       "      <th>region</th>\n",
       "      <th>scheme</th>\n",
       "      <th>address</th>\n",
       "      <th>weather</th>\n",
       "      <th>category</th>\n",
       "      <th>datetime</th>\n",
       "      <th>injured_count</th>\n",
       "      <th>parent_region</th>\n",
       "      <th>road_conditions</th>\n",
       "      <th>participants_count</th>\n",
       "      <th>participant_categories</th>\n",
       "    </tr>\n",
       "  </thead>\n",
       "  <tbody>\n",
       "  </tbody>\n",
       "</table>\n",
       "</div>"
      ],
      "text/plain": [
       "Empty DataFrame\n",
       "Columns: [geometry_coordinates, id, tags, light, point_lat, point_long, nearby, region, scheme, address, weather, category, datetime, injured_count, parent_region, road_conditions, participants_count, participant_categories]\n",
       "Index: []"
      ]
     },
     "execution_count": 43,
     "metadata": {},
     "output_type": "execute_result"
    }
   ],
   "source": [
    "#Проверим кол-во дубликатов по дате и координатам\n",
    "Mos_obl[Mos_obl.duplicated(subset=['point_lat', 'point_long', 'datetime'])]"
   ]
  },
  {
   "cell_type": "code",
   "execution_count": 44,
   "id": "f158e8f1",
   "metadata": {
    "scrolled": true
   },
   "outputs": [
    {
     "name": "stdout",
     "output_type": "stream",
     "text": [
      "<class 'pandas.core.frame.DataFrame'>\n",
      "RangeIndex: 45618 entries, 0 to 45617\n",
      "Data columns (total 18 columns):\n",
      " #   Column                  Non-Null Count  Dtype         \n",
      "---  ------                  --------------  -----         \n",
      " 0   geometry_coordinates    45618 non-null  object        \n",
      " 1   id                      45618 non-null  int32         \n",
      " 2   tags                    45618 non-null  object        \n",
      " 3   light                   45618 non-null  object        \n",
      " 4   point_lat               45618 non-null  object        \n",
      " 5   point_long              45618 non-null  object        \n",
      " 6   nearby                  45618 non-null  object        \n",
      " 7   region                  45618 non-null  object        \n",
      " 8   scheme                  45618 non-null  object        \n",
      " 9   address                 45618 non-null  object        \n",
      " 10  weather                 45618 non-null  object        \n",
      " 11  category                45618 non-null  object        \n",
      " 12  datetime                45618 non-null  datetime64[ns]\n",
      " 13  injured_count           45618 non-null  int32         \n",
      " 14  parent_region           45618 non-null  object        \n",
      " 15  road_conditions         45618 non-null  object        \n",
      " 16  participants_count      45618 non-null  int32         \n",
      " 17  participant_categories  45618 non-null  object        \n",
      "dtypes: datetime64[ns](1), int32(3), object(14)\n",
      "memory usage: 5.7+ MB\n"
     ]
    }
   ],
   "source": [
    "#Выводим информацию об обновленном датафрейме\n",
    "Mos_obl.info()"
   ]
  },
  {
   "cell_type": "markdown",
   "id": "c8316f7b",
   "metadata": {},
   "source": [
    "#### Предобработка датасета Kir_par"
   ]
  },
  {
   "cell_type": "code",
   "execution_count": 45,
   "id": "60852b87",
   "metadata": {},
   "outputs": [
    {
     "data": {
      "text/html": [
       "<div>\n",
       "<style scoped>\n",
       "    .dataframe tbody tr th:only-of-type {\n",
       "        vertical-align: middle;\n",
       "    }\n",
       "\n",
       "    .dataframe tbody tr th {\n",
       "        vertical-align: top;\n",
       "    }\n",
       "\n",
       "    .dataframe thead th {\n",
       "        text-align: right;\n",
       "    }\n",
       "</style>\n",
       "<table border=\"1\" class=\"dataframe\">\n",
       "  <thead>\n",
       "    <tr style=\"text-align: right;\">\n",
       "      <th></th>\n",
       "      <th>role</th>\n",
       "      <th>gender</th>\n",
       "      <th>violations</th>\n",
       "      <th>health_status</th>\n",
       "      <th>years_of_driving_experience</th>\n",
       "      <th>id</th>\n",
       "    </tr>\n",
       "  </thead>\n",
       "  <tbody>\n",
       "    <tr>\n",
       "      <th>0</th>\n",
       "      <td>Водитель</td>\n",
       "      <td>Мужской</td>\n",
       "      <td>['Несоответствие скорости конкретным условиям ...</td>\n",
       "      <td>Раненый, находящийся (находившийся) на амбулат...</td>\n",
       "      <td>26.0</td>\n",
       "      <td>1983180</td>\n",
       "    </tr>\n",
       "    <tr>\n",
       "      <th>1</th>\n",
       "      <td>Водитель</td>\n",
       "      <td>Мужской</td>\n",
       "      <td>[]</td>\n",
       "      <td>Не пострадал</td>\n",
       "      <td>34.0</td>\n",
       "      <td>2889433</td>\n",
       "    </tr>\n",
       "    <tr>\n",
       "      <th>2</th>\n",
       "      <td>Пассажир</td>\n",
       "      <td>Мужской</td>\n",
       "      <td>[]</td>\n",
       "      <td>Раненый, находящийся (находившийся)  на амбула...</td>\n",
       "      <td>NaN</td>\n",
       "      <td>2591208</td>\n",
       "    </tr>\n",
       "    <tr>\n",
       "      <th>3</th>\n",
       "      <td>Пассажир</td>\n",
       "      <td>Мужской</td>\n",
       "      <td>[]</td>\n",
       "      <td>Раненый, находящийся (находившийся)  на амбула...</td>\n",
       "      <td>NaN</td>\n",
       "      <td>2591208</td>\n",
       "    </tr>\n",
       "    <tr>\n",
       "      <th>4</th>\n",
       "      <td>Водитель</td>\n",
       "      <td>Мужской</td>\n",
       "      <td>[]</td>\n",
       "      <td>Не пострадал</td>\n",
       "      <td>27.0</td>\n",
       "      <td>2577639</td>\n",
       "    </tr>\n",
       "  </tbody>\n",
       "</table>\n",
       "</div>"
      ],
      "text/plain": [
       "       role   gender                                         violations  \\\n",
       "0  Водитель  Мужской  ['Несоответствие скорости конкретным условиям ...   \n",
       "1  Водитель  Мужской                                                 []   \n",
       "2  Пассажир  Мужской                                                 []   \n",
       "3  Пассажир  Мужской                                                 []   \n",
       "4  Водитель  Мужской                                                 []   \n",
       "\n",
       "                                       health_status  \\\n",
       "0  Раненый, находящийся (находившийся) на амбулат...   \n",
       "1                                       Не пострадал   \n",
       "2  Раненый, находящийся (находившийся)  на амбула...   \n",
       "3  Раненый, находящийся (находившийся)  на амбула...   \n",
       "4                                       Не пострадал   \n",
       "\n",
       "   years_of_driving_experience       id  \n",
       "0                         26.0  1983180  \n",
       "1                         34.0  2889433  \n",
       "2                          NaN  2591208  \n",
       "3                          NaN  2591208  \n",
       "4                         27.0  2577639  "
      ]
     },
     "execution_count": 45,
     "metadata": {},
     "output_type": "execute_result"
    }
   ],
   "source": [
    "#Выводим первые 5 строк датафрейма Kir_par\n",
    "Kir_par.head()"
   ]
  },
  {
   "cell_type": "code",
   "execution_count": 46,
   "id": "c4ae8448",
   "metadata": {},
   "outputs": [
    {
     "name": "stdout",
     "output_type": "stream",
     "text": [
      "<class 'pandas.core.frame.DataFrame'>\n",
      "RangeIndex: 31235 entries, 0 to 31234\n",
      "Data columns (total 6 columns):\n",
      " #   Column                       Non-Null Count  Dtype  \n",
      "---  ------                       --------------  -----  \n",
      " 0   role                         31235 non-null  object \n",
      " 1   gender                       30387 non-null  object \n",
      " 2   violations                   31235 non-null  object \n",
      " 3   health_status                31135 non-null  object \n",
      " 4   years_of_driving_experience  16909 non-null  float64\n",
      " 5   id                           31235 non-null  int64  \n",
      "dtypes: float64(1), int64(1), object(4)\n",
      "memory usage: 1.4+ MB\n"
     ]
    }
   ],
   "source": [
    "#Выводим информацию о датафрейме\n",
    "Kir_par.info()"
   ]
  },
  {
   "cell_type": "code",
   "execution_count": 47,
   "id": "6ec54262",
   "metadata": {},
   "outputs": [],
   "source": [
    "#Меняем тип данных для экономии памяти\n",
    "Kir_par[\"id\"] = pd.to_numeric(Kir_par[\"id\"], downcast=\"integer\")# выбирает автоматически нужный формат"
   ]
  },
  {
   "cell_type": "code",
   "execution_count": 48,
   "id": "e3367e52",
   "metadata": {},
   "outputs": [
    {
     "data": {
      "text/plain": [
       "role                               0\n",
       "gender                           848\n",
       "violations                         0\n",
       "health_status                    100\n",
       "years_of_driving_experience    14326\n",
       "id                                 0\n",
       "dtype: int64"
      ]
     },
     "execution_count": 48,
     "metadata": {},
     "output_type": "execute_result"
    }
   ],
   "source": [
    "#Находим количество пропусков\n",
    "Kir_par.isna().sum()"
   ]
  },
  {
   "cell_type": "code",
   "execution_count": 49,
   "id": "54afabe7",
   "metadata": {},
   "outputs": [
    {
     "data": {
      "text/plain": [
       "role                            0.000000\n",
       "gender                          2.714903\n",
       "violations                      0.000000\n",
       "health_status                   0.320154\n",
       "years_of_driving_experience    45.865215\n",
       "id                              0.000000\n",
       "dtype: float64"
      ]
     },
     "execution_count": 49,
     "metadata": {},
     "output_type": "execute_result"
    }
   ],
   "source": [
    "#Находим процент пропусков\n",
    "Kir_par.isna().sum()/ len(Kir_par)*100"
   ]
  },
  {
   "cell_type": "markdown",
   "id": "2c3f2f29",
   "metadata": {},
   "source": [
    "Типы данных и названия столбцов в этом датафрейме корректны. Пропусков в столбце years_of_driving_experience очень много - 46%. Помимо этого присутствуют пропуски в столбцах gender (3%) и health_status(0.3%). Пропуски лучше заменить на значение \"Unknown\"."
   ]
  },
  {
   "cell_type": "code",
   "execution_count": 50,
   "id": "864e682c",
   "metadata": {},
   "outputs": [],
   "source": [
    "#Заполняем пропуски\n",
    "Kir_par['years_of_driving_experience'].fillna('Unknown', inplace=True)\n",
    "Kir_par['gender'].fillna('Unknown',inplace=True)\n",
    "Kir_par['health_status'].fillna('Unknown',inplace=True)"
   ]
  },
  {
   "cell_type": "code",
   "execution_count": 51,
   "id": "f2f65cca",
   "metadata": {},
   "outputs": [
    {
     "name": "stdout",
     "output_type": "stream",
     "text": [
      "<class 'pandas.core.frame.DataFrame'>\n",
      "RangeIndex: 31235 entries, 0 to 31234\n",
      "Data columns (total 6 columns):\n",
      " #   Column                       Non-Null Count  Dtype \n",
      "---  ------                       --------------  ----- \n",
      " 0   role                         31235 non-null  object\n",
      " 1   gender                       31235 non-null  object\n",
      " 2   violations                   31235 non-null  object\n",
      " 3   health_status                31235 non-null  object\n",
      " 4   years_of_driving_experience  31235 non-null  object\n",
      " 5   id                           31235 non-null  int32 \n",
      "dtypes: int32(1), object(5)\n",
      "memory usage: 1.3+ MB\n"
     ]
    }
   ],
   "source": [
    "#Выводим информацию об обновленном датафрейме\n",
    "Kir_par.info()"
   ]
  },
  {
   "cell_type": "code",
   "execution_count": 52,
   "id": "26d0a4f0",
   "metadata": {},
   "outputs": [
    {
     "data": {
      "text/plain": [
       "9727"
      ]
     },
     "execution_count": 52,
     "metadata": {},
     "output_type": "execute_result"
    }
   ],
   "source": [
    "#Поиск явных дубликатов\n",
    "Kir_par.duplicated().sum()"
   ]
  },
  {
   "cell_type": "code",
   "execution_count": 53,
   "id": "fa8fd0cb",
   "metadata": {},
   "outputs": [
    {
     "data": {
      "text/plain": [
       "31.141347846966543"
      ]
     },
     "execution_count": 53,
     "metadata": {},
     "output_type": "execute_result"
    }
   ],
   "source": [
    "#Находим процент явных дубликатов\n",
    "Kir_par.duplicated().sum()/len(Kir_par)*100"
   ]
  },
  {
   "cell_type": "code",
   "execution_count": 54,
   "id": "5f924815",
   "metadata": {},
   "outputs": [],
   "source": [
    "#Удаляем явные дубликаты\n",
    "Kir_par=Kir_par.drop_duplicates()"
   ]
  },
  {
   "cell_type": "code",
   "execution_count": 55,
   "id": "77506881",
   "metadata": {},
   "outputs": [
    {
     "data": {
      "text/plain": [
       "Водитель                                                                                                                            13025\n",
       "Пешеход                                                                                                                              4236\n",
       "Пассажир                                                                                                                             3961\n",
       "Велосипедист                                                                                                                          222\n",
       "Пешеход, перед ДТП находившийся в (на) ТС в качестве водителя или пешеход, перед ДТП находившийся в (на) ТС в качестве пассажира       64\n",
       "Name: role, dtype: int64"
      ]
     },
     "execution_count": 55,
     "metadata": {},
     "output_type": "execute_result"
    }
   ],
   "source": [
    "#Поиск неявных дубликатов в столбце 'role'\n",
    "Kir_par['role'].value_counts()"
   ]
  },
  {
   "cell_type": "code",
   "execution_count": 56,
   "id": "f945d7a0",
   "metadata": {},
   "outputs": [
    {
     "data": {
      "text/plain": [
       "Мужской    14413\n",
       "Женский     6538\n",
       "Unknown      557\n",
       "Name: gender, dtype: int64"
      ]
     },
     "execution_count": 56,
     "metadata": {},
     "output_type": "execute_result"
    }
   ],
   "source": [
    "#Поиск неявных дубликатов в столбце 'gender'\n",
    "Kir_par['gender'].value_counts()"
   ]
  },
  {
   "cell_type": "code",
   "execution_count": 57,
   "id": "0a4f7efb",
   "metadata": {},
   "outputs": [
    {
     "data": {
      "text/plain": [
       "[]                                                                                                                                                                                                                                                                                                                                                                                                                                                                                   9209\n",
       "['Несоблюдение очередности проезда']                                                                                                                                                                                                                                                                                                                                                                                                                                                  979\n",
       "['Другие нарушения ПДД водителем']                                                                                                                                                                                                                                                                                                                                                                                                                                                    765\n",
       "['Несоответствие скорости конкретным условиям движения']                                                                                                                                                                                                                                                                                                                                                                                                                              665\n",
       "['Нарушение правил проезда пешеходного перехода']                                                                                                                                                                                                                                                                                                                                                                                                                                     607\n",
       "                                                                                                                                                                                                                                                                                                                                                                                                                                                                                     ... \n",
       "['Управление транспортным средством при наличии неисправностей или условий, при которых эксплуатация транспортного средства запрещена', 'Употребление водителем алкогольных напитков, наркотических, психотропных или иных одурманивающих веществ после дорожно-транспортного происшествия, к которому он причастен, до проведения освидетельствования с целью установления состояния опьянения или до принятия решения об освобождении от проведения такого освидетельствовани']       1\n",
       "['Несоответствие скорости конкретным условиям движения', 'Управление ТС лицом, лишенным права управления', 'Управление ТС в состоянии алкогольного опьянения', 'Нарушение правил применения мотошлема', 'Несоблюдение требований ОСАГО']                                                                                                                                                                                                                                                1\n",
       "['Управление транспортным средством при наличии неисправностей или условий, при которых эксплуатация транспортного средства запрещена', 'Эксплуатация незарегистрированного ТС', 'Невыполнение требований обеспечения безопасности при начале движения']                                                                                                                                                                                                                                1\n",
       "['Нарушение правил расположения ТС на проезжей части', 'Управление при движении по автодороге велосипедом, гужевой повозкой лицом моложе 14 лет']                                                                                                                                                                                                                                                                                                                                       1\n",
       "['Неподчинение сигналам регулирования', 'Неожиданный выход из-за ТС']                                                                                                                                                                                                                                                                                                                                                                                                                   1\n",
       "Name: violations, Length: 1435, dtype: int64"
      ]
     },
     "execution_count": 57,
     "metadata": {},
     "output_type": "execute_result"
    }
   ],
   "source": [
    "#Поиск неявных дубликатов в столбце 'violations'\n",
    "Kir_par['violations'].value_counts()"
   ]
  },
  {
   "cell_type": "code",
   "execution_count": 58,
   "id": "07f5bab3",
   "metadata": {},
   "outputs": [
    {
     "data": {
      "text/plain": [
       "Не пострадал                                                                                                                                                                                                  9289\n",
       "Раненый, находящийся (находившийся)  на амбулаторном лечении, либо которому по характеру полученных травм обозначена необходимость амбулаторного лечения (вне зависимости от его фактического прохождения)    5088\n",
       "Раненый, находящийся (находившийся) на амбулаторном лечении, либо в условиях дневного стационара                                                                                                              3783\n",
       "Раненый, находящийся (находившийся) на стационарном лечении                                                                                                                                                   2537\n",
       "Получил телесные повреждения с показанием к лечению в медицинских организациях (кроме разовой медицинской помощи)                                                                                              650\n",
       "Получил травмы с оказанием разовой медицинской помощи, к категории раненый не относится                                                                                                                         93\n",
       "Unknown                                                                                                                                                                                                         65\n",
       "Получил телесные повреждения с показанием к лечению в медицинских организациях, фактически лечение не проходил, к категории раненый не относится                                                                 3\n",
       "Name: health_status, dtype: int64"
      ]
     },
     "execution_count": 58,
     "metadata": {},
     "output_type": "execute_result"
    }
   ],
   "source": [
    "#Поиск неявных дубликатов в столбце 'health_status'\n",
    "Kir_par['health_status'].value_counts()"
   ]
  },
  {
   "cell_type": "code",
   "execution_count": 59,
   "id": "d87b3d82",
   "metadata": {},
   "outputs": [
    {
     "data": {
      "text/plain": [
       "8168"
      ]
     },
     "execution_count": 59,
     "metadata": {},
     "output_type": "execute_result"
    }
   ],
   "source": [
    "#Поиск явных дубликатов в столбце 'id'\n",
    "Kir_par['id'].duplicated().sum()"
   ]
  },
  {
   "cell_type": "markdown",
   "id": "9ae5609d",
   "metadata": {},
   "source": [
    "В данном датафрейме явные дубликаты по столбцу 'id' не являются ошибкой, так как в данной таблице 'id' - это идентификатор ДТП."
   ]
  },
  {
   "cell_type": "code",
   "execution_count": 60,
   "id": "1946d1d8",
   "metadata": {},
   "outputs": [
    {
     "name": "stdout",
     "output_type": "stream",
     "text": [
      "<class 'pandas.core.frame.DataFrame'>\n",
      "Int64Index: 21508 entries, 0 to 31232\n",
      "Data columns (total 6 columns):\n",
      " #   Column                       Non-Null Count  Dtype \n",
      "---  ------                       --------------  ----- \n",
      " 0   role                         21508 non-null  object\n",
      " 1   gender                       21508 non-null  object\n",
      " 2   violations                   21508 non-null  object\n",
      " 3   health_status                21508 non-null  object\n",
      " 4   years_of_driving_experience  21508 non-null  object\n",
      " 5   id                           21508 non-null  int32 \n",
      "dtypes: int32(1), object(5)\n",
      "memory usage: 1.1+ MB\n"
     ]
    }
   ],
   "source": [
    "#Выводим информацию об обновленном датафрейме\n",
    "Kir_par.info()"
   ]
  },
  {
   "cell_type": "markdown",
   "id": "4aa35a24",
   "metadata": {},
   "source": [
    "#### Предобработка датасета Mos_par"
   ]
  },
  {
   "cell_type": "code",
   "execution_count": 61,
   "id": "22ecd3da",
   "metadata": {},
   "outputs": [
    {
     "data": {
      "text/html": [
       "<div>\n",
       "<style scoped>\n",
       "    .dataframe tbody tr th:only-of-type {\n",
       "        vertical-align: middle;\n",
       "    }\n",
       "\n",
       "    .dataframe tbody tr th {\n",
       "        vertical-align: top;\n",
       "    }\n",
       "\n",
       "    .dataframe thead th {\n",
       "        text-align: right;\n",
       "    }\n",
       "</style>\n",
       "<table border=\"1\" class=\"dataframe\">\n",
       "  <thead>\n",
       "    <tr style=\"text-align: right;\">\n",
       "      <th></th>\n",
       "      <th>role</th>\n",
       "      <th>gender</th>\n",
       "      <th>violations</th>\n",
       "      <th>health_status</th>\n",
       "      <th>years_of_driving_experience</th>\n",
       "      <th>id</th>\n",
       "    </tr>\n",
       "  </thead>\n",
       "  <tbody>\n",
       "    <tr>\n",
       "      <th>0</th>\n",
       "      <td>Водитель</td>\n",
       "      <td>Мужской</td>\n",
       "      <td>[]</td>\n",
       "      <td>Не пострадал</td>\n",
       "      <td>13.0</td>\n",
       "      <td>2163589</td>\n",
       "    </tr>\n",
       "    <tr>\n",
       "      <th>1</th>\n",
       "      <td>Водитель</td>\n",
       "      <td>Мужской</td>\n",
       "      <td>[]</td>\n",
       "      <td>Не пострадал</td>\n",
       "      <td>13.0</td>\n",
       "      <td>2163589</td>\n",
       "    </tr>\n",
       "    <tr>\n",
       "      <th>2</th>\n",
       "      <td>Водитель</td>\n",
       "      <td>Мужской</td>\n",
       "      <td>['Неправильный выбор дистанции']</td>\n",
       "      <td>Не пострадал</td>\n",
       "      <td>5.0</td>\n",
       "      <td>2155398</td>\n",
       "    </tr>\n",
       "    <tr>\n",
       "      <th>3</th>\n",
       "      <td>Водитель</td>\n",
       "      <td>Мужской</td>\n",
       "      <td>['Неправильный выбор дистанции']</td>\n",
       "      <td>Не пострадал</td>\n",
       "      <td>5.0</td>\n",
       "      <td>2155398</td>\n",
       "    </tr>\n",
       "    <tr>\n",
       "      <th>4</th>\n",
       "      <td>Водитель</td>\n",
       "      <td>Женский</td>\n",
       "      <td>[]</td>\n",
       "      <td>Не пострадал</td>\n",
       "      <td>11.0</td>\n",
       "      <td>2163319</td>\n",
       "    </tr>\n",
       "  </tbody>\n",
       "</table>\n",
       "</div>"
      ],
      "text/plain": [
       "       role   gender                        violations health_status  \\\n",
       "0  Водитель  Мужской                                []  Не пострадал   \n",
       "1  Водитель  Мужской                                []  Не пострадал   \n",
       "2  Водитель  Мужской  ['Неправильный выбор дистанции']  Не пострадал   \n",
       "3  Водитель  Мужской  ['Неправильный выбор дистанции']  Не пострадал   \n",
       "4  Водитель  Женский                                []  Не пострадал   \n",
       "\n",
       "   years_of_driving_experience       id  \n",
       "0                         13.0  2163589  \n",
       "1                         13.0  2163589  \n",
       "2                          5.0  2155398  \n",
       "3                          5.0  2155398  \n",
       "4                         11.0  2163319  "
      ]
     },
     "execution_count": 61,
     "metadata": {},
     "output_type": "execute_result"
    }
   ],
   "source": [
    "#Выводим первые 5 строк датафрейма Mos_par\n",
    "Mos_par.head()"
   ]
  },
  {
   "cell_type": "code",
   "execution_count": 62,
   "id": "720df10e",
   "metadata": {},
   "outputs": [
    {
     "name": "stdout",
     "output_type": "stream",
     "text": [
      "<class 'pandas.core.frame.DataFrame'>\n",
      "RangeIndex: 95177 entries, 0 to 95176\n",
      "Data columns (total 6 columns):\n",
      " #   Column                       Non-Null Count  Dtype  \n",
      "---  ------                       --------------  -----  \n",
      " 0   role                         95177 non-null  object \n",
      " 1   gender                       93307 non-null  object \n",
      " 2   violations                   95177 non-null  object \n",
      " 3   health_status                95070 non-null  object \n",
      " 4   years_of_driving_experience  59679 non-null  float64\n",
      " 5   id                           95177 non-null  int64  \n",
      "dtypes: float64(1), int64(1), object(4)\n",
      "memory usage: 4.4+ MB\n"
     ]
    }
   ],
   "source": [
    "#Выводим информацию о датафрейме\n",
    "Mos_par.info()"
   ]
  },
  {
   "cell_type": "code",
   "execution_count": 63,
   "id": "e0bb410c",
   "metadata": {},
   "outputs": [],
   "source": [
    "#Меняем тип данных для экономии памяти\n",
    "Mos_par[\"id\"] = pd.to_numeric(Mos_par[\"id\"], downcast=\"integer\")# выбирает автоматически нужный формат"
   ]
  },
  {
   "cell_type": "code",
   "execution_count": 64,
   "id": "352a3c74",
   "metadata": {},
   "outputs": [
    {
     "data": {
      "text/plain": [
       "role                               0\n",
       "gender                          1870\n",
       "violations                         0\n",
       "health_status                    107\n",
       "years_of_driving_experience    35498\n",
       "id                                 0\n",
       "dtype: int64"
      ]
     },
     "execution_count": 64,
     "metadata": {},
     "output_type": "execute_result"
    }
   ],
   "source": [
    "#Находим количество пропусков\n",
    "Mos_par.isna().sum()"
   ]
  },
  {
   "cell_type": "code",
   "execution_count": 65,
   "id": "f591f1a2",
   "metadata": {},
   "outputs": [
    {
     "data": {
      "text/plain": [
       "role                            0.000000\n",
       "gender                          1.964760\n",
       "violations                      0.000000\n",
       "health_status                   0.112422\n",
       "years_of_driving_experience    37.296826\n",
       "id                              0.000000\n",
       "dtype: float64"
      ]
     },
     "execution_count": 65,
     "metadata": {},
     "output_type": "execute_result"
    }
   ],
   "source": [
    "#Находим процент пропусков\n",
    "Mos_par.isna().sum()/len(Mos_par)*100"
   ]
  },
  {
   "cell_type": "markdown",
   "id": "d5a18854",
   "metadata": {},
   "source": [
    "Типы данных и названия столбцов в этом датафрейме корректны. Пропусков в столбце years_of_driving_experience очень много - 37%. Помимо этого присутствуют пропуски в столбцах gender (2%) и health_status(0.1%). Пропуски лучше заменить на значение \"Unknown\"."
   ]
  },
  {
   "cell_type": "code",
   "execution_count": 66,
   "id": "45720e4e",
   "metadata": {},
   "outputs": [],
   "source": [
    "#Заполняем пропуски\n",
    "Mos_par['gender'].fillna('Unknown',inplace=True)\n",
    "Mos_par['health_status'].fillna('Unknown',inplace=True)\n",
    "Mos_par['years_of_driving_experience'].fillna('Unknown',inplace=True)"
   ]
  },
  {
   "cell_type": "code",
   "execution_count": 67,
   "id": "4c939b6b",
   "metadata": {},
   "outputs": [
    {
     "data": {
      "text/plain": [
       "35428"
      ]
     },
     "execution_count": 67,
     "metadata": {},
     "output_type": "execute_result"
    }
   ],
   "source": [
    "#Поиск явных дубликатов\n",
    "Mos_par.duplicated().sum()"
   ]
  },
  {
   "cell_type": "code",
   "execution_count": 68,
   "id": "4368c035",
   "metadata": {},
   "outputs": [
    {
     "data": {
      "text/plain": [
       "37.22327873330742"
      ]
     },
     "execution_count": 68,
     "metadata": {},
     "output_type": "execute_result"
    }
   ],
   "source": [
    "#Находим процент явных дубликатов\n",
    "Mos_par.duplicated().sum()/len(Mos_par)*100"
   ]
  },
  {
   "cell_type": "code",
   "execution_count": 69,
   "id": "d8ae1c41",
   "metadata": {},
   "outputs": [],
   "source": [
    "#Удаляем явные дубликаты\n",
    "Mos_par=Mos_par.drop_duplicates()"
   ]
  },
  {
   "cell_type": "code",
   "execution_count": 70,
   "id": "b37ec4f1",
   "metadata": {},
   "outputs": [
    {
     "data": {
      "text/plain": [
       "Водитель                                                                                                                            37956\n",
       "Пешеход                                                                                                                             12279\n",
       "Пассажир                                                                                                                             8666\n",
       "Велосипедист                                                                                                                          561\n",
       "Пешеход, перед ДТП находившийся в (на) ТС в качестве водителя или пешеход, перед ДТП находившийся в (на) ТС в качестве пассажира      287\n",
       "Name: role, dtype: int64"
      ]
     },
     "execution_count": 70,
     "metadata": {},
     "output_type": "execute_result"
    }
   ],
   "source": [
    "#Поиск неявных дубликатов в столбце 'role'\n",
    "Mos_par['role'].value_counts()"
   ]
  },
  {
   "cell_type": "code",
   "execution_count": 71,
   "id": "babbd020",
   "metadata": {},
   "outputs": [
    {
     "data": {
      "text/plain": [
       "Мужской    41185\n",
       "Женский    17378\n",
       "Unknown     1186\n",
       "Name: gender, dtype: int64"
      ]
     },
     "execution_count": 71,
     "metadata": {},
     "output_type": "execute_result"
    }
   ],
   "source": [
    "#Поиск неявных дубликатов в столбце 'gender'\n",
    "Mos_par['gender'].value_counts()"
   ]
  },
  {
   "cell_type": "code",
   "execution_count": 72,
   "id": "953ee6cd",
   "metadata": {},
   "outputs": [
    {
     "data": {
      "text/plain": [
       "[]                                                                                                                                                                                                                                               27551\n",
       "['Несоответствие скорости конкретным условиям движения']                                                                                                                                                                                          3119\n",
       "['Нарушение правил проезда пешеходного перехода']                                                                                                                                                                                                 2741\n",
       "['Несоблюдение очередности проезда']                                                                                                                                                                                                              2684\n",
       "['Неправильный выбор дистанции']                                                                                                                                                                                                                  2280\n",
       "                                                                                                                                                                                                                                                 ...  \n",
       "['Управление велосипедом с неисправной тормозной системой']                                                                                                                                                                                          1\n",
       "['Нарушение правил проезда пешеходного перехода', 'Несоблюдение условий, разрешающих движение транспорта задним ходом']                                                                                                                              1\n",
       "['Неправильный выбор дистанции', 'Управление ТС лицом, находящимся в состоянии алкогольного опьянения и не имеющим права управления ТС либо лишенным права управления ТС', 'Другие нарушения ПДД водителем', 'Несоблюдение требований ОСАГО']        1\n",
       "['Несоответствие скорости конкретным условиям движения', 'Эксплуатация технически неисправного ТС (проставляется в случае ДТП по причине технеисправности)']                                                                                         1\n",
       "['Игра на проезжей части', 'Нахождение на проезжей части без цели её перехода']                                                                                                                                                                      1\n",
       "Name: violations, Length: 1763, dtype: int64"
      ]
     },
     "execution_count": 72,
     "metadata": {},
     "output_type": "execute_result"
    }
   ],
   "source": [
    "#Поиск неявных дубликатов в столбце 'violations'\n",
    "Mos_par['violations'].value_counts()"
   ]
  },
  {
   "cell_type": "code",
   "execution_count": 73,
   "id": "9bf81c59",
   "metadata": {},
   "outputs": [
    {
     "data": {
      "text/plain": [
       "Не пострадал                                                                                                                                                                                                  25740\n",
       "Раненый, находящийся (находившийся) на стационарном лечении                                                                                                                                                   18282\n",
       "Раненый, находящийся (находившийся)  на амбулаторном лечении, либо которому по характеру полученных травм обозначена необходимость амбулаторного лечения (вне зависимости от его фактического прохождения)     8406\n",
       "Раненый, находящийся (находившийся) на амбулаторном лечении, либо в условиях дневного стационара                                                                                                               5823\n",
       "Получил травмы с оказанием разовой медицинской помощи, к категории раненый не относится                                                                                                                         863\n",
       "Получил телесные повреждения с показанием к лечению в медицинских организациях (кроме разовой медицинской помощи)                                                                                               561\n",
       "Unknown                                                                                                                                                                                                          60\n",
       "Получил телесные повреждения с показанием к лечению в медицинских организациях, фактически лечение не проходил, к категории раненый не относится                                                                 14\n",
       "Name: health_status, dtype: int64"
      ]
     },
     "execution_count": 73,
     "metadata": {},
     "output_type": "execute_result"
    }
   ],
   "source": [
    "#Поиск неявных дубликатов в столбце 'health_status'\n",
    "Mos_par['health_status'].value_counts()"
   ]
  },
  {
   "cell_type": "code",
   "execution_count": 74,
   "id": "c371d4bc",
   "metadata": {
    "scrolled": true
   },
   "outputs": [
    {
     "data": {
      "text/plain": [
       "20916"
      ]
     },
     "execution_count": 74,
     "metadata": {},
     "output_type": "execute_result"
    }
   ],
   "source": [
    "#Поиск явных дубликатов в столбце 'id'\n",
    "Mos_par['id'].duplicated().sum()"
   ]
  },
  {
   "cell_type": "markdown",
   "id": "2d8952a6",
   "metadata": {},
   "source": [
    "В данном датафрейме явные дубликаты по столбцу 'id' не являются ошибкой, так как в данной таблице 'id' - это идентификатор ДТП."
   ]
  },
  {
   "cell_type": "code",
   "execution_count": 75,
   "id": "6c053b4b",
   "metadata": {},
   "outputs": [
    {
     "name": "stdout",
     "output_type": "stream",
     "text": [
      "<class 'pandas.core.frame.DataFrame'>\n",
      "Int64Index: 59749 entries, 0 to 95168\n",
      "Data columns (total 6 columns):\n",
      " #   Column                       Non-Null Count  Dtype \n",
      "---  ------                       --------------  ----- \n",
      " 0   role                         59749 non-null  object\n",
      " 1   gender                       59749 non-null  object\n",
      " 2   violations                   59749 non-null  object\n",
      " 3   health_status                59749 non-null  object\n",
      " 4   years_of_driving_experience  59749 non-null  object\n",
      " 5   id                           59749 non-null  int32 \n",
      "dtypes: int32(1), object(5)\n",
      "memory usage: 3.0+ MB\n"
     ]
    }
   ],
   "source": [
    "#Выводим информацию об обновленном датафрейме\n",
    "Mos_par.info()"
   ]
  },
  {
   "cell_type": "markdown",
   "id": "5e2e3743",
   "metadata": {},
   "source": [
    "#### Предобработка датасета Kir_veh"
   ]
  },
  {
   "cell_type": "code",
   "execution_count": 76,
   "id": "a25da724",
   "metadata": {},
   "outputs": [
    {
     "data": {
      "text/html": [
       "<div>\n",
       "<style scoped>\n",
       "    .dataframe tbody tr th:only-of-type {\n",
       "        vertical-align: middle;\n",
       "    }\n",
       "\n",
       "    .dataframe tbody tr th {\n",
       "        vertical-align: top;\n",
       "    }\n",
       "\n",
       "    .dataframe thead th {\n",
       "        text-align: right;\n",
       "    }\n",
       "</style>\n",
       "<table border=\"1\" class=\"dataframe\">\n",
       "  <thead>\n",
       "    <tr style=\"text-align: right;\">\n",
       "      <th></th>\n",
       "      <th>year</th>\n",
       "      <th>brand</th>\n",
       "      <th>color</th>\n",
       "      <th>model</th>\n",
       "      <th>category</th>\n",
       "      <th>id</th>\n",
       "    </tr>\n",
       "  </thead>\n",
       "  <tbody>\n",
       "    <tr>\n",
       "      <th>0</th>\n",
       "      <td>2011.0</td>\n",
       "      <td>ВАЗ</td>\n",
       "      <td>Серый</td>\n",
       "      <td>Kalina</td>\n",
       "      <td>А-класс (особо малый) до 3,5 м</td>\n",
       "      <td>1983180</td>\n",
       "    </tr>\n",
       "    <tr>\n",
       "      <th>1</th>\n",
       "      <td>2005.0</td>\n",
       "      <td>CHEVROLET</td>\n",
       "      <td>Зеленый</td>\n",
       "      <td>Niva</td>\n",
       "      <td>С-класс (малый средний, компактный) до 4,3 м</td>\n",
       "      <td>2889433</td>\n",
       "    </tr>\n",
       "    <tr>\n",
       "      <th>2</th>\n",
       "      <td>2017.0</td>\n",
       "      <td>RENAULT</td>\n",
       "      <td>Синий</td>\n",
       "      <td>Logan</td>\n",
       "      <td>С-класс (малый средний, компактный) до 4,3 м</td>\n",
       "      <td>2591208</td>\n",
       "    </tr>\n",
       "    <tr>\n",
       "      <th>3</th>\n",
       "      <td>2006.0</td>\n",
       "      <td>ВАЗ</td>\n",
       "      <td>Зеленый</td>\n",
       "      <td>ВАЗ 2115 и модификации</td>\n",
       "      <td>С-класс (малый средний, компактный) до 4,3 м</td>\n",
       "      <td>2577639</td>\n",
       "    </tr>\n",
       "    <tr>\n",
       "      <th>4</th>\n",
       "      <td>1986.0</td>\n",
       "      <td>MERCEDES</td>\n",
       "      <td>Зеленый</td>\n",
       "      <td>Прочие модели Mercedes</td>\n",
       "      <td>Фургоны</td>\n",
       "      <td>1981026</td>\n",
       "    </tr>\n",
       "  </tbody>\n",
       "</table>\n",
       "</div>"
      ],
      "text/plain": [
       "     year      brand    color                   model  \\\n",
       "0  2011.0        ВАЗ    Серый                  Kalina   \n",
       "1  2005.0  CHEVROLET  Зеленый                    Niva   \n",
       "2  2017.0    RENAULT    Синий                   Logan   \n",
       "3  2006.0        ВАЗ  Зеленый  ВАЗ 2115 и модификации   \n",
       "4  1986.0   MERCEDES  Зеленый  Прочие модели Mercedes   \n",
       "\n",
       "                                       category       id  \n",
       "0                А-класс (особо малый) до 3,5 м  1983180  \n",
       "1  С-класс (малый средний, компактный) до 4,3 м  2889433  \n",
       "2  С-класс (малый средний, компактный) до 4,3 м  2591208  \n",
       "3  С-класс (малый средний, компактный) до 4,3 м  2577639  \n",
       "4                                       Фургоны  1981026  "
      ]
     },
     "execution_count": 76,
     "metadata": {},
     "output_type": "execute_result"
    }
   ],
   "source": [
    "#Выводим первые 5 строк датафрейма Kir_veh\n",
    "Kir_veh.head()"
   ]
  },
  {
   "cell_type": "code",
   "execution_count": 77,
   "id": "9c2c073e",
   "metadata": {},
   "outputs": [
    {
     "name": "stdout",
     "output_type": "stream",
     "text": [
      "<class 'pandas.core.frame.DataFrame'>\n",
      "RangeIndex: 20093 entries, 0 to 20092\n",
      "Data columns (total 6 columns):\n",
      " #   Column    Non-Null Count  Dtype  \n",
      "---  ------    --------------  -----  \n",
      " 0   year      19299 non-null  float64\n",
      " 1   brand     19318 non-null  object \n",
      " 2   color     19643 non-null  object \n",
      " 3   model     19318 non-null  object \n",
      " 4   category  20093 non-null  object \n",
      " 5   id        20093 non-null  int64  \n",
      "dtypes: float64(1), int64(1), object(4)\n",
      "memory usage: 942.0+ KB\n"
     ]
    }
   ],
   "source": [
    "#Выводим информацию о датафрейме\n",
    "Kir_veh.info()"
   ]
  },
  {
   "cell_type": "code",
   "execution_count": 78,
   "id": "23b4af4c",
   "metadata": {},
   "outputs": [],
   "source": [
    "#Меняем тип данных для экономии памяти\n",
    "Kir_veh[\"id\"] = pd.to_numeric(Kir_veh[\"id\"], downcast=\"integer\")# выбирает автоматически нужный формат"
   ]
  },
  {
   "cell_type": "code",
   "execution_count": 79,
   "id": "113451ad",
   "metadata": {},
   "outputs": [
    {
     "data": {
      "text/plain": [
       "year        794\n",
       "brand       775\n",
       "color       450\n",
       "model       775\n",
       "category      0\n",
       "id            0\n",
       "dtype: int64"
      ]
     },
     "execution_count": 79,
     "metadata": {},
     "output_type": "execute_result"
    }
   ],
   "source": [
    "#Находим количество пропусков\n",
    "Kir_veh.isna().sum()"
   ]
  },
  {
   "cell_type": "code",
   "execution_count": 80,
   "id": "f11ca514",
   "metadata": {},
   "outputs": [
    {
     "data": {
      "text/plain": [
       "year        3.951625\n",
       "brand       3.857065\n",
       "color       2.239586\n",
       "model       3.857065\n",
       "category    0.000000\n",
       "id          0.000000\n",
       "dtype: float64"
      ]
     },
     "execution_count": 80,
     "metadata": {},
     "output_type": "execute_result"
    }
   ],
   "source": [
    "#Находим процент пропусков\n",
    "Kir_veh.isna().sum() / len(Kir_veh)*100"
   ]
  },
  {
   "cell_type": "markdown",
   "id": "7da1d386",
   "metadata": {},
   "source": [
    "Необходимо перевести формат столбца year из float64 в datetime. Также необходимо заменить пропуски на \"Unknown\"."
   ]
  },
  {
   "cell_type": "code",
   "execution_count": 81,
   "id": "9da204df",
   "metadata": {},
   "outputs": [],
   "source": [
    "#Меняем тип данных столбца year\n",
    "Kir_veh['year'] = pd.to_datetime(Kir_veh['year'],errors='coerce') #заменим некорректные значения на NaT (аналог NaN для дат)"
   ]
  },
  {
   "cell_type": "code",
   "execution_count": 82,
   "id": "ecb9e93d",
   "metadata": {},
   "outputs": [],
   "source": [
    "#Заполняем пропуски\n",
    "Kir_veh['year'].fillna('Unknown', inplace = True)\n",
    "Kir_veh['brand'].fillna('Unknown', inplace = True)\n",
    "Kir_veh['color'].fillna('Unknown', inplace = True)\n",
    "Kir_veh['model'].fillna('Unknown', inplace = True)"
   ]
  },
  {
   "cell_type": "code",
   "execution_count": 83,
   "id": "67a1660b",
   "metadata": {},
   "outputs": [
    {
     "data": {
      "text/plain": [
       "18"
      ]
     },
     "execution_count": 83,
     "metadata": {},
     "output_type": "execute_result"
    }
   ],
   "source": [
    "#Поиск явных дубликатов\n",
    "Kir_veh.duplicated().sum()"
   ]
  },
  {
   "cell_type": "code",
   "execution_count": 84,
   "id": "176cc707",
   "metadata": {},
   "outputs": [
    {
     "data": {
      "text/plain": [
       "0.08958343701786692"
      ]
     },
     "execution_count": 84,
     "metadata": {},
     "output_type": "execute_result"
    }
   ],
   "source": [
    "#Находим процент явных дубликатов\n",
    "Kir_veh.duplicated().sum()/len(Kir_veh)*100"
   ]
  },
  {
   "cell_type": "code",
   "execution_count": 85,
   "id": "6472d831",
   "metadata": {},
   "outputs": [],
   "source": [
    "#Удаляем явные дубликаты\n",
    "Kir_veh=Kir_veh.drop_duplicates()"
   ]
  },
  {
   "cell_type": "code",
   "execution_count": 86,
   "id": "b28248be",
   "metadata": {},
   "outputs": [
    {
     "data": {
      "text/plain": [
       "В-класс (малый) до 3,9 м                                           7571\n",
       "С-класс (малый средний, компактный) до 4,3 м                       4736\n",
       "D-класс (средний) до 4,6 м                                         1210\n",
       "Прочие легковые автомобили                                          675\n",
       "Мотоциклы                                                           674\n",
       "                                                                   ... \n",
       "Гужевой транспорт                                                     1\n",
       "Спортивные (гоночные)                                                 1\n",
       "Транспортные средства для перевозки пищевых жидкостей                 1\n",
       "Персональное электрическое средство передвижения малой мощности       1\n",
       "Трициклы                                                              1\n",
       "Name: category, Length: 69, dtype: int64"
      ]
     },
     "execution_count": 86,
     "metadata": {},
     "output_type": "execute_result"
    }
   ],
   "source": [
    "#Поиск неявных дубликатов в столбце 'category'\n",
    "Kir_veh['category'].value_counts()"
   ]
  },
  {
   "cell_type": "code",
   "execution_count": 87,
   "id": "1eda6225",
   "metadata": {},
   "outputs": [
    {
     "data": {
      "text/plain": [
       "Иные цвета      4488\n",
       "Белый           3234\n",
       "Черный          2988\n",
       "Серый           2869\n",
       "Синий           2028\n",
       "Красный         1530\n",
       "Зеленый         1112\n",
       "Коричневый       467\n",
       "Unknown          443\n",
       "Оранжевый        256\n",
       "Желтый           249\n",
       "Многоцветный     235\n",
       "Фиолетовый       158\n",
       "Не заполнено      18\n",
       "Name: color, dtype: int64"
      ]
     },
     "execution_count": 87,
     "metadata": {},
     "output_type": "execute_result"
    }
   ],
   "source": [
    "#Поиск неявных дубликатов в столбце 'color'\n",
    "Kir_veh['color'].value_counts()"
   ]
  },
  {
   "cell_type": "code",
   "execution_count": 88,
   "id": "09c3629b",
   "metadata": {},
   "outputs": [
    {
     "data": {
      "text/plain": [
       "ВАЗ                                    5771\n",
       "RENAULT                                1026\n",
       "Прочие марки ТС                         925\n",
       "VOLKSWAGEN                              821\n",
       "HYUNDAI                                 799\n",
       "                                       ... \n",
       "TRIUMPH                                   1\n",
       "NEOPLAN                                   1\n",
       "Прочие марки легких коммерческих ТС       1\n",
       "ZOTYE                                     1\n",
       "SCEO                                      1\n",
       "Name: brand, Length: 159, dtype: int64"
      ]
     },
     "execution_count": 88,
     "metadata": {},
     "output_type": "execute_result"
    }
   ],
   "source": [
    "#Поиск неявных дубликатов в столбце 'brand'\n",
    "Kir_veh['brand'].value_counts()"
   ]
  },
  {
   "cell_type": "code",
   "execution_count": 89,
   "id": "6328eb79",
   "metadata": {},
   "outputs": [
    {
     "data": {
      "text/plain": [
       "6828"
      ]
     },
     "execution_count": 89,
     "metadata": {},
     "output_type": "execute_result"
    }
   ],
   "source": [
    "#Поиск явных дубликатов в столбце 'id'\n",
    "Kir_veh['id'].duplicated().sum()"
   ]
  },
  {
   "cell_type": "markdown",
   "id": "979ea323",
   "metadata": {},
   "source": [
    "В данном датафрейме явные дубликаты по столбцу 'id' не являются ошибкой, так как в данной таблице 'id' - это идентификатор ДТП."
   ]
  },
  {
   "cell_type": "code",
   "execution_count": 90,
   "id": "666521a1",
   "metadata": {},
   "outputs": [
    {
     "name": "stdout",
     "output_type": "stream",
     "text": [
      "<class 'pandas.core.frame.DataFrame'>\n",
      "Int64Index: 20075 entries, 0 to 20092\n",
      "Data columns (total 6 columns):\n",
      " #   Column    Non-Null Count  Dtype \n",
      "---  ------    --------------  ----- \n",
      " 0   year      20075 non-null  object\n",
      " 1   brand     20075 non-null  object\n",
      " 2   color     20075 non-null  object\n",
      " 3   model     20075 non-null  object\n",
      " 4   category  20075 non-null  object\n",
      " 5   id        20075 non-null  int32 \n",
      "dtypes: int32(1), object(5)\n",
      "memory usage: 1019.4+ KB\n"
     ]
    }
   ],
   "source": [
    "#Выводим информацию об обновленном датафрейме\n",
    "Kir_veh.info()"
   ]
  },
  {
   "cell_type": "markdown",
   "id": "8b635106",
   "metadata": {},
   "source": [
    "#### Предобработка датасета Mos_veh"
   ]
  },
  {
   "cell_type": "code",
   "execution_count": 91,
   "id": "8f54dc24",
   "metadata": {},
   "outputs": [
    {
     "data": {
      "text/html": [
       "<div>\n",
       "<style scoped>\n",
       "    .dataframe tbody tr th:only-of-type {\n",
       "        vertical-align: middle;\n",
       "    }\n",
       "\n",
       "    .dataframe tbody tr th {\n",
       "        vertical-align: top;\n",
       "    }\n",
       "\n",
       "    .dataframe thead th {\n",
       "        text-align: right;\n",
       "    }\n",
       "</style>\n",
       "<table border=\"1\" class=\"dataframe\">\n",
       "  <thead>\n",
       "    <tr style=\"text-align: right;\">\n",
       "      <th></th>\n",
       "      <th>year</th>\n",
       "      <th>brand</th>\n",
       "      <th>color</th>\n",
       "      <th>model</th>\n",
       "      <th>category</th>\n",
       "      <th>id</th>\n",
       "    </tr>\n",
       "  </thead>\n",
       "  <tbody>\n",
       "    <tr>\n",
       "      <th>0</th>\n",
       "      <td>2012.0</td>\n",
       "      <td>ГАЗ</td>\n",
       "      <td>Белый</td>\n",
       "      <td>Прочие модели ГАЗ</td>\n",
       "      <td>Фургоны</td>\n",
       "      <td>2163589</td>\n",
       "    </tr>\n",
       "    <tr>\n",
       "      <th>1</th>\n",
       "      <td>2008.0</td>\n",
       "      <td>OPEL</td>\n",
       "      <td>Черный</td>\n",
       "      <td>Astra</td>\n",
       "      <td>С-класс (малый средний, компактный) до 4,3 м</td>\n",
       "      <td>2155398</td>\n",
       "    </tr>\n",
       "    <tr>\n",
       "      <th>2</th>\n",
       "      <td>2017.0</td>\n",
       "      <td>MAZDA</td>\n",
       "      <td>Черный</td>\n",
       "      <td>CX-5</td>\n",
       "      <td>В-класс (малый) до 3,9 м</td>\n",
       "      <td>2163319</td>\n",
       "    </tr>\n",
       "    <tr>\n",
       "      <th>3</th>\n",
       "      <td>2013.0</td>\n",
       "      <td>ГАЗ</td>\n",
       "      <td>Белый</td>\n",
       "      <td>2705  Газель , 27057 и модификации</td>\n",
       "      <td>Фургоны</td>\n",
       "      <td>2143938</td>\n",
       "    </tr>\n",
       "    <tr>\n",
       "      <th>4</th>\n",
       "      <td>2011.0</td>\n",
       "      <td>RENAULT</td>\n",
       "      <td>Синий</td>\n",
       "      <td>Прочие модели Renault</td>\n",
       "      <td>В-класс (малый) до 3,9 м</td>\n",
       "      <td>2163390</td>\n",
       "    </tr>\n",
       "  </tbody>\n",
       "</table>\n",
       "</div>"
      ],
      "text/plain": [
       "     year    brand   color                               model  \\\n",
       "0  2012.0      ГАЗ   Белый                   Прочие модели ГАЗ   \n",
       "1  2008.0     OPEL  Черный                               Astra   \n",
       "2  2017.0    MAZDA  Черный                                CX-5   \n",
       "3  2013.0      ГАЗ   Белый  2705  Газель , 27057 и модификации   \n",
       "4  2011.0  RENAULT   Синий               Прочие модели Renault   \n",
       "\n",
       "                                       category       id  \n",
       "0                                       Фургоны  2163589  \n",
       "1  С-класс (малый средний, компактный) до 4,3 м  2155398  \n",
       "2                      В-класс (малый) до 3,9 м  2163319  \n",
       "3                                       Фургоны  2143938  \n",
       "4                      В-класс (малый) до 3,9 м  2163390  "
      ]
     },
     "execution_count": 91,
     "metadata": {},
     "output_type": "execute_result"
    }
   ],
   "source": [
    "#Выводим первые 5 строк датафрейма Mos_veh\n",
    "Mos_veh.head()"
   ]
  },
  {
   "cell_type": "code",
   "execution_count": 92,
   "id": "47229314",
   "metadata": {},
   "outputs": [
    {
     "name": "stdout",
     "output_type": "stream",
     "text": [
      "<class 'pandas.core.frame.DataFrame'>\n",
      "RangeIndex: 65606 entries, 0 to 65605\n",
      "Data columns (total 6 columns):\n",
      " #   Column    Non-Null Count  Dtype  \n",
      "---  ------    --------------  -----  \n",
      " 0   year      63860 non-null  float64\n",
      " 1   brand     64185 non-null  object \n",
      " 2   color     64765 non-null  object \n",
      " 3   model     64185 non-null  object \n",
      " 4   category  65606 non-null  object \n",
      " 5   id        65606 non-null  int64  \n",
      "dtypes: float64(1), int64(1), object(4)\n",
      "memory usage: 3.0+ MB\n"
     ]
    }
   ],
   "source": [
    "#Выводим информацию о датафрейме\n",
    "Mos_veh.info()"
   ]
  },
  {
   "cell_type": "code",
   "execution_count": 93,
   "id": "5bd32053",
   "metadata": {},
   "outputs": [],
   "source": [
    "#Меняем тип данных для экономии памяти\n",
    "Mos_veh[\"id\"] = pd.to_numeric(Mos_veh[\"id\"], downcast=\"integer\")# выбирает автоматически нужный формат"
   ]
  },
  {
   "cell_type": "code",
   "execution_count": 94,
   "id": "18f6f46a",
   "metadata": {},
   "outputs": [
    {
     "data": {
      "text/plain": [
       "year        1746\n",
       "brand       1421\n",
       "color        841\n",
       "model       1421\n",
       "category       0\n",
       "id             0\n",
       "dtype: int64"
      ]
     },
     "execution_count": 94,
     "metadata": {},
     "output_type": "execute_result"
    }
   ],
   "source": [
    "#Находим количество пропусков\n",
    "Mos_veh.isna().sum()"
   ]
  },
  {
   "cell_type": "code",
   "execution_count": 95,
   "id": "bc8585c7",
   "metadata": {},
   "outputs": [
    {
     "data": {
      "text/plain": [
       "year        2.661342\n",
       "brand       2.165960\n",
       "color       1.281895\n",
       "model       2.165960\n",
       "category    0.000000\n",
       "id          0.000000\n",
       "dtype: float64"
      ]
     },
     "execution_count": 95,
     "metadata": {},
     "output_type": "execute_result"
    }
   ],
   "source": [
    "#Находим процент пропусков\n",
    "Mos_veh.isna().sum() / len(Mos_veh)*100"
   ]
  },
  {
   "cell_type": "markdown",
   "id": "fffd0aa5",
   "metadata": {},
   "source": [
    "Необходимо перевести формат столбца year из float64 в datetime. Также необходимо заменить пропуски на \"Unknown\"."
   ]
  },
  {
   "cell_type": "code",
   "execution_count": 96,
   "id": "a6408091",
   "metadata": {},
   "outputs": [],
   "source": [
    "#Заполняем пропуски\n",
    "Mos_veh['year'].fillna('Unknown', inplace = True)\n",
    "Mos_veh['brand'].fillna('Unknown', inplace = True)\n",
    "Mos_veh['color'].fillna('Unknown', inplace = True)\n",
    "Mos_veh['model'].fillna('Unknown', inplace = True)"
   ]
  },
  {
   "cell_type": "code",
   "execution_count": 97,
   "id": "8a52ce3d",
   "metadata": {},
   "outputs": [],
   "source": [
    "#Меняем тип данных столбца year\n",
    "Mos_veh['year']=pd.to_datetime(Mos_veh['year'], errors='coerce')"
   ]
  },
  {
   "cell_type": "code",
   "execution_count": 98,
   "id": "bc51fe22",
   "metadata": {},
   "outputs": [
    {
     "name": "stdout",
     "output_type": "stream",
     "text": [
      "<class 'pandas.core.frame.DataFrame'>\n",
      "RangeIndex: 65606 entries, 0 to 65605\n",
      "Data columns (total 6 columns):\n",
      " #   Column    Non-Null Count  Dtype         \n",
      "---  ------    --------------  -----         \n",
      " 0   year      63860 non-null  datetime64[ns]\n",
      " 1   brand     65606 non-null  object        \n",
      " 2   color     65606 non-null  object        \n",
      " 3   model     65606 non-null  object        \n",
      " 4   category  65606 non-null  object        \n",
      " 5   id        65606 non-null  int32         \n",
      "dtypes: datetime64[ns](1), int32(1), object(4)\n",
      "memory usage: 2.8+ MB\n"
     ]
    }
   ],
   "source": [
    "#Выводим информацию об обновленном датафрейме\n",
    "Mos_veh.info()"
   ]
  },
  {
   "cell_type": "code",
   "execution_count": 99,
   "id": "647e382d",
   "metadata": {},
   "outputs": [
    {
     "data": {
      "text/plain": [
       "706"
      ]
     },
     "execution_count": 99,
     "metadata": {},
     "output_type": "execute_result"
    }
   ],
   "source": [
    "#Поиск явных дубликатов\n",
    "Mos_veh.duplicated().sum()"
   ]
  },
  {
   "cell_type": "code",
   "execution_count": 100,
   "id": "7e57a06e",
   "metadata": {},
   "outputs": [
    {
     "data": {
      "text/plain": [
       "1.0761210864859923"
      ]
     },
     "execution_count": 100,
     "metadata": {},
     "output_type": "execute_result"
    }
   ],
   "source": [
    "#Находим процент явных дубликатов\n",
    "Mos_veh.duplicated().sum()/len(Mos_veh)*100"
   ]
  },
  {
   "cell_type": "code",
   "execution_count": 101,
   "id": "a129d4f4",
   "metadata": {},
   "outputs": [],
   "source": [
    "#Удалим явные дубликаты\n",
    "Mos_veh=Mos_veh.drop_duplicates()"
   ]
  },
  {
   "cell_type": "code",
   "execution_count": 102,
   "id": "a449d96f",
   "metadata": {},
   "outputs": [
    {
     "data": {
      "text/plain": [
       "ВАЗ           6921\n",
       "HYUNDAI       4702\n",
       "KIA           4206\n",
       "RENAULT       3096\n",
       "VOLKSWAGEN    3064\n",
       "              ... \n",
       "VERTEMATI        1\n",
       "PETERBILT        1\n",
       "SAMSUNG          1\n",
       "BENTLEY          1\n",
       "DAIMLER          1\n",
       "Name: brand, Length: 299, dtype: int64"
      ]
     },
     "execution_count": 102,
     "metadata": {},
     "output_type": "execute_result"
    }
   ],
   "source": [
    "#Поиск неявных дубликатов в столбце 'brand'\n",
    "Mos_veh['brand'].value_counts()"
   ]
  },
  {
   "cell_type": "code",
   "execution_count": 103,
   "id": "eee70059",
   "metadata": {},
   "outputs": [
    {
     "data": {
      "text/plain": [
       "Белый           14028\n",
       "Черный          11182\n",
       "Серый           10800\n",
       "Иные цвета       8103\n",
       "Синий            6485\n",
       "Красный          4277\n",
       "Зеленый          2526\n",
       "Желтый           2036\n",
       "Коричневый       1719\n",
       "Многоцветный      946\n",
       "Оранжевый         880\n",
       "Unknown           825\n",
       "Не заполнено      622\n",
       "Фиолетовый        471\n",
       "Name: color, dtype: int64"
      ]
     },
     "execution_count": 103,
     "metadata": {},
     "output_type": "execute_result"
    }
   ],
   "source": [
    "#Поиск неявных дубликатов в столбце 'color'\n",
    "Mos_veh['color'].value_counts()"
   ]
  },
  {
   "cell_type": "code",
   "execution_count": 104,
   "id": "95ce2957",
   "metadata": {},
   "outputs": [
    {
     "data": {
      "text/plain": [
       "В-класс (малый) до 3,9 м                                              22579\n",
       "С-класс (малый средний, компактный) до 4,3 м                           8262\n",
       "Прочие легковые автомобили                                             7269\n",
       "D-класс (средний) до 4,6 м                                             4171\n",
       "Седельные тягачи                                                       2997\n",
       "                                                                      ...  \n",
       "Двухярусные                                                               1\n",
       "Транспортные средства для обслуживания нефтяных и  газовых скважин        1\n",
       "Трициклы                                                                  1\n",
       "Специализированная снегоуборочная техника                                 1\n",
       "Спортивные (гоночные)                                                     1\n",
       "Name: category, Length: 82, dtype: int64"
      ]
     },
     "execution_count": 104,
     "metadata": {},
     "output_type": "execute_result"
    }
   ],
   "source": [
    "#Поиск неявных дубликатов в столбце 'category'\n",
    "Mos_veh['category'].value_counts()"
   ]
  },
  {
   "cell_type": "code",
   "execution_count": 105,
   "id": "af1ff2c6",
   "metadata": {},
   "outputs": [
    {
     "data": {
      "text/plain": [
       "26286"
      ]
     },
     "execution_count": 105,
     "metadata": {},
     "output_type": "execute_result"
    }
   ],
   "source": [
    "#Поиск явных дубликатов в столбце 'id'\n",
    "Mos_veh['id'].duplicated().sum()"
   ]
  },
  {
   "cell_type": "markdown",
   "id": "fe2f5376",
   "metadata": {},
   "source": [
    "В данном датафрейме явные дубликаты по столбцу 'id' не являются ошибкой, так как в данной таблице 'id' - это идентификатор ДТП."
   ]
  },
  {
   "cell_type": "code",
   "execution_count": 106,
   "id": "13c2d888",
   "metadata": {},
   "outputs": [
    {
     "name": "stdout",
     "output_type": "stream",
     "text": [
      "<class 'pandas.core.frame.DataFrame'>\n",
      "Int64Index: 64900 entries, 0 to 65605\n",
      "Data columns (total 6 columns):\n",
      " #   Column    Non-Null Count  Dtype         \n",
      "---  ------    --------------  -----         \n",
      " 0   year      63174 non-null  datetime64[ns]\n",
      " 1   brand     64900 non-null  object        \n",
      " 2   color     64900 non-null  object        \n",
      " 3   model     64900 non-null  object        \n",
      " 4   category  64900 non-null  object        \n",
      " 5   id        64900 non-null  int32         \n",
      "dtypes: datetime64[ns](1), int32(1), object(4)\n",
      "memory usage: 3.2+ MB\n"
     ]
    }
   ],
   "source": [
    "#Выводим информацию об обновленном датафрейме\n",
    "Mos_veh.info()"
   ]
  },
  {
   "cell_type": "markdown",
   "id": "d48fa278",
   "metadata": {},
   "source": [
    "### Вывод: \n",
    "\n",
    "При проведении предобработки данных были обнаружены и исправлены недочеты в типах данных, были переименованы некоторые столбцы для удобства дальнейшей работы. Такдже была проведена проверка на наличие пропусков и дубликатов (явных и неявных). Все обнаруженные пропуски в данных были заменены на значение \"Unknown\", все явные дубликаты удалены. Таким образом, данные скорректированы и подготовлены к дальнейшему анализу."
   ]
  },
  {
   "cell_type": "markdown",
   "id": "993f0a7d",
   "metadata": {},
   "source": [
    "# 2. Исследовательский анализ данных"
   ]
  },
  {
   "cell_type": "markdown",
   "id": "5ef55bb1",
   "metadata": {},
   "source": [
    "Найдем в какие дни недели и в какие месяца аварии случаются чаще всего."
   ]
  },
  {
   "cell_type": "code",
   "execution_count": 107,
   "id": "b65e556e",
   "metadata": {},
   "outputs": [],
   "source": [
    "#Объединяем 2 датасета Kir_obl и Mos_obl, чтоб посчитать общее кол-во ДТП в Московской и Кировской областях\n",
    "dtp_all=pd.concat([Kir_obl,Mos_obl], ignore_index=True) #перенумеровываем индексы заново"
   ]
  },
  {
   "cell_type": "code",
   "execution_count": 108,
   "id": "76873cd7",
   "metadata": {},
   "outputs": [
    {
     "name": "stdout",
     "output_type": "stream",
     "text": [
      "<class 'pandas.core.frame.DataFrame'>\n",
      "RangeIndex: 60135 entries, 0 to 60134\n",
      "Data columns (total 18 columns):\n",
      " #   Column                  Non-Null Count  Dtype         \n",
      "---  ------                  --------------  -----         \n",
      " 0   geometry_coordinates    60135 non-null  object        \n",
      " 1   id                      60135 non-null  int32         \n",
      " 2   tags                    60135 non-null  object        \n",
      " 3   light                   60135 non-null  object        \n",
      " 4   point_lat               60135 non-null  object        \n",
      " 5   point_long              60135 non-null  object        \n",
      " 6   nearby                  60135 non-null  object        \n",
      " 7   region                  60135 non-null  object        \n",
      " 8   scheme                  60135 non-null  object        \n",
      " 9   address                 60135 non-null  object        \n",
      " 10  weather                 60135 non-null  object        \n",
      " 11  category                60135 non-null  object        \n",
      " 12  datetime                60135 non-null  datetime64[ns]\n",
      " 13  injured_count           60135 non-null  int32         \n",
      " 14  parent_region           60135 non-null  object        \n",
      " 15  road_conditions         60135 non-null  object        \n",
      " 16  participants_count      60135 non-null  int32         \n",
      " 17  participant_categories  60135 non-null  object        \n",
      "dtypes: datetime64[ns](1), int32(3), object(14)\n",
      "memory usage: 7.6+ MB\n"
     ]
    }
   ],
   "source": [
    "#Выводим информацию о датафрейме\n",
    "dtp_all.info()"
   ]
  },
  {
   "cell_type": "code",
   "execution_count": 109,
   "id": "f3ef1c61",
   "metadata": {},
   "outputs": [],
   "source": [
    "#Выводим день недели ДТП\n",
    "dtp_all['weekday_name']=dtp_all['datetime'].dt.day_name()"
   ]
  },
  {
   "cell_type": "code",
   "execution_count": 110,
   "id": "5d4c014f",
   "metadata": {},
   "outputs": [],
   "source": [
    "#Задаем порядок \n",
    "weekday_order = [\"Monday\", \"Tuesday\", \"Wednesday\", \n",
    "                 \"Thursday\", \"Friday\", \"Saturday\", \"Sunday\"]"
   ]
  },
  {
   "cell_type": "code",
   "execution_count": 111,
   "id": "3cf20e68",
   "metadata": {},
   "outputs": [
    {
     "data": {
      "text/plain": [
       "Monday       8400\n",
       "Tuesday      8144\n",
       "Wednesday    8041\n",
       "Thursday     8279\n",
       "Friday       9368\n",
       "Saturday     9531\n",
       "Sunday       8372\n",
       "Name: weekday_name, dtype: int64"
      ]
     },
     "metadata": {},
     "output_type": "display_data"
    }
   ],
   "source": [
    "#Считаем кол-во ДТП по дням недели\n",
    "dtp_by_weekday = dtp_all['weekday_name'].value_counts().reindex(weekday_order)\n",
    "display(dtp_by_weekday)"
   ]
  },
  {
   "cell_type": "code",
   "execution_count": 112,
   "id": "c8801851",
   "metadata": {},
   "outputs": [
    {
     "data": {
      "text/plain": [
       "<AxesSubplot:title={'center':'Кол-во ДТП по дням недели'}>"
      ]
     },
     "execution_count": 112,
     "metadata": {},
     "output_type": "execute_result"
    },
    {
     "data": {
      "image/png": "[encoded data removed]",
      "text/plain": [
       "<Figure size 1080x360 with 1 Axes>"
      ]
     },
     "metadata": {
      "needs_background": "light"
     },
     "output_type": "display_data"
    }
   ],
   "source": [
    "#Отобразим результат на графике\n",
    "dtp_by_weekday.plot(\n",
    "kind='bar',\n",
    "title='Кол-во ДТП по дням недели',\n",
    "color='violet',\n",
    "figsize=(15,5))"
   ]
  },
  {
   "cell_type": "code",
   "execution_count": 113,
   "id": "3d9cd5b0",
   "metadata": {},
   "outputs": [],
   "source": [
    "#Выводим месяц ДТП\n",
    "dtp_all['month_name']=dtp_all['datetime'].dt.month_name()"
   ]
  },
  {
   "cell_type": "code",
   "execution_count": 114,
   "id": "14e898c7",
   "metadata": {},
   "outputs": [],
   "source": [
    "#Задаем порядок\n",
    "month_order = [\"January\", \"February\", \"March\", \n",
    "                 \"April\", \"May\", \"June\", \"July\",\"August\",\"September\",\"October\",\"November\",\"December\"]"
   ]
  },
  {
   "cell_type": "code",
   "execution_count": 115,
   "id": "222d48e7",
   "metadata": {},
   "outputs": [
    {
     "data": {
      "text/plain": [
       "January      4323\n",
       "February     3552\n",
       "March        3679\n",
       "April        4047\n",
       "May          5181\n",
       "June         5775\n",
       "July         6036\n",
       "August       6441\n",
       "September    5941\n",
       "October      5446\n",
       "November     4818\n",
       "December     4896\n",
       "Name: month_name, dtype: int64"
      ]
     },
     "metadata": {},
     "output_type": "display_data"
    }
   ],
   "source": [
    "#Считаем кол-во аварий по месяцам\n",
    "dtp_by_month = dtp_all['month_name'].value_counts().reindex(month_order)\n",
    "display(dtp_by_month)"
   ]
  },
  {
   "cell_type": "code",
   "execution_count": 116,
   "id": "fbaa0768",
   "metadata": {},
   "outputs": [
    {
     "data": {
      "text/plain": [
       "<AxesSubplot:title={'center':'Кол-во ДТП по месяцам'}>"
      ]
     },
     "execution_count": 116,
     "metadata": {},
     "output_type": "execute_result"
    },
    {
     "data": {
      "image/png": "[encoded data removed]",
      "text/plain": [
       "<Figure size 1080x360 with 1 Axes>"
      ]
     },
     "metadata": {
      "needs_background": "light"
     },
     "output_type": "display_data"
    }
   ],
   "source": [
    "#Рисуем график\n",
    "dtp_by_month.plot(\n",
    "kind='bar',\n",
    "color='violet',\n",
    "figsize=(15,5),\n",
    "title='Кол-во ДТП по месяцам')"
   ]
  },
  {
   "cell_type": "markdown",
   "id": "8e2f2b17",
   "metadata": {},
   "source": [
    "Таким образом, большинство ДТП по статистике происходит в Августе и Июле.По дням недели лидеры по количесву ДТП - Пятница и Суббота. Меньше всего аварий происходит в Феврале и Марте, также меньше всего аварий за неделю случается во Вторник и Среду."
   ]
  },
  {
   "cell_type": "markdown",
   "id": "0ce45dd6",
   "metadata": {},
   "source": [
    "Теперь необходимо выделить категории водителей по стажу. Для начала объединим 2 датафрейма с данными о стаже."
   ]
  },
  {
   "cell_type": "code",
   "execution_count": 117,
   "id": "25542ddd",
   "metadata": {},
   "outputs": [],
   "source": [
    "#Объединяем данные по категориям\n",
    "par_all = pd.concat([Kir_par,Mos_par],ignore_index=True)"
   ]
  },
  {
   "cell_type": "code",
   "execution_count": 118,
   "id": "3362d80e",
   "metadata": {},
   "outputs": [
    {
     "name": "stdout",
     "output_type": "stream",
     "text": [
      "<class 'pandas.core.frame.DataFrame'>\n",
      "RangeIndex: 81257 entries, 0 to 81256\n",
      "Data columns (total 6 columns):\n",
      " #   Column                       Non-Null Count  Dtype \n",
      "---  ------                       --------------  ----- \n",
      " 0   role                         81257 non-null  object\n",
      " 1   gender                       81257 non-null  object\n",
      " 2   violations                   81257 non-null  object\n",
      " 3   health_status                81257 non-null  object\n",
      " 4   years_of_driving_experience  81257 non-null  object\n",
      " 5   id                           81257 non-null  int32 \n",
      "dtypes: int32(1), object(5)\n",
      "memory usage: 3.4+ MB\n"
     ]
    }
   ],
   "source": [
    "#Выводим информацию о датафрейме\n",
    "par_all.info()"
   ]
  },
  {
   "cell_type": "code",
   "execution_count": 119,
   "id": "0fdd2617",
   "metadata": {},
   "outputs": [
    {
     "data": {
      "text/plain": [
       "array([26.0, 34.0, 'Unknown', 27.0, 5.0, 3.0, 7.0, 19.0, 2.0, 15.0, 29.0,\n",
       "       12.0, 39.0, 23.0, 13.0, 1.0, 24.0, 25.0, 35.0, 6.0, 11.0, 21.0,\n",
       "       16.0, 31.0, 4.0, 30.0, 20.0, 43.0, 9.0, 10.0, 37.0, 28.0, 22.0,\n",
       "       36.0, 38.0, 33.0, 8.0, 49.0, 41.0, 40.0, 18.0, 14.0, 32.0, 42.0,\n",
       "       17.0, 57.0, 46.0, 58.0, 45.0, 44.0, 62.0, 47.0, 52.0, 48.0, 53.0,\n",
       "       50.0, 51.0, 59.0, 54.0, 55.0, 60.0, 61.0, 56.0, 66.0, 64.0, 63.0,\n",
       "       65.0, 69.0, 67.0], dtype=object)"
      ]
     },
     "execution_count": 119,
     "metadata": {},
     "output_type": "execute_result"
    }
   ],
   "source": [
    "#Выведем все категории стажа, которые присутствуют\n",
    "par_all['years_of_driving_experience'].unique()"
   ]
  },
  {
   "cell_type": "markdown",
   "id": "da673c99",
   "metadata": {},
   "source": [
    "Для разбивки на категории выберем период - 10 лет. \n"
   ]
  },
  {
   "cell_type": "code",
   "execution_count": 120,
   "id": "8d851734",
   "metadata": {},
   "outputs": [],
   "source": [
    "#Приводим данные в нужный формат, чтоб разбить на категории\n",
    "par_all['years_of_driving_experience'] = pd.to_numeric(\n",
    "    par_all['years_of_driving_experience'], errors='coerce'\n",
    ")"
   ]
  },
  {
   "cell_type": "code",
   "execution_count": 121,
   "id": "1e542415",
   "metadata": {},
   "outputs": [],
   "source": [
    "#Разбиваем данные на категории\n",
    "bins=[0,10,20,30,40,50,60,70]\n",
    "par_all['exp_category']=pd.cut(par_all['years_of_driving_experience'],\n",
    "                              bins=bins,\n",
    "                              right=True)"
   ]
  },
  {
   "cell_type": "code",
   "execution_count": 122,
   "id": "3c04bd2a",
   "metadata": {},
   "outputs": [
    {
     "data": {
      "text/plain": [
       "(0, 10]     18428\n",
       "(10, 20]    14577\n",
       "(20, 30]     7754\n",
       "(30, 40]     3857\n",
       "(40, 50]     1363\n",
       "(50, 60]      282\n",
       "(60, 70]       34\n",
       "Name: exp_category, dtype: int64"
      ]
     },
     "metadata": {},
     "output_type": "display_data"
    }
   ],
   "source": [
    "#Считаем кол-во ДТП по категориям\n",
    "exp_cat_count = par_all['exp_category'].value_counts()\n",
    "display(exp_cat_count)"
   ]
  },
  {
   "cell_type": "code",
   "execution_count": 123,
   "id": "08b1a077",
   "metadata": {},
   "outputs": [
    {
     "data": {
      "text/plain": [
       "<AxesSubplot:title={'center':'Количество ДТП в зависимости от стажа водителя'}>"
      ]
     },
     "execution_count": 123,
     "metadata": {},
     "output_type": "execute_result"
    },
    {
     "data": {
      "image/png": "[encoded data removed]",
      "text/plain": [
       "<Figure size 1080x360 with 1 Axes>"
      ]
     },
     "metadata": {
      "needs_background": "light"
     },
     "output_type": "display_data"
    }
   ],
   "source": [
    "#Рисуем график\n",
    "exp_cat_count.plot(\n",
    "kind='bar',\n",
    "color='violet',\n",
    "title = 'Количество ДТП в зависимости от стажа водителя',\n",
    "figsize=(15,5))"
   ]
  },
  {
   "cell_type": "markdown",
   "id": "945afa66",
   "metadata": {},
   "source": [
    "Из графика видно, что большинсто ДТП совершается с участниками движения, стаж которых от 0 до 10 лет и выше, то есть - с неопытными водителями. Стоит также учесть, что у нас нет сведений о том, сколько водителей в каждой категории. Также в этом столбце были обнаружены пропуски, т.е. есть участники, которые не попали ни в одну категорию, потому что их стаж неизвестен."
   ]
  },
  {
   "cell_type": "markdown",
   "id": "74224288",
   "metadata": {},
   "source": [
    "Теперь проанализируем, как менялось число аварий по годам в Кировской и Московской областях. При этом включим город Киров в соответствующую область, а Москву исключим. Также определим, в какой области больше аварий в относительном выражении — в пересчёте на 100 тысяч жителей."
   ]
  },
  {
   "cell_type": "code",
   "execution_count": 124,
   "id": "a1f62aef",
   "metadata": {},
   "outputs": [],
   "source": [
    "#Создаем столбец с годом ДТП\n",
    "dtp_all['year']=dtp_all['datetime'].dt.year"
   ]
  },
  {
   "attachments": {
    "image.png": {
     "image/png": "[encoded data removed]"
    }
   },
   "cell_type": "markdown",
   "id": "2a5eff34",
   "metadata": {},
   "source": [
    "Численность населения Кировской области (данные из Википедии)\n",
    "![image.png](attachment:image.png)"
   ]
  },
  {
   "attachments": {
    "image.png": {
     "image/png": "[encoded data removed]"
    }
   },
   "cell_type": "markdown",
   "id": "8d715635",
   "metadata": {},
   "source": [
    "Численность населения Московской области (данные из Википедии)\n",
    "![image.png](attachment:image.png)"
   ]
  },
  {
   "cell_type": "code",
   "execution_count": 125,
   "id": "dbcc9aad",
   "metadata": {},
   "outputs": [
    {
     "data": {
      "text/html": [
       "<div>\n",
       "<style scoped>\n",
       "    .dataframe tbody tr th:only-of-type {\n",
       "        vertical-align: middle;\n",
       "    }\n",
       "\n",
       "    .dataframe tbody tr th {\n",
       "        vertical-align: top;\n",
       "    }\n",
       "\n",
       "    .dataframe thead th {\n",
       "        text-align: right;\n",
       "    }\n",
       "</style>\n",
       "<table border=\"1\" class=\"dataframe\">\n",
       "  <thead>\n",
       "    <tr style=\"text-align: right;\">\n",
       "      <th></th>\n",
       "      <th>year</th>\n",
       "      <th>count</th>\n",
       "      <th>population</th>\n",
       "      <th>dtp_on_100k</th>\n",
       "    </tr>\n",
       "  </thead>\n",
       "  <tbody>\n",
       "    <tr>\n",
       "      <th>0</th>\n",
       "      <td>2015</td>\n",
       "      <td>8175</td>\n",
       "      <td>85</td>\n",
       "      <td>96.18</td>\n",
       "    </tr>\n",
       "    <tr>\n",
       "      <th>1</th>\n",
       "      <td>2016</td>\n",
       "      <td>7262</td>\n",
       "      <td>86</td>\n",
       "      <td>84.44</td>\n",
       "    </tr>\n",
       "    <tr>\n",
       "      <th>2</th>\n",
       "      <td>2017</td>\n",
       "      <td>7199</td>\n",
       "      <td>87</td>\n",
       "      <td>82.75</td>\n",
       "    </tr>\n",
       "    <tr>\n",
       "      <th>3</th>\n",
       "      <td>2018</td>\n",
       "      <td>6714</td>\n",
       "      <td>88</td>\n",
       "      <td>76.30</td>\n",
       "    </tr>\n",
       "    <tr>\n",
       "      <th>4</th>\n",
       "      <td>2019</td>\n",
       "      <td>6679</td>\n",
       "      <td>89</td>\n",
       "      <td>75.04</td>\n",
       "    </tr>\n",
       "    <tr>\n",
       "      <th>5</th>\n",
       "      <td>2020</td>\n",
       "      <td>5714</td>\n",
       "      <td>90</td>\n",
       "      <td>63.49</td>\n",
       "    </tr>\n",
       "    <tr>\n",
       "      <th>6</th>\n",
       "      <td>2021</td>\n",
       "      <td>5422</td>\n",
       "      <td>96</td>\n",
       "      <td>56.48</td>\n",
       "    </tr>\n",
       "    <tr>\n",
       "      <th>7</th>\n",
       "      <td>2022</td>\n",
       "      <td>4739</td>\n",
       "      <td>96</td>\n",
       "      <td>49.36</td>\n",
       "    </tr>\n",
       "    <tr>\n",
       "      <th>8</th>\n",
       "      <td>2023</td>\n",
       "      <td>4858</td>\n",
       "      <td>97</td>\n",
       "      <td>50.08</td>\n",
       "    </tr>\n",
       "    <tr>\n",
       "      <th>9</th>\n",
       "      <td>2024</td>\n",
       "      <td>3373</td>\n",
       "      <td>97</td>\n",
       "      <td>34.77</td>\n",
       "    </tr>\n",
       "  </tbody>\n",
       "</table>\n",
       "</div>"
      ],
      "text/plain": [
       "   year  count  population  dtp_on_100k\n",
       "0  2015   8175          85        96.18\n",
       "1  2016   7262          86        84.44\n",
       "2  2017   7199          87        82.75\n",
       "3  2018   6714          88        76.30\n",
       "4  2019   6679          89        75.04\n",
       "5  2020   5714          90        63.49\n",
       "6  2021   5422          96        56.48\n",
       "7  2022   4739          96        49.36\n",
       "8  2023   4858          97        50.08\n",
       "9  2024   3373          97        34.77"
      ]
     },
     "execution_count": 125,
     "metadata": {},
     "output_type": "execute_result"
    }
   ],
   "source": [
    "# считаем количество ДТП по годам\n",
    "dtp_counts = dtp_all['year'].value_counts().sort_index()\n",
    "\n",
    "# превращаем в датафрейм\n",
    "dtp_on_years = dtp_counts.to_frame(name=\"count\").reset_index()\n",
    "dtp_on_years.rename(columns={\"index\": \"year\"}, inplace=True)\n",
    "\n",
    "# добавляем население\n",
    "dtp_on_years['population'] = [85, 86, 87, 88, 89, 90, 96, 96, 97, 97]\n",
    "\n",
    "# считаем показатель ДТП на 100тыс человек\n",
    "dtp_on_years['dtp_on_100k'] = round(\n",
    "    dtp_on_years['count'] / dtp_on_years['population'], 2\n",
    ")\n",
    "\n",
    "dtp_on_years"
   ]
  },
  {
   "cell_type": "markdown",
   "id": "a7e6c7db",
   "metadata": {},
   "source": [
    "Таким образом, количество аварий на 100 тысяч жителей снижается в Кировской и Московской областях."
   ]
  },
  {
   "cell_type": "markdown",
   "id": "0e225c32",
   "metadata": {},
   "source": [
    "# Выводы и рекомендации заказчику"
   ]
  },
  {
   "cell_type": "markdown",
   "id": "0dc2447e",
   "metadata": {},
   "source": [
    "#### Рекомендации заказчику:\n",
    "\n",
    "* Использовать названия столбцов без 'properties_', это удлинняет названия.\n",
    "* Выяснить причины, почему некоторые адреса не заполнены. Если этот столбец важен, сделать его заполнение обязательным.\n",
    "* Дубликатов не обнаружено, идентификаторы аварий уникальны.\n",
    "* Форматы данных неоптимальны, можно использовать типы данных, которые занимают меньше места для экономии.  \n",
    "\n",
    "#### Выводы:\n",
    "\n",
    "* Аварий в летние месяцы больше. По дням недели есть тенденция большего числа ДТП на выходных.\n",
    "* По имеющимся данным, с ростом стажа аварий становится меньше, но важно также учитывать, сколько водителей в каждой категории по стажу."
   ]
  }
 ],
 "metadata": {
  "kernelspec": {
   "display_name": "Python 3 (ipykernel)",
   "language": "python",
   "name": "python3"
  },
  "language_info": {
   "codemirror_mode": {
    "name": "ipython",
    "version": 3
   },
   "file_extension": ".py",
   "mimetype": "text/x-python",
   "name": "python",
   "nbconvert_exporter": "python",
   "pygments_lexer": "ipython3",
   "version": "3.9.7"
  }
 },
 "nbformat": 4,
 "nbformat_minor": 5
}
