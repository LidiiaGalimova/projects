{
 "cells": [
  {
   "cell_type": "markdown",
   "id": "9b70727f",
   "metadata": {},
   "source": [
    "# Исследование ДТП в Кировской области"
   ]
  },
  {
   "cell_type": "markdown",
   "id": "6d520d3a",
   "metadata": {},
   "source": [
    "Автор: Галимова Лидия\n",
    "\n",
    "Дата: 15.10.2025"
   ]
  },
  {
   "cell_type": "markdown",
   "id": "af941e47",
   "metadata": {},
   "source": [
    "#### Цели и задачи:\n",
    "\n",
    "##### Цель: \n",
    "* Проанализировать качество данных, провести исследование данных и изучить взаимосвязи по запросу заказчика (например, с чем может быть связана аварийность на дорогах).\n",
    "\n",
    "##### Задачи: \n",
    "* Проверить данные на дубликаты и пропуски\n",
    "* Проверить корректность типов данных и названий столбцов\n",
    "* Провести исследование данных"
   ]
  },
  {
   "cell_type": "markdown",
   "id": "59697140",
   "metadata": {},
   "source": [
    "#### Описание данных:\n",
    "\n",
    "##### Датасет Kirovskaya_oblast.csv содержит информацию о ДТП:\n",
    "* geometry.coordinates — координаты ДТП;\n",
    "* id — идентификатор ДТП;\n",
    "* properties.tags — тег происшествия;\n",
    "* properties.light — освещённость;\n",
    "* properties.point.lat — широта;\n",
    "* properties.point.long — долгота;\n",
    "* properties.nearby — ближайшие объекты;\n",
    "* properties.region — регион;\n",
    "* properties.scheme — схема ДТП;\n",
    "* properties.address — ближайший адрес;\n",
    "* properties.weather — погода;\n",
    "* properties.category — категория ДТП;\n",
    "* properties.datetime — дата и время ДТП;\n",
    "* properties.injured_count — число пострадавших;\n",
    "* properties.parent_region — область;\n",
    "* properties.road_conditions — состояние покрытия;\n",
    "* properties.participants_count — число участников;\n",
    "* properties.participant_categories — категории участников.\n",
    "\n",
    "##### Датасет Kirovskaya_oblast_participiants.csv хранит сведения об участниках ДТП:\n",
    "* role — роль;\n",
    "* gender — пол;\n",
    "* violations — какие правила дорожного движения были нарушены конкретным участником;\n",
    "* health_status — состояние здоровья после ДТП;\n",
    "* years_of_driving_experience — число лет опыта;\n",
    "* id — идентификатор ДТП."
   ]
  },
  {
   "cell_type": "markdown",
   "id": "54db05b0",
   "metadata": {},
   "source": [
    "# 1.Предобработка данных"
   ]
  },
  {
   "cell_type": "code",
   "execution_count": 52,
   "id": "3775031e",
   "metadata": {},
   "outputs": [],
   "source": [
    "#загружаем необходимые библиотеки\n",
    "import pandas as pd \n",
    "import matplotlib.pyplot as plt\n",
    "import seaborn as sns\n",
    "from scipy.stats import chi2_contingency\n",
    "import numpy as np"
   ]
  },
  {
   "cell_type": "code",
   "execution_count": 2,
   "id": "0d5ca14d",
   "metadata": {},
   "outputs": [],
   "source": [
    "#выгружаем данные \n",
    "Kir_obl = pd.read_csv('https://code.s3.yandex.net/datasets/Kirovskaya_oblast.csv')\n",
    "Kir_par = pd.read_csv('https://code.s3.yandex.net/datasets/Kirovskaya_oblast_participiants.csv')"
   ]
  },
  {
   "cell_type": "markdown",
   "id": "87d359f5",
   "metadata": {},
   "source": [
    "#### Предобработка датасета Kir_obl"
   ]
  },
  {
   "cell_type": "code",
   "execution_count": 3,
   "id": "93be2cbc",
   "metadata": {},
   "outputs": [
    {
     "data": {
      "text/html": [
       "<div>\n",
       "<style scoped>\n",
       "    .dataframe tbody tr th:only-of-type {\n",
       "        vertical-align: middle;\n",
       "    }\n",
       "\n",
       "    .dataframe tbody tr th {\n",
       "        vertical-align: top;\n",
       "    }\n",
       "\n",
       "    .dataframe thead th {\n",
       "        text-align: right;\n",
       "    }\n",
       "</style>\n",
       "<table border=\"1\" class=\"dataframe\">\n",
       "  <thead>\n",
       "    <tr style=\"text-align: right;\">\n",
       "      <th></th>\n",
       "      <th>geometry.coordinates</th>\n",
       "      <th>id</th>\n",
       "      <th>properties.tags</th>\n",
       "      <th>properties.light</th>\n",
       "      <th>properties.point.lat</th>\n",
       "      <th>properties.point.long</th>\n",
       "      <th>properties.nearby</th>\n",
       "      <th>properties.region</th>\n",
       "      <th>properties.scheme</th>\n",
       "      <th>properties.address</th>\n",
       "      <th>properties.weather</th>\n",
       "      <th>properties.category</th>\n",
       "      <th>properties.datetime</th>\n",
       "      <th>properties.injured_count</th>\n",
       "      <th>properties.parent_region</th>\n",
       "      <th>properties.road_conditions</th>\n",
       "      <th>properties.participants_count</th>\n",
       "      <th>properties.participant_categories</th>\n",
       "    </tr>\n",
       "  </thead>\n",
       "  <tbody>\n",
       "    <tr>\n",
       "      <th>0</th>\n",
       "      <td>[47.875603, 57.24379]</td>\n",
       "      <td>1983180</td>\n",
       "      <td>Дорожно-транспортные происшествия</td>\n",
       "      <td>Светлое время суток</td>\n",
       "      <td>57.243790</td>\n",
       "      <td>47.875603</td>\n",
       "      <td>[]</td>\n",
       "      <td>Яранский район</td>\n",
       "      <td>600.0</td>\n",
       "      <td>Р-176 Вятка Чебоксары - Йошкар-Ола - Киров - С...</td>\n",
       "      <td>['Дождь']</td>\n",
       "      <td>Опрокидывание</td>\n",
       "      <td>2017-07-01 18:00:00</td>\n",
       "      <td>1</td>\n",
       "      <td>Кировская область</td>\n",
       "      <td>['Мокрое']</td>\n",
       "      <td>3</td>\n",
       "      <td>['Все участники']</td>\n",
       "    </tr>\n",
       "    <tr>\n",
       "      <th>1</th>\n",
       "      <td>[47.87903, 57.304807]</td>\n",
       "      <td>2889433</td>\n",
       "      <td>Дорожно-транспортные происшествия</td>\n",
       "      <td>Светлое время суток</td>\n",
       "      <td>57.304807</td>\n",
       "      <td>47.879030</td>\n",
       "      <td>['Административные здания', 'Нерегулируемый пе...</td>\n",
       "      <td>Яранский район</td>\n",
       "      <td>710.0</td>\n",
       "      <td>г Яранск, ул Кирова, 10</td>\n",
       "      <td>['Ясно']</td>\n",
       "      <td>Наезд на пешехода</td>\n",
       "      <td>2023-09-12 17:10:00</td>\n",
       "      <td>1</td>\n",
       "      <td>Кировская область</td>\n",
       "      <td>['Сухое', 'Отсутствие, плохая различимость гор...</td>\n",
       "      <td>2</td>\n",
       "      <td>['Все участники', 'Пешеходы']</td>\n",
       "    </tr>\n",
       "    <tr>\n",
       "      <th>2</th>\n",
       "      <td>[47.840781, 57.297156]</td>\n",
       "      <td>2591208</td>\n",
       "      <td>Дорожно-транспортные происшествия</td>\n",
       "      <td>Сумерки</td>\n",
       "      <td>57.297156</td>\n",
       "      <td>47.840781</td>\n",
       "      <td>['Жилые дома индивидуальной застройки', 'Нерег...</td>\n",
       "      <td>Яранский район</td>\n",
       "      <td>NaN</td>\n",
       "      <td>г Яранск, ул Чапаева, 80</td>\n",
       "      <td>['Пасмурно']</td>\n",
       "      <td>Съезд с дороги</td>\n",
       "      <td>2021-07-02 21:25:00</td>\n",
       "      <td>1</td>\n",
       "      <td>Кировская область</td>\n",
       "      <td>['Мокрое']</td>\n",
       "      <td>1</td>\n",
       "      <td>['Все участники']</td>\n",
       "    </tr>\n",
       "    <tr>\n",
       "      <th>3</th>\n",
       "      <td>[47.834365, 57.244775]</td>\n",
       "      <td>2577639</td>\n",
       "      <td>Дорожно-транспортные происшествия</td>\n",
       "      <td>Светлое время суток</td>\n",
       "      <td>57.244775</td>\n",
       "      <td>47.834365</td>\n",
       "      <td>['Жилые дома индивидуальной застройки']</td>\n",
       "      <td>Яранский район</td>\n",
       "      <td>200.0</td>\n",
       "      <td>м Знаменка, ул Кирова, 15</td>\n",
       "      <td>['Пасмурно']</td>\n",
       "      <td>Столкновение</td>\n",
       "      <td>2021-05-31 18:55:00</td>\n",
       "      <td>1</td>\n",
       "      <td>Кировская область</td>\n",
       "      <td>['Сухое']</td>\n",
       "      <td>2</td>\n",
       "      <td>['Все участники', 'Мотоциклисты']</td>\n",
       "    </tr>\n",
       "    <tr>\n",
       "      <th>4</th>\n",
       "      <td>[47.968197, 57.357738]</td>\n",
       "      <td>1981026</td>\n",
       "      <td>Дорожно-транспортные происшествия</td>\n",
       "      <td>Светлое время суток</td>\n",
       "      <td>57.357738</td>\n",
       "      <td>47.968197</td>\n",
       "      <td>['Нерегулируемый перекрёсток неравнозначных ул...</td>\n",
       "      <td>Яранский район</td>\n",
       "      <td>NaN</td>\n",
       "      <td>с/п Никольское, Киров-Советск- Яранск - подъез...</td>\n",
       "      <td>['Ясно']</td>\n",
       "      <td>Опрокидывание</td>\n",
       "      <td>2018-05-16 16:25:00</td>\n",
       "      <td>2</td>\n",
       "      <td>Кировская область</td>\n",
       "      <td>['Сухое', 'Отсутствие, плохая различимость гор...</td>\n",
       "      <td>2</td>\n",
       "      <td>['Все участники']</td>\n",
       "    </tr>\n",
       "  </tbody>\n",
       "</table>\n",
       "</div>"
      ],
      "text/plain": [
       "     geometry.coordinates       id                    properties.tags  \\\n",
       "0   [47.875603, 57.24379]  1983180  Дорожно-транспортные происшествия   \n",
       "1   [47.87903, 57.304807]  2889433  Дорожно-транспортные происшествия   \n",
       "2  [47.840781, 57.297156]  2591208  Дорожно-транспортные происшествия   \n",
       "3  [47.834365, 57.244775]  2577639  Дорожно-транспортные происшествия   \n",
       "4  [47.968197, 57.357738]  1981026  Дорожно-транспортные происшествия   \n",
       "\n",
       "      properties.light  properties.point.lat  properties.point.long  \\\n",
       "0  Светлое время суток             57.243790              47.875603   \n",
       "1  Светлое время суток             57.304807              47.879030   \n",
       "2              Сумерки             57.297156              47.840781   \n",
       "3  Светлое время суток             57.244775              47.834365   \n",
       "4  Светлое время суток             57.357738              47.968197   \n",
       "\n",
       "                                   properties.nearby properties.region  \\\n",
       "0                                                 []    Яранский район   \n",
       "1  ['Административные здания', 'Нерегулируемый пе...    Яранский район   \n",
       "2  ['Жилые дома индивидуальной застройки', 'Нерег...    Яранский район   \n",
       "3            ['Жилые дома индивидуальной застройки']    Яранский район   \n",
       "4  ['Нерегулируемый перекрёсток неравнозначных ул...    Яранский район   \n",
       "\n",
       "   properties.scheme                                 properties.address  \\\n",
       "0              600.0  Р-176 Вятка Чебоксары - Йошкар-Ола - Киров - С...   \n",
       "1              710.0                            г Яранск, ул Кирова, 10   \n",
       "2                NaN                           г Яранск, ул Чапаева, 80   \n",
       "3              200.0                          м Знаменка, ул Кирова, 15   \n",
       "4                NaN  с/п Никольское, Киров-Советск- Яранск - подъез...   \n",
       "\n",
       "  properties.weather properties.category  properties.datetime  \\\n",
       "0          ['Дождь']       Опрокидывание  2017-07-01 18:00:00   \n",
       "1           ['Ясно']   Наезд на пешехода  2023-09-12 17:10:00   \n",
       "2       ['Пасмурно']      Съезд с дороги  2021-07-02 21:25:00   \n",
       "3       ['Пасмурно']        Столкновение  2021-05-31 18:55:00   \n",
       "4           ['Ясно']       Опрокидывание  2018-05-16 16:25:00   \n",
       "\n",
       "   properties.injured_count properties.parent_region  \\\n",
       "0                         1        Кировская область   \n",
       "1                         1        Кировская область   \n",
       "2                         1        Кировская область   \n",
       "3                         1        Кировская область   \n",
       "4                         2        Кировская область   \n",
       "\n",
       "                          properties.road_conditions  \\\n",
       "0                                         ['Мокрое']   \n",
       "1  ['Сухое', 'Отсутствие, плохая различимость гор...   \n",
       "2                                         ['Мокрое']   \n",
       "3                                          ['Сухое']   \n",
       "4  ['Сухое', 'Отсутствие, плохая различимость гор...   \n",
       "\n",
       "   properties.participants_count  properties.participant_categories  \n",
       "0                              3                  ['Все участники']  \n",
       "1                              2      ['Все участники', 'Пешеходы']  \n",
       "2                              1                  ['Все участники']  \n",
       "3                              2  ['Все участники', 'Мотоциклисты']  \n",
       "4                              2                  ['Все участники']  "
      ]
     },
     "execution_count": 3,
     "metadata": {},
     "output_type": "execute_result"
    }
   ],
   "source": [
    "#проверяем данные Kir_obl (первые 5 строк)\n",
    "Kir_obl.head()"
   ]
  },
  {
   "cell_type": "code",
   "execution_count": 4,
   "id": "eb2d4427",
   "metadata": {},
   "outputs": [
    {
     "name": "stdout",
     "output_type": "stream",
     "text": [
      "<class 'pandas.core.frame.DataFrame'>\n",
      "RangeIndex: 14517 entries, 0 to 14516\n",
      "Data columns (total 18 columns):\n",
      " #   Column                             Non-Null Count  Dtype  \n",
      "---  ------                             --------------  -----  \n",
      " 0   geometry.coordinates               14517 non-null  object \n",
      " 1   id                                 14517 non-null  int64  \n",
      " 2   properties.tags                    14517 non-null  object \n",
      " 3   properties.light                   14517 non-null  object \n",
      " 4   properties.point.lat               14485 non-null  float64\n",
      " 5   properties.point.long              14485 non-null  float64\n",
      " 6   properties.nearby                  14517 non-null  object \n",
      " 7   properties.region                  14517 non-null  object \n",
      " 8   properties.scheme                  13380 non-null  float64\n",
      " 9   properties.address                 13843 non-null  object \n",
      " 10  properties.weather                 14517 non-null  object \n",
      " 11  properties.category                14517 non-null  object \n",
      " 12  properties.datetime                14517 non-null  object \n",
      " 13  properties.injured_count           14517 non-null  int64  \n",
      " 14  properties.parent_region           14517 non-null  object \n",
      " 15  properties.road_conditions         14517 non-null  object \n",
      " 16  properties.participants_count      14517 non-null  int64  \n",
      " 17  properties.participant_categories  14517 non-null  object \n",
      "dtypes: float64(3), int64(3), object(12)\n",
      "memory usage: 2.0+ MB\n"
     ]
    }
   ],
   "source": [
    "#выводим информацию о датасете Kir_obl\n",
    "Kir_obl.info()"
   ]
  },
  {
   "cell_type": "markdown",
   "id": "1b22a780",
   "metadata": {},
   "source": [
    "Необходимо заменить названия столбцов на наиболее подходящие для работы. Наблюдается наличие пропусков в столбцах properties.point.lat,properties.point.long,properties.scheme,properties.address, но по условиям задания пропуски не критичны и не влияют на результат корреляций. Также необходимо заменить тип данных в столбце properties.datetime."
   ]
  },
  {
   "cell_type": "code",
   "execution_count": 5,
   "id": "cf4af5c6",
   "metadata": {},
   "outputs": [],
   "source": [
    "#Меняем названия столбцов\n",
    "Kir_obl.columns=[col.lower().replace('.','_').replace('properties_','') for col in Kir_obl.columns]"
   ]
  },
  {
   "cell_type": "code",
   "execution_count": 6,
   "id": "dfd92812",
   "metadata": {},
   "outputs": [],
   "source": [
    "#Меняем тип данных на datetime\n",
    "Kir_obl['datetime']=pd.to_datetime(Kir_obl['datetime'])"
   ]
  },
  {
   "cell_type": "code",
   "execution_count": 7,
   "id": "dc5b685b",
   "metadata": {},
   "outputs": [],
   "source": [
    "#Меняем тип данных для экономии памяти\n",
    "Kir_obl['id']=pd.to_numeric(Kir_obl['id'],downcast='integer')# выбирает автоматически нужный формат\n",
    "Kir_obl['injured_count']=pd.to_numeric(Kir_obl['injured_count'],downcast='integer')\n",
    "Kir_obl['participants_count']=pd.to_numeric(Kir_obl['participants_count'],downcast='integer')"
   ]
  },
  {
   "cell_type": "code",
   "execution_count": 8,
   "id": "75b9efa9",
   "metadata": {},
   "outputs": [
    {
     "data": {
      "text/plain": [
       "geometry_coordinates         0\n",
       "id                           0\n",
       "tags                         0\n",
       "light                        0\n",
       "point_lat                   32\n",
       "point_long                  32\n",
       "nearby                       0\n",
       "region                       0\n",
       "scheme                    1137\n",
       "address                    674\n",
       "weather                      0\n",
       "category                     0\n",
       "datetime                     0\n",
       "injured_count                0\n",
       "parent_region                0\n",
       "road_conditions              0\n",
       "participants_count           0\n",
       "participant_categories       0\n",
       "dtype: int64"
      ]
     },
     "execution_count": 8,
     "metadata": {},
     "output_type": "execute_result"
    }
   ],
   "source": [
    "# Выводим количество пропущенных строк в датафрейме\n",
    "Kir_obl.isna().sum()"
   ]
  },
  {
   "cell_type": "code",
   "execution_count": 9,
   "id": "910c8adb",
   "metadata": {},
   "outputs": [
    {
     "data": {
      "text/plain": [
       "geometry_coordinates      0.000000\n",
       "id                        0.000000\n",
       "tags                      0.000000\n",
       "light                     0.000000\n",
       "point_lat                 0.220431\n",
       "point_long                0.220431\n",
       "nearby                    0.000000\n",
       "region                    0.000000\n",
       "scheme                    7.832197\n",
       "address                   4.642833\n",
       "weather                   0.000000\n",
       "category                  0.000000\n",
       "datetime                  0.000000\n",
       "injured_count             0.000000\n",
       "parent_region             0.000000\n",
       "road_conditions           0.000000\n",
       "participants_count        0.000000\n",
       "participant_categories    0.000000\n",
       "dtype: float64"
      ]
     },
     "execution_count": 9,
     "metadata": {},
     "output_type": "execute_result"
    }
   ],
   "source": [
    "# Подсчитываем процент строк с пропусками\n",
    "Kir_obl.isna().sum()/len(Kir_obl)*100"
   ]
  },
  {
   "cell_type": "markdown",
   "id": "c370e725",
   "metadata": {},
   "source": [
    "В столбцах point_lat и point_long всего по 0,22% пропусков, так как признак не ключевой, строки с пропусками можно удалить, или поставить маркер \"Unknown\". В столбце scheme почти 8% пропусков, в столбце address 4.6%. Данные не являются ключевыми, можно также удалить строки или поставить маркер \"Unknown\". В данном проекте все пропущенные значения заменим маркерами \"Unknown\"."
   ]
  },
  {
   "cell_type": "code",
   "execution_count": 10,
   "id": "3fc23033",
   "metadata": {},
   "outputs": [],
   "source": [
    "#Заменяем пропуски значением Unknown\n",
    "Kir_obl['point_lat'].fillna('Unknown',inplace=True)#inplace=True изменения вносятся прямо в текущий DataFrame, без создания копии.\n",
    "Kir_obl['point_long'].fillna('Unknown',inplace=True)\n",
    "Kir_obl['scheme'].fillna('Unknown',inplace=True)\n",
    "Kir_obl['address'].fillna('Unknown', inplace=True)"
   ]
  },
  {
   "cell_type": "code",
   "execution_count": 11,
   "id": "f5070384",
   "metadata": {},
   "outputs": [
    {
     "data": {
      "text/plain": [
       "0"
      ]
     },
     "execution_count": 11,
     "metadata": {},
     "output_type": "execute_result"
    }
   ],
   "source": [
    "#Поиск явных дубликатов\n",
    "Kir_obl.duplicated().sum()"
   ]
  },
  {
   "cell_type": "code",
   "execution_count": 12,
   "id": "8b64224e",
   "metadata": {},
   "outputs": [
    {
     "name": "stdout",
     "output_type": "stream",
     "text": [
      "<class 'pandas.core.frame.DataFrame'>\n",
      "RangeIndex: 14517 entries, 0 to 14516\n",
      "Data columns (total 18 columns):\n",
      " #   Column                  Non-Null Count  Dtype         \n",
      "---  ------                  --------------  -----         \n",
      " 0   geometry_coordinates    14517 non-null  object        \n",
      " 1   id                      14517 non-null  int32         \n",
      " 2   tags                    14517 non-null  object        \n",
      " 3   light                   14517 non-null  object        \n",
      " 4   point_lat               14517 non-null  object        \n",
      " 5   point_long              14517 non-null  object        \n",
      " 6   nearby                  14517 non-null  object        \n",
      " 7   region                  14517 non-null  object        \n",
      " 8   scheme                  14517 non-null  object        \n",
      " 9   address                 14517 non-null  object        \n",
      " 10  weather                 14517 non-null  object        \n",
      " 11  category                14517 non-null  object        \n",
      " 12  datetime                14517 non-null  datetime64[ns]\n",
      " 13  injured_count           14517 non-null  int8          \n",
      " 14  parent_region           14517 non-null  object        \n",
      " 15  road_conditions         14517 non-null  object        \n",
      " 16  participants_count      14517 non-null  int8          \n",
      " 17  participant_categories  14517 non-null  object        \n",
      "dtypes: datetime64[ns](1), int32(1), int8(2), object(14)\n",
      "memory usage: 1.7+ MB\n"
     ]
    }
   ],
   "source": [
    "#Выводим информацию об обновленном датафрейме\n",
    "Kir_obl.info()"
   ]
  },
  {
   "cell_type": "markdown",
   "id": "9634bdcc",
   "metadata": {},
   "source": [
    "#### Предобработка датасета Kir_par"
   ]
  },
  {
   "cell_type": "code",
   "execution_count": 13,
   "id": "873ff26c",
   "metadata": {},
   "outputs": [
    {
     "data": {
      "text/html": [
       "<div>\n",
       "<style scoped>\n",
       "    .dataframe tbody tr th:only-of-type {\n",
       "        vertical-align: middle;\n",
       "    }\n",
       "\n",
       "    .dataframe tbody tr th {\n",
       "        vertical-align: top;\n",
       "    }\n",
       "\n",
       "    .dataframe thead th {\n",
       "        text-align: right;\n",
       "    }\n",
       "</style>\n",
       "<table border=\"1\" class=\"dataframe\">\n",
       "  <thead>\n",
       "    <tr style=\"text-align: right;\">\n",
       "      <th></th>\n",
       "      <th>role</th>\n",
       "      <th>gender</th>\n",
       "      <th>violations</th>\n",
       "      <th>health_status</th>\n",
       "      <th>years_of_driving_experience</th>\n",
       "      <th>id</th>\n",
       "    </tr>\n",
       "  </thead>\n",
       "  <tbody>\n",
       "    <tr>\n",
       "      <th>0</th>\n",
       "      <td>Водитель</td>\n",
       "      <td>Мужской</td>\n",
       "      <td>['Несоответствие скорости конкретным условиям ...</td>\n",
       "      <td>Раненый, находящийся (находившийся) на амбулат...</td>\n",
       "      <td>26.0</td>\n",
       "      <td>1983180</td>\n",
       "    </tr>\n",
       "    <tr>\n",
       "      <th>1</th>\n",
       "      <td>Водитель</td>\n",
       "      <td>Мужской</td>\n",
       "      <td>[]</td>\n",
       "      <td>Не пострадал</td>\n",
       "      <td>34.0</td>\n",
       "      <td>2889433</td>\n",
       "    </tr>\n",
       "    <tr>\n",
       "      <th>2</th>\n",
       "      <td>Пассажир</td>\n",
       "      <td>Мужской</td>\n",
       "      <td>[]</td>\n",
       "      <td>Раненый, находящийся (находившийся)  на амбула...</td>\n",
       "      <td>NaN</td>\n",
       "      <td>2591208</td>\n",
       "    </tr>\n",
       "    <tr>\n",
       "      <th>3</th>\n",
       "      <td>Пассажир</td>\n",
       "      <td>Мужской</td>\n",
       "      <td>[]</td>\n",
       "      <td>Раненый, находящийся (находившийся)  на амбула...</td>\n",
       "      <td>NaN</td>\n",
       "      <td>2591208</td>\n",
       "    </tr>\n",
       "    <tr>\n",
       "      <th>4</th>\n",
       "      <td>Водитель</td>\n",
       "      <td>Мужской</td>\n",
       "      <td>[]</td>\n",
       "      <td>Не пострадал</td>\n",
       "      <td>27.0</td>\n",
       "      <td>2577639</td>\n",
       "    </tr>\n",
       "  </tbody>\n",
       "</table>\n",
       "</div>"
      ],
      "text/plain": [
       "       role   gender                                         violations  \\\n",
       "0  Водитель  Мужской  ['Несоответствие скорости конкретным условиям ...   \n",
       "1  Водитель  Мужской                                                 []   \n",
       "2  Пассажир  Мужской                                                 []   \n",
       "3  Пассажир  Мужской                                                 []   \n",
       "4  Водитель  Мужской                                                 []   \n",
       "\n",
       "                                       health_status  \\\n",
       "0  Раненый, находящийся (находившийся) на амбулат...   \n",
       "1                                       Не пострадал   \n",
       "2  Раненый, находящийся (находившийся)  на амбула...   \n",
       "3  Раненый, находящийся (находившийся)  на амбула...   \n",
       "4                                       Не пострадал   \n",
       "\n",
       "   years_of_driving_experience       id  \n",
       "0                         26.0  1983180  \n",
       "1                         34.0  2889433  \n",
       "2                          NaN  2591208  \n",
       "3                          NaN  2591208  \n",
       "4                         27.0  2577639  "
      ]
     },
     "execution_count": 13,
     "metadata": {},
     "output_type": "execute_result"
    }
   ],
   "source": [
    "#проверяем данные Kir_par (первые 5 строк)\n",
    "Kir_par.head()"
   ]
  },
  {
   "cell_type": "code",
   "execution_count": 14,
   "id": "6305f4ca",
   "metadata": {},
   "outputs": [
    {
     "name": "stdout",
     "output_type": "stream",
     "text": [
      "<class 'pandas.core.frame.DataFrame'>\n",
      "RangeIndex: 31235 entries, 0 to 31234\n",
      "Data columns (total 6 columns):\n",
      " #   Column                       Non-Null Count  Dtype  \n",
      "---  ------                       --------------  -----  \n",
      " 0   role                         31235 non-null  object \n",
      " 1   gender                       30387 non-null  object \n",
      " 2   violations                   31235 non-null  object \n",
      " 3   health_status                31135 non-null  object \n",
      " 4   years_of_driving_experience  16909 non-null  float64\n",
      " 5   id                           31235 non-null  int64  \n",
      "dtypes: float64(1), int64(1), object(4)\n",
      "memory usage: 1.4+ MB\n"
     ]
    }
   ],
   "source": [
    "#выводим информацию о датасете Kir_par\n",
    "Kir_par.info()"
   ]
  },
  {
   "cell_type": "code",
   "execution_count": 15,
   "id": "b051cf5a",
   "metadata": {},
   "outputs": [],
   "source": [
    "#Меняем тип данных для экономии памяти\n",
    "Kir_par['id']=pd.to_numeric(Kir_par['id'],downcast='integer')\n",
    "Kir_par['years_of_driving_experience']=pd.to_numeric(Kir_par['years_of_driving_experience'],downcast='float')"
   ]
  },
  {
   "cell_type": "code",
   "execution_count": 16,
   "id": "fb84b1b9",
   "metadata": {},
   "outputs": [
    {
     "data": {
      "text/plain": [
       "role                               0\n",
       "gender                           848\n",
       "violations                         0\n",
       "health_status                    100\n",
       "years_of_driving_experience    14326\n",
       "id                                 0\n",
       "dtype: int64"
      ]
     },
     "execution_count": 16,
     "metadata": {},
     "output_type": "execute_result"
    }
   ],
   "source": [
    "# Выводим количество пропущенных строк в датафрейме\n",
    "Kir_par.isna().sum()"
   ]
  },
  {
   "cell_type": "code",
   "execution_count": 17,
   "id": "28c8b085",
   "metadata": {},
   "outputs": [
    {
     "data": {
      "text/plain": [
       "role                            0.000000\n",
       "gender                          2.714903\n",
       "violations                      0.000000\n",
       "health_status                   0.320154\n",
       "years_of_driving_experience    45.865215\n",
       "id                              0.000000\n",
       "dtype: float64"
      ]
     },
     "execution_count": 17,
     "metadata": {},
     "output_type": "execute_result"
    }
   ],
   "source": [
    "# Подсчитываем процент строк с пропусками\n",
    "Kir_par.isna().sum()/len(Kir_par)*100"
   ]
  },
  {
   "cell_type": "code",
   "execution_count": 18,
   "id": "f9da8422",
   "metadata": {},
   "outputs": [],
   "source": [
    "#Заменяем пропуски значением Unknown\n",
    "Kir_par['gender'].fillna('Unknown',inplace=True)\n",
    "Kir_par['health_status'].fillna('Unknown',inplace=True)\n",
    "Kir_par['years_of_driving_experience'].fillna('Unknown',inplace=True)"
   ]
  },
  {
   "cell_type": "code",
   "execution_count": 19,
   "id": "1b003774",
   "metadata": {},
   "outputs": [
    {
     "data": {
      "text/plain": [
       "9727"
      ]
     },
     "execution_count": 19,
     "metadata": {},
     "output_type": "execute_result"
    }
   ],
   "source": [
    "#Поиск явных дубликатов\n",
    "Kir_par.duplicated().sum()"
   ]
  },
  {
   "cell_type": "code",
   "execution_count": 20,
   "id": "d2fd4db6",
   "metadata": {},
   "outputs": [
    {
     "data": {
      "text/plain": [
       "31.141347846966543"
      ]
     },
     "execution_count": 20,
     "metadata": {},
     "output_type": "execute_result"
    }
   ],
   "source": [
    "#Находим процент явных дубликатов\n",
    "Kir_par.duplicated().sum()/len(Kir_par)*100"
   ]
  },
  {
   "cell_type": "code",
   "execution_count": 21,
   "id": "5a946b0e",
   "metadata": {},
   "outputs": [],
   "source": [
    "#Удаляем явные дубликаты\n",
    "Kir_par=Kir_par.drop_duplicates()"
   ]
  },
  {
   "cell_type": "code",
   "execution_count": 22,
   "id": "2a0379d0",
   "metadata": {
    "scrolled": false
   },
   "outputs": [
    {
     "name": "stdout",
     "output_type": "stream",
     "text": [
      "<class 'pandas.core.frame.DataFrame'>\n",
      "Int64Index: 21508 entries, 0 to 31232\n",
      "Data columns (total 6 columns):\n",
      " #   Column                       Non-Null Count  Dtype \n",
      "---  ------                       --------------  ----- \n",
      " 0   role                         21508 non-null  object\n",
      " 1   gender                       21508 non-null  object\n",
      " 2   violations                   21508 non-null  object\n",
      " 3   health_status                21508 non-null  object\n",
      " 4   years_of_driving_experience  21508 non-null  object\n",
      " 5   id                           21508 non-null  int32 \n",
      "dtypes: int32(1), object(5)\n",
      "memory usage: 1.1+ MB\n"
     ]
    }
   ],
   "source": [
    "#Выводим информацию об обновленном датафрейме\n",
    "Kir_par.info()"
   ]
  },
  {
   "cell_type": "markdown",
   "id": "a7ed4838",
   "metadata": {},
   "source": [
    "### Вывод: \n",
    "\n",
    "При проведении предобработки данных были обнаружены и исправлены недочеты в типах данных, были переименованы некоторые столбцы для удобства дальнейшей работы. Такдже была проведена проверка на наличие пропусков и дубликатов (явных). Все обнаруженные пропуски в данных были заменены на значение \"Unknown\", все явные дубликаты удалены. Таким образом, данные скорректированы и подготовлены к дальнейшему анализу."
   ]
  },
  {
   "cell_type": "markdown",
   "id": "3757c355",
   "metadata": {},
   "source": [
    "# 2. Исследовательский анализ данных"
   ]
  },
  {
   "cell_type": "markdown",
   "id": "fcdd898e",
   "metadata": {},
   "source": [
    "2.1. Как распределено количество участников ДТП? Как вы считаете, почему распределение такое? Встречаются ли аномальные значения или выбросы? Если да, то с чем они могут быть связаны? Для числа участников найдите наиболее типичное значение. По желанию можете проверить распределения и других столбцов."
   ]
  },
  {
   "cell_type": "code",
   "execution_count": 23,
   "id": "d3e319f2",
   "metadata": {},
   "outputs": [
    {
     "name": "stdout",
     "output_type": "stream",
     "text": [
      "count    14517.000000\n",
      "mean         2.355721\n",
      "std          1.004847\n",
      "min          1.000000\n",
      "25%          2.000000\n",
      "50%          2.000000\n",
      "75%          3.000000\n",
      "max         30.000000\n",
      "Name: participants_count, dtype: float64\n"
     ]
    }
   ],
   "source": [
    "print(Kir_obl['participants_count'].describe())"
   ]
  },
  {
   "cell_type": "code",
   "execution_count": 24,
   "id": "ce93046a",
   "metadata": {},
   "outputs": [
    {
     "data": {
      "image/png": "[encoded data removed]",
      "text/plain": [
       "<Figure size 432x288 with 1 Axes>"
      ]
     },
     "metadata": {
      "needs_background": "light"
     },
     "output_type": "display_data"
    }
   ],
   "source": [
    "plt.hist(Kir_obl['participants_count'],bins=30,color='violet',edgecolor='black')\n",
    "plt.xlabel('Количество участников ДТП')\n",
    "plt.ylabel('Частота')\n",
    "plt.title('Распределение количества участников ДТП')\n",
    "plt.show()"
   ]
  },
  {
   "cell_type": "code",
   "execution_count": 25,
   "id": "82b9dac2",
   "metadata": {},
   "outputs": [
    {
     "data": {
      "image/png": "[encoded data removed]",
      "text/plain": [
       "<Figure size 432x288 with 1 Axes>"
      ]
     },
     "metadata": {
      "needs_background": "light"
     },
     "output_type": "display_data"
    }
   ],
   "source": [
    "plt.boxplot(Kir_obl['participants_count'].dropna())\n",
    "plt.ylabel('Частота')\n",
    "plt.show()"
   ]
  },
  {
   "cell_type": "code",
   "execution_count": 26,
   "id": "538aecf3",
   "metadata": {},
   "outputs": [
    {
     "data": {
      "text/html": [
       "<div>\n",
       "<style scoped>\n",
       "    .dataframe tbody tr th:only-of-type {\n",
       "        vertical-align: middle;\n",
       "    }\n",
       "\n",
       "    .dataframe tbody tr th {\n",
       "        vertical-align: top;\n",
       "    }\n",
       "\n",
       "    .dataframe thead th {\n",
       "        text-align: right;\n",
       "    }\n",
       "</style>\n",
       "<table border=\"1\" class=\"dataframe\">\n",
       "  <thead>\n",
       "    <tr style=\"text-align: right;\">\n",
       "      <th></th>\n",
       "      <th>geometry_coordinates</th>\n",
       "      <th>id</th>\n",
       "      <th>tags</th>\n",
       "      <th>light</th>\n",
       "      <th>point_lat</th>\n",
       "      <th>point_long</th>\n",
       "      <th>nearby</th>\n",
       "      <th>region</th>\n",
       "      <th>scheme</th>\n",
       "      <th>address</th>\n",
       "      <th>weather</th>\n",
       "      <th>category</th>\n",
       "      <th>datetime</th>\n",
       "      <th>injured_count</th>\n",
       "      <th>parent_region</th>\n",
       "      <th>road_conditions</th>\n",
       "      <th>participants_count</th>\n",
       "      <th>participant_categories</th>\n",
       "    </tr>\n",
       "  </thead>\n",
       "  <tbody>\n",
       "    <tr>\n",
       "      <th>7104</th>\n",
       "      <td>[49.611833, 58.585626]</td>\n",
       "      <td>2822118</td>\n",
       "      <td>Дорожно-транспортные происшествия</td>\n",
       "      <td>Светлое время суток</td>\n",
       "      <td>58.585626</td>\n",
       "      <td>49.611833</td>\n",
       "      <td>['Выезд с прилегающей территории', 'Крупный то...</td>\n",
       "      <td>Киров</td>\n",
       "      <td>930.0</td>\n",
       "      <td>г Киров, ул Производственная, 24В</td>\n",
       "      <td>['Пасмурно']</td>\n",
       "      <td>Наезд на препятствие</td>\n",
       "      <td>2023-04-27 15:14:00</td>\n",
       "      <td>30</td>\n",
       "      <td>Кировская область</td>\n",
       "      <td>['Сухое', 'Отсутствие, плохая различимость гор...</td>\n",
       "      <td>30</td>\n",
       "      <td>['Все участники']</td>\n",
       "    </tr>\n",
       "  </tbody>\n",
       "</table>\n",
       "</div>"
      ],
      "text/plain": [
       "        geometry_coordinates       id                               tags  \\\n",
       "7104  [49.611833, 58.585626]  2822118  Дорожно-транспортные происшествия   \n",
       "\n",
       "                    light  point_lat point_long  \\\n",
       "7104  Светлое время суток  58.585626  49.611833   \n",
       "\n",
       "                                                 nearby region scheme  \\\n",
       "7104  ['Выезд с прилегающей территории', 'Крупный то...  Киров  930.0   \n",
       "\n",
       "                                address       weather              category  \\\n",
       "7104  г Киров, ул Производственная, 24В  ['Пасмурно']  Наезд на препятствие   \n",
       "\n",
       "                datetime  injured_count      parent_region  \\\n",
       "7104 2023-04-27 15:14:00             30  Кировская область   \n",
       "\n",
       "                                        road_conditions  participants_count  \\\n",
       "7104  ['Сухое', 'Отсутствие, плохая различимость гор...                  30   \n",
       "\n",
       "     participant_categories  \n",
       "7104      ['Все участники']  "
      ]
     },
     "metadata": {},
     "output_type": "display_data"
    }
   ],
   "source": [
    "display(Kir_obl[Kir_obl['participants_count']==30])"
   ]
  },
  {
   "cell_type": "code",
   "execution_count": 27,
   "id": "bde86d17",
   "metadata": {},
   "outputs": [
    {
     "name": "stdout",
     "output_type": "stream",
     "text": [
      "Наиболее типичное значение для числа участников ДТП: 2\n"
     ]
    }
   ],
   "source": [
    "mode_participants_count=Kir_obl['participants_count'].mode()[0]\n",
    "print('Наиболее типичное значение для числа участников ДТП:', mode_participants_count)"
   ]
  },
  {
   "cell_type": "markdown",
   "id": "dfa53112",
   "metadata": {},
   "source": [
    "По результатам видно, что основное количество участников ДТП - 2 человека. Второе место по частоте участников - аварии с 3 участниками, далее - с 1 участником. В данных присутствуют аномальные значения и выбросы, например - 30 человек в одном ДТП, это может говорить либо о групповом столкновении (цепная реакция на трассе), либо об аварии с участием общественного транспорта (автобус, трамвай и т.д.). Также возможна ошибка в данных (например, по факту было 3 участника, а не 30). Также можно заметить, что 50% всех ДТП - это аварии не более, чем с 2-мя участниками. А 75% всех ДТП - не более чем с 3-мя участниками."
   ]
  },
  {
   "cell_type": "markdown",
   "id": "773feac4",
   "metadata": {},
   "source": [
    "Для более глубокого анализа рассмотрим распределение по столбцам с количеством пострадавших, погодным условиям, освещенности и категории ДТП."
   ]
  },
  {
   "cell_type": "code",
   "execution_count": 28,
   "id": "5ea77dba",
   "metadata": {
    "scrolled": true
   },
   "outputs": [
    {
     "data": {
      "text/plain": [
       "count    14517.000000\n",
       "mean         1.315699\n",
       "std          0.793685\n",
       "min          1.000000\n",
       "25%          1.000000\n",
       "50%          1.000000\n",
       "75%          1.000000\n",
       "max         30.000000\n",
       "Name: injured_count, dtype: float64"
      ]
     },
     "execution_count": 28,
     "metadata": {},
     "output_type": "execute_result"
    }
   ],
   "source": [
    "Kir_obl['injured_count'].describe()"
   ]
  },
  {
   "cell_type": "code",
   "execution_count": 29,
   "id": "83e88680",
   "metadata": {},
   "outputs": [
    {
     "data": {
      "image/png": "[encoded data removed]",
      "text/plain": [
       "<Figure size 432x288 with 1 Axes>"
      ]
     },
     "metadata": {
      "needs_background": "light"
     },
     "output_type": "display_data"
    }
   ],
   "source": [
    "plt.hist(Kir_obl['injured_count'],bins=30,color='violet',edgecolor='black')\n",
    "plt.xlabel('Количество пострадавших в ДТП')\n",
    "plt.ylabel('Частота')\n",
    "plt.title('Распределение количества пострадавших в ДТП')\n",
    "plt.show()"
   ]
  },
  {
   "cell_type": "code",
   "execution_count": 30,
   "id": "5c564f6e",
   "metadata": {},
   "outputs": [
    {
     "data": {
      "image/png": "[encoded data removed]",
      "text/plain": [
       "<Figure size 432x288 with 1 Axes>"
      ]
     },
     "metadata": {
      "needs_background": "light"
     },
     "output_type": "display_data"
    }
   ],
   "source": [
    "plt.boxplot(Kir_obl['injured_count'].dropna())\n",
    "plt.ylabel('Частота')\n",
    "plt.show()"
   ]
  },
  {
   "cell_type": "code",
   "execution_count": 31,
   "id": "2638654d",
   "metadata": {},
   "outputs": [
    {
     "name": "stdout",
     "output_type": "stream",
     "text": [
      "Наиболее типичное значение для числа пострадавших в ДТП: 1\n"
     ]
    }
   ],
   "source": [
    "mode_injured_count=Kir_obl['injured_count'].mode()[0]\n",
    "print('Наиболее типичное значение для числа пострадавших в ДТП:', mode_injured_count)"
   ]
  },
  {
   "cell_type": "markdown",
   "id": "650c3cb3",
   "metadata": {},
   "source": [
    "По результатам видно, что основное количество пострадавших в  ДТП - 1 человек.  В данных присутствуют аномальные значения и выбросы, например - 30 пострадавших в одном ДТП, это может говорить либо о групповом столкновении (цепная реакция на трассе), либо об аварии с участием общественного транспорта (автобус, трамвай и т.д.). Также возможна ошибка в данных (например, по факту было 3 пострадавших, а не 30). Также можно заметить, что 25%, 50% и 75% всех ДТП - это аварии не более, чем с 1 пострадавшим."
   ]
  },
  {
   "cell_type": "code",
   "execution_count": 32,
   "id": "65697010",
   "metadata": {},
   "outputs": [
    {
     "data": {
      "text/plain": [
       "count                   14517\n",
       "unique                      5\n",
       "top       Светлое время суток\n",
       "freq                     9258\n",
       "Name: light, dtype: object"
      ]
     },
     "execution_count": 32,
     "metadata": {},
     "output_type": "execute_result"
    }
   ],
   "source": [
    "Kir_obl['light'].describe()"
   ]
  },
  {
   "cell_type": "code",
   "execution_count": 33,
   "id": "f9c76153",
   "metadata": {},
   "outputs": [
    {
     "data": {
      "text/plain": [
       "Text(0.5, 1.0, 'Распределение ДТП по условиям освещённости')"
      ]
     },
     "execution_count": 33,
     "metadata": {},
     "output_type": "execute_result"
    },
    {
     "data": {
      "image/png": "[encoded data removed]",
      "text/plain": [
       "<Figure size 432x288 with 1 Axes>"
      ]
     },
     "metadata": {
      "needs_background": "light"
     },
     "output_type": "display_data"
    }
   ],
   "source": [
    "counts_light=Kir_obl['light'].value_counts()\n",
    "plt.barh(counts_light.index,counts_light.values,color='violet')\n",
    "plt.xlabel('Количество ДТП')\n",
    "plt.title('Распределение ДТП по условиям освещённости')"
   ]
  },
  {
   "cell_type": "markdown",
   "id": "e5bedd6c",
   "metadata": {},
   "source": [
    "Анализ показал, что наибольшее количество ДТП приходится на светлое время суток, что, вероятнее всего, связано с повышенной интенсивностью движения в дневные часы."
   ]
  },
  {
   "cell_type": "code",
   "execution_count": 34,
   "id": "7e855c32",
   "metadata": {},
   "outputs": [
    {
     "data": {
      "text/plain": [
       "count            14517\n",
       "unique              18\n",
       "top       ['Пасмурно']\n",
       "freq              6701\n",
       "Name: weather, dtype: object"
      ]
     },
     "execution_count": 34,
     "metadata": {},
     "output_type": "execute_result"
    }
   ],
   "source": [
    "Kir_obl['weather'].describe()"
   ]
  },
  {
   "cell_type": "code",
   "execution_count": 35,
   "id": "1f527d6d",
   "metadata": {},
   "outputs": [
    {
     "data": {
      "text/plain": [
       "Text(0.5, 0, 'Количество ДТП')"
      ]
     },
     "execution_count": 35,
     "metadata": {},
     "output_type": "execute_result"
    },
    {
     "data": {
      "image/png": "[encoded data removed]",
      "text/plain": [
       "<Figure size 432x288 with 1 Axes>"
      ]
     },
     "metadata": {
      "needs_background": "light"
     },
     "output_type": "display_data"
    }
   ],
   "source": [
    "counts_weather=Kir_obl['weather'].value_counts()\n",
    "plt.barh(counts_weather.index,counts_weather.values,color='violet')\n",
    "plt.title('Распределение ДТП по погодным условиям')\n",
    "plt.xlabel('Количество ДТП')"
   ]
  },
  {
   "cell_type": "markdown",
   "id": "47a1bee3",
   "metadata": {},
   "source": [
    "Анализ данного столбца показал, что больше половины ДТП происходит в пасмурную или ясную погоду."
   ]
  },
  {
   "cell_type": "code",
   "execution_count": 36,
   "id": "55f078b2",
   "metadata": {},
   "outputs": [
    {
     "data": {
      "text/plain": [
       "count            14517\n",
       "unique              16\n",
       "top       Столкновение\n",
       "freq              5423\n",
       "Name: category, dtype: object"
      ]
     },
     "execution_count": 36,
     "metadata": {},
     "output_type": "execute_result"
    }
   ],
   "source": [
    "Kir_obl['category'].describe()"
   ]
  },
  {
   "cell_type": "code",
   "execution_count": 37,
   "id": "fa72bfcf",
   "metadata": {},
   "outputs": [
    {
     "data": {
      "text/plain": [
       "Text(0.5, 1.0, 'Распределение ДТП по категориям')"
      ]
     },
     "execution_count": 37,
     "metadata": {},
     "output_type": "execute_result"
    },
    {
     "data": {
      "image/png": "[encoded data removed]",
      "text/plain": [
       "<Figure size 432x288 with 1 Axes>"
      ]
     },
     "metadata": {
      "needs_background": "light"
     },
     "output_type": "display_data"
    }
   ],
   "source": [
    "counts_category=Kir_obl['category'].value_counts()\n",
    "plt.barh(counts_category.index,counts_category.values,color='violet')\n",
    "plt.xlabel('Количество ДТП')\n",
    "plt.title('Распределение ДТП по категориям')"
   ]
  },
  {
   "cell_type": "markdown",
   "id": "aa5ae937",
   "metadata": {},
   "source": [
    "Анализ категорий показал, что большинство ДТП относится к категории 'Столкновение', следующая по частоте категория - 'Наезд на пешехода'. Эти две категории составляют более половины всех ДТП в Кировской области, исходя из этих данных."
   ]
  },
  {
   "cell_type": "markdown",
   "id": "623fbdb6",
   "metadata": {},
   "source": [
    "2.2. Предположите, между какими столбцами в датасете Kirovskaya_oblast.csv высокая корреляция? Проверьте своё предположение."
   ]
  },
  {
   "cell_type": "markdown",
   "id": "bb3f6c77",
   "metadata": {},
   "source": [
    "Исходя из имеющихся данных, можно предположить, что имеется высокая корреляция между столбцами participants_count и injured_count (число участников ДТП и число пострадавших)."
   ]
  },
  {
   "cell_type": "code",
   "execution_count": 38,
   "id": "bcfe6457",
   "metadata": {},
   "outputs": [
    {
     "name": "stdout",
     "output_type": "stream",
     "text": [
      "Корреляция между столбцами participants_count и injured_count (число участников ДТП и число пострадавших): 0.73\n"
     ]
    }
   ],
   "source": [
    "#Проверяем корреляцию (считаем коэффициент корреляции Пирсона)\n",
    "corr_value=Kir_obl[\"participants_count\"].corr(Kir_obl['injured_count'])\n",
    "print('Корреляция между столбцами participants_count и injured_count (число участников ДТП и число пострадавших):', round(corr_value,2))"
   ]
  },
  {
   "cell_type": "markdown",
   "id": "fd4038e8",
   "metadata": {},
   "source": [
    "Значение коэффициента корреляции Пирсона = 0.73, что указывает на достаточно сильную положительную связь. То есть, чем больше участников ДТП, тем больше пострадавших."
   ]
  },
  {
   "cell_type": "markdown",
   "id": "5dc0a976",
   "metadata": {},
   "source": [
    "Добавим для наглядности дианграмму рассеяния"
   ]
  },
  {
   "cell_type": "code",
   "execution_count": 39,
   "id": "38af56e2",
   "metadata": {},
   "outputs": [
    {
     "data": {
      "text/plain": [
       "Text(0, 0.5, 'Количество пострадавших')"
      ]
     },
     "execution_count": 39,
     "metadata": {},
     "output_type": "execute_result"
    },
    {
     "data": {
      "image/png": "[encoded data removed]",
      "text/plain": [
       "<Figure size 576x360 with 1 Axes>"
      ]
     },
     "metadata": {
      "needs_background": "light"
     },
     "output_type": "display_data"
    }
   ],
   "source": [
    "plt.figure(figsize=(8,5))\n",
    "sns.regplot(data=Kir_obl,\n",
    "           x='participants_count',\n",
    "            y='injured_count',\n",
    "            color='violet'\n",
    "           )\n",
    "plt.title('Зависимость кол-ва пострадавших от кол-ва участников ДТП')\n",
    "plt.xlabel('Количество участников')\n",
    "plt.ylabel('Количество пострадавших')"
   ]
  },
  {
   "cell_type": "markdown",
   "id": "cf2d3679",
   "metadata": {},
   "source": [
    "На графике видно, что корреляция положительная - чем больше участников ДТП, тем больше вероятность, что кто-то пострадает.\n",
    "Облако точек показывает, что зависимость не идеально линейная — при одинаковом числе участников количество пострадавших может различаться (влияют скорость, условия, тип транспорта и т. д.)."
   ]
  },
  {
   "cell_type": "markdown",
   "id": "69dab571",
   "metadata": {},
   "source": [
    "2.3. Как связаны категории аварий и погодные условия?"
   ]
  },
  {
   "cell_type": "code",
   "execution_count": 40,
   "id": "88c15502",
   "metadata": {},
   "outputs": [
    {
     "data": {
      "text/plain": [
       "Text(32.96874999999999, 0.5, 'Погодные условия')"
      ]
     },
     "execution_count": 40,
     "metadata": {},
     "output_type": "execute_result"
    },
    {
     "data": {
      "image/png": "[encoded data removed]",
      "text/plain": [
       "<Figure size 432x288 with 2 Axes>"
      ]
     },
     "metadata": {
      "needs_background": "light"
     },
     "output_type": "display_data"
    }
   ],
   "source": [
    "#построим таблицу сопряженности и тепловую карту\n",
    "cross_tab=pd.crosstab(Kir_obl['weather'],Kir_obl['category'])\n",
    "sns.heatmap(cross_tab,annot=True,fmt='d',cmap='Purples')\n",
    "plt.title('Связь категорий ДТП и погодных условий')\n",
    "plt.xlabel('Категория ДТП')\n",
    "plt.ylabel('Погодные условия')"
   ]
  },
  {
   "cell_type": "code",
   "execution_count": 41,
   "id": "53bd988b",
   "metadata": {},
   "outputs": [
    {
     "name": "stdout",
     "output_type": "stream",
     "text": [
      "χ² = 527.44, p-value = 0.0000\n"
     ]
    }
   ],
   "source": [
    "#проверим связь столбцов, применив критерий хи-квадрат.\n",
    "chi2, p, dof, expected = chi2_contingency(cross_tab)\n",
    "print(f'χ² = {chi2:.2f}, p-value = {p:.4f}')"
   ]
  },
  {
   "cell_type": "markdown",
   "id": "a4289875",
   "metadata": {},
   "source": [
    "p-value = 0.0000 - означает, что вероятность того, что такая зависимость получилась случайно, практически нулевая. То есть это говорит о том, что между категорией ДТП и погодой есть статистически значимая зависимость. \n",
    "Большинство ДТП в Кировской области происходит при ясной или пасмурной погоде, что объясняется большей активностью водителей в эти периоды."
   ]
  },
  {
   "cell_type": "markdown",
   "id": "c481ce91",
   "metadata": {},
   "source": [
    "2.4. Постройте процентную разбивку аварий по видам освещённости. При этом учитывайте пол участника и сделайте расчёты для мужчин и женщин отдельно."
   ]
  },
  {
   "cell_type": "code",
   "execution_count": 42,
   "id": "5816570d",
   "metadata": {},
   "outputs": [],
   "source": [
    "#объединим датафреймы в один общий - merged_dtp\n",
    "merged_dtp=pd.merge(Kir_obl,Kir_par,on='id',how='left')"
   ]
  },
  {
   "cell_type": "code",
   "execution_count": 43,
   "id": "a6ca23b2",
   "metadata": {},
   "outputs": [
    {
     "data": {
      "text/html": [
       "<div>\n",
       "<style scoped>\n",
       "    .dataframe tbody tr th:only-of-type {\n",
       "        vertical-align: middle;\n",
       "    }\n",
       "\n",
       "    .dataframe tbody tr th {\n",
       "        vertical-align: top;\n",
       "    }\n",
       "\n",
       "    .dataframe thead th {\n",
       "        text-align: right;\n",
       "    }\n",
       "</style>\n",
       "<table border=\"1\" class=\"dataframe\">\n",
       "  <thead>\n",
       "    <tr style=\"text-align: right;\">\n",
       "      <th></th>\n",
       "      <th>gender</th>\n",
       "      <th>light</th>\n",
       "      <th>percentage</th>\n",
       "    </tr>\n",
       "  </thead>\n",
       "  <tbody>\n",
       "    <tr>\n",
       "      <th>0</th>\n",
       "      <td>Unknown</td>\n",
       "      <td>В темное время суток, освещение включено</td>\n",
       "      <td>25.314183</td>\n",
       "    </tr>\n",
       "    <tr>\n",
       "      <th>1</th>\n",
       "      <td>Unknown</td>\n",
       "      <td>В темное время суток, освещение не включено</td>\n",
       "      <td>1.077199</td>\n",
       "    </tr>\n",
       "    <tr>\n",
       "      <th>2</th>\n",
       "      <td>Unknown</td>\n",
       "      <td>В темное время суток, освещение отсутствует</td>\n",
       "      <td>8.258528</td>\n",
       "    </tr>\n",
       "    <tr>\n",
       "      <th>3</th>\n",
       "      <td>Unknown</td>\n",
       "      <td>Светлое время суток</td>\n",
       "      <td>62.118492</td>\n",
       "    </tr>\n",
       "    <tr>\n",
       "      <th>4</th>\n",
       "      <td>Unknown</td>\n",
       "      <td>Сумерки</td>\n",
       "      <td>3.231598</td>\n",
       "    </tr>\n",
       "    <tr>\n",
       "      <th>5</th>\n",
       "      <td>Женский</td>\n",
       "      <td>В темное время суток, освещение включено</td>\n",
       "      <td>22.407464</td>\n",
       "    </tr>\n",
       "    <tr>\n",
       "      <th>6</th>\n",
       "      <td>Женский</td>\n",
       "      <td>В темное время суток, освещение не включено</td>\n",
       "      <td>1.269501</td>\n",
       "    </tr>\n",
       "    <tr>\n",
       "      <th>7</th>\n",
       "      <td>Женский</td>\n",
       "      <td>В темное время суток, освещение отсутствует</td>\n",
       "      <td>9.177118</td>\n",
       "    </tr>\n",
       "    <tr>\n",
       "      <th>8</th>\n",
       "      <td>Женский</td>\n",
       "      <td>Светлое время суток</td>\n",
       "      <td>64.423371</td>\n",
       "    </tr>\n",
       "    <tr>\n",
       "      <th>9</th>\n",
       "      <td>Женский</td>\n",
       "      <td>Сумерки</td>\n",
       "      <td>2.722545</td>\n",
       "    </tr>\n",
       "    <tr>\n",
       "      <th>10</th>\n",
       "      <td>Мужской</td>\n",
       "      <td>В темное время суток, освещение включено</td>\n",
       "      <td>21.778950</td>\n",
       "    </tr>\n",
       "    <tr>\n",
       "      <th>11</th>\n",
       "      <td>Мужской</td>\n",
       "      <td>В темное время суток, освещение не включено</td>\n",
       "      <td>1.519462</td>\n",
       "    </tr>\n",
       "    <tr>\n",
       "      <th>12</th>\n",
       "      <td>Мужской</td>\n",
       "      <td>В темное время суток, освещение отсутствует</td>\n",
       "      <td>9.775897</td>\n",
       "    </tr>\n",
       "    <tr>\n",
       "      <th>13</th>\n",
       "      <td>Мужской</td>\n",
       "      <td>Светлое время суток</td>\n",
       "      <td>63.824325</td>\n",
       "    </tr>\n",
       "    <tr>\n",
       "      <th>14</th>\n",
       "      <td>Мужской</td>\n",
       "      <td>Сумерки</td>\n",
       "      <td>3.101367</td>\n",
       "    </tr>\n",
       "  </tbody>\n",
       "</table>\n",
       "</div>"
      ],
      "text/plain": [
       "     gender                                        light  percentage\n",
       "0   Unknown     В темное время суток, освещение включено   25.314183\n",
       "1   Unknown  В темное время суток, освещение не включено    1.077199\n",
       "2   Unknown  В темное время суток, освещение отсутствует    8.258528\n",
       "3   Unknown                          Светлое время суток   62.118492\n",
       "4   Unknown                                      Сумерки    3.231598\n",
       "5   Женский     В темное время суток, освещение включено   22.407464\n",
       "6   Женский  В темное время суток, освещение не включено    1.269501\n",
       "7   Женский  В темное время суток, освещение отсутствует    9.177118\n",
       "8   Женский                          Светлое время суток   64.423371\n",
       "9   Женский                                      Сумерки    2.722545\n",
       "10  Мужской     В темное время суток, освещение включено   21.778950\n",
       "11  Мужской  В темное время суток, освещение не включено    1.519462\n",
       "12  Мужской  В темное время суток, освещение отсутствует    9.775897\n",
       "13  Мужской                          Светлое время суток   63.824325\n",
       "14  Мужской                                      Сумерки    3.101367"
      ]
     },
     "metadata": {},
     "output_type": "display_data"
    }
   ],
   "source": [
    "# Группируем по полу и освещённости\n",
    "light_gender=(\n",
    "merged_dtp.groupby(['gender','light'])\n",
    "    .size() #считаем кол-во строк ДТП в каждой группе\n",
    "    .groupby(level=0) #группируем полученный результат по уровню индекса\n",
    "    .apply(lambda x: 100*x/x.sum()) #считаем процент\n",
    "    .reset_index(name='percentage') #сбрасываем индекс\n",
    ")\n",
    "display(light_gender)"
   ]
  },
  {
   "cell_type": "code",
   "execution_count": 44,
   "id": "7df20df1",
   "metadata": {},
   "outputs": [
    {
     "data": {
      "text/plain": [
       "<matplotlib.legend.Legend at 0x1f74b1f1760>"
      ]
     },
     "execution_count": 44,
     "metadata": {},
     "output_type": "execute_result"
    },
    {
     "data": {
      "image/png": "[encoded data removed]",
      "text/plain": [
       "<Figure size 1440x720 with 1 Axes>"
      ]
     },
     "metadata": {
      "needs_background": "light"
     },
     "output_type": "display_data"
    }
   ],
   "source": [
    "#строим график\n",
    "plt.figure(figsize=(20,10))\n",
    "sns.barplot(\n",
    "data=light_gender,\n",
    "x='percentage',\n",
    "y='light',\n",
    "hue='gender',\n",
    "palette='Set3')\n",
    "\n",
    "plt.title('Процентная разбивка ДТП по видам освещённости и полу участников')\n",
    "plt.xlabel('Доля ДТП, %')\n",
    "plt.ylabel('Вид освещённости')\n",
    "plt.legend(title='Пол участника')"
   ]
  },
  {
   "cell_type": "markdown",
   "id": "702eb1fa",
   "metadata": {},
   "source": [
    "Таким образом, на графике и в таблице видно, что и у мужчин, и у женщин большинство аварий происходит в светлое время суток. Это может быть связано с наибольшей загрузкой на дорогах. Меньше всего аварий и у мужчин, и у женщин происходит в темное время суток, когда освещение не включено. Также отдельно выделена категория \"Unknown\", где не указан пол участника ДТП. Для этой категории также характерно светлое время суток для большинства ДТП."
   ]
  },
  {
   "cell_type": "markdown",
   "id": "0383999c",
   "metadata": {},
   "source": [
    "2.5. Исследуйте, чем отличаются аварии без пострадавших от тех, в которых был один пострадавший или более."
   ]
  },
  {
   "cell_type": "code",
   "execution_count": 59,
   "id": "76144e79",
   "metadata": {},
   "outputs": [
    {
     "data": {
      "text/plain": [
       "1     11562\n",
       "2      1959\n",
       "3       616\n",
       "4       243\n",
       "5        86\n",
       "6        29\n",
       "7        12\n",
       "8         4\n",
       "9         2\n",
       "10        2\n",
       "30        1\n",
       "12        1\n",
       "Name: injured_count, dtype: int64"
      ]
     },
     "execution_count": 59,
     "metadata": {},
     "output_type": "execute_result"
    }
   ],
   "source": [
    "#проверим количество аварий, в которых нет пострадавших\n",
    "Kir_obl['injured_count'].value_counts()"
   ]
  },
  {
   "cell_type": "markdown",
   "id": "3cb43eb1",
   "metadata": {},
   "source": [
    "В данном случае сравнение аварий без пострадавших с теми, в которых был один пострадавший или более невозможно, так как в данном датасете представлены только те ДТП, в которых 1 и более пострадавших."
   ]
  },
  {
   "cell_type": "markdown",
   "id": "c85ca5e5",
   "metadata": {},
   "source": [
    "2.6. Сделайте общий вывод о связи аварийности с другими факторами. Какие рекомендации вы можете дать заказчику?"
   ]
  },
  {
   "cell_type": "markdown",
   "id": "1c8fcc0d",
   "metadata": {},
   "source": [
    "### Общий вывод о связи аварийности с факторами:\n",
    "\n",
    "На основе анализа датасета Kirovskaya_oblast.csv выявлены следующие закономерности:\n",
    "\n",
    "#### Количество участников\n",
    "\n",
    "Чем больше участников в ДТП, тем больше пострадавших.\n",
    "\n",
    "#### Время суток и освещённость\n",
    "\n",
    "Наибольшее количество ДТП приходится на светлое время суток.\n",
    "\n",
    "#### Погодные условия\n",
    "\n",
    "В ясную и пасмурную погоду совершается наибольшее количество ДТП.\n",
    "\n",
    "#### Тип ДТП\n",
    "\n",
    "Наезды на пешеходов и столкновения - наиболее распространенные категории ДТП.\n",
    "\n",
    "### Рекомендации заказчику\n",
    "\n",
    "Рекомендуется усилить контроль на участках с высокой концентрацией участников ДТП, оснастить пешеходные переходы разметкой, освещением и «островками безопасности», особенно там, где часто происходят наезды, проводить кампании для водителей о внимательности в дневное время, соблюдении скоростного режима и осторожности при пересечении с пешеходами. Также стоит учесть, что даже если большинство ДТП происходит при ясной и пасмурной погоде, стоит контролировать дороги в дождь и снег, своевременно очищать проезжую часть и применять противогололёдные средства."
   ]
  }
 ],
 "metadata": {
  "kernelspec": {
   "display_name": "Python 3 (ipykernel)",
   "language": "python",
   "name": "python3"
  },
  "language_info": {
   "codemirror_mode": {
    "name": "ipython",
    "version": 3
   },
   "file_extension": ".py",
   "mimetype": "text/x-python",
   "name": "python",
   "nbconvert_exporter": "python",
   "pygments_lexer": "ipython3",
   "version": "3.9.7"
  }
 },
 "nbformat": 4,
 "nbformat_minor": 5
}
