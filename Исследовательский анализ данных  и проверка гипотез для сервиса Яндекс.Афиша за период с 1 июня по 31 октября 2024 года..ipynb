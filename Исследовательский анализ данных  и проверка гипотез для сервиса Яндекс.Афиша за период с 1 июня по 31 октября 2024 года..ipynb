{
 "cells": [
  {
   "cell_type": "markdown",
   "metadata": {
    "id": "LMuaGIE3lGcr"
   },
   "source": [
    "# Исследовательский анализ данных в Python и проверка гипотез для сервиса Яндекс.Афиша за период с 1 июня по 31 октября 2024 года."
   ]
  },
  {
   "cell_type": "markdown",
   "metadata": {},
   "source": [
    "- Автор: Галимова Лидия\n",
    "- Дата: 04.09.2025"
   ]
  },
  {
   "cell_type": "markdown",
   "metadata": {},
   "source": [
    "**Цели и задачи проекта**\n",
    "\n",
    "Цель:\n",
    "Выявить инсайты об изменении пользовательских предпочтений и популярности событий осенью 2024 года, а также проверить гипотезы о разнице в поведении пользователей с мобильными и стационарными устройствами.\n",
    "\n",
    "**Задачи:**\n",
    "\n",
    "* Загрузить и предобработать данные\n",
    "\n",
    "* Проверить данные на дубликаты и пропуски\n",
    "\n",
    "* Провести исследовательский анализ данных\n",
    "\n",
    "* Провести статистическую проверку гипотез\n",
    "\n",
    "* Сформулировать выводы"
   ]
  },
  {
   "cell_type": "markdown",
   "metadata": {},
   "source": [
    "**Описание данных:**\n",
    "\n",
    "Датасет final_tickets_orders_df.csv включает информацию обо всех заказах билетов, совершённых с двух типов устройств — мобильных и стационарных.\n",
    "* order_id — уникальный идентификатор заказа.\n",
    "* user_id — уникальный идентификатор пользователя.\n",
    "* created_dt_msk — дата создания заказа (московское время).\n",
    "* created_ts_msk — дата и время создания заказа (московское время).\n",
    "* event_id — идентификатор мероприятия из таблицы events.\n",
    "* cinema_circuit — сеть кинотеатров. Если не применимо, то здесь будет значение 'нет'.\n",
    "* age_limit — возрастное ограничение мероприятия.\n",
    "* currency_code — валюта оплаты, например rub для российских рублей.\n",
    "* device_type_canonical — тип устройства, с которого был оформлен заказ, например mobile для мобильных устройств, desktop для стационарных.\n",
    "* revenue — выручка от заказа.\n",
    "* service_name — название билетного оператора.\n",
    "* tickets_count — количество купленных билетов.\n",
    "* total — общая сумма заказа.\n",
    "* days_since_prev - количество дней с предыдущей покупки для каждого пользователя. Если покупки не было, то данные содержат пропуск.\n",
    "\n",
    "Датасет final_tickets_events_df содержит информацию о событиях, включая город и регион события, а также информацию о площадке проведения мероприятия. (Исключая фильмы)\n",
    "* event_id — уникальный идентификатор мероприятия.\n",
    "* event_name — название мероприятия. Аналог поля event_name_code из исходной базы данных.\n",
    "* event_type_description — описание типа мероприятия.\n",
    "* event_type_main — основной тип мероприятия: театральная постановка, концерт и так далее.\n",
    "* organizers — организаторы мероприятия.\n",
    "* region_name — название региона.\n",
    "* city_name — название города.\n",
    "* venue_id — уникальный идентификатор площадки.\n",
    "* venue_name — название площадки.\n",
    "* venue_address — адрес площадки.\n",
    "\n",
    "Датасет final_tickets_tenge_df.csv с информацией о курсе тенге к российскому рублю за 2024 год. Значения в рублях представлено для 100 тенге. \n",
    "* nominal — номинал (100 тенге).\n",
    "* data — дата.\n",
    "* curs — курс тенге к рублю.\n",
    "* cdx — обозначение валюты (kzt).    "
   ]
  },
  {
   "cell_type": "markdown",
   "metadata": {},
   "source": [
    "##  Загрузка данных и знакомство с ними"
   ]
  },
  {
   "cell_type": "code",
   "execution_count": 1,
   "metadata": {},
   "outputs": [],
   "source": [
    "import pandas as pd\n",
    "import matplotlib.pyplot as plt\n",
    "import seaborn as sns\n",
    "from scipy.stats import mannwhitneyu\n",
    "import scipy.stats as stats\n",
    "from scipy.stats import shapiro, normaltest"
   ]
  },
  {
   "cell_type": "code",
   "execution_count": 2,
   "metadata": {},
   "outputs": [],
   "source": [
    "#Загружаем датасет final_tickets_orders_df\n",
    "orders=pd.read_csv('/datasets/final_tickets_orders_df.csv')"
   ]
  },
  {
   "cell_type": "code",
   "execution_count": 3,
   "metadata": {},
   "outputs": [
    {
     "data": {
      "text/html": [
       "<div>\n",
       "<style scoped>\n",
       "    .dataframe tbody tr th:only-of-type {\n",
       "        vertical-align: middle;\n",
       "    }\n",
       "\n",
       "    .dataframe tbody tr th {\n",
       "        vertical-align: top;\n",
       "    }\n",
       "\n",
       "    .dataframe thead th {\n",
       "        text-align: right;\n",
       "    }\n",
       "</style>\n",
       "<table border=\"1\" class=\"dataframe\">\n",
       "  <thead>\n",
       "    <tr style=\"text-align: right;\">\n",
       "      <th></th>\n",
       "      <th>order_id</th>\n",
       "      <th>user_id</th>\n",
       "      <th>created_dt_msk</th>\n",
       "      <th>created_ts_msk</th>\n",
       "      <th>event_id</th>\n",
       "      <th>cinema_circuit</th>\n",
       "      <th>age_limit</th>\n",
       "      <th>currency_code</th>\n",
       "      <th>device_type_canonical</th>\n",
       "      <th>revenue</th>\n",
       "      <th>service_name</th>\n",
       "      <th>tickets_count</th>\n",
       "      <th>total</th>\n",
       "      <th>days_since_prev</th>\n",
       "    </tr>\n",
       "  </thead>\n",
       "  <tbody>\n",
       "    <tr>\n",
       "      <th>0</th>\n",
       "      <td>4359165</td>\n",
       "      <td>0002849b70a3ce2</td>\n",
       "      <td>2024-08-20</td>\n",
       "      <td>2024-08-20 16:08:03</td>\n",
       "      <td>169230</td>\n",
       "      <td>нет</td>\n",
       "      <td>16</td>\n",
       "      <td>rub</td>\n",
       "      <td>mobile</td>\n",
       "      <td>1521.94</td>\n",
       "      <td>Край билетов</td>\n",
       "      <td>4</td>\n",
       "      <td>10870.99</td>\n",
       "      <td>NaN</td>\n",
       "    </tr>\n",
       "    <tr>\n",
       "      <th>1</th>\n",
       "      <td>7965605</td>\n",
       "      <td>0005ca5e93f2cf4</td>\n",
       "      <td>2024-07-23</td>\n",
       "      <td>2024-07-23 18:36:24</td>\n",
       "      <td>237325</td>\n",
       "      <td>нет</td>\n",
       "      <td>0</td>\n",
       "      <td>rub</td>\n",
       "      <td>mobile</td>\n",
       "      <td>289.45</td>\n",
       "      <td>Мой билет</td>\n",
       "      <td>2</td>\n",
       "      <td>2067.51</td>\n",
       "      <td>NaN</td>\n",
       "    </tr>\n",
       "    <tr>\n",
       "      <th>2</th>\n",
       "      <td>7292370</td>\n",
       "      <td>0005ca5e93f2cf4</td>\n",
       "      <td>2024-10-06</td>\n",
       "      <td>2024-10-06 13:56:02</td>\n",
       "      <td>578454</td>\n",
       "      <td>нет</td>\n",
       "      <td>0</td>\n",
       "      <td>rub</td>\n",
       "      <td>mobile</td>\n",
       "      <td>1258.57</td>\n",
       "      <td>За билетом!</td>\n",
       "      <td>4</td>\n",
       "      <td>13984.16</td>\n",
       "      <td>75.0</td>\n",
       "    </tr>\n",
       "    <tr>\n",
       "      <th>3</th>\n",
       "      <td>1139875</td>\n",
       "      <td>000898990054619</td>\n",
       "      <td>2024-07-13</td>\n",
       "      <td>2024-07-13 19:40:48</td>\n",
       "      <td>387271</td>\n",
       "      <td>нет</td>\n",
       "      <td>0</td>\n",
       "      <td>rub</td>\n",
       "      <td>mobile</td>\n",
       "      <td>8.49</td>\n",
       "      <td>Лови билет!</td>\n",
       "      <td>2</td>\n",
       "      <td>212.28</td>\n",
       "      <td>NaN</td>\n",
       "    </tr>\n",
       "    <tr>\n",
       "      <th>4</th>\n",
       "      <td>972400</td>\n",
       "      <td>000898990054619</td>\n",
       "      <td>2024-10-04</td>\n",
       "      <td>2024-10-04 22:33:15</td>\n",
       "      <td>509453</td>\n",
       "      <td>нет</td>\n",
       "      <td>18</td>\n",
       "      <td>rub</td>\n",
       "      <td>mobile</td>\n",
       "      <td>1390.41</td>\n",
       "      <td>Билеты без проблем</td>\n",
       "      <td>3</td>\n",
       "      <td>10695.43</td>\n",
       "      <td>83.0</td>\n",
       "    </tr>\n",
       "  </tbody>\n",
       "</table>\n",
       "</div>"
      ],
      "text/plain": [
       "   order_id          user_id created_dt_msk       created_ts_msk  event_id  \\\n",
       "0   4359165  0002849b70a3ce2     2024-08-20  2024-08-20 16:08:03    169230   \n",
       "1   7965605  0005ca5e93f2cf4     2024-07-23  2024-07-23 18:36:24    237325   \n",
       "2   7292370  0005ca5e93f2cf4     2024-10-06  2024-10-06 13:56:02    578454   \n",
       "3   1139875  000898990054619     2024-07-13  2024-07-13 19:40:48    387271   \n",
       "4    972400  000898990054619     2024-10-04  2024-10-04 22:33:15    509453   \n",
       "\n",
       "  cinema_circuit  age_limit currency_code device_type_canonical  revenue  \\\n",
       "0            нет         16           rub                mobile  1521.94   \n",
       "1            нет          0           rub                mobile   289.45   \n",
       "2            нет          0           rub                mobile  1258.57   \n",
       "3            нет          0           rub                mobile     8.49   \n",
       "4            нет         18           rub                mobile  1390.41   \n",
       "\n",
       "         service_name  tickets_count     total  days_since_prev  \n",
       "0        Край билетов              4  10870.99              NaN  \n",
       "1           Мой билет              2   2067.51              NaN  \n",
       "2         За билетом!              4  13984.16             75.0  \n",
       "3         Лови билет!              2    212.28              NaN  \n",
       "4  Билеты без проблем              3  10695.43             83.0  "
      ]
     },
     "execution_count": 3,
     "metadata": {},
     "output_type": "execute_result"
    }
   ],
   "source": [
    "#Просмотр датасета\n",
    "orders.head()"
   ]
  },
  {
   "cell_type": "code",
   "execution_count": 4,
   "metadata": {},
   "outputs": [
    {
     "name": "stdout",
     "output_type": "stream",
     "text": [
      "Количество полных дубликатов: 0\n"
     ]
    }
   ],
   "source": [
    "# Проверяем наличие полных дубликатов\n",
    "duplicates = orders.duplicated().sum()\n",
    "print(f\"Количество полных дубликатов: {duplicates}\")"
   ]
  },
  {
   "cell_type": "code",
   "execution_count": 5,
   "metadata": {},
   "outputs": [
    {
     "name": "stdout",
     "output_type": "stream",
     "text": [
      "Количество дубликатов по order_id: 0\n"
     ]
    }
   ],
   "source": [
    "# Проверяем дубликаты по идентификатору заказа\n",
    "orders_duplicates = orders.duplicated(subset='order_id').sum()\n",
    "print(f\"Количество дубликатов по order_id: {orders_duplicates}\")"
   ]
  },
  {
   "cell_type": "code",
   "execution_count": 6,
   "metadata": {},
   "outputs": [
    {
     "name": "stdout",
     "output_type": "stream",
     "text": [
      "Уникальных заказов: 290849\n",
      "Общее количество записей: 290849\n"
     ]
    }
   ],
   "source": [
    "# Проверяем количество уникальных значений в столбце order_id\n",
    "unique_count = orders['order_id'].nunique()\n",
    "total_count = orders['order_id'].count()\n",
    "print(f\"Уникальных заказов: {unique_count}\")\n",
    "print(f\"Общее количество записей: {total_count}\")"
   ]
  },
  {
   "cell_type": "code",
   "execution_count": 7,
   "metadata": {},
   "outputs": [
    {
     "name": "stdout",
     "output_type": "stream",
     "text": [
      "\n",
      "Типы данных столбцов:\n",
      "order_id                   int64\n",
      "user_id                   object\n",
      "created_dt_msk            object\n",
      "created_ts_msk            object\n",
      "event_id                   int64\n",
      "cinema_circuit            object\n",
      "age_limit                  int64\n",
      "currency_code             object\n",
      "device_type_canonical     object\n",
      "revenue                  float64\n",
      "service_name              object\n",
      "tickets_count              int64\n",
      "total                    float64\n",
      "days_since_prev          float64\n",
      "dtype: object\n"
     ]
    }
   ],
   "source": [
    "# Проверка типов данных\n",
    "print(\"\\nТипы данных столбцов:\")\n",
    "print(orders.dtypes)"
   ]
  },
  {
   "cell_type": "code",
   "execution_count": 8,
   "metadata": {},
   "outputs": [
    {
     "name": "stdout",
     "output_type": "stream",
     "text": [
      "\n",
      "Общее количество пропусков в данных: 21940\n"
     ]
    }
   ],
   "source": [
    "# Проверяем общее количество пропусков\n",
    "total_missing = orders.isnull().values.sum()\n",
    "print(f\"\\nОбщее количество пропусков в данных: {total_missing}\")"
   ]
  },
  {
   "cell_type": "code",
   "execution_count": 9,
   "metadata": {},
   "outputs": [
    {
     "name": "stdout",
     "output_type": "stream",
     "text": [
      "Пропусков в столбце days_since_prev: 21940\n"
     ]
    }
   ],
   "source": [
    "# Проверяем  количество пропусков в days_since_prev\n",
    "missing_count = orders[\"days_since_prev\"].isna().sum()\n",
    "print(\"Пропусков в столбце days_since_prev:\", missing_count)"
   ]
  },
  {
   "cell_type": "code",
   "execution_count": 10,
   "metadata": {},
   "outputs": [
    {
     "name": "stdout",
     "output_type": "stream",
     "text": [
      "[16  0 18 12  6]\n"
     ]
    }
   ],
   "source": [
    "# Значения категориального столбца 'age_limit'\n",
    "print(orders[\"age_limit\"].unique())"
   ]
  },
  {
   "cell_type": "code",
   "execution_count": 11,
   "metadata": {
    "scrolled": true
   },
   "outputs": [
    {
     "name": "stdout",
     "output_type": "stream",
     "text": [
      "['rub' 'kzt']\n"
     ]
    }
   ],
   "source": [
    "# Значения категориального столбца 'currency_code'\n",
    "print(orders[\"currency_code\"].unique())"
   ]
  },
  {
   "cell_type": "code",
   "execution_count": 12,
   "metadata": {},
   "outputs": [
    {
     "name": "stdout",
     "output_type": "stream",
     "text": [
      "['mobile' 'desktop']\n"
     ]
    }
   ],
   "source": [
    "# Значения категориального столбца 'device_type_canonical'\n",
    "print(orders[\"device_type_canonical\"].unique())"
   ]
  },
  {
   "cell_type": "markdown",
   "metadata": {},
   "source": [
    "В результате предобработки данных установлено, что в наборе содержится 290849 уникальных заказов, при этом количество записей полностью соответствует количеству уникальных, что говорит об отсутствии дубликатов. Пропуски в данных присутствуют,но только в столбце days_since_prev.\n",
    "\n",
    "Типы данных всех столбцов корректны, но необходимо переести два столбца created_dt_msk и created_ts_msk в форматы date и datetime соответственно."
   ]
  },
  {
   "cell_type": "code",
   "execution_count": 13,
   "metadata": {},
   "outputs": [],
   "source": [
    "#Меняем тип данных в столбце created_dt_msk\n",
    "orders[\"created_dt_msk\"] = pd.to_datetime(orders[\"created_dt_msk\"], errors=\"coerce\", format=\"%Y-%m-%d\")"
   ]
  },
  {
   "cell_type": "code",
   "execution_count": 14,
   "metadata": {},
   "outputs": [
    {
     "name": "stdout",
     "output_type": "stream",
     "text": [
      "datetime64[ns]\n"
     ]
    }
   ],
   "source": [
    "#Проверяем тип данных\n",
    "print(orders[\"created_dt_msk\"].dtype)"
   ]
  },
  {
   "cell_type": "code",
   "execution_count": 15,
   "metadata": {},
   "outputs": [],
   "source": [
    "#Меняем тип данных в столбце created_ts_msk\n",
    "orders[\"created_ts_msk\"] = pd.to_datetime(orders[\"created_ts_msk\"], errors=\"coerce\", format=\"%Y-%m-%d %H:%M:%S\")"
   ]
  },
  {
   "cell_type": "code",
   "execution_count": 16,
   "metadata": {},
   "outputs": [
    {
     "name": "stdout",
     "output_type": "stream",
     "text": [
      "datetime64[ns]\n"
     ]
    }
   ],
   "source": [
    "#Проверяем тип данных\n",
    "print(orders[\"created_ts_msk\"].dtype)"
   ]
  },
  {
   "cell_type": "code",
   "execution_count": 17,
   "metadata": {},
   "outputs": [],
   "source": [
    "#Загружаем датасет final_tickets_events_df\n",
    "events=pd.read_csv('/datasets/final_tickets_events_df.csv')"
   ]
  },
  {
   "cell_type": "code",
   "execution_count": 18,
   "metadata": {},
   "outputs": [
    {
     "data": {
      "text/html": [
       "<div>\n",
       "<style scoped>\n",
       "    .dataframe tbody tr th:only-of-type {\n",
       "        vertical-align: middle;\n",
       "    }\n",
       "\n",
       "    .dataframe tbody tr th {\n",
       "        vertical-align: top;\n",
       "    }\n",
       "\n",
       "    .dataframe thead th {\n",
       "        text-align: right;\n",
       "    }\n",
       "</style>\n",
       "<table border=\"1\" class=\"dataframe\">\n",
       "  <thead>\n",
       "    <tr style=\"text-align: right;\">\n",
       "      <th></th>\n",
       "      <th>event_id</th>\n",
       "      <th>event_name</th>\n",
       "      <th>event_type_description</th>\n",
       "      <th>event_type_main</th>\n",
       "      <th>organizers</th>\n",
       "      <th>region_name</th>\n",
       "      <th>city_name</th>\n",
       "      <th>city_id</th>\n",
       "      <th>venue_id</th>\n",
       "      <th>venue_name</th>\n",
       "      <th>venue_address</th>\n",
       "    </tr>\n",
       "  </thead>\n",
       "  <tbody>\n",
       "    <tr>\n",
       "      <th>0</th>\n",
       "      <td>4436</td>\n",
       "      <td>e4f26fba-da77-4c61-928a-6c3e434d793f</td>\n",
       "      <td>спектакль</td>\n",
       "      <td>театр</td>\n",
       "      <td>№4893</td>\n",
       "      <td>Североярская область</td>\n",
       "      <td>Озёрск</td>\n",
       "      <td>2</td>\n",
       "      <td>1600</td>\n",
       "      <td>Кладбище искусств \"Проблема\" и партнеры</td>\n",
       "      <td>наб. Загородная, д. 785</td>\n",
       "    </tr>\n",
       "    <tr>\n",
       "      <th>1</th>\n",
       "      <td>5785</td>\n",
       "      <td>5cc08a60-fdea-4186-9bb2-bffc3603fb77</td>\n",
       "      <td>спектакль</td>\n",
       "      <td>театр</td>\n",
       "      <td>№1931</td>\n",
       "      <td>Светополянский округ</td>\n",
       "      <td>Глиноград</td>\n",
       "      <td>54</td>\n",
       "      <td>2196</td>\n",
       "      <td>Лекции по искусству \"Свет\" Групп</td>\n",
       "      <td>ул. Ягодная, д. 942</td>\n",
       "    </tr>\n",
       "    <tr>\n",
       "      <th>2</th>\n",
       "      <td>8817</td>\n",
       "      <td>8e379a89-3a10-4811-ba06-ec22ebebe989</td>\n",
       "      <td>спектакль</td>\n",
       "      <td>театр</td>\n",
       "      <td>№4896</td>\n",
       "      <td>Североярская область</td>\n",
       "      <td>Озёрск</td>\n",
       "      <td>2</td>\n",
       "      <td>4043</td>\n",
       "      <td>Кинокомитет \"Золотая\" Инк</td>\n",
       "      <td>ш. Коммуны, д. 92 стр. 6</td>\n",
       "    </tr>\n",
       "    <tr>\n",
       "      <th>3</th>\n",
       "      <td>8849</td>\n",
       "      <td>682e3129-6a32-4952-9d8a-ef7f60d4c247</td>\n",
       "      <td>спектакль</td>\n",
       "      <td>театр</td>\n",
       "      <td>№4960</td>\n",
       "      <td>Каменевский регион</td>\n",
       "      <td>Глиногорск</td>\n",
       "      <td>213</td>\n",
       "      <td>1987</td>\n",
       "      <td>Выставка ремесел \"Свет\" Лтд</td>\n",
       "      <td>пер. Набережный, д. 35</td>\n",
       "    </tr>\n",
       "    <tr>\n",
       "      <th>4</th>\n",
       "      <td>8850</td>\n",
       "      <td>d6e99176-c77f-4af0-9222-07c571f6c624</td>\n",
       "      <td>спектакль</td>\n",
       "      <td>театр</td>\n",
       "      <td>№4770</td>\n",
       "      <td>Лесодальний край</td>\n",
       "      <td>Родниковец</td>\n",
       "      <td>55</td>\n",
       "      <td>4230</td>\n",
       "      <td>Фестивальный проект \"Листья\" Групп</td>\n",
       "      <td>пер. Проезжий, д. 9</td>\n",
       "    </tr>\n",
       "  </tbody>\n",
       "</table>\n",
       "</div>"
      ],
      "text/plain": [
       "   event_id                            event_name event_type_description  \\\n",
       "0      4436  e4f26fba-da77-4c61-928a-6c3e434d793f              спектакль   \n",
       "1      5785  5cc08a60-fdea-4186-9bb2-bffc3603fb77              спектакль   \n",
       "2      8817  8e379a89-3a10-4811-ba06-ec22ebebe989              спектакль   \n",
       "3      8849  682e3129-6a32-4952-9d8a-ef7f60d4c247              спектакль   \n",
       "4      8850  d6e99176-c77f-4af0-9222-07c571f6c624              спектакль   \n",
       "\n",
       "  event_type_main organizers           region_name   city_name  city_id  \\\n",
       "0           театр      №4893  Североярская область      Озёрск        2   \n",
       "1           театр      №1931  Светополянский округ   Глиноград       54   \n",
       "2           театр      №4896  Североярская область      Озёрск        2   \n",
       "3           театр      №4960    Каменевский регион  Глиногорск      213   \n",
       "4           театр      №4770      Лесодальний край  Родниковец       55   \n",
       "\n",
       "   venue_id                               venue_name             venue_address  \n",
       "0      1600  Кладбище искусств \"Проблема\" и партнеры   наб. Загородная, д. 785  \n",
       "1      2196         Лекции по искусству \"Свет\" Групп       ул. Ягодная, д. 942  \n",
       "2      4043                Кинокомитет \"Золотая\" Инк  ш. Коммуны, д. 92 стр. 6  \n",
       "3      1987              Выставка ремесел \"Свет\" Лтд    пер. Набережный, д. 35  \n",
       "4      4230       Фестивальный проект \"Листья\" Групп       пер. Проезжий, д. 9  "
      ]
     },
     "execution_count": 18,
     "metadata": {},
     "output_type": "execute_result"
    }
   ],
   "source": [
    "#Просмотр датасета\n",
    "events.head()"
   ]
  },
  {
   "cell_type": "code",
   "execution_count": 19,
   "metadata": {},
   "outputs": [
    {
     "name": "stdout",
     "output_type": "stream",
     "text": [
      "Количество полных дубликатов: 0\n"
     ]
    }
   ],
   "source": [
    "# Проверяем наличие полных дубликатов\n",
    "duplicates = events.duplicated().sum()\n",
    "print(f\"Количество полных дубликатов: {duplicates}\")"
   ]
  },
  {
   "cell_type": "code",
   "execution_count": 20,
   "metadata": {},
   "outputs": [
    {
     "name": "stdout",
     "output_type": "stream",
     "text": [
      "Количество дубликатов по event_id: 0\n"
     ]
    }
   ],
   "source": [
    "# Проверяем дубликаты по идентификатору события\n",
    "events_duplicates = events.duplicated(subset='event_id').sum()\n",
    "print(f\"Количество дубликатов по event_id: {events_duplicates}\")"
   ]
  },
  {
   "cell_type": "code",
   "execution_count": 21,
   "metadata": {},
   "outputs": [
    {
     "name": "stdout",
     "output_type": "stream",
     "text": [
      "Уникальных событий: 22427\n",
      "Общее количество записей: 22427\n"
     ]
    }
   ],
   "source": [
    "# Проверяем количество уникальных значений в столбце event_id\n",
    "unique_count = events['event_id'].nunique()\n",
    "total_count = events['event_id'].count()\n",
    "print(f\"Уникальных событий: {unique_count}\")\n",
    "print(f\"Общее количество записей: {total_count}\")"
   ]
  },
  {
   "cell_type": "code",
   "execution_count": 22,
   "metadata": {},
   "outputs": [
    {
     "name": "stdout",
     "output_type": "stream",
     "text": [
      "\n",
      "Типы данных столбцов:\n",
      "event_id                   int64\n",
      "event_name                object\n",
      "event_type_description    object\n",
      "event_type_main           object\n",
      "organizers                object\n",
      "region_name               object\n",
      "city_name                 object\n",
      "city_id                    int64\n",
      "venue_id                   int64\n",
      "venue_name                object\n",
      "venue_address             object\n",
      "dtype: object\n"
     ]
    }
   ],
   "source": [
    "# Проверка типов данных\n",
    "print(\"\\nТипы данных столбцов:\")\n",
    "print(events.dtypes)"
   ]
  },
  {
   "cell_type": "code",
   "execution_count": 23,
   "metadata": {},
   "outputs": [
    {
     "name": "stdout",
     "output_type": "stream",
     "text": [
      "\n",
      "Общее количество пропусков в данных: 0\n"
     ]
    }
   ],
   "source": [
    "# Проверяем общее количество пропусков\n",
    "total_missing = events.isnull().values.sum()\n",
    "print(f\"\\nОбщее количество пропусков в данных: {total_missing}\")"
   ]
  },
  {
   "cell_type": "code",
   "execution_count": 24,
   "metadata": {
    "scrolled": true
   },
   "outputs": [
    {
     "name": "stdout",
     "output_type": "stream",
     "text": [
      "['спектакль' 'балет' 'мюзикл' 'опера' 'концерт' 'шоу' 'ёлка'\n",
      " 'цирковое шоу' 'событие' 'фестиваль' 'спортивное мероприятие' 'выставка'\n",
      " 'спорт' 'оперетта' 'экскурсия' 'рок-мюзикл' 'музыкальный спектакль'\n",
      " 'снегурочка' 'подарок' 'кукольный спектакль']\n"
     ]
    }
   ],
   "source": [
    "# Значения категориального столбца 'event_type_description'\n",
    "print(events[\"event_type_description\"].unique())"
   ]
  },
  {
   "cell_type": "code",
   "execution_count": 25,
   "metadata": {
    "scrolled": true
   },
   "outputs": [
    {
     "name": "stdout",
     "output_type": "stream",
     "text": [
      "['театр' 'концерты' 'ёлки' 'другое' 'стендап' 'выставки' 'спорт']\n"
     ]
    }
   ],
   "source": [
    "# Значения категориального столбца 'event_type_main'\n",
    "print(events[\"event_type_main\"].unique())"
   ]
  },
  {
   "cell_type": "markdown",
   "metadata": {},
   "source": [
    "В результате предобработки данных установлено, что в наборе содержится 22427 уникальных событий, при этом количество записей полностью соответствует количеству уникальных, что говорит об отсутствии дубликатов. Пропуски в данных отсутствуют.\n",
    "\n",
    "Типы данных всех столбцов корректны."
   ]
  },
  {
   "cell_type": "code",
   "execution_count": 26,
   "metadata": {},
   "outputs": [
    {
     "name": "stdout",
     "output_type": "stream",
     "text": [
      "\n",
      "Column: age_limit\n",
      "Unique values: [16  0 18 12  6]\n",
      "Missing values count: 0\n",
      "Value counts:\n",
      "16    78579\n",
      "12    62557\n",
      "0     61487\n",
      "6     52173\n",
      "18    36053\n",
      "Name: age_limit, dtype: int64 \n",
      "\n",
      "\n",
      "Column: currency_code\n",
      "Unique values: ['rub' 'kzt']\n",
      "Missing values count: 0\n",
      "Value counts:\n",
      "rub    285780\n",
      "kzt      5069\n",
      "Name: currency_code, dtype: int64 \n",
      "\n",
      "\n",
      "Column: device_type_canonical\n",
      "Unique values: ['mobile' 'desktop']\n",
      "Missing values count: 0\n",
      "Value counts:\n",
      "mobile     232679\n",
      "desktop     58170\n",
      "Name: device_type_canonical, dtype: int64 \n",
      "\n",
      "\n",
      "Column: service_name\n",
      "Unique values: ['Край билетов' 'Мой билет' 'За билетом!' 'Лови билет!'\n",
      " 'Билеты без проблем' 'Облачко' 'Лучшие билеты' 'Прачечная' 'Быстробилет'\n",
      " 'Дом культуры' 'Весь в билетах' 'Билеты в руки' 'Тебе билет!'\n",
      " 'Show_ticket' 'Городской дом культуры' 'Яблоко' 'Билет по телефону'\n",
      " 'Выступления.ру' 'Росбилет' 'Шоу начинается!' 'Мир касс' 'Восьмёрка'\n",
      " 'Телебилет' 'Crazy ticket!' 'Реестр' 'Быстрый кассир' 'КарандашРУ'\n",
      " 'Радио ticket' 'Дырокол' 'Вперёд!' 'Кино билет' 'Цвет и билет' 'Зе Бест!'\n",
      " 'Тех билет' 'Лимоны' 'Билеты в интернете']\n",
      "Missing values count: 0\n",
      "Value counts:\n",
      "Билеты без проблем        63709\n",
      "Лови билет!               41126\n",
      "Билеты в руки             40364\n",
      "Мой билет                 34843\n",
      "Облачко                   26642\n",
      "Лучшие билеты             17795\n",
      "Весь в билетах            16849\n",
      "Прачечная                 10273\n",
      "Край билетов               6207\n",
      "Тебе билет!                5228\n",
      "Яблоко                     5039\n",
      "Дом культуры               4502\n",
      "За билетом!                2865\n",
      "Городской дом культуры     2733\n",
      "Show_ticket                2200\n",
      "Мир касс                   2167\n",
      "Быстробилет                2003\n",
      "Выступления.ру             1616\n",
      "Восьмёрка                  1118\n",
      "Crazy ticket!               790\n",
      "Росбилет                    539\n",
      "Шоу начинается!             499\n",
      "Быстрый кассир              381\n",
      "Радио ticket                376\n",
      "Телебилет                   321\n",
      "КарандашРУ                  133\n",
      "Реестр                      125\n",
      "Билет по телефону            85\n",
      "Вперёд!                      80\n",
      "Дырокол                      74\n",
      "Кино билет                   67\n",
      "Цвет и билет                 61\n",
      "Тех билет                    22\n",
      "Лимоны                        8\n",
      "Зе Бест!                      5\n",
      "Билеты в интернете            4\n",
      "Name: service_name, dtype: int64 \n",
      "\n"
     ]
    }
   ],
   "source": [
    "# Анализ категориальных значений\n",
    "for column in ['age_limit', 'currency_code', 'device_type_canonical', 'service_name']:\n",
    "        print(f\"\\nColumn: {column}\")\n",
    "        print(\"Unique values:\", orders[column].unique())\n",
    "        print(\"Missing values count:\", orders[column].isna().sum())\n",
    "        print(\"Value counts:\")\n",
    "        print(orders[column].value_counts(dropna=False), \"\\n\")"
   ]
  },
  {
   "cell_type": "code",
   "execution_count": 27,
   "metadata": {},
   "outputs": [],
   "source": [
    "#Загружаем датасет final_tickets_tenge_df\n",
    "tenge=pd.read_csv('/datasets/final_tickets_tenge_df.csv')"
   ]
  },
  {
   "cell_type": "code",
   "execution_count": 28,
   "metadata": {},
   "outputs": [
    {
     "data": {
      "text/html": [
       "<div>\n",
       "<style scoped>\n",
       "    .dataframe tbody tr th:only-of-type {\n",
       "        vertical-align: middle;\n",
       "    }\n",
       "\n",
       "    .dataframe tbody tr th {\n",
       "        vertical-align: top;\n",
       "    }\n",
       "\n",
       "    .dataframe thead th {\n",
       "        text-align: right;\n",
       "    }\n",
       "</style>\n",
       "<table border=\"1\" class=\"dataframe\">\n",
       "  <thead>\n",
       "    <tr style=\"text-align: right;\">\n",
       "      <th></th>\n",
       "      <th>data</th>\n",
       "      <th>nominal</th>\n",
       "      <th>curs</th>\n",
       "      <th>cdx</th>\n",
       "    </tr>\n",
       "  </thead>\n",
       "  <tbody>\n",
       "    <tr>\n",
       "      <th>0</th>\n",
       "      <td>2024-01-10</td>\n",
       "      <td>100</td>\n",
       "      <td>19.9391</td>\n",
       "      <td>kzt</td>\n",
       "    </tr>\n",
       "    <tr>\n",
       "      <th>1</th>\n",
       "      <td>2024-01-11</td>\n",
       "      <td>100</td>\n",
       "      <td>19.7255</td>\n",
       "      <td>kzt</td>\n",
       "    </tr>\n",
       "    <tr>\n",
       "      <th>2</th>\n",
       "      <td>2024-01-12</td>\n",
       "      <td>100</td>\n",
       "      <td>19.5839</td>\n",
       "      <td>kzt</td>\n",
       "    </tr>\n",
       "    <tr>\n",
       "      <th>3</th>\n",
       "      <td>2024-01-13</td>\n",
       "      <td>100</td>\n",
       "      <td>19.4501</td>\n",
       "      <td>kzt</td>\n",
       "    </tr>\n",
       "    <tr>\n",
       "      <th>4</th>\n",
       "      <td>2024-01-14</td>\n",
       "      <td>100</td>\n",
       "      <td>19.4501</td>\n",
       "      <td>kzt</td>\n",
       "    </tr>\n",
       "  </tbody>\n",
       "</table>\n",
       "</div>"
      ],
      "text/plain": [
       "         data  nominal     curs  cdx\n",
       "0  2024-01-10      100  19.9391  kzt\n",
       "1  2024-01-11      100  19.7255  kzt\n",
       "2  2024-01-12      100  19.5839  kzt\n",
       "3  2024-01-13      100  19.4501  kzt\n",
       "4  2024-01-14      100  19.4501  kzt"
      ]
     },
     "execution_count": 28,
     "metadata": {},
     "output_type": "execute_result"
    }
   ],
   "source": [
    "#Просмотр датасета\n",
    "tenge.head()"
   ]
  },
  {
   "cell_type": "code",
   "execution_count": 29,
   "metadata": {},
   "outputs": [
    {
     "name": "stdout",
     "output_type": "stream",
     "text": [
      "Уникальных дат: 357\n",
      "Общее количество записей: 357\n"
     ]
    }
   ],
   "source": [
    "# Проверяем количество уникальных значений в столбце data\n",
    "unique_count = tenge['data'].nunique()\n",
    "total_count = tenge['data'].count()\n",
    "print(f\"Уникальных дат: {unique_count}\")\n",
    "print(f\"Общее количество записей: {total_count}\")"
   ]
  },
  {
   "cell_type": "code",
   "execution_count": 30,
   "metadata": {},
   "outputs": [
    {
     "name": "stdout",
     "output_type": "stream",
     "text": [
      "\n",
      "Общее количество пропусков в данных: 0\n"
     ]
    }
   ],
   "source": [
    "# Проверяем общее количество пропусков\n",
    "total_missing = tenge.isnull().values.sum()\n",
    "print(f\"\\nОбщее количество пропусков в данных: {total_missing}\")"
   ]
  },
  {
   "cell_type": "code",
   "execution_count": 31,
   "metadata": {},
   "outputs": [
    {
     "name": "stdout",
     "output_type": "stream",
     "text": [
      "\n",
      "Типы данных столбцов:\n",
      "data        object\n",
      "nominal      int64\n",
      "curs       float64\n",
      "cdx         object\n",
      "dtype: object\n"
     ]
    }
   ],
   "source": [
    "# Проверка типов данных\n",
    "print(\"\\nТипы данных столбцов:\")\n",
    "print(tenge.dtypes)"
   ]
  },
  {
   "cell_type": "markdown",
   "metadata": {},
   "source": [
    "В результате предобработки данных установлено, что в наборе содержится 357 уникальных дат, при этом количество записей полностью соответствует количеству уникальных, что говорит об отсутствии дубликатов. Пропуски в данных отсутствуют.\n",
    "\n",
    "Типы данных всех столбцов корректны, кроме столбца date - его необходимо преобразовать в тип date."
   ]
  },
  {
   "cell_type": "code",
   "execution_count": 32,
   "metadata": {},
   "outputs": [],
   "source": [
    "#Меняем тип данных в столбце data\n",
    "tenge[\"data\"] = pd.to_datetime(tenge[\"data\"], errors=\"coerce\", format=\"%Y-%m-%d\")"
   ]
  },
  {
   "cell_type": "code",
   "execution_count": 33,
   "metadata": {},
   "outputs": [
    {
     "name": "stdout",
     "output_type": "stream",
     "text": [
      "datetime64[ns]\n"
     ]
    }
   ],
   "source": [
    "#Проверяем тип данных\n",
    "print(tenge[\"data\"].dtype)"
   ]
  },
  {
   "cell_type": "code",
   "execution_count": 34,
   "metadata": {},
   "outputs": [
    {
     "name": "stdout",
     "output_type": "stream",
     "text": [
      "Количество строк (RUB): 285780\n",
      "Количество строк (KZT): 5069\n"
     ]
    }
   ],
   "source": [
    "#Разделяем данные по currency_code \n",
    "rub = orders[orders[\"currency_code\"] == \"rub\"].copy()\n",
    "kzt = orders[orders[\"currency_code\"] == \"kzt\"].copy()\n",
    "\n",
    "print(\"Количество строк (RUB):\", len(rub))\n",
    "print(\"Количество строк (KZT):\", len(kzt))\n"
   ]
  },
  {
   "cell_type": "code",
   "execution_count": 35,
   "metadata": {},
   "outputs": [
    {
     "name": "stdout",
     "output_type": "stream",
     "text": [
      "Статистика по revenue (RUB):\n",
      "count    285780.000000\n",
      "mean        547.568333\n",
      "std         871.524559\n",
      "min         -90.760000\n",
      "25%         113.827500\n",
      "50%         346.100000\n",
      "75%         791.700000\n",
      "max       81174.540000\n",
      "Name: revenue, dtype: float64\n",
      "\n",
      "Статистика по revenue (KZT):\n",
      "count     5069.000000\n",
      "mean      4995.206767\n",
      "std       4916.752776\n",
      "min          0.000000\n",
      "25%        518.100000\n",
      "50%       3698.830000\n",
      "75%       7397.660000\n",
      "max      26425.860000\n",
      "Name: revenue, dtype: float64\n",
      "\n",
      "Статистика по tickets_count (RUB):\n",
      "count    285780.000000\n",
      "mean          2.754077\n",
      "std           1.171419\n",
      "min           1.000000\n",
      "25%           2.000000\n",
      "50%           3.000000\n",
      "75%           4.000000\n",
      "max          57.000000\n",
      "Name: tickets_count, dtype: float64\n",
      "\n",
      "Статистика по tickets_count (KZT):\n",
      "count    5069.000000\n",
      "mean        2.762872\n",
      "std         1.115558\n",
      "min         1.000000\n",
      "25%         2.000000\n",
      "50%         3.000000\n",
      "75%         4.000000\n",
      "max         6.000000\n",
      "Name: tickets_count, dtype: float64\n"
     ]
    }
   ],
   "source": [
    "#Выводим основные статистики по revenue и tickets_count\n",
    "print(\"Статистика по revenue (RUB):\")\n",
    "print(rub[\"revenue\"].describe())\n",
    "\n",
    "print(\"\\nСтатистика по revenue (KZT):\")\n",
    "print(kzt[\"revenue\"].describe())\n",
    "\n",
    "print(\"\\nСтатистика по tickets_count (RUB):\")\n",
    "print(rub[\"tickets_count\"].describe())\n",
    "\n",
    "print(\"\\nСтатистика по tickets_count (KZT):\")\n",
    "print(kzt[\"tickets_count\"].describe())"
   ]
  },
  {
   "cell_type": "code",
   "execution_count": 36,
   "metadata": {},
   "outputs": [
    {
     "data": {
      "image/png": "[encoded data removed]",
      "text/plain": [
       "<Figure size 432x288 with 1 Axes>"
      ]
     },
     "metadata": {
      "needs_background": "light"
     },
     "output_type": "display_data"
    },
    {
     "data": {
      "image/png": "[encoded data removed]",
      "text/plain": [
       "<Figure size 432x288 with 1 Axes>"
      ]
     },
     "metadata": {
      "needs_background": "light"
     },
     "output_type": "display_data"
    }
   ],
   "source": [
    "# Графики для revenue (rub)\n",
    "plt.hist(rub[\"revenue\"], bins=50)\n",
    "plt.title(\"Распределение revenue(rub)\")\n",
    "plt.show()\n",
    "\n",
    "plt.boxplot(rub[\"revenue\"].dropna())\n",
    "plt.title(\"Диаграмма размаха revenue(rub)\")\n",
    "plt.show()\n"
   ]
  },
  {
   "cell_type": "code",
   "execution_count": 37,
   "metadata": {},
   "outputs": [
    {
     "data": {
      "image/png": "[encoded data removed]",
      "text/plain": [
       "<Figure size 432x288 with 1 Axes>"
      ]
     },
     "metadata": {
      "needs_background": "light"
     },
     "output_type": "display_data"
    },
    {
     "data": {
      "image/png": "[encoded data removed]",
      "text/plain": [
       "<Figure size 432x288 with 1 Axes>"
      ]
     },
     "metadata": {
      "needs_background": "light"
     },
     "output_type": "display_data"
    }
   ],
   "source": [
    "# Графики для revenue (kzt)\n",
    "plt.hist(kzt[\"revenue\"], bins=50)\n",
    "plt.title(\"Распределение revenue(kzt)\")\n",
    "plt.show()\n",
    "\n",
    "plt.boxplot(kzt[\"revenue\"].dropna())\n",
    "plt.title(\"Диаграмма размаха revenue(kzt)\")\n",
    "plt.show()"
   ]
  },
  {
   "cell_type": "code",
   "execution_count": 38,
   "metadata": {},
   "outputs": [
    {
     "data": {
      "image/png": "[encoded data removed]",
      "text/plain": [
       "<Figure size 432x288 with 1 Axes>"
      ]
     },
     "metadata": {
      "needs_background": "light"
     },
     "output_type": "display_data"
    },
    {
     "data": {
      "image/png": "[encoded data removed]",
      "text/plain": [
       "<Figure size 432x288 with 1 Axes>"
      ]
     },
     "metadata": {
      "needs_background": "light"
     },
     "output_type": "display_data"
    }
   ],
   "source": [
    "# Графики для tickets_count (rub)\n",
    "plt.hist(rub[\"tickets_count\"], bins=50)\n",
    "plt.title(\"Распределение tickets_count (rub)\")\n",
    "plt.show()\n",
    "\n",
    "plt.boxplot(rub[\"tickets_count\"].dropna())\n",
    "plt.title(\"Диаграмма размаха tickets_count(rub)\")\n",
    "plt.show()"
   ]
  },
  {
   "cell_type": "code",
   "execution_count": 39,
   "metadata": {},
   "outputs": [
    {
     "data": {
      "image/png": "[encoded data removed]",
      "text/plain": [
       "<Figure size 432x288 with 1 Axes>"
      ]
     },
     "metadata": {
      "needs_background": "light"
     },
     "output_type": "display_data"
    },
    {
     "data": {
      "image/png": "[encoded data removed]",
      "text/plain": [
       "<Figure size 432x288 with 1 Axes>"
      ]
     },
     "metadata": {
      "needs_background": "light"
     },
     "output_type": "display_data"
    }
   ],
   "source": [
    "# Графики для tickets_count (kzt)\n",
    "plt.hist(kzt[\"tickets_count\"], bins=50)\n",
    "plt.title(\"Распределение tickets_count (kzt)\")\n",
    "plt.show()\n",
    "\n",
    "plt.boxplot(kzt[\"tickets_count\"].dropna())\n",
    "plt.title(\"Диаграмма размаха tickets_count(kzt)\")\n",
    "plt.show()"
   ]
  },
  {
   "cell_type": "code",
   "execution_count": 40,
   "metadata": {},
   "outputs": [
    {
     "name": "stdout",
     "output_type": "stream",
     "text": [
      "99-й перцентиль (рубли): 2569.5942000000005\n",
      "99-й перцентиль (тенге): 17617.24\n"
     ]
    }
   ],
   "source": [
    "#Находим 99-й процентиль\n",
    "p99_rub = rub[\"revenue\"].quantile(0.99)\n",
    "p99_kzt = kzt[\"revenue\"].quantile(0.99)\n",
    "\n",
    "print(\"99-й перцентиль (рубли):\", p99_rub)\n",
    "print(\"99-й перцентиль (тенге):\", p99_kzt)"
   ]
  },
  {
   "cell_type": "code",
   "execution_count": 41,
   "metadata": {},
   "outputs": [],
   "source": [
    "#Отбираем значения по 99-му процентилю\n",
    "rub_clean = rub[rub[\"revenue\"] <= p99_rub]\n",
    "kzt_clean = kzt[kzt[\"revenue\"] <= p99_kzt] "
   ]
  },
  {
   "cell_type": "code",
   "execution_count": 42,
   "metadata": {},
   "outputs": [
    {
     "name": "stdout",
     "output_type": "stream",
     "text": [
      "До очистки: 81174.54 26425.86\n",
      "После очистки: 2569.59 17617.24\n"
     ]
    }
   ],
   "source": [
    "#Проверка результата\n",
    "print(\"До очистки:\", rub[\"revenue\"].max(), kzt[\"revenue\"].max())\n",
    "print(\"После очистки:\", rub_clean[\"revenue\"].max(), kzt_clean[\"revenue\"].max())"
   ]
  },
  {
   "cell_type": "code",
   "execution_count": 43,
   "metadata": {},
   "outputs": [
    {
     "name": "stdout",
     "output_type": "stream",
     "text": [
      "Найдено потенциальных неявных дубликатов: 85\n"
     ]
    }
   ],
   "source": [
    "# Смотрим дубликаты без учёта идентификатора заказа\n",
    "dup_mask = orders.duplicated(subset=[\"user_id\", \"event_id\", \"tickets_count\", \"revenue\", \"currency_code\", \"created_ts_msk\",\"service_name\"], keep=False)\n",
    "\n",
    "duplicates = orders[dup_mask].sort_values(by=[\"user_id\", \"event_id\"])\n",
    "print(\"Найдено потенциальных неявных дубликатов:\", len(duplicates))"
   ]
  },
  {
   "cell_type": "code",
   "execution_count": 44,
   "metadata": {},
   "outputs": [],
   "source": [
    "orders = orders.drop_duplicates(subset=[\"user_id\", \"event_id\", \"tickets_count\", \"revenue\", \"currency_code\", \"created_ts_msk\", \"service_name\"])"
   ]
  },
  {
   "cell_type": "code",
   "execution_count": 45,
   "metadata": {},
   "outputs": [],
   "source": [
    "# Объединяем заказы с курсам валюты\n",
    "orders = orders.merge(\n",
    "    tenge,\n",
    "    how=\"left\",\n",
    "    left_on=\"created_dt_msk\",\n",
    "    right_on=\"data\"\n",
    ")"
   ]
  },
  {
   "cell_type": "code",
   "execution_count": 46,
   "metadata": {},
   "outputs": [],
   "source": [
    "# Считаем revenue_rub\n",
    "orders[\"revenue_rub\"] = orders.apply(\n",
    "    lambda row: row[\"revenue\"] if row[\"currency_code\"] == \"rub\"\n",
    "    else row[\"revenue\"] * (row[\"curs\"] / 100),\n",
    "    axis=1\n",
    ")"
   ]
  },
  {
   "cell_type": "code",
   "execution_count": 47,
   "metadata": {},
   "outputs": [],
   "source": [
    "#Находим выручку с продажи одного билета на мероприятие.\n",
    "orders[\"one_ticket_revenue_rub\"] = orders[\"revenue_rub\"] / orders[\"tickets_count\"]"
   ]
  },
  {
   "cell_type": "code",
   "execution_count": 48,
   "metadata": {},
   "outputs": [],
   "source": [
    "#Выделяем месяц оформления заказа\n",
    "orders[\"month\"] = orders[\"created_dt_msk\"].dt.month"
   ]
  },
  {
   "cell_type": "code",
   "execution_count": 49,
   "metadata": {},
   "outputs": [],
   "source": [
    "#Создаем столбец с сезонностью\n",
    "def get_season(month):\n",
    "    if month in [12, 1, 2]:\n",
    "        return \"зима\"\n",
    "    elif month in [3, 4, 5]:\n",
    "        return \"весна\"\n",
    "    elif month in [6, 7, 8]:\n",
    "        return \"лето\"\n",
    "    else:\n",
    "        return \"осень\"\n",
    "\n",
    "orders[\"season\"] = orders[\"month\"].apply(get_season)"
   ]
  },
  {
   "cell_type": "code",
   "execution_count": 50,
   "metadata": {},
   "outputs": [
    {
     "data": {
      "text/html": [
       "<div>\n",
       "<style scoped>\n",
       "    .dataframe tbody tr th:only-of-type {\n",
       "        vertical-align: middle;\n",
       "    }\n",
       "\n",
       "    .dataframe tbody tr th {\n",
       "        vertical-align: top;\n",
       "    }\n",
       "\n",
       "    .dataframe thead th {\n",
       "        text-align: right;\n",
       "    }\n",
       "</style>\n",
       "<table border=\"1\" class=\"dataframe\">\n",
       "  <thead>\n",
       "    <tr style=\"text-align: right;\">\n",
       "      <th></th>\n",
       "      <th>order_id</th>\n",
       "      <th>user_id</th>\n",
       "      <th>created_dt_msk</th>\n",
       "      <th>created_ts_msk</th>\n",
       "      <th>event_id</th>\n",
       "      <th>cinema_circuit</th>\n",
       "      <th>age_limit</th>\n",
       "      <th>currency_code</th>\n",
       "      <th>device_type_canonical</th>\n",
       "      <th>revenue</th>\n",
       "      <th>...</th>\n",
       "      <th>total</th>\n",
       "      <th>days_since_prev</th>\n",
       "      <th>data</th>\n",
       "      <th>nominal</th>\n",
       "      <th>curs</th>\n",
       "      <th>cdx</th>\n",
       "      <th>revenue_rub</th>\n",
       "      <th>one_ticket_revenue_rub</th>\n",
       "      <th>month</th>\n",
       "      <th>season</th>\n",
       "    </tr>\n",
       "  </thead>\n",
       "  <tbody>\n",
       "    <tr>\n",
       "      <th>0</th>\n",
       "      <td>4359165</td>\n",
       "      <td>0002849b70a3ce2</td>\n",
       "      <td>2024-08-20</td>\n",
       "      <td>2024-08-20 16:08:03</td>\n",
       "      <td>169230</td>\n",
       "      <td>нет</td>\n",
       "      <td>16</td>\n",
       "      <td>rub</td>\n",
       "      <td>mobile</td>\n",
       "      <td>1521.94</td>\n",
       "      <td>...</td>\n",
       "      <td>10870.99</td>\n",
       "      <td>NaN</td>\n",
       "      <td>2024-08-20</td>\n",
       "      <td>100</td>\n",
       "      <td>18.6972</td>\n",
       "      <td>kzt</td>\n",
       "      <td>1521.94</td>\n",
       "      <td>380.4850</td>\n",
       "      <td>8</td>\n",
       "      <td>лето</td>\n",
       "    </tr>\n",
       "    <tr>\n",
       "      <th>1</th>\n",
       "      <td>7965605</td>\n",
       "      <td>0005ca5e93f2cf4</td>\n",
       "      <td>2024-07-23</td>\n",
       "      <td>2024-07-23 18:36:24</td>\n",
       "      <td>237325</td>\n",
       "      <td>нет</td>\n",
       "      <td>0</td>\n",
       "      <td>rub</td>\n",
       "      <td>mobile</td>\n",
       "      <td>289.45</td>\n",
       "      <td>...</td>\n",
       "      <td>2067.51</td>\n",
       "      <td>NaN</td>\n",
       "      <td>2024-07-23</td>\n",
       "      <td>100</td>\n",
       "      <td>18.3419</td>\n",
       "      <td>kzt</td>\n",
       "      <td>289.45</td>\n",
       "      <td>144.7250</td>\n",
       "      <td>7</td>\n",
       "      <td>лето</td>\n",
       "    </tr>\n",
       "    <tr>\n",
       "      <th>2</th>\n",
       "      <td>7292370</td>\n",
       "      <td>0005ca5e93f2cf4</td>\n",
       "      <td>2024-10-06</td>\n",
       "      <td>2024-10-06 13:56:02</td>\n",
       "      <td>578454</td>\n",
       "      <td>нет</td>\n",
       "      <td>0</td>\n",
       "      <td>rub</td>\n",
       "      <td>mobile</td>\n",
       "      <td>1258.57</td>\n",
       "      <td>...</td>\n",
       "      <td>13984.16</td>\n",
       "      <td>75.0</td>\n",
       "      <td>2024-10-06</td>\n",
       "      <td>100</td>\n",
       "      <td>19.6475</td>\n",
       "      <td>kzt</td>\n",
       "      <td>1258.57</td>\n",
       "      <td>314.6425</td>\n",
       "      <td>10</td>\n",
       "      <td>осень</td>\n",
       "    </tr>\n",
       "    <tr>\n",
       "      <th>3</th>\n",
       "      <td>1139875</td>\n",
       "      <td>000898990054619</td>\n",
       "      <td>2024-07-13</td>\n",
       "      <td>2024-07-13 19:40:48</td>\n",
       "      <td>387271</td>\n",
       "      <td>нет</td>\n",
       "      <td>0</td>\n",
       "      <td>rub</td>\n",
       "      <td>mobile</td>\n",
       "      <td>8.49</td>\n",
       "      <td>...</td>\n",
       "      <td>212.28</td>\n",
       "      <td>NaN</td>\n",
       "      <td>2024-07-13</td>\n",
       "      <td>100</td>\n",
       "      <td>18.5010</td>\n",
       "      <td>kzt</td>\n",
       "      <td>8.49</td>\n",
       "      <td>4.2450</td>\n",
       "      <td>7</td>\n",
       "      <td>лето</td>\n",
       "    </tr>\n",
       "    <tr>\n",
       "      <th>4</th>\n",
       "      <td>972400</td>\n",
       "      <td>000898990054619</td>\n",
       "      <td>2024-10-04</td>\n",
       "      <td>2024-10-04 22:33:15</td>\n",
       "      <td>509453</td>\n",
       "      <td>нет</td>\n",
       "      <td>18</td>\n",
       "      <td>rub</td>\n",
       "      <td>mobile</td>\n",
       "      <td>1390.41</td>\n",
       "      <td>...</td>\n",
       "      <td>10695.43</td>\n",
       "      <td>83.0</td>\n",
       "      <td>2024-10-04</td>\n",
       "      <td>100</td>\n",
       "      <td>19.6648</td>\n",
       "      <td>kzt</td>\n",
       "      <td>1390.41</td>\n",
       "      <td>463.4700</td>\n",
       "      <td>10</td>\n",
       "      <td>осень</td>\n",
       "    </tr>\n",
       "  </tbody>\n",
       "</table>\n",
       "<p>5 rows × 22 columns</p>\n",
       "</div>"
      ],
      "text/plain": [
       "   order_id          user_id created_dt_msk      created_ts_msk  event_id  \\\n",
       "0   4359165  0002849b70a3ce2     2024-08-20 2024-08-20 16:08:03    169230   \n",
       "1   7965605  0005ca5e93f2cf4     2024-07-23 2024-07-23 18:36:24    237325   \n",
       "2   7292370  0005ca5e93f2cf4     2024-10-06 2024-10-06 13:56:02    578454   \n",
       "3   1139875  000898990054619     2024-07-13 2024-07-13 19:40:48    387271   \n",
       "4    972400  000898990054619     2024-10-04 2024-10-04 22:33:15    509453   \n",
       "\n",
       "  cinema_circuit  age_limit currency_code device_type_canonical  revenue  ...  \\\n",
       "0            нет         16           rub                mobile  1521.94  ...   \n",
       "1            нет          0           rub                mobile   289.45  ...   \n",
       "2            нет          0           rub                mobile  1258.57  ...   \n",
       "3            нет          0           rub                mobile     8.49  ...   \n",
       "4            нет         18           rub                mobile  1390.41  ...   \n",
       "\n",
       "      total  days_since_prev       data  nominal     curs  cdx  revenue_rub  \\\n",
       "0  10870.99              NaN 2024-08-20      100  18.6972  kzt      1521.94   \n",
       "1   2067.51              NaN 2024-07-23      100  18.3419  kzt       289.45   \n",
       "2  13984.16             75.0 2024-10-06      100  19.6475  kzt      1258.57   \n",
       "3    212.28              NaN 2024-07-13      100  18.5010  kzt         8.49   \n",
       "4  10695.43             83.0 2024-10-04      100  19.6648  kzt      1390.41   \n",
       "\n",
       "  one_ticket_revenue_rub  month  season  \n",
       "0               380.4850      8    лето  \n",
       "1               144.7250      7    лето  \n",
       "2               314.6425     10   осень  \n",
       "3                 4.2450      7    лето  \n",
       "4               463.4700     10   осень  \n",
       "\n",
       "[5 rows x 22 columns]"
      ]
     },
     "execution_count": 50,
     "metadata": {},
     "output_type": "execute_result"
    }
   ],
   "source": [
    "orders.head()"
   ]
  },
  {
   "cell_type": "code",
   "execution_count": 51,
   "metadata": {},
   "outputs": [
    {
     "data": {
      "text/plain": [
       "(290805, 32)"
      ]
     },
     "metadata": {},
     "output_type": "display_data"
    },
    {
     "data": {
      "text/html": [
       "<div>\n",
       "<style scoped>\n",
       "    .dataframe tbody tr th:only-of-type {\n",
       "        vertical-align: middle;\n",
       "    }\n",
       "\n",
       "    .dataframe tbody tr th {\n",
       "        vertical-align: top;\n",
       "    }\n",
       "\n",
       "    .dataframe thead th {\n",
       "        text-align: right;\n",
       "    }\n",
       "</style>\n",
       "<table border=\"1\" class=\"dataframe\">\n",
       "  <thead>\n",
       "    <tr style=\"text-align: right;\">\n",
       "      <th></th>\n",
       "      <th>order_id</th>\n",
       "      <th>user_id</th>\n",
       "      <th>created_dt_msk</th>\n",
       "      <th>created_ts_msk</th>\n",
       "      <th>event_id</th>\n",
       "      <th>cinema_circuit</th>\n",
       "      <th>age_limit</th>\n",
       "      <th>currency_code</th>\n",
       "      <th>device_type_canonical</th>\n",
       "      <th>revenue</th>\n",
       "      <th>...</th>\n",
       "      <th>event_name</th>\n",
       "      <th>event_type_description</th>\n",
       "      <th>event_type_main</th>\n",
       "      <th>organizers</th>\n",
       "      <th>region_name</th>\n",
       "      <th>city_name</th>\n",
       "      <th>city_id</th>\n",
       "      <th>venue_id</th>\n",
       "      <th>venue_name</th>\n",
       "      <th>venue_address</th>\n",
       "    </tr>\n",
       "  </thead>\n",
       "  <tbody>\n",
       "    <tr>\n",
       "      <th>0</th>\n",
       "      <td>4359165</td>\n",
       "      <td>0002849b70a3ce2</td>\n",
       "      <td>2024-08-20</td>\n",
       "      <td>2024-08-20 16:08:03</td>\n",
       "      <td>169230</td>\n",
       "      <td>нет</td>\n",
       "      <td>16</td>\n",
       "      <td>rub</td>\n",
       "      <td>mobile</td>\n",
       "      <td>1521.94</td>\n",
       "      <td>...</td>\n",
       "      <td>f0f7b271-04eb-4af6-bcb8-8f05cf46d6ad</td>\n",
       "      <td>спектакль</td>\n",
       "      <td>театр</td>\n",
       "      <td>№3322</td>\n",
       "      <td>Каменевский регион</td>\n",
       "      <td>Глиногорск</td>\n",
       "      <td>213.0</td>\n",
       "      <td>3972.0</td>\n",
       "      <td>Сценический центр \"Деталь\" Групп</td>\n",
       "      <td>алл. Машиностроителей, д. 19 стр. 6</td>\n",
       "    </tr>\n",
       "    <tr>\n",
       "      <th>1</th>\n",
       "      <td>7965605</td>\n",
       "      <td>0005ca5e93f2cf4</td>\n",
       "      <td>2024-07-23</td>\n",
       "      <td>2024-07-23 18:36:24</td>\n",
       "      <td>237325</td>\n",
       "      <td>нет</td>\n",
       "      <td>0</td>\n",
       "      <td>rub</td>\n",
       "      <td>mobile</td>\n",
       "      <td>289.45</td>\n",
       "      <td>...</td>\n",
       "      <td>40efeb04-81b7-4135-b41f-708ff00cc64c</td>\n",
       "      <td>событие</td>\n",
       "      <td>выставки</td>\n",
       "      <td>№4850</td>\n",
       "      <td>Каменевский регион</td>\n",
       "      <td>Глиногорск</td>\n",
       "      <td>213.0</td>\n",
       "      <td>2941.0</td>\n",
       "      <td>Музыкальная школа для детей \"Аккаунт\" Лтд</td>\n",
       "      <td>алл. Шмидта, д. 9 стр. 4</td>\n",
       "    </tr>\n",
       "    <tr>\n",
       "      <th>2</th>\n",
       "      <td>7292370</td>\n",
       "      <td>0005ca5e93f2cf4</td>\n",
       "      <td>2024-10-06</td>\n",
       "      <td>2024-10-06 13:56:02</td>\n",
       "      <td>578454</td>\n",
       "      <td>нет</td>\n",
       "      <td>0</td>\n",
       "      <td>rub</td>\n",
       "      <td>mobile</td>\n",
       "      <td>1258.57</td>\n",
       "      <td>...</td>\n",
       "      <td>01f3fb7b-ed07-4f94-b1d3-9a2e1ee5a8ca</td>\n",
       "      <td>цирковое шоу</td>\n",
       "      <td>другое</td>\n",
       "      <td>№1540</td>\n",
       "      <td>Каменевский регион</td>\n",
       "      <td>Глиногорск</td>\n",
       "      <td>213.0</td>\n",
       "      <td>4507.0</td>\n",
       "      <td>Училище искусств \"Нирвана\" Инк</td>\n",
       "      <td>алл. Юбилейная, д. 5/6</td>\n",
       "    </tr>\n",
       "    <tr>\n",
       "      <th>3</th>\n",
       "      <td>1139875</td>\n",
       "      <td>000898990054619</td>\n",
       "      <td>2024-07-13</td>\n",
       "      <td>2024-07-13 19:40:48</td>\n",
       "      <td>387271</td>\n",
       "      <td>нет</td>\n",
       "      <td>0</td>\n",
       "      <td>rub</td>\n",
       "      <td>mobile</td>\n",
       "      <td>8.49</td>\n",
       "      <td>...</td>\n",
       "      <td>2f638715-8844-466c-b43f-378a627c419f</td>\n",
       "      <td>выставка</td>\n",
       "      <td>другое</td>\n",
       "      <td>№5049</td>\n",
       "      <td>Североярская область</td>\n",
       "      <td>Озёрск</td>\n",
       "      <td>2.0</td>\n",
       "      <td>3574.0</td>\n",
       "      <td>Театр альтернативного искусства \"Ода\" Лимитед</td>\n",
       "      <td>алл. Есенина, д. 243 к. 3/8</td>\n",
       "    </tr>\n",
       "    <tr>\n",
       "      <th>4</th>\n",
       "      <td>972400</td>\n",
       "      <td>000898990054619</td>\n",
       "      <td>2024-10-04</td>\n",
       "      <td>2024-10-04 22:33:15</td>\n",
       "      <td>509453</td>\n",
       "      <td>нет</td>\n",
       "      <td>18</td>\n",
       "      <td>rub</td>\n",
       "      <td>mobile</td>\n",
       "      <td>1390.41</td>\n",
       "      <td>...</td>\n",
       "      <td>10d805d3-9809-4d8a-834e-225b7d03f95d</td>\n",
       "      <td>шоу</td>\n",
       "      <td>стендап</td>\n",
       "      <td>№832</td>\n",
       "      <td>Озернинский край</td>\n",
       "      <td>Родниковецк</td>\n",
       "      <td>240.0</td>\n",
       "      <td>1896.0</td>\n",
       "      <td>Театр кукол \"Огни\" Инкорпорэйтед</td>\n",
       "      <td>ш. Набережное, д. 595 стр. 8</td>\n",
       "    </tr>\n",
       "  </tbody>\n",
       "</table>\n",
       "<p>5 rows × 32 columns</p>\n",
       "</div>"
      ],
      "text/plain": [
       "   order_id          user_id created_dt_msk      created_ts_msk  event_id  \\\n",
       "0   4359165  0002849b70a3ce2     2024-08-20 2024-08-20 16:08:03    169230   \n",
       "1   7965605  0005ca5e93f2cf4     2024-07-23 2024-07-23 18:36:24    237325   \n",
       "2   7292370  0005ca5e93f2cf4     2024-10-06 2024-10-06 13:56:02    578454   \n",
       "3   1139875  000898990054619     2024-07-13 2024-07-13 19:40:48    387271   \n",
       "4    972400  000898990054619     2024-10-04 2024-10-04 22:33:15    509453   \n",
       "\n",
       "  cinema_circuit  age_limit currency_code device_type_canonical  revenue  ...  \\\n",
       "0            нет         16           rub                mobile  1521.94  ...   \n",
       "1            нет          0           rub                mobile   289.45  ...   \n",
       "2            нет          0           rub                mobile  1258.57  ...   \n",
       "3            нет          0           rub                mobile     8.49  ...   \n",
       "4            нет         18           rub                mobile  1390.41  ...   \n",
       "\n",
       "                             event_name  event_type_description  \\\n",
       "0  f0f7b271-04eb-4af6-bcb8-8f05cf46d6ad               спектакль   \n",
       "1  40efeb04-81b7-4135-b41f-708ff00cc64c                 событие   \n",
       "2  01f3fb7b-ed07-4f94-b1d3-9a2e1ee5a8ca            цирковое шоу   \n",
       "3  2f638715-8844-466c-b43f-378a627c419f                выставка   \n",
       "4  10d805d3-9809-4d8a-834e-225b7d03f95d                     шоу   \n",
       "\n",
       "   event_type_main  organizers           region_name    city_name  city_id  \\\n",
       "0            театр       №3322    Каменевский регион   Глиногорск    213.0   \n",
       "1         выставки       №4850    Каменевский регион   Глиногорск    213.0   \n",
       "2           другое       №1540    Каменевский регион   Глиногорск    213.0   \n",
       "3           другое       №5049  Североярская область       Озёрск      2.0   \n",
       "4          стендап        №832      Озернинский край  Родниковецк    240.0   \n",
       "\n",
       "  venue_id                                     venue_name  \\\n",
       "0   3972.0               Сценический центр \"Деталь\" Групп   \n",
       "1   2941.0      Музыкальная школа для детей \"Аккаунт\" Лтд   \n",
       "2   4507.0                 Училище искусств \"Нирвана\" Инк   \n",
       "3   3574.0  Театр альтернативного искусства \"Ода\" Лимитед   \n",
       "4   1896.0               Театр кукол \"Огни\" Инкорпорэйтед   \n",
       "\n",
       "                         venue_address  \n",
       "0  алл. Машиностроителей, д. 19 стр. 6  \n",
       "1             алл. Шмидта, д. 9 стр. 4  \n",
       "2               алл. Юбилейная, д. 5/6  \n",
       "3          алл. Есенина, д. 243 к. 3/8  \n",
       "4         ш. Набережное, д. 595 стр. 8  \n",
       "\n",
       "[5 rows x 32 columns]"
      ]
     },
     "metadata": {},
     "output_type": "display_data"
    }
   ],
   "source": [
    "# Объединяем два датафрейма по event_id\n",
    "orders_full = orders.merge(\n",
    "    events,                   \n",
    "    on='event_id',             \n",
    "    how='left'                \n",
    ")\n",
    "\n",
    "# Проверим результат\n",
    "display(orders_full.shape)          # размер после объединения\n",
    "display(orders_full.head())         "
   ]
  },
  {
   "cell_type": "markdown",
   "metadata": {},
   "source": [
    "В ходе работы проведена комплексная предобработка и анализ датасетов по билетным заказам и мероприятиям. Сначала были загружены три источника данных: заказы (final_tickets_orders_df.csv), события (final_tickets_events_df.csv) и курс тенге к рублю (final_tickets_tenge_df.csv). Выполнена проверка на дубликаты и пропуски: в заказах полные дубликаты отсутствуют, пропуски встречаются только в столбце days_since_prev. Типы данных проверены и при необходимости приведены к корректным форматам — даты и время переведены в datetime.\n",
    "\n",
    "Данные разделены по валюте, что позволило провести отдельный анализ выручки (revenue) и количества билетов (tickets_count) для рублей и тенге. Для выявления выбросов рассчитаны 99-й перцентиль, и значения выше него были отобраны отдельно. Были выявлены потенциальные неявные дубликаты по заказам, которые учтены и удалены.\n",
    "\n",
    "К заказам добавлены курсы валют, на основе которых рассчитана выручка в рублях (revenue_rub) и средняя выручка за один билет (one_ticket_revenue_rub). Также выделены месяц заказа (month) и сезон (season).\n",
    "\n",
    "В результате объединения сформирован единый датафрейм с 32 столбцами, включающими как характеристики заказа, так и атрибуты события.\n",
    "\n",
    "Таким образом, подготовлен полный, очищенный датасет, готовый для дальнейшего анализа выручки, продаж по типам устройств, сезонности и регионального распределения мероприятий."
   ]
  },
  {
   "cell_type": "code",
   "execution_count": 52,
   "metadata": {},
   "outputs": [
    {
     "name": "stdout",
     "output_type": "stream",
     "text": [
      "Выбросы: 2907 строк (1.00%)\n"
     ]
    }
   ],
   "source": [
    "# доля срезанных revenue\n",
    "threshold = orders['revenue'].quantile(0.99)\n",
    "\n",
    "outliers_count = (orders['revenue'] > threshold).sum()\n",
    "outliers_share = outliers_count / orders.shape[0] * 100\n",
    "\n",
    "print(f\"Выбросы: {outliers_count} строк ({outliers_share:.2f}%)\")"
   ]
  },
  {
   "cell_type": "code",
   "execution_count": 53,
   "metadata": {},
   "outputs": [
    {
     "name": "stdout",
     "output_type": "stream",
     "text": [
      "Выбросы: 188 строк (0.06%)\n"
     ]
    }
   ],
   "source": [
    "# доля срезанных tickets_count\n",
    "threshold = orders['tickets_count'].quantile(0.99)\n",
    "\n",
    "outliers_count = (orders['tickets_count'] > threshold).sum()\n",
    "outliers_share = outliers_count / orders.shape[0] * 100\n",
    "\n",
    "print(f\"Выбросы: {outliers_count} строк ({outliers_share:.2f}%)\")"
   ]
  },
  {
   "cell_type": "markdown",
   "metadata": {},
   "source": [
    "## Исследовательский анализ данных"
   ]
  },
  {
   "cell_type": "markdown",
   "metadata": {},
   "source": [
    "### Анализ распределения заказов по сегментам и их сезонные изменения"
   ]
  },
  {
   "cell_type": "code",
   "execution_count": 54,
   "metadata": {},
   "outputs": [
    {
     "data": {
      "image/png": "[encoded data removed]",
      "text/plain": [
       "<Figure size 720x360 with 1 Axes>"
      ]
     },
     "metadata": {
      "needs_background": "light"
     },
     "output_type": "display_data"
    }
   ],
   "source": [
    "# Считаем количество заказов по месяцам\n",
    "monthly_orders = orders_full.groupby(\"month\")[\"order_id\"].count()\n",
    "\n",
    "# Визуализируем динамику\n",
    "plt.figure(figsize=(10,5))\n",
    "monthly_orders.plot(kind='bar', color='skyblue')\n",
    "plt.title(\"Количество заказов по месяцам 2024 года\")\n",
    "plt.xlabel(\"Месяц\")\n",
    "plt.ylabel(\"Количество заказов\")\n",
    "plt.xticks(rotation=0)\n",
    "plt.show()"
   ]
  },
  {
   "cell_type": "code",
   "execution_count": 55,
   "metadata": {},
   "outputs": [],
   "source": [
    "# Фильтруем данные по сезонам\n",
    "summer = orders_full[orders_full[\"season\"] == \"лето\"]\n",
    "autumn = orders_full[orders_full[\"season\"] == \"осень\"]\n",
    "\n",
    "# Рассчитываем доли заказов по типу мероприятия\n",
    "summer_event_type = summer[\"event_type_main\"].value_counts(normalize=True)\n",
    "autumn_event_type = autumn[\"event_type_main\"].value_counts(normalize=True)\n",
    "\n",
    "# Доли по типу устройства\n",
    "summer_device = summer[\"device_type_canonical\"].value_counts(normalize=True)\n",
    "autumn_device = autumn[\"device_type_canonical\"].value_counts(normalize=True)\n",
    "\n",
    "# Доли по возрастному рейтингу\n",
    "summer_age = summer[\"age_limit\"].value_counts(normalize=True)\n",
    "autumn_age = autumn[\"age_limit\"].value_counts(normalize=True)"
   ]
  },
  {
   "cell_type": "code",
   "execution_count": 56,
   "metadata": {},
   "outputs": [
    {
     "data": {
      "image/png": "[encoded data removed]",
      "text/plain": [
       "<Figure size 864x432 with 1 Axes>"
      ]
     },
     "metadata": {
      "needs_background": "light"
     },
     "output_type": "display_data"
    }
   ],
   "source": [
    "#Строим график распределения по типу мероприятия \n",
    "season_event = orders_full.groupby([\"season\", \"event_type_main\"])[\"order_id\"].count().reset_index()\n",
    "season_event[\"share\"] = season_event.groupby(\"season\")[\"order_id\"].transform(lambda x: x / x.sum())\n",
    "\n",
    "plt.figure(figsize=(12,6))\n",
    "sns.barplot(x=\"event_type_main\", y=\"share\", hue=\"season\", data=season_event)\n",
    "plt.title(\"Доля заказов по типу мероприятия летом и осенью\")\n",
    "plt.ylabel(\"Доля заказов\")\n",
    "plt.xlabel(\"Тип мероприятия\")\n",
    "plt.xticks(rotation=45)\n",
    "plt.show()"
   ]
  },
  {
   "cell_type": "code",
   "execution_count": 57,
   "metadata": {},
   "outputs": [
    {
     "data": {
      "image/png": "[encoded data removed]",
      "text/plain": [
       "<Figure size 864x432 with 1 Axes>"
      ]
     },
     "metadata": {
      "needs_background": "light"
     },
     "output_type": "display_data"
    }
   ],
   "source": [
    "#Строим график распределения по типу устройства\n",
    "season_device = orders_full.groupby([\"season\", \"device_type_canonical\"])[\"order_id\"].count().reset_index()\n",
    "season_device[\"share\"] = season_device.groupby(\"season\")[\"order_id\"].transform(lambda x: x / x.sum())\n",
    "\n",
    "plt.figure(figsize=(12,6))\n",
    "sns.barplot(x=\"device_type_canonical\", y=\"share\", hue=\"season\", data=season_device)\n",
    "plt.title(\"Доля заказов по типу устройства летом и осенью\")\n",
    "plt.ylabel(\"Доля заказов\")\n",
    "plt.xlabel(\"Тип мероприятия\")\n",
    "plt.xticks(rotation=45)\n",
    "plt.show()"
   ]
  },
  {
   "cell_type": "code",
   "execution_count": 58,
   "metadata": {},
   "outputs": [
    {
     "data": {
      "image/png": "[encoded data removed]",
      "text/plain": [
       "<Figure size 864x432 with 1 Axes>"
      ]
     },
     "metadata": {
      "needs_background": "light"
     },
     "output_type": "display_data"
    }
   ],
   "source": [
    "#Строим график распределения по возрастному рейтингу\n",
    "season_age = orders_full.groupby([\"season\", \"age_limit\"])[\"order_id\"].count().reset_index()\n",
    "season_age[\"share\"] = season_age.groupby(\"season\")[\"order_id\"].transform(lambda x: x / x.sum())\n",
    "\n",
    "plt.figure(figsize=(12,6))\n",
    "sns.barplot(x=\"age_limit\", y=\"share\", hue=\"season\", data=season_age)\n",
    "plt.title(\"Доля заказов по возрастному рейтингу летом и осенью\")\n",
    "plt.ylabel(\"Доля заказов\")\n",
    "plt.xlabel(\"Тип мероприятия\")\n",
    "plt.xticks(rotation=45)\n",
    "plt.show()"
   ]
  },
  {
   "cell_type": "code",
   "execution_count": 59,
   "metadata": {},
   "outputs": [
    {
     "data": {
      "image/png": "[encoded data removed]",
      "text/plain": [
       "<Figure size 864x432 with 1 Axes>"
      ]
     },
     "metadata": {
      "needs_background": "light"
     },
     "output_type": "display_data"
    }
   ],
   "source": [
    "# Средняя стоимость одного билета по типу мероприятия и сезону\n",
    "ticket_price_season = orders_full.groupby([\"season\", \"event_type_main\"])[\"one_ticket_revenue_rub\"].mean().reset_index()\n",
    "\n",
    "# Рассчитываем относительное изменение: осень относительно лета\n",
    "summer_prices = ticket_price_season[ticket_price_season[\"season\"] == \"лето\"].set_index(\"event_type_main\")[\"one_ticket_revenue_rub\"]\n",
    "autumn_prices = ticket_price_season[ticket_price_season[\"season\"] == \"осень\"].set_index(\"event_type_main\")[\"one_ticket_revenue_rub\"]\n",
    "\n",
    "relative_change = ((autumn_prices - summer_prices) / summer_prices).reset_index()\n",
    "relative_change.columns = [\"event_type_main\", \"relative_change\"]\n",
    "\n",
    "# Визуализация\n",
    "plt.figure(figsize=(12,6))\n",
    "sns.barplot(x=\"event_type_main\", y=\"relative_change\", data=relative_change)\n",
    "plt.title(\"Относительное изменение средней стоимости билета летом и осенью по типу мероприятия\")\n",
    "plt.ylabel(\"Изменение, доля\")\n",
    "plt.xlabel(\"Тип мероприятия\")\n",
    "plt.xticks(rotation=45)\n",
    "plt.axhline(0, color=\"gray\", linestyle=\"--\")\n",
    "plt.show()"
   ]
  },
  {
   "cell_type": "markdown",
   "metadata": {},
   "source": [
    "С июня по октябрь фиксируется заметный рост количества заказов, что подтверждает сезонность.\n",
    "\n",
    "Доли заказов по типу мероприятия меняются с приходом осени: например, театральные постановки и спортивные мероприятия могут увеличивать долю.\n",
    "\n",
    "По типу устройства: летом больше заказов с мобильных устройств, осенью доля компьютеров может незначительно увеличиваться.\n",
    "\n",
    "По возрастным категориям лето и осень показывают разные распределения: взрослые мероприятия (16+, 18+) могут становиться более популярными летом.\n",
    "\n",
    "Средняя стоимость одного билета (one_ticket_revenue_rub) изменяется по типу мероприятий: для некоторых категорий (выставки, стендап) она растёт осенью, для других остаётся стабильной или снижается.\n",
    "\n",
    "Сезонные изменения в распределении заказов и выручке с одного билета демонстрируют, что маркетинговые и операционные стратегии могут быть скорректированы в зависимости от сезона и категории мероприятия."
   ]
  },
  {
   "cell_type": "markdown",
   "metadata": {},
   "source": [
    "### Осенняя активность пользователей"
   ]
  },
  {
   "cell_type": "code",
   "execution_count": 60,
   "metadata": {},
   "outputs": [],
   "source": [
    "#Отбираем данные за осень\n",
    "autumn_orders = orders_full[\n",
    "    (orders_full[\"created_ts_msk\"].dt.month.isin([9, 10]))\n",
    "]"
   ]
  },
  {
   "cell_type": "code",
   "execution_count": 61,
   "metadata": {},
   "outputs": [],
   "source": [
    "# считаем среднее число заказов на одного пользователя\n",
    "daily_stats = (\n",
    "    autumn_orders.groupby(autumn_orders[\"created_ts_msk\"].dt.date)\n",
    "    .agg(\n",
    "        orders_count=(\"order_id\", \"count\"),\n",
    "        dau=(\"user_id\", \"nunique\"),\n",
    "        avg_ticket_price=(\"one_ticket_revenue_rub\", \"mean\")\n",
    "    )\n",
    "    .reset_index()\n",
    ")\n",
    "\n",
    "daily_stats[\"orders_per_user\"] = daily_stats[\"orders_count\"] / daily_stats[\"dau\"]\n",
    "\n",
    "daily_stats.rename(columns={\"created_ts_msk\": \"date\"}, inplace=True)"
   ]
  },
  {
   "cell_type": "code",
   "execution_count": 62,
   "metadata": {},
   "outputs": [
    {
     "data": {
      "image/png": "[encoded data removed]",
      "text/plain": [
       "<Figure size 1008x1152 with 4 Axes>"
      ]
     },
     "metadata": {
      "needs_background": "light"
     },
     "output_type": "display_data"
    }
   ],
   "source": [
    "#Строим графики\n",
    "fig, axes = plt.subplots(4, 1, figsize=(14, 16), sharex=True)\n",
    "\n",
    "sns.lineplot(data=daily_stats, x=\"date\", y=\"orders_count\", ax=axes[0])\n",
    "axes[0].set_title(\"Число заказов по дням (осень 2024)\")\n",
    "\n",
    "sns.lineplot(data=daily_stats, x=\"date\", y=\"dau\", ax=axes[1])\n",
    "axes[1].set_title(\"DAU — количество активных пользователей по дням\")\n",
    "\n",
    "sns.lineplot(data=daily_stats, x=\"date\", y=\"orders_per_user\", ax=axes[2])\n",
    "axes[2].set_title(\"Среднее число заказов на одного пользователя\")\n",
    "\n",
    "sns.lineplot(data=daily_stats, x=\"date\", y=\"avg_ticket_price\", ax=axes[3])\n",
    "axes[3].set_title(\"Средняя стоимость одного билета (RUB)\")\n",
    "\n",
    "plt.tight_layout()\n",
    "plt.show()"
   ]
  },
  {
   "cell_type": "code",
   "execution_count": 63,
   "metadata": {},
   "outputs": [],
   "source": [
    "#Добавляем новый столбец\n",
    "autumn_orders = orders_full[\n",
    "    (orders_full[\"created_ts_msk\"].dt.month.isin([9, 10]))\n",
    "].copy()\n",
    "\n",
    "autumn_orders[\"weekday\"] = autumn_orders[\"created_ts_msk\"].dt.dayofweek"
   ]
  },
  {
   "cell_type": "code",
   "execution_count": 64,
   "metadata": {},
   "outputs": [
    {
     "data": {
      "image/png": "[encoded data removed]",
      "text/plain": [
       "<Figure size 720x432 with 1 Axes>"
      ]
     },
     "metadata": {
      "needs_background": "light"
     },
     "output_type": "display_data"
    }
   ],
   "source": [
    "#Строим график\n",
    "weekly_stats = (\n",
    "    autumn_orders.groupby(\"weekday\")\n",
    "    .size()\n",
    "    .reset_index(name=\"orders_count\")\n",
    ")\n",
    "\n",
    "plt.figure(figsize=(10,6))\n",
    "sns.barplot(data=weekly_stats, x=\"weekday\", y=\"orders_count\")\n",
    "\n",
    "plt.title(\"Число заказов по дням недели (осень 2024)\")\n",
    "plt.xlabel(\"День недели\")\n",
    "plt.ylabel(\"Число заказов\")\n",
    "\n",
    "# Подписи оси X: 1=Пн ... 7=Вс\n",
    "plt.xticks(\n",
    "    ticks=range(0,7), \n",
    "    labels=[\"1 (Пн)\", \"2 (Вт)\", \"3 (Ср)\", \"4 (Чт)\", \"5 (Пт)\", \"6 (Сб)\", \"7 (Вс)\"]\n",
    ")\n",
    "\n",
    "plt.show()\n"
   ]
  },
  {
   "cell_type": "markdown",
   "metadata": {},
   "source": [
    "*Динамика по дням:*\n",
    "\n",
    "Количество DAU растет, тогда как Среднее число заказов на пользователя относительно стабильно, что говорит о том, что рост заказов связан именно с увеличением числа активных пользователей. Средняя стоимость билета не демонстрирует резких скачков, остаётся в пределах сезонных колебаний. Чичло заказов также плавно растет.\n",
    "\n",
    "*Недельная цикличность:*\n",
    "\n",
    "В будни зафиксировано больше заказов, чем в выходные."
   ]
  },
  {
   "cell_type": "markdown",
   "metadata": {},
   "source": [
    "### Популярные события и партнёры"
   ]
  },
  {
   "cell_type": "code",
   "execution_count": 65,
   "metadata": {},
   "outputs": [
    {
     "data": {
      "text/html": [
       "<div>\n",
       "<style scoped>\n",
       "    .dataframe tbody tr th:only-of-type {\n",
       "        vertical-align: middle;\n",
       "    }\n",
       "\n",
       "    .dataframe tbody tr th {\n",
       "        vertical-align: top;\n",
       "    }\n",
       "\n",
       "    .dataframe thead th {\n",
       "        text-align: right;\n",
       "    }\n",
       "</style>\n",
       "<table border=\"1\" class=\"dataframe\">\n",
       "  <thead>\n",
       "    <tr style=\"text-align: right;\">\n",
       "      <th></th>\n",
       "      <th>region_name</th>\n",
       "      <th>unique_events</th>\n",
       "      <th>total_orders</th>\n",
       "      <th>event_share</th>\n",
       "      <th>order_share</th>\n",
       "    </tr>\n",
       "  </thead>\n",
       "  <tbody>\n",
       "    <tr>\n",
       "      <th>23</th>\n",
       "      <td>Каменевский регион</td>\n",
       "      <td>5983</td>\n",
       "      <td>91044</td>\n",
       "      <td>0.266777</td>\n",
       "      <td>0.313332</td>\n",
       "    </tr>\n",
       "    <tr>\n",
       "      <th>60</th>\n",
       "      <td>Североярская область</td>\n",
       "      <td>3814</td>\n",
       "      <td>44042</td>\n",
       "      <td>0.170063</td>\n",
       "      <td>0.151573</td>\n",
       "    </tr>\n",
       "    <tr>\n",
       "      <th>77</th>\n",
       "      <td>Широковская область</td>\n",
       "      <td>1233</td>\n",
       "      <td>16457</td>\n",
       "      <td>0.054978</td>\n",
       "      <td>0.056638</td>\n",
       "    </tr>\n",
       "    <tr>\n",
       "      <th>57</th>\n",
       "      <td>Светополянский округ</td>\n",
       "      <td>1075</td>\n",
       "      <td>7605</td>\n",
       "      <td>0.047933</td>\n",
       "      <td>0.026173</td>\n",
       "    </tr>\n",
       "    <tr>\n",
       "      <th>52</th>\n",
       "      <td>Речиновская область</td>\n",
       "      <td>702</td>\n",
       "      <td>6292</td>\n",
       "      <td>0.031302</td>\n",
       "      <td>0.021654</td>\n",
       "    </tr>\n",
       "    <tr>\n",
       "      <th>74</th>\n",
       "      <td>Травяная область</td>\n",
       "      <td>683</td>\n",
       "      <td>5045</td>\n",
       "      <td>0.030454</td>\n",
       "      <td>0.017363</td>\n",
       "    </tr>\n",
       "    <tr>\n",
       "      <th>11</th>\n",
       "      <td>Горицветская область</td>\n",
       "      <td>551</td>\n",
       "      <td>5165</td>\n",
       "      <td>0.024569</td>\n",
       "      <td>0.017776</td>\n",
       "    </tr>\n",
       "    <tr>\n",
       "      <th>61</th>\n",
       "      <td>Серебринская область</td>\n",
       "      <td>542</td>\n",
       "      <td>5610</td>\n",
       "      <td>0.024167</td>\n",
       "      <td>0.019307</td>\n",
       "    </tr>\n",
       "    <tr>\n",
       "      <th>78</th>\n",
       "      <td>Яблоневская область</td>\n",
       "      <td>535</td>\n",
       "      <td>6179</td>\n",
       "      <td>0.023855</td>\n",
       "      <td>0.021265</td>\n",
       "    </tr>\n",
       "    <tr>\n",
       "      <th>69</th>\n",
       "      <td>Тепляковская область</td>\n",
       "      <td>530</td>\n",
       "      <td>4387</td>\n",
       "      <td>0.023632</td>\n",
       "      <td>0.015098</td>\n",
       "    </tr>\n",
       "  </tbody>\n",
       "</table>\n",
       "</div>"
      ],
      "text/plain": [
       "             region_name  unique_events  total_orders  event_share  \\\n",
       "23    Каменевский регион           5983         91044     0.266777   \n",
       "60  Североярская область           3814         44042     0.170063   \n",
       "77   Широковская область           1233         16457     0.054978   \n",
       "57  Светополянский округ           1075          7605     0.047933   \n",
       "52   Речиновская область            702          6292     0.031302   \n",
       "74      Травяная область            683          5045     0.030454   \n",
       "11  Горицветская область            551          5165     0.024569   \n",
       "61  Серебринская область            542          5610     0.024167   \n",
       "78   Яблоневская область            535          6179     0.023855   \n",
       "69  Тепляковская область            530          4387     0.023632   \n",
       "\n",
       "    order_share  \n",
       "23     0.313332  \n",
       "60     0.151573  \n",
       "77     0.056638  \n",
       "57     0.026173  \n",
       "52     0.021654  \n",
       "74     0.017363  \n",
       "11     0.017776  \n",
       "61     0.019307  \n",
       "78     0.021265  \n",
       "69     0.015098  "
      ]
     },
     "execution_count": 65,
     "metadata": {},
     "output_type": "execute_result"
    }
   ],
   "source": [
    "# Группировка по регионам\n",
    "region_stats = (\n",
    "    orders_full.groupby(\"region_name\")\n",
    "    .agg(\n",
    "        unique_events=(\"event_id\", \"nunique\"),\n",
    "        total_orders=(\"order_id\", \"count\")\n",
    "    )\n",
    "    .reset_index()\n",
    ")\n",
    "\n",
    "# Добавляем доли\n",
    "region_stats[\"event_share\"] = region_stats[\"unique_events\"] / region_stats[\"unique_events\"].sum()\n",
    "region_stats[\"order_share\"] = region_stats[\"total_orders\"] / region_stats[\"total_orders\"].sum()\n",
    "\n",
    "region_stats = region_stats.sort_values(by=\"unique_events\", ascending=False)\n",
    "region_stats.head(10)"
   ]
  },
  {
   "cell_type": "code",
   "execution_count": 66,
   "metadata": {},
   "outputs": [
    {
     "data": {
      "image/png": "[encoded data removed]",
      "text/plain": [
       "<Figure size 864x432 with 1 Axes>"
      ]
     },
     "metadata": {
      "needs_background": "light"
     },
     "output_type": "display_data"
    }
   ],
   "source": [
    "# топ-10 регионов по количеству заказов\n",
    "top_n = 10\n",
    "top_regions = region_stats.nlargest(top_n, \"total_orders\")\n",
    "\n",
    "# визуализация\n",
    "plt.figure(figsize=(12,6))\n",
    "sns.barplot(\n",
    "    data=top_regions.sort_values(\"total_orders\", ascending=False),\n",
    "    x=\"region_name\", y=\"total_orders\"\n",
    ")\n",
    "plt.title(f\"Топ-{top_n} регионов по числу заказов\")\n",
    "plt.xticks(rotation=45, ha=\"right\")\n",
    "plt.ylabel(\"Число заказов\")\n",
    "plt.xlabel(\"Регион\")\n",
    "plt.show()"
   ]
  },
  {
   "cell_type": "markdown",
   "metadata": {},
   "source": [
    "<div class=\"alert alert-block alert-warning\">📝\n",
    "    \n",
    "\n",
    "__Комментарий от ревьюера №2__\n",
    "\n",
    "Кажется цветовая палитра тут лишняя"
   ]
  },
  {
   "cell_type": "code",
   "execution_count": 67,
   "metadata": {},
   "outputs": [
    {
     "data": {
      "text/html": [
       "<div>\n",
       "<style scoped>\n",
       "    .dataframe tbody tr th:only-of-type {\n",
       "        vertical-align: middle;\n",
       "    }\n",
       "\n",
       "    .dataframe tbody tr th {\n",
       "        vertical-align: top;\n",
       "    }\n",
       "\n",
       "    .dataframe thead th {\n",
       "        text-align: right;\n",
       "    }\n",
       "</style>\n",
       "<table border=\"1\" class=\"dataframe\">\n",
       "  <thead>\n",
       "    <tr style=\"text-align: right;\">\n",
       "      <th></th>\n",
       "      <th>service_name</th>\n",
       "      <th>unique_events</th>\n",
       "      <th>total_orders</th>\n",
       "      <th>total_revenue</th>\n",
       "      <th>event_share</th>\n",
       "      <th>order_share</th>\n",
       "      <th>revenue_share</th>\n",
       "    </tr>\n",
       "  </thead>\n",
       "  <tbody>\n",
       "    <tr>\n",
       "      <th>3</th>\n",
       "      <td>Билеты без проблем</td>\n",
       "      <td>4263</td>\n",
       "      <td>63692</td>\n",
       "      <td>2.669893e+07</td>\n",
       "      <td>0.174099</td>\n",
       "      <td>0.219020</td>\n",
       "      <td>0.165380</td>\n",
       "    </tr>\n",
       "    <tr>\n",
       "      <th>24</th>\n",
       "      <td>Мой билет</td>\n",
       "      <td>1310</td>\n",
       "      <td>34838</td>\n",
       "      <td>2.347663e+07</td>\n",
       "      <td>0.053500</td>\n",
       "      <td>0.119798</td>\n",
       "      <td>0.145420</td>\n",
       "    </tr>\n",
       "    <tr>\n",
       "      <th>25</th>\n",
       "      <td>Облачко</td>\n",
       "      <td>2348</td>\n",
       "      <td>26642</td>\n",
       "      <td>2.164407e+07</td>\n",
       "      <td>0.095892</td>\n",
       "      <td>0.091615</td>\n",
       "      <td>0.134069</td>\n",
       "    </tr>\n",
       "    <tr>\n",
       "      <th>8</th>\n",
       "      <td>Весь в билетах</td>\n",
       "      <td>867</td>\n",
       "      <td>16848</td>\n",
       "      <td>1.804842e+07</td>\n",
       "      <td>0.035408</td>\n",
       "      <td>0.057936</td>\n",
       "      <td>0.111797</td>\n",
       "    </tr>\n",
       "    <tr>\n",
       "      <th>21</th>\n",
       "      <td>Лови билет!</td>\n",
       "      <td>4884</td>\n",
       "      <td>41120</td>\n",
       "      <td>1.766363e+07</td>\n",
       "      <td>0.199461</td>\n",
       "      <td>0.141401</td>\n",
       "      <td>0.109413</td>\n",
       "    </tr>\n",
       "    <tr>\n",
       "      <th>5</th>\n",
       "      <td>Билеты в руки</td>\n",
       "      <td>3544</td>\n",
       "      <td>40355</td>\n",
       "      <td>1.338653e+07</td>\n",
       "      <td>0.144736</td>\n",
       "      <td>0.138770</td>\n",
       "      <td>0.082920</td>\n",
       "    </tr>\n",
       "    <tr>\n",
       "      <th>19</th>\n",
       "      <td>Край билетов</td>\n",
       "      <td>253</td>\n",
       "      <td>6207</td>\n",
       "      <td>6.703959e+06</td>\n",
       "      <td>0.010332</td>\n",
       "      <td>0.021344</td>\n",
       "      <td>0.041526</td>\n",
       "    </tr>\n",
       "    <tr>\n",
       "      <th>26</th>\n",
       "      <td>Прачечная</td>\n",
       "      <td>1027</td>\n",
       "      <td>10273</td>\n",
       "      <td>4.900985e+06</td>\n",
       "      <td>0.041942</td>\n",
       "      <td>0.035326</td>\n",
       "      <td>0.030358</td>\n",
       "    </tr>\n",
       "    <tr>\n",
       "      <th>13</th>\n",
       "      <td>Дом культуры</td>\n",
       "      <td>274</td>\n",
       "      <td>4502</td>\n",
       "      <td>4.676648e+06</td>\n",
       "      <td>0.011190</td>\n",
       "      <td>0.015481</td>\n",
       "      <td>0.028968</td>\n",
       "    </tr>\n",
       "    <tr>\n",
       "      <th>35</th>\n",
       "      <td>Яблоко</td>\n",
       "      <td>716</td>\n",
       "      <td>5039</td>\n",
       "      <td>3.971152e+06</td>\n",
       "      <td>0.029241</td>\n",
       "      <td>0.017328</td>\n",
       "      <td>0.024598</td>\n",
       "    </tr>\n",
       "  </tbody>\n",
       "</table>\n",
       "</div>"
      ],
      "text/plain": [
       "          service_name  unique_events  total_orders  total_revenue  \\\n",
       "3   Билеты без проблем           4263         63692   2.669893e+07   \n",
       "24           Мой билет           1310         34838   2.347663e+07   \n",
       "25             Облачко           2348         26642   2.164407e+07   \n",
       "8       Весь в билетах            867         16848   1.804842e+07   \n",
       "21         Лови билет!           4884         41120   1.766363e+07   \n",
       "5        Билеты в руки           3544         40355   1.338653e+07   \n",
       "19        Край билетов            253          6207   6.703959e+06   \n",
       "26           Прачечная           1027         10273   4.900985e+06   \n",
       "13        Дом культуры            274          4502   4.676648e+06   \n",
       "35              Яблоко            716          5039   3.971152e+06   \n",
       "\n",
       "    event_share  order_share  revenue_share  \n",
       "3      0.174099     0.219020       0.165380  \n",
       "24     0.053500     0.119798       0.145420  \n",
       "25     0.095892     0.091615       0.134069  \n",
       "8      0.035408     0.057936       0.111797  \n",
       "21     0.199461     0.141401       0.109413  \n",
       "5      0.144736     0.138770       0.082920  \n",
       "19     0.010332     0.021344       0.041526  \n",
       "26     0.041942     0.035326       0.030358  \n",
       "13     0.011190     0.015481       0.028968  \n",
       "35     0.029241     0.017328       0.024598  "
      ]
     },
     "execution_count": 67,
     "metadata": {},
     "output_type": "execute_result"
    }
   ],
   "source": [
    "#Группировка по сервисам продажи билетов\n",
    "partner_stats = (\n",
    "    orders_full.groupby(\"service_name\")\n",
    "    .agg(\n",
    "        unique_events=(\"event_id\", \"nunique\"),\n",
    "        total_orders=(\"order_id\", \"count\"),\n",
    "        total_revenue=(\"revenue_rub\", \"sum\")\n",
    "    )\n",
    "    .reset_index()\n",
    ")\n",
    "\n",
    "# Добавляем доли\n",
    "partner_stats[\"event_share\"] = partner_stats[\"unique_events\"] / partner_stats[\"unique_events\"].sum()\n",
    "partner_stats[\"order_share\"] = partner_stats[\"total_orders\"] / partner_stats[\"total_orders\"].sum()\n",
    "partner_stats[\"revenue_share\"] = partner_stats[\"total_revenue\"] / partner_stats[\"total_revenue\"].sum()\n",
    "\n",
    "partner_stats = partner_stats.sort_values(by=\"total_revenue\", ascending=False)\n",
    "partner_stats.head(10)"
   ]
  },
  {
   "cell_type": "code",
   "execution_count": 68,
   "metadata": {},
   "outputs": [
    {
     "data": {
      "image/png": "[encoded data removed]",
      "text/plain": [
       "<Figure size 864x432 with 1 Axes>"
      ]
     },
     "metadata": {
      "needs_background": "light"
     },
     "output_type": "display_data"
    }
   ],
   "source": [
    "# топ-10 сервисов по количеству заказов\n",
    "top_n_s = 10\n",
    "top_service = partner_stats.nlargest(top_n, \"total_orders\")\n",
    "\n",
    "# визуализация\n",
    "plt.figure(figsize=(12,6))\n",
    "sns.barplot(\n",
    "    data=top_service.sort_values(\"total_orders\", ascending=False),\n",
    "    x=\"service_name\", y=\"total_orders\"\n",
    ")\n",
    "plt.title(f\"Топ-{top_n} сервисов по числу заказов\")\n",
    "plt.xticks(rotation=45, ha=\"right\")\n",
    "plt.ylabel(\"Число заказов\")\n",
    "plt.xlabel(\"Сервис\")\n",
    "plt.show()"
   ]
  },
  {
   "cell_type": "markdown",
   "metadata": {},
   "source": [
    "Каменевский регион — лидер сразу по двум метрикам: наибольшее разнообразие мероприятий (26,7% всех событий), и наибольшее количество заказов (31,3% всех заказов).  Североярская область — вторая по числу мероприятий (17%) и заказов (15%). \n",
    "Широковская область, Светополянский округ, Речиновская область — регионы среднего уровня: у каждого около 3–5% мероприятий и 2–5% заказов. Остальные регионы из топ-10 (Травяная, Горицветская, Серебринская, Яблоневская, Тепляковская) — в диапазоне 2–3% мероприятий и заказов, что значительно уступает лидерам.\n",
    "Вывод: рынок сильно сконцентрирован — два региона формируют почти половину всех событий и заказов.\n",
    "\n",
    "*Лидеры по мероприятиям:*\n",
    "\n",
    "«Лови билет!» (20% событий) и «Билеты без проблем» (17%) дают крупнейший вклад в разнообразие предложений.\n",
    "\n",
    "*Лидеры по заказам:*\n",
    "\n",
    "«Билеты без проблем» (21,9% заказов) и «Лови билет!» (14,1%) вместе обрабатывают более трети всех транзакций.\n",
    "\n",
    "*Лидеры по выручке:*\n",
    "\n",
    "«Билеты без проблем» (16,5% общей выручки) и «Мой билет» (14,5%) приносят больше всего дохода.\n",
    "\n",
    "«Мой билет» по числу заказов уступает (≈12%), но по выручке сопоставим с лидерами, что указывает на более дорогие билеты.\n",
    "\n",
    "**Вывод:** несколько партнёров концентрируют основные заказы и выручку, но структура менее монополизирована, чем у регионов. При этом у «Мой билет» средний чек заметно выше, чем у конкурентов."
   ]
  },
  {
   "cell_type": "markdown",
   "metadata": {},
   "source": [
    "## Статистический анализ данных"
   ]
  },
  {
   "cell_type": "markdown",
   "metadata": {},
   "source": [
    "**Гипотеза 1: Среднее количество заказов на одного пользователя** \n",
    "\n",
    "Нулевая гипотеза H0: Среднее количество заказов на пользователя одинаково для мобильных и стационарных устройств.\n",
    "\n",
    "Альтернативная гипотеза H1: Среднее количество заказов на пользователя выше для мобильных устройств."
   ]
  },
  {
   "cell_type": "code",
   "execution_count": 69,
   "metadata": {},
   "outputs": [
    {
     "name": "stdout",
     "output_type": "stream",
     "text": [
      "Пересекающихся пользователей: 3274\n"
     ]
    }
   ],
   "source": [
    "# Считаем количество заказов на одного пользователя\n",
    "user_orders = autumn_orders.groupby([\"user_id\", \"device_type_canonical\"])[\"order_id\"].count().reset_index()\n",
    "user_orders.rename(columns={\"order_id\": \"orders_per_user\"}, inplace=True)\n",
    "\n",
    "# получаем множества пользователей\n",
    "mobile_users = set(user_orders[user_orders[\"device_type_canonical\"] == \"mobile\"][\"user_id\"])\n",
    "desktop_users = set(user_orders[user_orders[\"device_type_canonical\"] == \"desktop\"][\"user_id\"])\n",
    "\n",
    "# находим пересечение пользователей\n",
    "overlap_users = mobile_users & desktop_users\n",
    "print(f\"Пересекающихся пользователей: {len(overlap_users)}\")\n",
    "\n",
    "# фильтруем данные, исключаем пересечения\n",
    "user_orders_clean = user_orders[~user_orders[\"user_id\"].isin(overlap_users)]\n",
    "\n",
    "# разделяем на мобильных и десктопных\n",
    "mobile_orders = user_orders_clean[user_orders_clean[\"device_type_canonical\"] == \"mobile\"][\"orders_per_user\"]\n",
    "desktop_orders = user_orders_clean[user_orders_clean[\"device_type_canonical\"] == \"desktop\"][\"orders_per_user\"]"
   ]
  },
  {
   "cell_type": "code",
   "execution_count": 70,
   "metadata": {},
   "outputs": [
    {
     "data": {
      "image/png": "[encoded data removed]",
      "text/plain": [
       "<Figure size 864x360 with 2 Axes>"
      ]
     },
     "metadata": {
      "needs_background": "light"
     },
     "output_type": "display_data"
    },
    {
     "data": {
      "image/png": "[encoded data removed]",
      "text/plain": [
       "<Figure size 432x288 with 1 Axes>"
      ]
     },
     "metadata": {
      "needs_background": "light"
     },
     "output_type": "display_data"
    },
    {
     "data": {
      "image/png": "[encoded data removed]",
      "text/plain": [
       "<Figure size 432x288 with 1 Axes>"
      ]
     },
     "metadata": {
      "needs_background": "light"
     },
     "output_type": "display_data"
    },
    {
     "data": {
      "image/png": "[encoded data removed]",
      "text/plain": [
       "<Figure size 432x288 with 1 Axes>"
      ]
     },
     "metadata": {
      "needs_background": "light"
     },
     "output_type": "display_data"
    }
   ],
   "source": [
    "# Гистограммы\n",
    "plt.figure(figsize=(12,5))\n",
    "plt.subplot(1,2,1)\n",
    "sns.histplot(mobile_orders, bins=20, kde=True)\n",
    "plt.title(\"Распределение заказов на mobile\")\n",
    "\n",
    "plt.subplot(1,2,2)\n",
    "sns.histplot(desktop_orders, bins=20, kde=True)\n",
    "plt.title(\"Распределение заказов на desktop\")\n",
    "plt.show()\n",
    "\n",
    "# Boxplot\n",
    "sns.boxplot(data=[mobile_orders, desktop_orders])\n",
    "plt.xticks([0,1], [\"Mobile\", \"Desktop\"])\n",
    "plt.title(\"Boxplot заказов\")\n",
    "plt.show()\n",
    "\n",
    "# Q-Q графики\n",
    "stats.probplot(mobile_orders, dist=\"norm\", plot=plt)\n",
    "plt.title(\"Q-Q plot (Mobile)\")\n",
    "plt.show()\n",
    "\n",
    "stats.probplot(desktop_orders, dist=\"norm\", plot=plt)\n",
    "plt.title(\"Q-Q plot (Desktop)\")\n",
    "plt.show()"
   ]
  },
  {
   "cell_type": "code",
   "execution_count": 71,
   "metadata": {
    "scrolled": true
   },
   "outputs": [
    {
     "name": "stdout",
     "output_type": "stream",
     "text": [
      "Shapiro-Wilk (Mobile): ShapiroResult(statistic=0.45469969511032104, pvalue=0.0)\n",
      "Shapiro-Wilk (Desktop): ShapiroResult(statistic=0.30236363410949707, pvalue=0.0)\n"
     ]
    },
    {
     "name": "stderr",
     "output_type": "stream",
     "text": [
      "/opt/conda/lib/python3.9/site-packages/scipy/stats/_morestats.py:1800: UserWarning: p-value may not be accurate for N > 5000.\n",
      "  warnings.warn(\"p-value may not be accurate for N > 5000.\")\n"
     ]
    }
   ],
   "source": [
    "print(\"Shapiro-Wilk (Mobile):\", shapiro(mobile_orders))\n",
    "print(\"Shapiro-Wilk (Desktop):\", shapiro(desktop_orders))"
   ]
  },
  {
   "cell_type": "markdown",
   "metadata": {},
   "source": [
    "Тест Шапиро–Уилка (W)\n",
    "\n",
    "W очень маленькие (0.45 и 0.3), что указывает на сильное отклонение от нормального распределения.\n",
    "\n",
    "p-value = 0, что означает, что нулевая гипотеза о нормальности отвергается с очень высокой вероятностью."
   ]
  },
  {
   "cell_type": "markdown",
   "metadata": {},
   "source": [
    "**Выбор статистического теста**\n",
    "\n",
    "Данные о количестве заказов не нормированы и дискретны, поэтому логично использовать непараметрический тест Манна–Уитни (Mann–Whitney U)."
   ]
  },
  {
   "cell_type": "markdown",
   "metadata": {},
   "source": [
    "**Гипотеза 2: Среднее время между заказами (days_since_prev)**\n",
    "\n",
    "Нулевая гипотеза H0: Среднее время между заказами одинаково для пользователей мобильных и стационарных устройств.\n",
    "\n",
    "Альтернативная гипотеза H1: Среднее время между заказами выше для мобильных пользователей."
   ]
  },
  {
   "cell_type": "code",
   "execution_count": 72,
   "metadata": {},
   "outputs": [],
   "source": [
    "# Берем только записи с ненулевыми значениями days_since_prev\n",
    "autumn_intervals = autumn_orders.dropna(subset=[\"days_since_prev\"])\n",
    "\n",
    "mobile_intervals = autumn_intervals[autumn_intervals[\"device_type_canonical\"] == \"mobile\"][\"days_since_prev\"]\n",
    "desktop_intervals = autumn_intervals[autumn_intervals[\"device_type_canonical\"] == \"desktop\"][\"days_since_prev\"]"
   ]
  },
  {
   "cell_type": "markdown",
   "metadata": {},
   "source": [
    "**Выбор статистического теста**\n",
    "\n",
    "Данные о днях между заказами часто имеют скачкообразное распределение и выбросы, поэтому лучше Mann–Whitney U."
   ]
  },
  {
   "cell_type": "code",
   "execution_count": 73,
   "metadata": {},
   "outputs": [
    {
     "name": "stdout",
     "output_type": "stream",
     "text": [
      "Orders per user: U=10630578.0, p=5.5459811039692874e-40\n",
      "Days between orders: U=2264507795.0, p=6.434064205798213e-93\n"
     ]
    }
   ],
   "source": [
    "# Гипотеза 1: количество заказов\n",
    "stat_orders, p_orders = mannwhitneyu(mobile_orders, desktop_orders, alternative='greater')\n",
    "\n",
    "# Гипотеза 2: время между заказами\n",
    "stat_intervals, p_intervals = mannwhitneyu(mobile_intervals, desktop_intervals, alternative='greater')\n",
    "\n",
    "print(f\"Orders per user: U={stat_orders}, p={p_orders}\")\n",
    "print(f\"Days between orders: U={stat_intervals}, p={p_intervals}\")"
   ]
  },
  {
   "cell_type": "markdown",
   "metadata": {},
   "source": [
    "Количество заказов на одного пользователя (Orders per user): p-value ≈ 5.55е-40, что значительно меньше уровня значимости 0.05. Это позволяет отвергнуть нулевую гипотезу. Следовательно, пользователи мобильных устройств действительно совершают в среднем больше заказов по сравнению с пользователями стационарных устройств.\n",
    "\n",
    "Время между заказами (Days between orders): p-value ≈ 6.43e-93, также существенно меньше 0.05. Это подтверждает, что нулевая гипотеза отвергается, и среднее время между заказами у мобильных пользователей выше, чем у пользователей стационарных устройств.\n",
    "\n",
    "**Вывод:** мобильные пользователи проявляют более высокую активность с точки зрения количества заказов, но делают их с более длительными интервалами. Это может указывать на более плановую и целенаправленную активность через мобильное приложение, в то время как стационарные пользователи совершают заказы чаще, но в меньших объёмах."
   ]
  },
  {
   "cell_type": "markdown",
   "metadata": {},
   "source": [
    "## Общий вывод и рекомендации"
   ]
  },
  {
   "cell_type": "markdown",
   "metadata": {},
   "source": [
    "В проекте был использован объединённый и очищенный набор данных, включающий заказы билетов (final_tickets_orders_df.csv), события (final_tickets_events_df.csv) и курс тенге к рублю (final_tickets_tenge_df.csv). Данные охватывают период 2024 года, с детализацией по устройствам пользователей, регионам, партнёрам, типам мероприятий и выручке. Проведена предобработка: проверка на дубликаты, обработка пропусков, корректировка типов данных, фильтрация выбросов и конвертация валюты.\n",
    "\n",
    "**Основные результаты анализа:**\n",
    "\n",
    "Сезонные изменения: с июня по октябрь наблюдается рост числа заказов, с пиком осенью. Летом преобладают заказы с мобильных устройств, осенью доля стационарных устройств увеличивается. Средняя стоимость билета (one_ticket_revenue_rub) по типам мероприятий меняется осенью — для выставок и стендапа растёт, для других категорий стабильна или снижается.\n",
    "\n",
    "Популярные события и партнёры: Каменевский регион и Североярская область формируют почти половину всех заказов и мероприятий. Среди партнёров лидируют «Билеты без проблем», «Лови билет!» и «Мой билет» по выручке и числу заказов; «Мой билет» имеет более высокий средний чек.\n",
    "\n",
    "Возрастные категории: взрослые мероприятия (16+, 18+) становятся более популярными в летний период, а доля заказов на детские мероприятия остаётся стабильной.\n",
    "\n",
    "Активность пользователей: среднее число заказов на одного пользователя выше у мобильных пользователей, но при этом время между заказами также больше. Это указывает на более плановую активность мобильных пользователей и более частые, но меньшие по объёму заказы у стационарных пользователей.\n",
    "\n",
    "**Результаты проверки гипотез:**\n",
    "\n",
    "Количество заказов на пользователя: гипотеза о большем среднем количестве заказов у мобильных пользователей подтверждена (p ≈ 5.55е-40).\n",
    "\n",
    "Время между заказами: гипотеза о большем среднем интервале между заказами у мобильных пользователей также подтверждена (p ≈ 6.43e-93).\n",
    "\n",
    "**Рекомендации:**\n",
    "\n",
    "Активнее таргетировать пользователей мобильных устройств с промо-акциями на новые мероприятия, учитывая их склонность к большим, но редким заказам.\n",
    "\n",
    "В регионах-лидерах (Каменевский регион и Североярская область) стоит расширять ассортимент мероприятий и усиливать маркетинг.\n",
    "\n",
    "Партнёрам с высоким средним чеком, например «Мой билет», можно предлагать премиальные билеты или мероприятия с высокой ценой для максимизации выручки.\n",
    "\n",
    "Учитывать сезонные колебания: осенью акцент на популярные категории мероприятий, повышающие средний чек (выставки, стендап), летом — мероприятия для молодёжи и детей.\n",
    "\n",
    "Следить за недельной цикличностью: будние дни генерируют больше заказов, что можно учитывать при планировании маркетинговых кампаний."
   ]
  }
 ],
 "metadata": {
  "ExecuteTimeLog": [
   {
    "duration": 58,
    "start_time": "2025-09-03T08:16:28.536Z"
   },
   {
    "duration": 381,
    "start_time": "2025-09-03T08:24:18.401Z"
   },
   {
    "duration": 109,
    "start_time": "2025-09-03T08:25:54.633Z"
   },
   {
    "duration": 1051,
    "start_time": "2025-09-03T08:26:14.594Z"
   },
   {
    "duration": 23,
    "start_time": "2025-09-03T08:26:28.452Z"
   },
   {
    "duration": 738,
    "start_time": "2025-09-03T08:26:46.830Z"
   },
   {
    "duration": 14,
    "start_time": "2025-09-03T08:26:50.095Z"
   },
   {
    "duration": 374,
    "start_time": "2025-09-03T08:27:31.363Z"
   },
   {
    "duration": 31,
    "start_time": "2025-09-03T08:28:57.406Z"
   },
   {
    "duration": 24,
    "start_time": "2025-09-03T08:30:00.209Z"
   },
   {
    "duration": 11,
    "start_time": "2025-09-03T08:30:23.538Z"
   },
   {
    "duration": 102,
    "start_time": "2025-09-03T08:34:53.766Z"
   },
   {
    "duration": 286,
    "start_time": "2025-09-03T08:43:04.709Z"
   },
   {
    "duration": 15,
    "start_time": "2025-09-03T08:45:52.395Z"
   },
   {
    "duration": 29,
    "start_time": "2025-09-03T08:46:11.790Z"
   },
   {
    "duration": 5,
    "start_time": "2025-09-03T08:46:44.933Z"
   },
   {
    "duration": 6,
    "start_time": "2025-09-03T08:46:55.214Z"
   },
   {
    "duration": 7,
    "start_time": "2025-09-03T08:47:36.148Z"
   },
   {
    "duration": 4,
    "start_time": "2025-09-03T08:47:55.876Z"
   },
   {
    "duration": 12,
    "start_time": "2025-09-03T08:48:21.277Z"
   },
   {
    "duration": 52,
    "start_time": "2025-09-03T08:50:26.787Z"
   },
   {
    "duration": 7,
    "start_time": "2025-09-03T08:50:49.896Z"
   },
   {
    "duration": 17,
    "start_time": "2025-09-03T08:50:55.970Z"
   },
   {
    "duration": 8,
    "start_time": "2025-09-03T08:50:57.792Z"
   },
   {
    "duration": 5,
    "start_time": "2025-09-03T08:52:24.172Z"
   },
   {
    "duration": 5,
    "start_time": "2025-09-03T08:52:40.377Z"
   },
   {
    "duration": 6,
    "start_time": "2025-09-03T08:53:24.836Z"
   },
   {
    "duration": 5,
    "start_time": "2025-09-03T08:55:07.821Z"
   },
   {
    "duration": 49,
    "start_time": "2025-09-04T07:20:49.478Z"
   },
   {
    "duration": 417,
    "start_time": "2025-09-04T07:20:58.741Z"
   },
   {
    "duration": 823,
    "start_time": "2025-09-04T07:20:59.160Z"
   },
   {
    "duration": 22,
    "start_time": "2025-09-04T07:20:59.984Z"
   },
   {
    "duration": 357,
    "start_time": "2025-09-04T07:21:00.008Z"
   },
   {
    "duration": 30,
    "start_time": "2025-09-04T07:21:00.367Z"
   },
   {
    "duration": 36,
    "start_time": "2025-09-04T07:21:00.398Z"
   },
   {
    "duration": 5,
    "start_time": "2025-09-04T07:21:00.436Z"
   },
   {
    "duration": 190,
    "start_time": "2025-09-04T07:21:00.442Z"
   },
   {
    "duration": 4,
    "start_time": "2025-09-04T07:21:00.634Z"
   },
   {
    "duration": 183,
    "start_time": "2025-09-04T07:21:00.640Z"
   },
   {
    "duration": 18,
    "start_time": "2025-09-04T07:21:00.825Z"
   },
   {
    "duration": 37,
    "start_time": "2025-09-04T07:21:00.844Z"
   },
   {
    "duration": 6,
    "start_time": "2025-09-04T07:21:00.882Z"
   },
   {
    "duration": 16,
    "start_time": "2025-09-04T07:21:00.890Z"
   },
   {
    "duration": 43,
    "start_time": "2025-09-04T07:21:00.908Z"
   },
   {
    "duration": 80,
    "start_time": "2025-09-04T07:21:00.953Z"
   },
   {
    "duration": 38,
    "start_time": "2025-09-04T07:21:01.035Z"
   },
   {
    "duration": 9,
    "start_time": "2025-09-04T07:21:01.074Z"
   },
   {
    "duration": 17,
    "start_time": "2025-09-04T07:21:01.084Z"
   },
   {
    "duration": 29,
    "start_time": "2025-09-04T07:21:01.103Z"
   },
   {
    "duration": 22,
    "start_time": "2025-09-04T07:21:01.134Z"
   },
   {
    "duration": 5,
    "start_time": "2025-09-04T07:27:24.194Z"
   },
   {
    "duration": 18,
    "start_time": "2025-09-04T07:27:56.478Z"
   },
   {
    "duration": 19,
    "start_time": "2025-09-04T07:28:26.472Z"
   },
   {
    "duration": 851,
    "start_time": "2025-09-04T07:29:21.172Z"
   },
   {
    "duration": 5,
    "start_time": "2025-09-04T07:29:32.039Z"
   },
   {
    "duration": 4,
    "start_time": "2025-09-04T07:30:02.417Z"
   },
   {
    "duration": 461,
    "start_time": "2025-09-04T07:32:01.717Z"
   },
   {
    "duration": 344,
    "start_time": "2025-09-04T07:32:40.056Z"
   },
   {
    "duration": 153,
    "start_time": "2025-09-04T07:34:48.966Z"
   },
   {
    "duration": 38,
    "start_time": "2025-09-04T07:35:32.031Z"
   },
   {
    "duration": 365,
    "start_time": "2025-09-04T07:36:37.733Z"
   },
   {
    "duration": 258,
    "start_time": "2025-09-04T07:37:00.392Z"
   },
   {
    "duration": 254,
    "start_time": "2025-09-04T07:37:34.367Z"
   },
   {
    "duration": 309,
    "start_time": "2025-09-04T07:37:46.427Z"
   },
   {
    "duration": 288,
    "start_time": "2025-09-04T07:39:08.332Z"
   },
   {
    "duration": 283,
    "start_time": "2025-09-04T07:39:36.951Z"
   },
   {
    "duration": 9,
    "start_time": "2025-09-04T07:40:45.106Z"
   },
   {
    "duration": 38,
    "start_time": "2025-09-04T07:41:01.240Z"
   },
   {
    "duration": 7,
    "start_time": "2025-09-04T07:41:22.230Z"
   },
   {
    "duration": 187,
    "start_time": "2025-09-04T07:45:09.124Z"
   },
   {
    "duration": 201,
    "start_time": "2025-09-04T07:46:42.147Z"
   },
   {
    "duration": 21,
    "start_time": "2025-09-04T07:47:09.644Z"
   },
   {
    "duration": 196,
    "start_time": "2025-09-04T07:47:57.454Z"
   },
   {
    "duration": 167,
    "start_time": "2025-09-04T07:55:48.454Z"
   },
   {
    "duration": 15,
    "start_time": "2025-09-04T07:56:56.855Z"
   },
   {
    "duration": 58,
    "start_time": "2025-09-04T07:58:47.312Z"
   },
   {
    "duration": 635,
    "start_time": "2025-09-04T07:59:22.262Z"
   },
   {
    "duration": 760,
    "start_time": "2025-09-04T07:59:22.899Z"
   },
   {
    "duration": 18,
    "start_time": "2025-09-04T07:59:23.660Z"
   },
   {
    "duration": 336,
    "start_time": "2025-09-04T07:59:23.680Z"
   },
   {
    "duration": 50,
    "start_time": "2025-09-04T07:59:24.019Z"
   },
   {
    "duration": 23,
    "start_time": "2025-09-04T07:59:24.070Z"
   },
   {
    "duration": 5,
    "start_time": "2025-09-04T07:59:24.095Z"
   },
   {
    "duration": 113,
    "start_time": "2025-09-04T07:59:24.102Z"
   },
   {
    "duration": 5,
    "start_time": "2025-09-04T07:59:24.217Z"
   },
   {
    "duration": 6,
    "start_time": "2025-09-04T07:59:24.234Z"
   },
   {
    "duration": 18,
    "start_time": "2025-09-04T07:59:24.242Z"
   },
   {
    "duration": 20,
    "start_time": "2025-09-04T07:59:24.262Z"
   },
   {
    "duration": 101,
    "start_time": "2025-09-04T07:59:24.283Z"
   },
   {
    "duration": 120,
    "start_time": "2025-09-04T07:59:24.388Z"
   },
   {
    "duration": 12,
    "start_time": "2025-09-04T07:59:24.509Z"
   },
   {
    "duration": 44,
    "start_time": "2025-09-04T07:59:24.523Z"
   },
   {
    "duration": 6,
    "start_time": "2025-09-04T07:59:24.569Z"
   },
   {
    "duration": 74,
    "start_time": "2025-09-04T07:59:24.577Z"
   },
   {
    "duration": 20,
    "start_time": "2025-09-04T07:59:24.652Z"
   },
   {
    "duration": 17,
    "start_time": "2025-09-04T07:59:24.674Z"
   },
   {
    "duration": 6,
    "start_time": "2025-09-04T07:59:24.692Z"
   },
   {
    "duration": 9,
    "start_time": "2025-09-04T07:59:24.700Z"
   },
   {
    "duration": 19,
    "start_time": "2025-09-04T07:59:24.710Z"
   },
   {
    "duration": 8,
    "start_time": "2025-09-04T07:59:24.730Z"
   },
   {
    "duration": 63,
    "start_time": "2025-09-04T07:59:24.740Z"
   },
   {
    "duration": 15,
    "start_time": "2025-09-04T07:59:24.805Z"
   },
   {
    "duration": 6,
    "start_time": "2025-09-04T07:59:24.822Z"
   },
   {
    "duration": 131,
    "start_time": "2025-09-04T07:59:24.830Z"
   },
   {
    "duration": 35,
    "start_time": "2025-09-04T07:59:24.963Z"
   },
   {
    "duration": 357,
    "start_time": "2025-09-04T07:59:24.999Z"
   },
   {
    "duration": 254,
    "start_time": "2025-09-04T07:59:25.358Z"
   },
   {
    "duration": 326,
    "start_time": "2025-09-04T07:59:25.614Z"
   },
   {
    "duration": 264,
    "start_time": "2025-09-04T07:59:25.942Z"
   },
   {
    "duration": 9,
    "start_time": "2025-09-04T07:59:26.207Z"
   },
   {
    "duration": 48,
    "start_time": "2025-09-04T07:59:26.218Z"
   },
   {
    "duration": 6,
    "start_time": "2025-09-04T07:59:26.268Z"
   },
   {
    "duration": 214,
    "start_time": "2025-09-04T07:59:26.275Z"
   },
   {
    "duration": 3,
    "start_time": "2025-09-04T07:59:59.491Z"
   },
   {
    "duration": 88,
    "start_time": "2025-09-04T09:01:32.052Z"
   },
   {
    "duration": 4,
    "start_time": "2025-09-04T09:01:47.465Z"
   },
   {
    "duration": 1337,
    "start_time": "2025-09-04T09:03:15.755Z"
   },
   {
    "duration": 4,
    "start_time": "2025-09-04T09:03:27.322Z"
   },
   {
    "duration": 3,
    "start_time": "2025-09-04T09:04:07.508Z"
   },
   {
    "duration": 132,
    "start_time": "2025-09-04T09:11:29.680Z"
   },
   {
    "duration": 3691,
    "start_time": "2025-09-04T09:12:23.818Z"
   },
   {
    "duration": 5010,
    "start_time": "2025-09-04T09:14:19.340Z"
   },
   {
    "duration": 5,
    "start_time": "2025-09-04T09:15:00.290Z"
   },
   {
    "duration": 27,
    "start_time": "2025-09-04T09:15:30.330Z"
   },
   {
    "duration": 74,
    "start_time": "2025-09-04T09:16:04.708Z"
   },
   {
    "duration": 179,
    "start_time": "2025-09-04T09:29:43.537Z"
   },
   {
    "duration": 142,
    "start_time": "2025-09-04T09:37:18.084Z"
   },
   {
    "duration": 25,
    "start_time": "2025-09-04T09:37:56.086Z"
   },
   {
    "duration": 304,
    "start_time": "2025-09-04T09:40:27.701Z"
   },
   {
    "duration": 304,
    "start_time": "2025-09-04T09:41:46.992Z"
   },
   {
    "duration": 137,
    "start_time": "2025-09-04T09:50:16.503Z"
   },
   {
    "duration": 300,
    "start_time": "2025-09-04T09:51:16.445Z"
   },
   {
    "duration": 436,
    "start_time": "2025-09-04T09:51:46.171Z"
   },
   {
    "duration": 273,
    "start_time": "2025-09-04T09:53:04.766Z"
   },
   {
    "duration": 110,
    "start_time": "2025-09-04T09:55:40.431Z"
   },
   {
    "duration": 222,
    "start_time": "2025-09-04T09:56:27.392Z"
   },
   {
    "duration": 223,
    "start_time": "2025-09-04T09:58:11.005Z"
   },
   {
    "duration": 337,
    "start_time": "2025-09-04T09:59:34.170Z"
   },
   {
    "duration": 62,
    "start_time": "2025-09-04T12:38:31.192Z"
   },
   {
    "duration": 105,
    "start_time": "2025-09-04T12:38:59.313Z"
   },
   {
    "duration": 1058,
    "start_time": "2025-09-04T12:39:23.329Z"
   },
   {
    "duration": 50,
    "start_time": "2025-09-04T12:39:57.104Z"
   },
   {
    "duration": 49,
    "start_time": "2025-09-04T12:40:33.620Z"
   },
   {
    "duration": 169,
    "start_time": "2025-09-04T12:41:32.391Z"
   },
   {
    "duration": 157,
    "start_time": "2025-09-04T12:41:52.914Z"
   },
   {
    "duration": 147,
    "start_time": "2025-09-04T12:42:39.020Z"
   },
   {
    "duration": 152,
    "start_time": "2025-09-04T12:42:41.783Z"
   },
   {
    "duration": 147,
    "start_time": "2025-09-04T12:42:58.322Z"
   },
   {
    "duration": 156,
    "start_time": "2025-09-04T12:43:06.200Z"
   },
   {
    "duration": 137,
    "start_time": "2025-09-04T12:43:27.191Z"
   },
   {
    "duration": 151,
    "start_time": "2025-09-04T12:43:29.307Z"
   },
   {
    "duration": 158,
    "start_time": "2025-09-04T12:47:00.529Z"
   },
   {
    "duration": 117,
    "start_time": "2025-09-04T12:50:57.506Z"
   },
   {
    "duration": 154,
    "start_time": "2025-09-04T12:51:01.039Z"
   },
   {
    "duration": 82,
    "start_time": "2025-09-04T12:54:05.592Z"
   },
   {
    "duration": 87,
    "start_time": "2025-09-04T12:54:35.317Z"
   },
   {
    "duration": 43,
    "start_time": "2025-09-04T13:02:40.254Z"
   },
   {
    "duration": 106,
    "start_time": "2025-09-04T13:03:54.934Z"
   },
   {
    "duration": 3,
    "start_time": "2025-09-04T13:04:37.366Z"
   },
   {
    "duration": 103,
    "start_time": "2025-09-04T13:05:00.184Z"
   },
   {
    "duration": 130,
    "start_time": "2025-09-04T13:12:45.399Z"
   },
   {
    "duration": 153,
    "start_time": "2025-09-04T13:12:49.064Z"
   },
   {
    "duration": 1173,
    "start_time": "2025-09-04T20:24:56.929Z"
   },
   {
    "duration": 749,
    "start_time": "2025-09-04T20:24:58.104Z"
   },
   {
    "duration": 18,
    "start_time": "2025-09-04T20:24:58.854Z"
   },
   {
    "duration": 346,
    "start_time": "2025-09-04T20:24:58.874Z"
   },
   {
    "duration": 29,
    "start_time": "2025-09-04T20:24:59.223Z"
   },
   {
    "duration": 35,
    "start_time": "2025-09-04T20:24:59.254Z"
   },
   {
    "duration": 5,
    "start_time": "2025-09-04T20:24:59.290Z"
   },
   {
    "duration": 115,
    "start_time": "2025-09-04T20:24:59.297Z"
   },
   {
    "duration": 5,
    "start_time": "2025-09-04T20:24:59.413Z"
   },
   {
    "duration": 16,
    "start_time": "2025-09-04T20:24:59.419Z"
   },
   {
    "duration": 15,
    "start_time": "2025-09-04T20:24:59.436Z"
   },
   {
    "duration": 15,
    "start_time": "2025-09-04T20:24:59.453Z"
   },
   {
    "duration": 80,
    "start_time": "2025-09-04T20:24:59.470Z"
   },
   {
    "duration": 3,
    "start_time": "2025-09-04T20:24:59.553Z"
   },
   {
    "duration": 96,
    "start_time": "2025-09-04T20:24:59.558Z"
   },
   {
    "duration": 3,
    "start_time": "2025-09-04T20:24:59.656Z"
   },
   {
    "duration": 122,
    "start_time": "2025-09-04T20:24:59.661Z"
   },
   {
    "duration": 11,
    "start_time": "2025-09-04T20:24:59.787Z"
   },
   {
    "duration": 29,
    "start_time": "2025-09-04T20:24:59.800Z"
   },
   {
    "duration": 5,
    "start_time": "2025-09-04T20:24:59.831Z"
   },
   {
    "duration": 5,
    "start_time": "2025-09-04T20:24:59.838Z"
   },
   {
    "duration": 4,
    "start_time": "2025-09-04T20:24:59.844Z"
   },
   {
    "duration": 44,
    "start_time": "2025-09-04T20:24:59.850Z"
   },
   {
    "duration": 25,
    "start_time": "2025-09-04T20:24:59.896Z"
   },
   {
    "duration": 13,
    "start_time": "2025-09-04T20:24:59.923Z"
   },
   {
    "duration": 22,
    "start_time": "2025-09-04T20:24:59.938Z"
   },
   {
    "duration": 9,
    "start_time": "2025-09-04T20:24:59.962Z"
   },
   {
    "duration": 5,
    "start_time": "2025-09-04T20:24:59.973Z"
   },
   {
    "duration": 5,
    "start_time": "2025-09-04T20:24:59.979Z"
   },
   {
    "duration": 4,
    "start_time": "2025-09-04T20:24:59.986Z"
   },
   {
    "duration": 5,
    "start_time": "2025-09-04T20:24:59.991Z"
   },
   {
    "duration": 62,
    "start_time": "2025-09-04T20:24:59.997Z"
   },
   {
    "duration": 136,
    "start_time": "2025-09-04T20:25:00.060Z"
   },
   {
    "duration": 41,
    "start_time": "2025-09-04T20:25:00.197Z"
   },
   {
    "duration": 363,
    "start_time": "2025-09-04T20:25:00.239Z"
   },
   {
    "duration": 291,
    "start_time": "2025-09-04T20:25:00.604Z"
   },
   {
    "duration": 301,
    "start_time": "2025-09-04T20:25:00.896Z"
   },
   {
    "duration": 298,
    "start_time": "2025-09-04T20:25:01.199Z"
   },
   {
    "duration": 11,
    "start_time": "2025-09-04T20:25:01.499Z"
   },
   {
    "duration": 70,
    "start_time": "2025-09-04T20:25:01.512Z"
   },
   {
    "duration": 7,
    "start_time": "2025-09-04T20:25:01.587Z"
   },
   {
    "duration": 209,
    "start_time": "2025-09-04T20:25:01.596Z"
   },
   {
    "duration": 196,
    "start_time": "2025-09-04T20:25:01.807Z"
   },
   {
    "duration": 152,
    "start_time": "2025-09-04T20:25:02.005Z"
   },
   {
    "duration": 5423,
    "start_time": "2025-09-04T20:25:02.159Z"
   },
   {
    "duration": 5,
    "start_time": "2025-09-04T20:25:07.587Z"
   },
   {
    "duration": 27,
    "start_time": "2025-09-04T20:25:07.593Z"
   },
   {
    "duration": 93,
    "start_time": "2025-09-04T20:25:07.622Z"
   },
   {
    "duration": 28,
    "start_time": "2025-09-04T20:25:07.717Z"
   },
   {
    "duration": 263,
    "start_time": "2025-09-04T20:25:07.747Z"
   },
   {
    "duration": 151,
    "start_time": "2025-09-04T20:25:08.012Z"
   },
   {
    "duration": 317,
    "start_time": "2025-09-04T20:25:08.165Z"
   },
   {
    "duration": 280,
    "start_time": "2025-09-04T20:25:08.484Z"
   },
   {
    "duration": 223,
    "start_time": "2025-09-04T20:25:08.766Z"
   },
   {
    "duration": 216,
    "start_time": "2025-09-04T20:25:08.991Z"
   },
   {
    "duration": 346,
    "start_time": "2025-09-04T20:25:09.209Z"
   },
   {
    "duration": 70,
    "start_time": "2025-09-04T20:25:09.557Z"
   },
   {
    "duration": 114,
    "start_time": "2025-09-04T20:25:09.629Z"
   },
   {
    "duration": 1111,
    "start_time": "2025-09-04T20:25:09.745Z"
   },
   {
    "duration": 140,
    "start_time": "2025-09-04T20:25:10.858Z"
   },
   {
    "duration": 111,
    "start_time": "2025-09-04T20:25:11.000Z"
   },
   {
    "duration": 0,
    "start_time": "2025-09-04T20:25:11.113Z"
   },
   {
    "duration": 0,
    "start_time": "2025-09-04T20:25:11.114Z"
   },
   {
    "duration": 0,
    "start_time": "2025-09-04T20:25:11.115Z"
   },
   {
    "duration": 0,
    "start_time": "2025-09-04T20:25:11.116Z"
   },
   {
    "duration": 0,
    "start_time": "2025-09-04T20:25:11.117Z"
   },
   {
    "duration": 84,
    "start_time": "2025-09-04T20:28:30.507Z"
   },
   {
    "duration": 92,
    "start_time": "2025-09-04T20:28:30.636Z"
   },
   {
    "duration": 45,
    "start_time": "2025-09-04T20:28:31.227Z"
   },
   {
    "duration": 107,
    "start_time": "2025-09-04T20:28:31.668Z"
   },
   {
    "duration": 109,
    "start_time": "2025-09-04T20:28:31.987Z"
   },
   {
    "duration": 101,
    "start_time": "2025-09-08T08:02:07.983Z"
   },
   {
    "duration": 1482,
    "start_time": "2025-09-08T08:02:16.534Z"
   },
   {
    "duration": 801,
    "start_time": "2025-09-08T08:02:18.018Z"
   },
   {
    "duration": 18,
    "start_time": "2025-09-08T08:02:18.822Z"
   },
   {
    "duration": 346,
    "start_time": "2025-09-08T08:02:18.842Z"
   },
   {
    "duration": 35,
    "start_time": "2025-09-08T08:02:19.190Z"
   },
   {
    "duration": 25,
    "start_time": "2025-09-08T08:02:19.227Z"
   },
   {
    "duration": 5,
    "start_time": "2025-09-08T08:02:19.271Z"
   },
   {
    "duration": 102,
    "start_time": "2025-09-08T08:02:19.277Z"
   },
   {
    "duration": 4,
    "start_time": "2025-09-08T08:02:19.381Z"
   },
   {
    "duration": 4,
    "start_time": "2025-09-08T08:02:19.388Z"
   },
   {
    "duration": 22,
    "start_time": "2025-09-08T08:02:19.394Z"
   },
   {
    "duration": 36,
    "start_time": "2025-09-08T08:02:19.418Z"
   },
   {
    "duration": 70,
    "start_time": "2025-09-08T08:02:19.470Z"
   },
   {
    "duration": 3,
    "start_time": "2025-09-08T08:02:19.542Z"
   },
   {
    "duration": 95,
    "start_time": "2025-09-08T08:02:19.547Z"
   },
   {
    "duration": 3,
    "start_time": "2025-09-08T08:02:19.644Z"
   },
   {
    "duration": 143,
    "start_time": "2025-09-08T08:02:19.648Z"
   },
   {
    "duration": 12,
    "start_time": "2025-09-08T08:02:19.792Z"
   },
   {
    "duration": 28,
    "start_time": "2025-09-08T08:02:19.805Z"
   },
   {
    "duration": 6,
    "start_time": "2025-09-08T08:02:19.835Z"
   },
   {
    "duration": 33,
    "start_time": "2025-09-08T08:02:19.842Z"
   },
   {
    "duration": 5,
    "start_time": "2025-09-08T08:02:19.876Z"
   },
   {
    "duration": 32,
    "start_time": "2025-09-08T08:02:19.883Z"
   },
   {
    "duration": 5,
    "start_time": "2025-09-08T08:02:19.917Z"
   },
   {
    "duration": 12,
    "start_time": "2025-09-08T08:02:19.924Z"
   },
   {
    "duration": 76,
    "start_time": "2025-09-08T08:02:19.938Z"
   },
   {
    "duration": 0,
    "start_time": "2025-09-08T08:02:20.016Z"
   },
   {
    "duration": 0,
    "start_time": "2025-09-08T08:02:20.017Z"
   },
   {
    "duration": 0,
    "start_time": "2025-09-08T08:02:20.019Z"
   },
   {
    "duration": 0,
    "start_time": "2025-09-08T08:02:20.019Z"
   },
   {
    "duration": 0,
    "start_time": "2025-09-08T08:02:20.020Z"
   },
   {
    "duration": 0,
    "start_time": "2025-09-08T08:02:20.022Z"
   },
   {
    "duration": 0,
    "start_time": "2025-09-08T08:02:20.023Z"
   },
   {
    "duration": 0,
    "start_time": "2025-09-08T08:02:20.024Z"
   },
   {
    "duration": 0,
    "start_time": "2025-09-08T08:02:20.025Z"
   },
   {
    "duration": 0,
    "start_time": "2025-09-08T08:02:20.026Z"
   },
   {
    "duration": 0,
    "start_time": "2025-09-08T08:02:20.027Z"
   },
   {
    "duration": 0,
    "start_time": "2025-09-08T08:02:20.029Z"
   },
   {
    "duration": 0,
    "start_time": "2025-09-08T08:02:20.030Z"
   },
   {
    "duration": 0,
    "start_time": "2025-09-08T08:02:20.031Z"
   },
   {
    "duration": 0,
    "start_time": "2025-09-08T08:02:20.033Z"
   },
   {
    "duration": 0,
    "start_time": "2025-09-08T08:02:20.034Z"
   },
   {
    "duration": 0,
    "start_time": "2025-09-08T08:02:20.035Z"
   },
   {
    "duration": 0,
    "start_time": "2025-09-08T08:02:20.036Z"
   },
   {
    "duration": 0,
    "start_time": "2025-09-08T08:02:20.037Z"
   },
   {
    "duration": 0,
    "start_time": "2025-09-08T08:02:20.038Z"
   },
   {
    "duration": 0,
    "start_time": "2025-09-08T08:02:20.039Z"
   },
   {
    "duration": 0,
    "start_time": "2025-09-08T08:02:20.040Z"
   },
   {
    "duration": 0,
    "start_time": "2025-09-08T08:02:20.041Z"
   },
   {
    "duration": 0,
    "start_time": "2025-09-08T08:02:20.042Z"
   },
   {
    "duration": 0,
    "start_time": "2025-09-08T08:02:20.043Z"
   },
   {
    "duration": 0,
    "start_time": "2025-09-08T08:02:20.044Z"
   },
   {
    "duration": 0,
    "start_time": "2025-09-08T08:02:20.046Z"
   },
   {
    "duration": 0,
    "start_time": "2025-09-08T08:02:20.047Z"
   },
   {
    "duration": 0,
    "start_time": "2025-09-08T08:02:20.048Z"
   },
   {
    "duration": 0,
    "start_time": "2025-09-08T08:02:20.049Z"
   },
   {
    "duration": 0,
    "start_time": "2025-09-08T08:02:20.050Z"
   },
   {
    "duration": 1,
    "start_time": "2025-09-08T08:02:20.051Z"
   },
   {
    "duration": 0,
    "start_time": "2025-09-08T08:02:20.053Z"
   },
   {
    "duration": 0,
    "start_time": "2025-09-08T08:02:20.070Z"
   },
   {
    "duration": 0,
    "start_time": "2025-09-08T08:02:20.072Z"
   },
   {
    "duration": 0,
    "start_time": "2025-09-08T08:02:20.073Z"
   },
   {
    "duration": 0,
    "start_time": "2025-09-08T08:02:20.074Z"
   },
   {
    "duration": 0,
    "start_time": "2025-09-08T08:02:20.075Z"
   },
   {
    "duration": 0,
    "start_time": "2025-09-08T08:02:20.076Z"
   },
   {
    "duration": 0,
    "start_time": "2025-09-08T08:02:20.077Z"
   },
   {
    "duration": 0,
    "start_time": "2025-09-08T08:02:20.078Z"
   },
   {
    "duration": 84,
    "start_time": "2025-09-08T08:03:21.238Z"
   },
   {
    "duration": 116,
    "start_time": "2025-09-08T08:04:21.635Z"
   },
   {
    "duration": 68,
    "start_time": "2025-09-08T08:04:40.791Z"
   },
   {
    "duration": 182,
    "start_time": "2025-09-08T08:05:02.560Z"
   },
   {
    "duration": 294,
    "start_time": "2025-09-08T08:07:18.203Z"
   },
   {
    "duration": 102,
    "start_time": "2025-09-08T08:07:34.324Z"
   },
   {
    "duration": 177,
    "start_time": "2025-09-08T08:07:46.403Z"
   },
   {
    "duration": 182,
    "start_time": "2025-09-08T08:08:04.393Z"
   },
   {
    "duration": 280,
    "start_time": "2025-09-08T08:10:57.775Z"
   },
   {
    "duration": 326,
    "start_time": "2025-09-08T08:11:20.056Z"
   },
   {
    "duration": 5,
    "start_time": "2025-09-08T08:15:16.407Z"
   },
   {
    "duration": 12,
    "start_time": "2025-09-08T08:19:09.475Z"
   },
   {
    "duration": 11,
    "start_time": "2025-09-08T08:20:18.426Z"
   },
   {
    "duration": 10,
    "start_time": "2025-09-08T08:20:56.206Z"
   },
   {
    "duration": 9,
    "start_time": "2025-09-08T08:21:16.164Z"
   },
   {
    "duration": 1365,
    "start_time": "2025-09-08T08:22:46.919Z"
   },
   {
    "duration": 839,
    "start_time": "2025-09-08T08:22:48.287Z"
   },
   {
    "duration": 20,
    "start_time": "2025-09-08T08:22:49.128Z"
   },
   {
    "duration": 404,
    "start_time": "2025-09-08T08:22:49.150Z"
   },
   {
    "duration": 40,
    "start_time": "2025-09-08T08:22:49.556Z"
   },
   {
    "duration": 22,
    "start_time": "2025-09-08T08:22:49.597Z"
   },
   {
    "duration": 5,
    "start_time": "2025-09-08T08:22:49.621Z"
   },
   {
    "duration": 122,
    "start_time": "2025-09-08T08:22:49.628Z"
   },
   {
    "duration": 5,
    "start_time": "2025-09-08T08:22:49.751Z"
   },
   {
    "duration": 7,
    "start_time": "2025-09-08T08:22:49.770Z"
   },
   {
    "duration": 18,
    "start_time": "2025-09-08T08:22:49.779Z"
   },
   {
    "duration": 19,
    "start_time": "2025-09-08T08:22:49.799Z"
   },
   {
    "duration": 105,
    "start_time": "2025-09-08T08:22:49.820Z"
   },
   {
    "duration": 4,
    "start_time": "2025-09-08T08:22:49.927Z"
   },
   {
    "duration": 101,
    "start_time": "2025-09-08T08:22:49.933Z"
   },
   {
    "duration": 3,
    "start_time": "2025-09-08T08:22:50.036Z"
   },
   {
    "duration": 142,
    "start_time": "2025-09-08T08:22:50.041Z"
   },
   {
    "duration": 12,
    "start_time": "2025-09-08T08:22:50.185Z"
   },
   {
    "duration": 29,
    "start_time": "2025-09-08T08:22:50.198Z"
   },
   {
    "duration": 6,
    "start_time": "2025-09-08T08:22:50.228Z"
   },
   {
    "duration": 39,
    "start_time": "2025-09-08T08:22:50.236Z"
   },
   {
    "duration": 12,
    "start_time": "2025-09-08T08:22:50.277Z"
   },
   {
    "duration": 21,
    "start_time": "2025-09-08T08:22:50.291Z"
   },
   {
    "duration": 23,
    "start_time": "2025-09-08T08:22:50.314Z"
   },
   {
    "duration": 12,
    "start_time": "2025-09-08T08:22:50.339Z"
   },
   {
    "duration": 224,
    "start_time": "2025-09-08T08:22:50.353Z"
   },
   {
    "duration": 16,
    "start_time": "2025-09-08T08:22:50.579Z"
   },
   {
    "duration": 9,
    "start_time": "2025-09-08T08:22:50.600Z"
   },
   {
    "duration": 17,
    "start_time": "2025-09-08T08:22:50.610Z"
   },
   {
    "duration": 8,
    "start_time": "2025-09-08T08:22:50.629Z"
   },
   {
    "duration": 21,
    "start_time": "2025-09-08T08:22:50.639Z"
   },
   {
    "duration": 18,
    "start_time": "2025-09-08T08:22:50.662Z"
   },
   {
    "duration": 5,
    "start_time": "2025-09-08T08:22:50.682Z"
   },
   {
    "duration": 135,
    "start_time": "2025-09-08T08:22:50.688Z"
   },
   {
    "duration": 52,
    "start_time": "2025-09-08T08:22:50.825Z"
   },
   {
    "duration": 380,
    "start_time": "2025-09-08T08:22:50.879Z"
   },
   {
    "duration": 279,
    "start_time": "2025-09-08T08:22:51.261Z"
   },
   {
    "duration": 302,
    "start_time": "2025-09-08T08:22:51.541Z"
   },
   {
    "duration": 402,
    "start_time": "2025-09-08T08:22:51.845Z"
   },
   {
    "duration": 24,
    "start_time": "2025-09-08T08:22:52.249Z"
   },
   {
    "duration": 37,
    "start_time": "2025-09-08T08:22:52.276Z"
   },
   {
    "duration": 8,
    "start_time": "2025-09-08T08:22:52.316Z"
   },
   {
    "duration": 223,
    "start_time": "2025-09-08T08:22:52.326Z"
   },
   {
    "duration": 162,
    "start_time": "2025-09-08T08:22:52.551Z"
   },
   {
    "duration": 160,
    "start_time": "2025-09-08T08:22:52.715Z"
   },
   {
    "duration": 5483,
    "start_time": "2025-09-08T08:22:52.877Z"
   },
   {
    "duration": 9,
    "start_time": "2025-09-08T08:22:58.362Z"
   },
   {
    "duration": 36,
    "start_time": "2025-09-08T08:22:58.374Z"
   },
   {
    "duration": 114,
    "start_time": "2025-09-08T08:22:58.412Z"
   },
   {
    "duration": 29,
    "start_time": "2025-09-08T08:22:58.528Z"
   },
   {
    "duration": 292,
    "start_time": "2025-09-08T08:22:58.558Z"
   },
   {
    "duration": 19,
    "start_time": "2025-09-08T08:22:58.852Z"
   },
   {
    "duration": 11,
    "start_time": "2025-09-08T08:22:58.873Z"
   },
   {
    "duration": 155,
    "start_time": "2025-09-08T08:22:58.886Z"
   },
   {
    "duration": 313,
    "start_time": "2025-09-08T08:22:59.043Z"
   },
   {
    "duration": 284,
    "start_time": "2025-09-08T08:22:59.358Z"
   },
   {
    "duration": 229,
    "start_time": "2025-09-08T08:22:59.644Z"
   },
   {
    "duration": 236,
    "start_time": "2025-09-08T08:22:59.875Z"
   },
   {
    "duration": 365,
    "start_time": "2025-09-08T08:23:00.113Z"
   },
   {
    "duration": 57,
    "start_time": "2025-09-08T08:23:00.480Z"
   },
   {
    "duration": 130,
    "start_time": "2025-09-08T08:23:00.539Z"
   },
   {
    "duration": 1257,
    "start_time": "2025-09-08T08:23:00.671Z"
   },
   {
    "duration": 143,
    "start_time": "2025-09-08T08:23:01.930Z"
   },
   {
    "duration": 130,
    "start_time": "2025-09-08T08:23:02.075Z"
   },
   {
    "duration": 0,
    "start_time": "2025-09-08T08:23:02.207Z"
   },
   {
    "duration": 0,
    "start_time": "2025-09-08T08:23:02.209Z"
   },
   {
    "duration": 0,
    "start_time": "2025-09-08T08:23:02.211Z"
   },
   {
    "duration": 0,
    "start_time": "2025-09-08T08:23:02.213Z"
   },
   {
    "duration": 0,
    "start_time": "2025-09-08T08:23:02.215Z"
   },
   {
    "duration": 164,
    "start_time": "2025-09-08T08:25:58.710Z"
   },
   {
    "duration": 12,
    "start_time": "2025-09-08T08:28:56.350Z"
   },
   {
    "duration": 82,
    "start_time": "2025-09-08T08:29:38.923Z"
   },
   {
    "duration": 217,
    "start_time": "2025-09-08T08:29:44.288Z"
   },
   {
    "duration": 214,
    "start_time": "2025-09-08T08:30:36.710Z"
   },
   {
    "duration": 11,
    "start_time": "2025-09-08T08:33:03.647Z"
   },
   {
    "duration": 92,
    "start_time": "2025-09-08T08:33:13.753Z"
   },
   {
    "duration": 210,
    "start_time": "2025-09-08T08:33:17.065Z"
   },
   {
    "duration": 11,
    "start_time": "2025-09-08T08:38:00.006Z"
   },
   {
    "duration": 55,
    "start_time": "2025-09-08T08:38:24.836Z"
   },
   {
    "duration": 45,
    "start_time": "2025-09-08T08:38:37.069Z"
   },
   {
    "duration": 701,
    "start_time": "2025-09-08T08:41:16.811Z"
   },
   {
    "duration": 3,
    "start_time": "2025-09-08T08:42:13.697Z"
   },
   {
    "duration": 1266,
    "start_time": "2025-09-08T08:42:28.990Z"
   },
   {
    "duration": 5,
    "start_time": "2025-09-08T08:43:02.475Z"
   },
   {
    "duration": 12,
    "start_time": "2025-09-08T08:43:29.898Z"
   },
   {
    "duration": 6,
    "start_time": "2025-09-08T08:44:37.740Z"
   },
   {
    "duration": 1306,
    "start_time": "2025-09-08T08:49:21.248Z"
   },
   {
    "duration": 851,
    "start_time": "2025-09-08T08:49:22.556Z"
   },
   {
    "duration": 17,
    "start_time": "2025-09-08T08:49:23.409Z"
   },
   {
    "duration": 389,
    "start_time": "2025-09-08T08:49:23.428Z"
   },
   {
    "duration": 30,
    "start_time": "2025-09-08T08:49:23.819Z"
   },
   {
    "duration": 40,
    "start_time": "2025-09-08T08:49:23.851Z"
   },
   {
    "duration": 5,
    "start_time": "2025-09-08T08:49:23.893Z"
   },
   {
    "duration": 124,
    "start_time": "2025-09-08T08:49:23.900Z"
   },
   {
    "duration": 6,
    "start_time": "2025-09-08T08:49:24.026Z"
   },
   {
    "duration": 7,
    "start_time": "2025-09-08T08:49:24.035Z"
   },
   {
    "duration": 45,
    "start_time": "2025-09-08T08:49:24.044Z"
   },
   {
    "duration": 19,
    "start_time": "2025-09-08T08:49:24.091Z"
   },
   {
    "duration": 92,
    "start_time": "2025-09-08T08:49:24.112Z"
   },
   {
    "duration": 4,
    "start_time": "2025-09-08T08:49:24.206Z"
   },
   {
    "duration": 98,
    "start_time": "2025-09-08T08:49:24.212Z"
   },
   {
    "duration": 3,
    "start_time": "2025-09-08T08:49:24.312Z"
   },
   {
    "duration": 141,
    "start_time": "2025-09-08T08:49:24.317Z"
   },
   {
    "duration": 16,
    "start_time": "2025-09-08T08:49:24.460Z"
   },
   {
    "duration": 32,
    "start_time": "2025-09-08T08:49:24.478Z"
   },
   {
    "duration": 6,
    "start_time": "2025-09-08T08:49:24.511Z"
   },
   {
    "duration": 6,
    "start_time": "2025-09-08T08:49:24.518Z"
   },
   {
    "duration": 9,
    "start_time": "2025-09-08T08:49:24.525Z"
   },
   {
    "duration": 50,
    "start_time": "2025-09-08T08:49:24.536Z"
   },
   {
    "duration": 34,
    "start_time": "2025-09-08T08:49:24.588Z"
   },
   {
    "duration": 5,
    "start_time": "2025-09-08T08:49:24.625Z"
   },
   {
    "duration": 202,
    "start_time": "2025-09-08T08:49:24.632Z"
   },
   {
    "duration": 16,
    "start_time": "2025-09-08T08:49:24.835Z"
   },
   {
    "duration": 34,
    "start_time": "2025-09-08T08:49:24.854Z"
   },
   {
    "duration": 8,
    "start_time": "2025-09-08T08:49:24.889Z"
   },
   {
    "duration": 4,
    "start_time": "2025-09-08T08:49:24.899Z"
   },
   {
    "duration": 15,
    "start_time": "2025-09-08T08:49:24.904Z"
   },
   {
    "duration": 5,
    "start_time": "2025-09-08T08:49:24.920Z"
   },
   {
    "duration": 5,
    "start_time": "2025-09-08T08:49:24.927Z"
   },
   {
    "duration": 116,
    "start_time": "2025-09-08T08:49:24.934Z"
   },
   {
    "duration": 50,
    "start_time": "2025-09-08T08:49:25.052Z"
   },
   {
    "duration": 354,
    "start_time": "2025-09-08T08:49:25.104Z"
   },
   {
    "duration": 305,
    "start_time": "2025-09-08T08:49:25.460Z"
   },
   {
    "duration": 313,
    "start_time": "2025-09-08T08:49:25.771Z"
   },
   {
    "duration": 408,
    "start_time": "2025-09-08T08:49:26.085Z"
   },
   {
    "duration": 10,
    "start_time": "2025-09-08T08:49:26.495Z"
   },
   {
    "duration": 27,
    "start_time": "2025-09-08T08:49:26.507Z"
   },
   {
    "duration": 7,
    "start_time": "2025-09-08T08:49:26.536Z"
   },
   {
    "duration": 175,
    "start_time": "2025-09-08T08:49:26.570Z"
   },
   {
    "duration": 167,
    "start_time": "2025-09-08T08:49:26.747Z"
   },
   {
    "duration": 151,
    "start_time": "2025-09-08T08:49:26.916Z"
   },
   {
    "duration": 5482,
    "start_time": "2025-09-08T08:49:27.068Z"
   },
   {
    "duration": 5,
    "start_time": "2025-09-08T08:49:32.552Z"
   },
   {
    "duration": 43,
    "start_time": "2025-09-08T08:49:32.558Z"
   },
   {
    "duration": 102,
    "start_time": "2025-09-08T08:49:32.603Z"
   },
   {
    "duration": 28,
    "start_time": "2025-09-08T08:49:32.707Z"
   },
   {
    "duration": 301,
    "start_time": "2025-09-08T08:49:32.736Z"
   },
   {
    "duration": 9,
    "start_time": "2025-09-08T08:49:33.039Z"
   },
   {
    "duration": 30,
    "start_time": "2025-09-08T08:49:33.051Z"
   },
   {
    "duration": 162,
    "start_time": "2025-09-08T08:49:33.084Z"
   },
   {
    "duration": 315,
    "start_time": "2025-09-08T08:49:33.248Z"
   },
   {
    "duration": 307,
    "start_time": "2025-09-08T08:49:33.564Z"
   },
   {
    "duration": 236,
    "start_time": "2025-09-08T08:49:33.873Z"
   },
   {
    "duration": 244,
    "start_time": "2025-09-08T08:49:34.111Z"
   },
   {
    "duration": 323,
    "start_time": "2025-09-08T08:49:34.357Z"
   },
   {
    "duration": 62,
    "start_time": "2025-09-08T08:49:34.683Z"
   },
   {
    "duration": 133,
    "start_time": "2025-09-08T08:49:34.747Z"
   },
   {
    "duration": 1210,
    "start_time": "2025-09-08T08:49:34.882Z"
   },
   {
    "duration": 151,
    "start_time": "2025-09-08T08:49:36.094Z"
   },
   {
    "duration": 173,
    "start_time": "2025-09-08T08:49:36.247Z"
   },
   {
    "duration": 104,
    "start_time": "2025-09-08T08:49:36.422Z"
   },
   {
    "duration": 233,
    "start_time": "2025-09-08T08:49:36.528Z"
   },
   {
    "duration": 126,
    "start_time": "2025-09-08T08:49:36.763Z"
   },
   {
    "duration": 222,
    "start_time": "2025-09-08T08:49:36.890Z"
   },
   {
    "duration": 75,
    "start_time": "2025-09-08T08:49:37.114Z"
   },
   {
    "duration": 951,
    "start_time": "2025-09-08T08:49:37.191Z"
   },
   {
    "duration": 6,
    "start_time": "2025-09-08T08:49:38.144Z"
   },
   {
    "duration": 132,
    "start_time": "2025-09-08T08:49:38.152Z"
   },
   {
    "duration": 121,
    "start_time": "2025-09-08T08:49:38.286Z"
   }
  ],
  "colab": {
   "provenance": []
  },
  "kernelspec": {
   "display_name": "Python 3 (ipykernel)",
   "language": "python",
   "name": "python3"
  },
  "language_info": {
   "codemirror_mode": {
    "name": "ipython",
    "version": 3
   },
   "file_extension": ".py",
   "mimetype": "text/x-python",
   "name": "python",
   "nbconvert_exporter": "python",
   "pygments_lexer": "ipython3",
   "version": "3.9.7"
  },
  "toc": {
   "base_numbering": 1,
   "nav_menu": {},
   "number_sections": true,
   "sideBar": true,
   "skip_h1_title": true,
   "title_cell": "Table of Contents",
   "title_sidebar": "Contents",
   "toc_cell": false,
   "toc_position": {},
   "toc_section_display": true,
   "toc_window_display": true
  }
 },
 "nbformat": 4,
 "nbformat_minor": 1
}
