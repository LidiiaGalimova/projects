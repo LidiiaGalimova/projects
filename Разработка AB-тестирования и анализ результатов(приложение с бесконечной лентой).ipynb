{
 "cells": [
  {
   "cell_type": "markdown",
   "metadata": {},
   "source": [
    "<span style=\"color:green\">**Поздравляю, твой проект принят!**</span>\n",
    "\n",
    "Лидия, отличная работа, получился качественный аналитический отчет. Поставленные задачи были успешно выполнены! Недочёты исправлены! Надеюсь, ревью было полезным:) Желаю успехов в учебе и следующих проектах!\n",
    "\n",
    "Новые комментарии имеют метку `v2`.\n",
    "\n",
    "<span style=\"color:purple\">**Привет, Лидия!**</span>\n",
    "\n",
    "Меня зовут **Василий** и я - ревьювер, буду проверять твой проект.\n",
    "\n",
    "Если не против, я буду обращаться к тебе на \"ТЫ\". Если это неприемлемо, обязательно напиши мне в комментариях – мы прейдем на \"ВЫ\".\n",
    "\n",
    "Спасибо, что прислала проект, вижу, что ты хорошо постаралась над ним. В тетради ты сможешь найти мои комментарии. Пострайся учесть их в ходе исправления этого и выполнения дальнейших проектов.\n",
    "\n",
    "Обрати внимание, я буду выделять свои комментарии цветом, в зависимости от того, какие действия, важность и особенности тебя ждут в процессе проверки.\n",
    "\n",
    "<div class=\"alert alert-block alert-success\">\n",
    "\n",
    "**Комментарий ревьювера (все отлично)**\n",
    "    \n",
    "Такими комментариями я буду помечать хорошо проделаную работу, а так же хорошо проделаную работу над ошибками.\n",
    "</div>\n",
    "\n",
    "<div class=\"alert alert-block alert-warning\">\n",
    "\n",
    "**Комментарий ревьювера (что можно улучшить)**\n",
    "    \n",
    "После таких комментариев ничего исправлять не нужно, но я дам рекомендации на будущее и подскажу, что можно улучшить.\n",
    "</div>\n",
    "\n",
    "<div class=\"alert alert-block alert-danger\">\n",
    "    \n",
    "**Комментарий ревьювера (недочет, который нужно доработать)**\n",
    "    \n",
    "Если ты видишь такой комментарий, значит я указываю тебе на недочёт, его нужно исправить. Без такого исправления я не приму твою работу:)\n",
    "</div>\n",
    "\n",
    "**Пожалуста, не удаляй мои комментарии. При повторной проверке, я буду ориентироваться на них.**\n",
    "\n",
    "<span style=\"color:blue\"> Можешь под моими комментариями оставлять свои, в которых опиши свои исправления. Это облегчит процесс проверки и мне, и тебе:) Например, вот так:</span>\n",
    "\n",
    "<div class=\"alert alert-block alert-info\">\n",
    "<b>Комментарий студента:</b>\n",
    "\n",
    "</div>"
   ]
  },
  {
   "cell_type": "markdown",
   "metadata": {
    "id": "u98L9TgH0eMk"
   },
   "source": [
    "# Разработка A/B-тестирования и анализ результатов\n",
    "\n",
    "Вы работаете продуктовым аналитиком в компании, которая разрабатывает развлекательное приложение с функцией «бесконечной» ленты, как, например, в приложениях с короткими видео. В вашем приложении существует две модели монетизации: первая — ежемесячная платная подписка, которая позволяет пользователям смотреть ленту без рекламы, вторая — демонстрация рекламы для пользователей, которые ещё не оформили подписку.\n",
    "\n",
    "Команда разработчиков рекомендательных систем создала новый алгоритм рекомендаций, который, по их мнению, будет показывать более интересный контент для каждого пользователя. Вас, как аналитика, просят помочь рассчитать параметры A/B-теста, который позволит проверить эту гипотезу, и проанализировать его результаты."
   ]
  },
  {
   "cell_type": "markdown",
   "metadata": {
    "id": "LJBRALHs0eMf"
   },
   "source": [
    "## Описание данных\n",
    "\n",
    "Вы будете работать с тремя таблицами:\n",
    "\n",
    "- `sessions_project_history.csv` — таблица с историческими данными по сессиям пользователей на период с 2025-08-11 по 2025-09-23. Путь к файлу: `/datasets/sessions_project_history.csv`.\n",
    "\n",
    "- `sessions_project_test_part.csv` — таблица с данными за первый день проведения A/B-теста, то есть за 2025-10-14. Путь к файлу: `/datasets/sessions_project_test_part.csv`.\n",
    "\n",
    "- `sessions_project_test.csv` — таблица с данными за весь период проведения A/B-теста, то есть с 2025-10-14 по 2025-11-02. Путь к файлу: `/datasets/sessions_project_test.csv`.\n",
    "\n",
    "У этих таблиц почти совпадает структура и содержание колонок, различаются лишь периоды наблюдения.\n",
    "\n",
    "Поля таблиц `sessions_project_history.csv`, `sessions_project_test.csv`, `sessions_project_test_part.csv`:\n",
    "\n",
    "- `user_id` — идентификатор пользователя;\n",
    "\n",
    "- `session_id` — идентификатор сессии в приложении;\n",
    "\n",
    "- `session_date` — дата сессии;\n",
    "\n",
    "- `session_start_ts` — дата и время начала сессии;\n",
    "\n",
    "- `install_date` — дата установки приложения;\n",
    "\n",
    "- `session_number` — порядковый номер сессии для конкретного пользователя;\n",
    "\n",
    "- `registration_flag` — является ли пользователь зарегистрированным;\n",
    "\n",
    "- `page_counter` — количество просмотренных страниц во время сессии;\n",
    "\n",
    "- `region` — регион пользователя;\n",
    "\n",
    "- `device` — тип устройства пользователя;\n",
    "\n",
    "- `test_group` — тестовая группа (в таблице с историческими данными этого столбца нет).\n",
    "\n",
    "\n",
    "## Что нужно сделать\n",
    "Ваши задачи: рассчитать параметры теста, оценить корректность его проведения и проанализировать результаты эксперимента."
   ]
  },
  {
   "cell_type": "markdown",
   "metadata": {},
   "source": [
    "<div class=\"alert alert-block alert-success\">\n",
    "\n",
    "**Комментарий ревьювера (все отлично)**\n",
    "    \n",
    "Хорошее введение, понятно чему посвящен твой проект и какие этапы он содержит👍\n",
    "</div>"
   ]
  },
  {
   "cell_type": "markdown",
   "metadata": {
    "id": "UpOucjID0eMl"
   },
   "source": [
    "### 1. Работа с историческими данными (EDA)"
   ]
  },
  {
   "cell_type": "markdown",
   "metadata": {
    "id": "8iJMtL-30eMl"
   },
   "source": [
    "#### 1.1. Загрузка исторических данных\n",
    "На первом этапе поработайте с историческими данными приложения:\n",
    "\n",
    "- Импортируйте библиотеку pandas.\n",
    "\n",
    "- Считайте и сохраните в датафрейм `sessions_history` CSV-файл с историческими данными о сессиях пользователей `sessions_project_history.csv`.\n",
    "\n",
    "Выведите на экран первые пять строк полученного датафрейма."
   ]
  },
  {
   "cell_type": "code",
   "execution_count": 1,
   "metadata": {
    "id": "6TPR2-1RPboT"
   },
   "outputs": [],
   "source": [
    "import pandas as pd\n",
    "import matplotlib.pyplot as plt\n",
    "import seaborn as sns\n",
    "from statsmodels.stats.power import NormalIndPower\n",
    "from statsmodels.stats.proportion import proportion_effectsize\n",
    "from math import ceil\n",
    "import numpy as np\n",
    "from scipy import stats\n",
    "from statsmodels.stats.proportion import proportions_ztest"
   ]
  },
  {
   "cell_type": "markdown",
   "metadata": {},
   "source": [
    "<div class=\"alert alert-block alert-warning\">\n",
    "\n",
    "**Комментарий ревьювера (что можно улучшить)**\n",
    "    \n",
    "Все используемые библиотеки лучше импортировать в первой ячейке согласно PEP8. Так твой коллега, запускающий работу, будет в курсе используемых в ней библиотек и сможет настроить свое окружение при необходимости.\n",
    "</div>"
   ]
  },
  {
   "cell_type": "markdown",
   "metadata": {},
   "source": [
    "<div class=\"alert alert-block alert-info\">\n",
    "<b>Комментарий студента:</b>\n",
    "Исправила\n",
    "</div>"
   ]
  },
  {
   "cell_type": "markdown",
   "metadata": {},
   "source": [
    "<div class=\"alert alert-block alert-success\">\n",
    "\n",
    "**Комментарий ревьювера v2 (все отлично)**\n",
    "    \n",
    "👍\n",
    "</div>"
   ]
  },
  {
   "cell_type": "code",
   "execution_count": 2,
   "metadata": {},
   "outputs": [],
   "source": [
    "sessions_history=pd.read_csv(\"/datasets/sessions_project_history.csv\")"
   ]
  },
  {
   "cell_type": "code",
   "execution_count": 3,
   "metadata": {},
   "outputs": [
    {
     "data": {
      "text/html": [
       "<div>\n",
       "<style scoped>\n",
       "    .dataframe tbody tr th:only-of-type {\n",
       "        vertical-align: middle;\n",
       "    }\n",
       "\n",
       "    .dataframe tbody tr th {\n",
       "        vertical-align: top;\n",
       "    }\n",
       "\n",
       "    .dataframe thead th {\n",
       "        text-align: right;\n",
       "    }\n",
       "</style>\n",
       "<table border=\"1\" class=\"dataframe\">\n",
       "  <thead>\n",
       "    <tr style=\"text-align: right;\">\n",
       "      <th></th>\n",
       "      <th>user_id</th>\n",
       "      <th>session_id</th>\n",
       "      <th>session_date</th>\n",
       "      <th>session_start_ts</th>\n",
       "      <th>install_date</th>\n",
       "      <th>session_number</th>\n",
       "      <th>registration_flag</th>\n",
       "      <th>page_counter</th>\n",
       "      <th>region</th>\n",
       "      <th>device</th>\n",
       "    </tr>\n",
       "  </thead>\n",
       "  <tbody>\n",
       "    <tr>\n",
       "      <th>0</th>\n",
       "      <td>E302123B7000BFE4</td>\n",
       "      <td>F9AF61A0C2023832</td>\n",
       "      <td>2025-08-15</td>\n",
       "      <td>2025-08-15 17:47:35</td>\n",
       "      <td>2025-08-15</td>\n",
       "      <td>1</td>\n",
       "      <td>0</td>\n",
       "      <td>3</td>\n",
       "      <td>CIS</td>\n",
       "      <td>iPhone</td>\n",
       "    </tr>\n",
       "    <tr>\n",
       "      <th>1</th>\n",
       "      <td>2530F72E221829FB</td>\n",
       "      <td>85003A206CBDAC6F</td>\n",
       "      <td>2025-08-15</td>\n",
       "      <td>2025-08-15 16:42:14</td>\n",
       "      <td>2025-08-15</td>\n",
       "      <td>1</td>\n",
       "      <td>0</td>\n",
       "      <td>4</td>\n",
       "      <td>MENA</td>\n",
       "      <td>Android</td>\n",
       "    </tr>\n",
       "    <tr>\n",
       "      <th>2</th>\n",
       "      <td>876E020A4FC512F5</td>\n",
       "      <td>3677423E49D72DEE</td>\n",
       "      <td>2025-08-15</td>\n",
       "      <td>2025-08-15 12:30:00</td>\n",
       "      <td>2025-08-15</td>\n",
       "      <td>1</td>\n",
       "      <td>0</td>\n",
       "      <td>4</td>\n",
       "      <td>EU</td>\n",
       "      <td>PC</td>\n",
       "    </tr>\n",
       "    <tr>\n",
       "      <th>3</th>\n",
       "      <td>2640B349E1D81584</td>\n",
       "      <td>956B45F5915CA225</td>\n",
       "      <td>2025-08-15</td>\n",
       "      <td>2025-08-15 15:31:31</td>\n",
       "      <td>2025-08-15</td>\n",
       "      <td>1</td>\n",
       "      <td>0</td>\n",
       "      <td>4</td>\n",
       "      <td>CIS</td>\n",
       "      <td>Android</td>\n",
       "    </tr>\n",
       "    <tr>\n",
       "      <th>4</th>\n",
       "      <td>94E1CBFAEF1F5EE9</td>\n",
       "      <td>83BF0DA35F9F1F40</td>\n",
       "      <td>2025-08-15</td>\n",
       "      <td>2025-08-15 21:33:53</td>\n",
       "      <td>2025-08-15</td>\n",
       "      <td>1</td>\n",
       "      <td>0</td>\n",
       "      <td>3</td>\n",
       "      <td>CIS</td>\n",
       "      <td>Android</td>\n",
       "    </tr>\n",
       "  </tbody>\n",
       "</table>\n",
       "</div>"
      ],
      "text/plain": [
       "            user_id        session_id session_date     session_start_ts  \\\n",
       "0  E302123B7000BFE4  F9AF61A0C2023832   2025-08-15  2025-08-15 17:47:35   \n",
       "1  2530F72E221829FB  85003A206CBDAC6F   2025-08-15  2025-08-15 16:42:14   \n",
       "2  876E020A4FC512F5  3677423E49D72DEE   2025-08-15  2025-08-15 12:30:00   \n",
       "3  2640B349E1D81584  956B45F5915CA225   2025-08-15  2025-08-15 15:31:31   \n",
       "4  94E1CBFAEF1F5EE9  83BF0DA35F9F1F40   2025-08-15  2025-08-15 21:33:53   \n",
       "\n",
       "  install_date  session_number  registration_flag  page_counter region  \\\n",
       "0   2025-08-15               1                  0             3    CIS   \n",
       "1   2025-08-15               1                  0             4   MENA   \n",
       "2   2025-08-15               1                  0             4     EU   \n",
       "3   2025-08-15               1                  0             4    CIS   \n",
       "4   2025-08-15               1                  0             3    CIS   \n",
       "\n",
       "    device  \n",
       "0   iPhone  \n",
       "1  Android  \n",
       "2       PC  \n",
       "3  Android  \n",
       "4  Android  "
      ]
     },
     "execution_count": 3,
     "metadata": {},
     "output_type": "execute_result"
    }
   ],
   "source": [
    "sessions_history.head()"
   ]
  },
  {
   "cell_type": "markdown",
   "metadata": {
    "id": "qTDoiODz0eMo"
   },
   "source": [
    "#### 1.2. Знакомство с данными\n",
    "- Для каждого уникального пользователя `user_id` рассчитайте количество уникальных сессий `session_id`.\n",
    "\n",
    "- Выведите на экран все данные из таблицы `sessions_history` для одного пользователя с наибольшим количеством сессий. Если таких пользователей несколько, выберите любого из них.\n",
    "\n",
    "- Изучите таблицу для одного пользователя, чтобы лучше понять логику формирования каждого столбца данных.\n",
    "\n"
   ]
  },
  {
   "cell_type": "code",
   "execution_count": 4,
   "metadata": {
    "id": "PWZO9vTIPbPN"
   },
   "outputs": [],
   "source": [
    "unique_sessions = sessions_history.groupby('user_id')['session_id'].nunique().reset_index()"
   ]
  },
  {
   "cell_type": "code",
   "execution_count": 5,
   "metadata": {},
   "outputs": [],
   "source": [
    "max_sessions_user = unique_sessions.loc[unique_sessions['session_id'].idxmax()]['user_id']"
   ]
  },
  {
   "cell_type": "code",
   "execution_count": 6,
   "metadata": {},
   "outputs": [],
   "source": [
    "user_data = sessions_history[sessions_history['user_id'] == max_sessions_user]"
   ]
  },
  {
   "cell_type": "code",
   "execution_count": 7,
   "metadata": {},
   "outputs": [
    {
     "name": "stdout",
     "output_type": "stream",
     "text": [
      "Пользователь с максимальным количеством сессий: 10E0DEFC1ABDBBE0\n",
      "Количество уникальных сессий: 10\n",
      "\n",
      "Все сессии пользователя:\n"
     ]
    },
    {
     "data": {
      "text/html": [
       "<div>\n",
       "<style scoped>\n",
       "    .dataframe tbody tr th:only-of-type {\n",
       "        vertical-align: middle;\n",
       "    }\n",
       "\n",
       "    .dataframe tbody tr th {\n",
       "        vertical-align: top;\n",
       "    }\n",
       "\n",
       "    .dataframe thead th {\n",
       "        text-align: right;\n",
       "    }\n",
       "</style>\n",
       "<table border=\"1\" class=\"dataframe\">\n",
       "  <thead>\n",
       "    <tr style=\"text-align: right;\">\n",
       "      <th></th>\n",
       "      <th>user_id</th>\n",
       "      <th>session_id</th>\n",
       "      <th>session_date</th>\n",
       "      <th>session_start_ts</th>\n",
       "      <th>install_date</th>\n",
       "      <th>session_number</th>\n",
       "      <th>registration_flag</th>\n",
       "      <th>page_counter</th>\n",
       "      <th>region</th>\n",
       "      <th>device</th>\n",
       "    </tr>\n",
       "  </thead>\n",
       "  <tbody>\n",
       "    <tr>\n",
       "      <th>115558</th>\n",
       "      <td>10E0DEFC1ABDBBE0</td>\n",
       "      <td>B8F0423BBFFCF5DC</td>\n",
       "      <td>2025-08-14</td>\n",
       "      <td>2025-08-14 13:57:39</td>\n",
       "      <td>2025-08-14</td>\n",
       "      <td>1</td>\n",
       "      <td>0</td>\n",
       "      <td>4</td>\n",
       "      <td>CIS</td>\n",
       "      <td>Android</td>\n",
       "    </tr>\n",
       "    <tr>\n",
       "      <th>191751</th>\n",
       "      <td>10E0DEFC1ABDBBE0</td>\n",
       "      <td>87CA2FA549473837</td>\n",
       "      <td>2025-08-15</td>\n",
       "      <td>2025-08-15 16:42:10</td>\n",
       "      <td>2025-08-14</td>\n",
       "      <td>2</td>\n",
       "      <td>0</td>\n",
       "      <td>3</td>\n",
       "      <td>CIS</td>\n",
       "      <td>Android</td>\n",
       "    </tr>\n",
       "    <tr>\n",
       "      <th>239370</th>\n",
       "      <td>10E0DEFC1ABDBBE0</td>\n",
       "      <td>4ADD8011DCDCE318</td>\n",
       "      <td>2025-08-16</td>\n",
       "      <td>2025-08-16 19:53:21</td>\n",
       "      <td>2025-08-14</td>\n",
       "      <td>3</td>\n",
       "      <td>0</td>\n",
       "      <td>3</td>\n",
       "      <td>CIS</td>\n",
       "      <td>Android</td>\n",
       "    </tr>\n",
       "    <tr>\n",
       "      <th>274629</th>\n",
       "      <td>10E0DEFC1ABDBBE0</td>\n",
       "      <td>DF0FD0E09BF1F3D7</td>\n",
       "      <td>2025-08-17</td>\n",
       "      <td>2025-08-17 15:03:43</td>\n",
       "      <td>2025-08-14</td>\n",
       "      <td>4</td>\n",
       "      <td>0</td>\n",
       "      <td>1</td>\n",
       "      <td>CIS</td>\n",
       "      <td>Android</td>\n",
       "    </tr>\n",
       "    <tr>\n",
       "      <th>302501</th>\n",
       "      <td>10E0DEFC1ABDBBE0</td>\n",
       "      <td>3C221774B4DE6885</td>\n",
       "      <td>2025-08-18</td>\n",
       "      <td>2025-08-18 17:29:14</td>\n",
       "      <td>2025-08-14</td>\n",
       "      <td>5</td>\n",
       "      <td>0</td>\n",
       "      <td>4</td>\n",
       "      <td>CIS</td>\n",
       "      <td>Android</td>\n",
       "    </tr>\n",
       "    <tr>\n",
       "      <th>325557</th>\n",
       "      <td>10E0DEFC1ABDBBE0</td>\n",
       "      <td>031BD7A67048105B</td>\n",
       "      <td>2025-08-19</td>\n",
       "      <td>2025-08-19 13:23:55</td>\n",
       "      <td>2025-08-14</td>\n",
       "      <td>6</td>\n",
       "      <td>0</td>\n",
       "      <td>2</td>\n",
       "      <td>CIS</td>\n",
       "      <td>Android</td>\n",
       "    </tr>\n",
       "    <tr>\n",
       "      <th>345336</th>\n",
       "      <td>10E0DEFC1ABDBBE0</td>\n",
       "      <td>FF4315CF4AD4B100</td>\n",
       "      <td>2025-08-20</td>\n",
       "      <td>2025-08-20 19:31:54</td>\n",
       "      <td>2025-08-14</td>\n",
       "      <td>7</td>\n",
       "      <td>0</td>\n",
       "      <td>2</td>\n",
       "      <td>CIS</td>\n",
       "      <td>Android</td>\n",
       "    </tr>\n",
       "    <tr>\n",
       "      <th>377532</th>\n",
       "      <td>10E0DEFC1ABDBBE0</td>\n",
       "      <td>4045FEA0747203B4</td>\n",
       "      <td>2025-08-22</td>\n",
       "      <td>2025-08-22 17:54:13</td>\n",
       "      <td>2025-08-14</td>\n",
       "      <td>8</td>\n",
       "      <td>0</td>\n",
       "      <td>2</td>\n",
       "      <td>CIS</td>\n",
       "      <td>Android</td>\n",
       "    </tr>\n",
       "    <tr>\n",
       "      <th>403538</th>\n",
       "      <td>10E0DEFC1ABDBBE0</td>\n",
       "      <td>344B086C421C7F37</td>\n",
       "      <td>2025-08-24</td>\n",
       "      <td>2025-08-24 14:46:13</td>\n",
       "      <td>2025-08-14</td>\n",
       "      <td>9</td>\n",
       "      <td>0</td>\n",
       "      <td>2</td>\n",
       "      <td>CIS</td>\n",
       "      <td>Android</td>\n",
       "    </tr>\n",
       "    <tr>\n",
       "      <th>414743</th>\n",
       "      <td>10E0DEFC1ABDBBE0</td>\n",
       "      <td>054F20BA371E4C9D</td>\n",
       "      <td>2025-08-25</td>\n",
       "      <td>2025-08-25 18:36:41</td>\n",
       "      <td>2025-08-14</td>\n",
       "      <td>10</td>\n",
       "      <td>0</td>\n",
       "      <td>3</td>\n",
       "      <td>CIS</td>\n",
       "      <td>Android</td>\n",
       "    </tr>\n",
       "  </tbody>\n",
       "</table>\n",
       "</div>"
      ],
      "text/plain": [
       "                 user_id        session_id session_date     session_start_ts  \\\n",
       "115558  10E0DEFC1ABDBBE0  B8F0423BBFFCF5DC   2025-08-14  2025-08-14 13:57:39   \n",
       "191751  10E0DEFC1ABDBBE0  87CA2FA549473837   2025-08-15  2025-08-15 16:42:10   \n",
       "239370  10E0DEFC1ABDBBE0  4ADD8011DCDCE318   2025-08-16  2025-08-16 19:53:21   \n",
       "274629  10E0DEFC1ABDBBE0  DF0FD0E09BF1F3D7   2025-08-17  2025-08-17 15:03:43   \n",
       "302501  10E0DEFC1ABDBBE0  3C221774B4DE6885   2025-08-18  2025-08-18 17:29:14   \n",
       "325557  10E0DEFC1ABDBBE0  031BD7A67048105B   2025-08-19  2025-08-19 13:23:55   \n",
       "345336  10E0DEFC1ABDBBE0  FF4315CF4AD4B100   2025-08-20  2025-08-20 19:31:54   \n",
       "377532  10E0DEFC1ABDBBE0  4045FEA0747203B4   2025-08-22  2025-08-22 17:54:13   \n",
       "403538  10E0DEFC1ABDBBE0  344B086C421C7F37   2025-08-24  2025-08-24 14:46:13   \n",
       "414743  10E0DEFC1ABDBBE0  054F20BA371E4C9D   2025-08-25  2025-08-25 18:36:41   \n",
       "\n",
       "       install_date  session_number  registration_flag  page_counter region  \\\n",
       "115558   2025-08-14               1                  0             4    CIS   \n",
       "191751   2025-08-14               2                  0             3    CIS   \n",
       "239370   2025-08-14               3                  0             3    CIS   \n",
       "274629   2025-08-14               4                  0             1    CIS   \n",
       "302501   2025-08-14               5                  0             4    CIS   \n",
       "325557   2025-08-14               6                  0             2    CIS   \n",
       "345336   2025-08-14               7                  0             2    CIS   \n",
       "377532   2025-08-14               8                  0             2    CIS   \n",
       "403538   2025-08-14               9                  0             2    CIS   \n",
       "414743   2025-08-14              10                  0             3    CIS   \n",
       "\n",
       "         device  \n",
       "115558  Android  \n",
       "191751  Android  \n",
       "239370  Android  \n",
       "274629  Android  \n",
       "302501  Android  \n",
       "325557  Android  \n",
       "345336  Android  \n",
       "377532  Android  \n",
       "403538  Android  \n",
       "414743  Android  "
      ]
     },
     "metadata": {},
     "output_type": "display_data"
    }
   ],
   "source": [
    "print(f\"Пользователь с максимальным количеством сессий: {max_sessions_user}\")\n",
    "print(f\"Количество уникальных сессий: {unique_sessions.loc[unique_sessions['user_id'] == max_sessions_user, 'session_id'].values[0]}\")\n",
    "print(\"\\nВсе сессии пользователя:\")\n",
    "display(user_data)"
   ]
  },
  {
   "cell_type": "markdown",
   "metadata": {},
   "source": [
    "<div class=\"alert alert-block alert-warning\">\n",
    "\n",
    "**Комментарий ревьювера (что можно улучшить)**\n",
    "    \n",
    "Данные можно вывести в табличном виде, использя display вместо print.\n",
    "</div>"
   ]
  },
  {
   "cell_type": "markdown",
   "metadata": {},
   "source": [
    "<div class=\"alert alert-block alert-info\">\n",
    "<b>Комментарий студента:</b>\n",
    "Исправила\n",
    "</div>"
   ]
  },
  {
   "cell_type": "markdown",
   "metadata": {},
   "source": [
    "<div class=\"alert alert-block alert-success\">\n",
    "\n",
    "**Комментарий ревьювера v2 (все отлично)**\n",
    "    \n",
    "Так лучше👍\n",
    "</div>"
   ]
  },
  {
   "cell_type": "markdown",
   "metadata": {
    "id": "CmcGpJTP0eMq"
   },
   "source": [
    "#### 1.3. Анализ числа регистраций\n",
    "Одна из важнейших метрик продукта — число зарегистрированных пользователей. Используя исторические данные, визуализируйте, как менялось число регистраций в приложении за время его существования.\n",
    "\n",
    "- Агрегируйте исторические данные и рассчитайте число уникальных пользователей и число зарегистрированных пользователей для каждого дня наблюдения. Для простоты считайте, что у пользователя в течение дня бывает одна сессия максимум и статус регистрации в течение одного дня не может измениться.\n",
    "\n",
    "- Постройте линейные графики общего числа пользователей и общего числа зарегистрированных пользователей по дням. Отобразите их на одном графике.\n",
    "\n",
    "- Постройте отдельный линейный график доли зарегистрированных пользователей от всех пользователей по дням.\n",
    "\n",
    "- На обоих графиках должны быть заголовок, подписанные оси X и Y, сетка и легенда."
   ]
  },
  {
   "cell_type": "code",
   "execution_count": 8,
   "metadata": {
    "id": "tN_6Ml3EPatS"
   },
   "outputs": [
    {
     "name": "stdout",
     "output_type": "stream",
     "text": [
      "   session_date  registration_flag  user_id\n",
      "0    2025-08-11                  0     3750\n",
      "1    2025-08-11                  1      169\n",
      "2    2025-08-12                  0     5720\n",
      "3    2025-08-12                  1      336\n",
      "4    2025-08-13                  0     8025\n",
      "..          ...                ...      ...\n",
      "83   2025-09-21                  1       87\n",
      "84   2025-09-22                  0      478\n",
      "85   2025-09-22                  1       68\n",
      "86   2025-09-23                  0      285\n",
      "87   2025-09-23                  1       32\n",
      "\n",
      "[88 rows x 3 columns]\n"
     ]
    }
   ],
   "source": [
    "# Агрегация данных по дням\n",
    "daily_stats = sessions_history.groupby(['session_date', 'user_id', 'registration_flag']).size().reset_index()\n",
    "daily_stats = daily_stats.groupby(['session_date', 'registration_flag']).agg({\n",
    "    'user_id': 'nunique'\n",
    "}).reset_index()\n",
    "print(daily_stats)"
   ]
  },
  {
   "cell_type": "code",
   "execution_count": 9,
   "metadata": {},
   "outputs": [
    {
     "data": {
      "image/png": "[encoded data removed]",
      "text/plain": [
       "<Figure size 1080x360 with 1 Axes>"
      ]
     },
     "metadata": {
      "needs_background": "light"
     },
     "output_type": "display_data"
    }
   ],
   "source": [
    "# Создаем отдельные датафреймы для зарегистрированных и всех пользователей\n",
    "registered_users = daily_stats[daily_stats['registration_flag'] == True].groupby('session_date').agg({'user_id': 'sum'}).reset_index()\n",
    "registered_users.columns = ['date', 'registered_users']\n",
    "\n",
    "all_users = daily_stats.groupby('session_date').agg({'user_id': 'sum'}).reset_index()\n",
    "all_users.columns = ['date', 'total_users']\n",
    "\n",
    "# Объединяем данные\n",
    "metrics = pd.merge(all_users, registered_users, on='date', how='outer')\n",
    "\n",
    "# Построение графика\n",
    "plt.figure(figsize=(15, 5))\n",
    "\n",
    "# График общего числа пользователей\n",
    "plt.plot(metrics['date'], metrics['total_users'], \n",
    "         label='Общее количество пользователей', \n",
    "         marker='o', linestyle='-', color='blue')\n",
    "\n",
    "# График зарегистрированных пользователей\n",
    "plt.plot(metrics['date'], metrics['registered_users'], \n",
    "         label='Зарегистрированные пользователи', \n",
    "         marker='o', linestyle='-', color='green')\n",
    "\n",
    "# Настройка графика\n",
    "plt.title('Динамика кол-ва пользователей приложения', fontsize=16)\n",
    "plt.xlabel('Дата', fontsize=14)\n",
    "plt.ylabel('Количество пользователей', fontsize=14)\n",
    "plt.grid(True, linestyle='--', alpha=0.7)\n",
    "plt.legend(fontsize=12)\n",
    "plt.xticks(rotation=45)\n",
    "plt.tight_layout()\n",
    "\n",
    "# Отображение графика\n",
    "plt.show()"
   ]
  },
  {
   "cell_type": "code",
   "execution_count": 10,
   "metadata": {},
   "outputs": [
    {
     "data": {
      "image/png": "[encoded data removed]",
      "text/plain": [
       "<Figure size 1080x360 with 1 Axes>"
      ]
     },
     "metadata": {
      "needs_background": "light"
     },
     "output_type": "display_data"
    }
   ],
   "source": [
    "\n",
    "# Рассчитываем долю зарегистрированных пользователей\n",
    "metrics['registration_rate'] = (metrics['registered_users'] / metrics['total_users']) * 100\n",
    "\n",
    "# Построение графика\n",
    "plt.figure(figsize=(15, 5))\n",
    "\n",
    "# График доли зарегистрированных пользователей\n",
    "plt.plot(metrics['date'], metrics['registration_rate'], \n",
    "         label='Доля зарегистрированных пользователей (%)', \n",
    "         marker='o', linestyle='-', color='violet')\n",
    "\n",
    "# Настройка отображения\n",
    "plt.title('Доля зарегистрированных пользователей от общего числа', fontsize=16)\n",
    "plt.xlabel('Дата', fontsize=14)\n",
    "plt.ylabel('Процент зарегистрированных пользователей (%)', fontsize=14)\n",
    "plt.grid(True, linestyle='--', alpha=0.7)\n",
    "plt.legend(fontsize=12)\n",
    "plt.ylim(0, 100)  # Ограничиваем ось Y от 0 до 100%\n",
    "plt.xticks(rotation=45)\n",
    "plt.tight_layout()\n",
    "\n",
    "# Отображение графика\n",
    "plt.show()"
   ]
  },
  {
   "cell_type": "markdown",
   "metadata": {},
   "source": [
    "<div class=\"alert alert-block alert-success\">\n",
    "\n",
    "**Комментарий ревьювера (все отлично)**\n",
    "    \n",
    "Отличные графики👍\n",
    "</div>"
   ]
  },
  {
   "cell_type": "markdown",
   "metadata": {
    "id": "UR7D7RhF0eMr"
   },
   "source": [
    "#### 1.4. Анализ числа просмотренных страниц\n",
    "Другая важная метрика продукта — число просмотренных страниц в приложении. Чем больше страниц просмотрено, тем сильнее пользователь увлечён контентом, а значит, выше шансы, что он зарегистрируется и оплатит подписку.\n",
    "\n",
    "- Найдите количество сессий для каждого значения количества просмотренных страниц. Например: одну страницу просмотрели в 29 160 сессиях, две страницы — в 105 536 сессиях и так далее.\n",
    "\n",
    "- Постройте столбчатую диаграмму, где по оси X будет число просмотренных страниц, по оси Y — количество сессий.\n",
    "\n",
    "- На диаграмме должны быть заголовок, подписанные оси X и Y."
   ]
  },
  {
   "cell_type": "code",
   "execution_count": 11,
   "metadata": {
    "id": "cb6hPlVzPaSf"
   },
   "outputs": [
    {
     "name": "stdout",
     "output_type": "stream",
     "text": [
      "   pages_viewed  sessions_count\n",
      "0             1           29160\n",
      "1             2          105536\n",
      "2             3          166690\n",
      "3             4          105569\n",
      "4             5           26288\n",
      "5             6            2589\n",
      "6             7              92\n"
     ]
    },
    {
     "data": {
      "image/png": "[encoded data removed]",
      "text/plain": [
       "<Figure size 1080x360 with 1 Axes>"
      ]
     },
     "metadata": {
      "needs_background": "light"
     },
     "output_type": "display_data"
    }
   ],
   "source": [
    "# Подсчет количества сессий по количеству просмотренных страниц\n",
    "page_views = sessions_history.groupby('page_counter').agg({\n",
    "    'session_id': 'nunique'\n",
    "}).reset_index()\n",
    "\n",
    "# Переименование столбцов для наглядности\n",
    "page_views.columns = ['pages_viewed', 'sessions_count']\n",
    "\n",
    "# Сортировка по количеству просмотренных страниц\n",
    "page_views = page_views.sort_values(by='pages_viewed')\n",
    "\n",
    "# Вывод результатов\n",
    "print(page_views)\n",
    "\n",
    "# Визуализация результатов\n",
    "plt.figure(figsize=(15, 5))\n",
    "bars = plt.bar(page_views['pages_viewed'], page_views['sessions_count'], color='skyblue')\n",
    "\n",
    "plt.title('Распределение сессий по количеству просмотренных страниц', fontsize=16)\n",
    "plt.xlabel('Количество просмотренных страниц', fontsize=14)\n",
    "plt.ylabel('Количество сессий', fontsize=14)\n",
    "plt.grid(True, linestyle='--', alpha=0.7)\n",
    "plt.xticks(fontsize=12)\n",
    "plt.yticks(fontsize=12)\n",
    "plt.tight_layout()\n",
    "\n",
    "# Размещение значений внутри столбцов\n",
    "for bar in bars:\n",
    "    plt.text(\n",
    "        bar.get_x() + bar.get_width() / 2,  # точное положение по X\n",
    "        bar.get_height() / 2,               # середина высоты столбца\n",
    "        f'{int(bar.get_height()):,}',\n",
    "        ha='center', \n",
    "        va='center', \n",
    "        color='black',\n",
    "        fontsize=10\n",
    "    )\n",
    "\n",
    "plt.show()"
   ]
  },
  {
   "cell_type": "markdown",
   "metadata": {},
   "source": [
    "<div class=\"alert alert-block alert-success\">\n",
    "\n",
    "**Комментарий ревьювера (все отлично)**\n",
    "    \n",
    "Данные собраны оптимальным способом, график наглядно демонстрирует распределение сессий в порядке количества просмотренных страниц👍\n",
    "    \n",
    "Здорово, что уделяешь внимание оформлению графиков.\n",
    "    \n",
    "Предлагаю изучить интересные методы по визуализации. Прикрепляю несколько интересных ссылок:\n",
    "   \n",
    "https://coderlessons.com/tutorials/python-technologies/izuchai-siborna/siborn-kratkoe-rukovodstvo\n",
    "\n",
    "https://tproger.ru/translations/python-data-vizualization/\n",
    "</div>\n",
    "</div>"
   ]
  },
  {
   "cell_type": "markdown",
   "metadata": {
    "id": "xDltSpVP0eMr"
   },
   "source": [
    "#### 1.5. Доля пользователей, просмотревших более четырёх страниц\n",
    "Продуктовая команда продукта считает, что сессии, в рамках которых пользователь просмотрел 4 и более страниц, говорят об удовлетворённости контентом и алгоритмами рекомендаций. Этот показатель является важной прокси-метрикой для продукта.\n",
    "\n",
    "- В датафрейме `sessions_history` создайте дополнительный столбец `good_session`. В него войдёт значение `1`, если за одну сессию было просмотрено 4 и более страниц, и значение `0`, если было просмотрено меньше.\n",
    "\n",
    "- Постройте график со средним значением доли успешных сессий от всех сессий по дням за весь период наблюдения."
   ]
  },
  {
   "cell_type": "code",
   "execution_count": 12,
   "metadata": {
    "id": "iygaPfixPYMW"
   },
   "outputs": [
    {
     "data": {
      "image/png": "[encoded data removed]",
      "text/plain": [
       "<Figure size 1080x432 with 1 Axes>"
      ]
     },
     "metadata": {
      "needs_background": "light"
     },
     "output_type": "display_data"
    }
   ],
   "source": [
    "# Создаем новый столбец good_session\n",
    "sessions_history['good_session'] = sessions_history['page_counter'].apply(lambda x: 1 if x >= 4 else 0)\n",
    "\n",
    "# Группируем данные по дням и считаем средние значения\n",
    "daily_good_sessions = sessions_history.groupby('session_date').agg({\n",
    "    'good_session': 'mean',  # среднее значение доли успешных сессий\n",
    "    'session_id': 'nunique'  # общее количество сессий для проверки\n",
    "}).reset_index()\n",
    "\n",
    "# Переименовываем столбцы\n",
    "daily_good_sessions.columns = ['date', 'success_rate', 'total_sessions']\n",
    "\n",
    "# Строим график\n",
    "plt.figure(figsize=(15, 6))\n",
    "plt.plot(daily_good_sessions['date'], \n",
    "         daily_good_sessions['success_rate'] * 100,  # переводим в проценты\n",
    "         marker='o',\n",
    "         linestyle='-',\n",
    "         color='blue')\n",
    "\n",
    "plt.title('Доля успешных сессий (4+ страницы) по дням', fontsize=16)\n",
    "plt.xlabel('Дата', fontsize=14)\n",
    "plt.ylabel('Доля успешных сессий (%)', fontsize=14)\n",
    "plt.grid(True, linestyle='--', alpha=0.7)\n",
    "plt.xticks(rotation=45, fontsize=12)\n",
    "plt.yticks(fontsize=12)\n",
    "plt.ylim(0, 100)  # ограничиваем ось Y от 0 до 100%\n",
    "plt.tight_layout()\n",
    "\n",
    "plt.show()"
   ]
  },
  {
   "cell_type": "markdown",
   "metadata": {},
   "source": [
    "<div class=\"alert alert-block alert-success\">\n",
    "\n",
    "**Комментарий ревьювера (все отлично)**\n",
    "    \n",
    "Всё верно👍\n",
    "</div>"
   ]
  },
  {
   "cell_type": "markdown",
   "metadata": {
    "id": "21JcG77Y0eMt"
   },
   "source": [
    "### 2. Подготовка к тесту\n",
    "При планировании теста необходимо проделать несколько важных шагов:\n",
    "\n",
    "- Сформулировать нулевую и альтернативную гипотезы\n",
    "\n",
    "- Определиться с целевой метрикой.\n",
    "\n",
    "- Рассчитать необходимый размер выборки.\n",
    "\n",
    "- Исходя из текущих значений трафика рассчитать необходимую длительность проведения теста."
   ]
  },
  {
   "cell_type": "markdown",
   "metadata": {
    "id": "kXdcwkjf859k"
   },
   "source": [
    "#### 2.1 Формулировка нулевой и альтернативной гипотез\n",
    "\n",
    "Перед тем как проводить А/B-тест, необходимо сформулировать нулевую и альтернативную гипотезы. Напомним изначальное условие: команда разработчиков рекомендательных систем создала новый алгоритм, который, по их мнению, будет показывать более интересный контент для каждого пользователя.\n",
    "\n",
    "О какой метрике идёт речь? Как она будет учтена в формулировке гипотез?"
   ]
  },
  {
   "cell_type": "markdown",
   "metadata": {
    "id": "RiKI8eT49h3F"
   },
   "source": [
    "Сформулируйте нулевую и альтернативную гипотезы:\n",
    "\n",
    "Нулевая гипотеза (H0):\n",
    "Новый алгоритм рекомендаций не приведет к статистически значимому увеличению среднего времени просмотра контента на пользователя за сессию по сравнению с текущим алгоритмом.\n",
    "\n",
    "Альтернативная гипотеза (H1):\n",
    "Новый алгоритм рекомендаций приведет к статистически значимому увеличению среднего времени просмотра контента на пользователя за сессию по сравнению с текущим алгоритмом."
   ]
  },
  {
   "cell_type": "markdown",
   "metadata": {},
   "source": [
    "<div class=\"alert alert-block alert-success\">\n",
    "\n",
    "**Комментарий ревьювера (все отлично)**\n",
    "    \n",
    "Гипотезы верно сформулированы👍\n",
    "</div>"
   ]
  },
  {
   "cell_type": "markdown",
   "metadata": {
    "id": "uzaeln270eMt"
   },
   "source": [
    "#### 2.2. Расчёт размера выборки\n",
    "В рамках курса вы уже рассчитывали размеры выборки и  использовали для этого онлайн-калькулятор. В этом задании предлагаем воспользоваться готовым кодом и рассчитать необходимое для вашего эксперимента количество пользователей.\n",
    "\n",
    "Для этого установите в коде ниже следующие параметры:\n",
    "\n",
    "- Уровень значимости — 0.05.\n",
    "\n",
    "- Вероятность ошибки второго рода — 0.2.\n",
    "\n",
    "- Мощность теста.\n",
    "\n",
    "- Минимальный детектируемый эффект, или MDE, — 3%. Обратите внимание, что здесь нужно указать десятичную дробь, а не процент.\n",
    "\n",
    "При расчёте размера выборки используйте метод `solve_power()` из класса `power.NormalIndPower` модуля `statsmodels.stats`.\n",
    "\n",
    "Запустите ячейку и изучите полученное значение."
   ]
  },
  {
   "cell_type": "code",
   "execution_count": 13,
   "metadata": {
    "id": "zSxJyPGPNdaI"
   },
   "outputs": [
    {
     "name": "stdout",
     "output_type": "stream",
     "text": [
      "Необходимый размер выборки для каждой группы: 41040\n"
     ]
    }
   ],
   "source": [
    "\n",
    "# Задаём параметры\n",
    "alpha = 0.05  # Уровень значимости\n",
    "beta = 0.2  # Ошибка второго рода, часто 1 - мощность\n",
    "power = 0.8  # Мощность теста\n",
    "p1 = 0.3 # Базовый уровень доли\n",
    "mde = 0.03 * p1  # Минимальный детектируемый эффект\n",
    "effect_size = proportion_effectsize(p1, p1 + mde)\n",
    "\n",
    "# Инициализируем класс NormalIndPower\n",
    "power_analysis = NormalIndPower()\n",
    "\n",
    "# Рассчитываем размер выборки\n",
    "sample_size = power_analysis.solve_power(\n",
    "    effect_size = effect_size,\n",
    "    power = power,\n",
    "    alpha = alpha,\n",
    "    ratio = 1 # Равномерное распределение выборок\n",
    ")\n",
    "\n",
    "print(f\"Необходимый размер выборки для каждой группы: {int(sample_size)}\")"
   ]
  },
  {
   "cell_type": "markdown",
   "metadata": {},
   "source": [
    "<div class=\"alert alert-block alert-success\">\n",
    "\n",
    "**Комментарий ревьювера (все отлично)**\n",
    "    \n",
    "Верно👍\n",
    "</div>"
   ]
  },
  {
   "cell_type": "markdown",
   "metadata": {
    "id": "qLEv4RoV0eMu"
   },
   "source": [
    "#### 2.3. Расчёт длительности A/B-теста\n",
    "\n",
    "Используйте данные о количестве пользователей в каждой выборке и среднем количестве пользователей приложения. Рассчитайте длительность теста, разделив одно на другое.\n",
    "\n",
    "- Рассчитайте среднее количество уникальных пользователей приложения в день.\n",
    "\n",
    "- Определите длительность теста исходя из рассчитанного значения размера выборок и среднего дневного трафика приложения. Количество дней округлите в большую сторону."
   ]
  },
  {
   "cell_type": "code",
   "execution_count": 14,
   "metadata": {
    "id": "KZDRbryDOGHa"
   },
   "outputs": [
    {
     "name": "stdout",
     "output_type": "stream",
     "text": [
      "Рассчитанная длительность A/B-теста при текущем уровене трафика в 9907.0 пользователей в день составит 9 дней.\n"
     ]
    }
   ],
   "source": [
    "\n",
    "# Среднее количество пользователей приложения в день по историческим данным\n",
    "avg_daily_users =round(all_users['total_users'].mean(),0)\n",
    "\n",
    "# Размер выборки для всего теста (обе группы)\n",
    "total_sample_size = sample_size * 2 \n",
    "\n",
    "# Рассчитываем длительность теста в днях как отношение размера выборки к среднему числу пользователей\n",
    "test_duration = ceil(total_sample_size / avg_daily_users)\n",
    "\n",
    "print(f\"Рассчитанная длительность A/B-теста при текущем уровене трафика в {avg_daily_users} пользователей в день составит {test_duration} дней.\")"
   ]
  },
  {
   "cell_type": "markdown",
   "metadata": {},
   "source": [
    "<div class=\"alert alert-block alert-danger\">\n",
    "    \n",
    "**Комментарий ревьювера (недочет, который нужно доработать)**\n",
    "    \n",
    "При расчёте длительности теста не учитывается, что в тесте участвуют две группы.\n",
    "</div>"
   ]
  },
  {
   "cell_type": "markdown",
   "metadata": {},
   "source": [
    "<div class=\"alert alert-block alert-info\">\n",
    "<b>Комментарий студента:</b>\n",
    "Исправила\n",
    "</div>"
   ]
  },
  {
   "cell_type": "markdown",
   "metadata": {},
   "source": [
    "<div class=\"alert alert-block alert-success\">\n",
    "\n",
    "**Комментарий ревьювера v2 (все отлично)**\n",
    "    \n",
    "Верно👍\n",
    "</div>"
   ]
  },
  {
   "cell_type": "markdown",
   "metadata": {
    "id": "ZuvtAdha0eMv"
   },
   "source": [
    "### 3. Мониторинг А/В-теста"
   ]
  },
  {
   "cell_type": "markdown",
   "metadata": {
    "id": "jq5sE3Ya0eMv"
   },
   "source": [
    "#### 3.1. Проверка распределения пользователей\n",
    "\n",
    "A/B-тест успешно запущен, и уже доступны данные за первые три дня. На этом этапе нужно убедиться, что всё идёт хорошо: пользователи разделены правильным образом, а интересующие вас метрики корректно считаются.\n",
    "\n",
    "- Считайте и сохраните в датафрейм `sessions_test_part` CSV-файл с историческими данными о сессиях пользователей `sessions_project_test_part.csv`.\n",
    "\n",
    "- Рассчитайте количество уникальных пользователей в каждой из экспериментальных групп для одного дня наблюдения.\n",
    "\n",
    "- Рассчитайте и выведите на экран процентную разницу в количестве пользователей в группах A и B. Постройте любую удобную визуализацию, на которой будет видно возможное различие двух групп.\n",
    "\n",
    "Для расчёта процентной разницы воспользуйтесь формулой:\n",
    "$$P = 100 \\cdot  \\frac{|A − B|}{A}$$"
   ]
  },
  {
   "cell_type": "code",
   "execution_count": 15,
   "metadata": {
    "id": "G1bqIzDJOUiz"
   },
   "outputs": [],
   "source": [
    "sessions_test_part=pd.read_csv('/datasets/sessions_project_test_part.csv')"
   ]
  },
  {
   "cell_type": "code",
   "execution_count": 16,
   "metadata": {},
   "outputs": [
    {
     "name": "stdout",
     "output_type": "stream",
     "text": [
      "\n",
      "Количество уникальных пользователей по группам за 2025-10-14\n",
      "test_group\n",
      "A    1477\n",
      "B    1466\n",
      "Name: user_id, dtype: int64\n"
     ]
    }
   ],
   "source": [
    "# Выберем день для анализа (первый день тестирования)\n",
    "# Найдем минимальную дату в данных\n",
    "min_date = sessions_test_part['session_date'].min()\n",
    "\n",
    "# Отфильтруем данные только по первому дню\n",
    "day_sessions = sessions_test_part[\n",
    "    sessions_test_part['session_date'] == min_date\n",
    "]\n",
    "\n",
    "# Подсчитаем уникальных пользователей в каждой группе\n",
    "unique_users_per_group = day_sessions.groupby('test_group')['user_id'].nunique()\n",
    "\n",
    "# Выведем результат\n",
    "print(\"\\nКоличество уникальных пользователей по группам за\", min_date)\n",
    "print(unique_users_per_group)"
   ]
  },
  {
   "cell_type": "code",
   "execution_count": 17,
   "metadata": {},
   "outputs": [
    {
     "name": "stdout",
     "output_type": "stream",
     "text": [
      "Количество пользователей в группе A: 1477\n",
      "Количество пользователей в группе B: 1466\n",
      "Процентная разница между группами: 0.74%\n"
     ]
    },
    {
     "data": {
      "image/png": "[encoded data removed]",
      "text/plain": [
       "<Figure size 576x432 with 1 Axes>"
      ]
     },
     "metadata": {
      "needs_background": "light"
     },
     "output_type": "display_data"
    }
   ],
   "source": [
    "# Сначала найдем количество уникальных пользователей в каждой группе\n",
    "unique_users = sessions_test_part.groupby('test_group')['user_id'].nunique()\n",
    "\n",
    "# Извлечем значения для групп A и B\n",
    "group_A = unique_users['A']\n",
    "group_B = unique_users['B']\n",
    "\n",
    "# Рассчитаем процентную разницу\n",
    "percentage_diff = 100 * (abs(group_A - group_B) / group_A)\n",
    "\n",
    "print(f\"Количество пользователей в группе A: {group_A}\")\n",
    "print(f\"Количество пользователей в группе B: {group_B}\")\n",
    "print(f\"Процентная разница между группами: {percentage_diff:.2f}%\")\n",
    "\n",
    "# Визуализация\n",
    "plt.figure(figsize=(8, 6))\n",
    "sns.barplot(\n",
    "    x=unique_users.index,\n",
    "    y=unique_users.values,\n",
    "    palette=['skyblue', 'lightgreen'],\n",
    "    order=['A', 'B']\n",
    ")\n",
    "\n",
    "# Добавление значений над столбцами\n",
    "for i, value in enumerate(unique_users.values):\n",
    "    plt.text(\n",
    "        i,\n",
    "        value,\n",
    "        f'{value}',\n",
    "        ha='center',\n",
    "        va='bottom',\n",
    "        fontsize=12\n",
    "    )\n",
    "\n",
    "plt.title('Сравнение количества пользователей в группах A/B', fontsize=14)\n",
    "plt.xlabel('Тестовая группа', fontsize=12)\n",
    "plt.ylabel('Количество уникальных пользователей', fontsize=12)\n",
    "plt.ylim(0, max(unique_users.values) * 1.1)\n",
    "plt.grid(axis='y', linestyle='--', alpha=0.7)\n",
    "plt.tight_layout()\n",
    "plt.show()"
   ]
  },
  {
   "cell_type": "markdown",
   "metadata": {},
   "source": [
    "<div class=\"alert alert-block alert-success\">\n",
    "\n",
    "**Комментарий ревьювера (все отлично)**\n",
    "    \n",
    "Расчёт верный👍\n",
    "\n",
    "</div>"
   ]
  },
  {
   "cell_type": "markdown",
   "metadata": {
    "id": "sgpNY5bv0eM0"
   },
   "source": [
    "#### 3.2. Проверка пересечений пользователей\n",
    "Помимо проверки равенства количества пользователей в группах, полезно убедиться в том, что группы независимы. Для этого нужно убедиться, что никто из пользователей случайно не попал в обе группы одновременно.\n",
    "\n",
    "- Рассчитайте количество пользователей, которые встречаются одновременно в группах A и B, или убедитесь, что таких нет."
   ]
  },
  {
   "cell_type": "code",
   "execution_count": 18,
   "metadata": {
    "id": "E72ozN9FOX1u"
   },
   "outputs": [
    {
     "name": "stdout",
     "output_type": "stream",
     "text": [
      "Нет пользователей, которые присутствуют одновременно в группах A и B.\n"
     ]
    }
   ],
   "source": [
    "# Получаем уникальные user_id для каждой группы\n",
    "users_in_A = sessions_test_part[sessions_test_part['test_group'] == 'A']['user_id'].unique()\n",
    "users_in_B = sessions_test_part[sessions_test_part['test_group'] == 'B']['user_id'].unique()\n",
    "\n",
    "# Преобразуем в множества\n",
    "set_A = set(users_in_A)\n",
    "set_B = set(users_in_B)\n",
    "\n",
    "# Находим пересечение множеств (пользователей, которые есть в обеих группах)\n",
    "common_users = set_A.intersection(set_B)\n",
    "\n",
    "\n",
    "# Выводим результаты\n",
    "if common_users:\n",
    "    print(f\"Найдено {len(common_users)} пользователей, которые присутствуют в обеих группах:\")\n",
    "else:\n",
    "    print(\"Нет пользователей, которые присутствуют одновременно в группах A и B.\")"
   ]
  },
  {
   "cell_type": "markdown",
   "metadata": {},
   "source": [
    "<div class=\"alert alert-block alert-success\">\n",
    "\n",
    "**Комментарий ревьювера (все отлично)**\n",
    "    \n",
    "Здорово, что проверила пересечение групп. Такая проверка была необходима, так как могут быть ошибки при логировании пользователей по группам. \n",
    "\n",
    "</div>"
   ]
  },
  {
   "cell_type": "markdown",
   "metadata": {},
   "source": [
    "<div class=\"alert alert-block alert-warning\">\n",
    "\n",
    "**Комментарий ревьювера (что можно улучшить)**\n",
    "    \n",
    "Проверку можно выполнить другим способом, посчитав количество уникальных групп на каждого пользователя. Если значение будет равно 2, то пользователь попал в обе группы.\n",
    "</div>"
   ]
  },
  {
   "cell_type": "markdown",
   "metadata": {
    "id": "6RvkNLrg0eM1"
   },
   "source": [
    "#### 3.3. Равномерность разделения пользователей по устройствам\n",
    "Полезно также убедиться в том, что пользователи равномерно распределены по всем доступным категориальным переменным — типам устройств и регионам.\n",
    "\n",
    "Постройте две диаграммы:\n",
    "\n",
    "- доля каждого типа устройства для пользователей из группы A,\n",
    "\n",
    "- доля каждого типа устройства для пользователей из группы B.\n",
    "\n",
    "Постарайтесь добавить на диаграммы все необходимые подписи, пояснения и заголовки, которые позволят сделать вывод о том, совпадает ли распределение устройств в группах A и B.\n"
   ]
  },
  {
   "cell_type": "code",
   "execution_count": 19,
   "metadata": {
    "id": "x_IP6PUNPWHC"
   },
   "outputs": [
    {
     "data": {
      "image/png": "[encoded data removed]",
      "text/plain": [
       "<Figure size 1080x504 with 2 Axes>"
      ]
     },
     "metadata": {
      "needs_background": "light"
     },
     "output_type": "display_data"
    }
   ],
   "source": [
    "# Создаем подвыборки для каждой группы\n",
    "group_A = sessions_test_part[sessions_test_part['test_group'] == 'A']\n",
    "group_B = sessions_test_part[sessions_test_part['test_group'] == 'B']\n",
    "\n",
    "# Группируем по устройствам и считаем доли для каждой группы\n",
    "device_A = group_A.groupby('device')['user_id'].nunique().reset_index()\n",
    "device_A['percentage'] = device_A['user_id'] / device_A['user_id'].sum() * 100\n",
    "\n",
    "device_B = group_B.groupby('device')['user_id'].nunique().reset_index()\n",
    "device_B['percentage'] = device_B['user_id'] / device_B['user_id'].sum() * 100\n",
    "\n",
    "# Визуализация\n",
    "plt.figure(figsize=(15, 7))\n",
    "\n",
    "# График для группы A\n",
    "plt.subplot(1, 2, 1)\n",
    "sns.barplot(\n",
    "    x='percentage',\n",
    "    y='device',\n",
    "    data=device_A.sort_values('percentage', ascending=False),\n",
    "    palette='Blues'\n",
    ")\n",
    "plt.title('Распределение устройств в группе A', fontsize=14)\n",
    "plt.xlabel('Доля пользователей (%)', fontsize=12)\n",
    "plt.ylabel('Тип устройства', fontsize=12)\n",
    "plt.xlim(0, 100)\n",
    "plt.grid(axis='x', linestyle='--', alpha=0.7)\n",
    "\n",
    "# Добавляем значения на график\n",
    "for i, val in enumerate(device_A.sort_values('percentage', ascending=False)['percentage']):\n",
    "    plt.text(val, i, f'{val:.1f}%', va='center', ha='left', fontsize=10)\n",
    "\n",
    "# График для группы B\n",
    "plt.subplot(1, 2, 2)\n",
    "sns.barplot(\n",
    "    x='percentage',\n",
    "    y='device',\n",
    "    data=device_B.sort_values('percentage', ascending=False),\n",
    "    palette='Greens'\n",
    ")\n",
    "plt.title('Распределение устройств в группе B', fontsize=14)\n",
    "plt.xlabel('Доля пользователей (%)', fontsize=12)\n",
    "plt.ylabel('Тип устройства', fontsize=12)\n",
    "plt.xlim(0, 100)\n",
    "plt.grid(axis='x', linestyle='--', alpha=0.7)\n",
    "\n",
    "# Добавляем значения на график\n",
    "for i, val in enumerate(device_B.sort_values('percentage', ascending=False)['percentage']):\n",
    "    plt.text(val, i, f'{val:.1f}%', va='center', ha='left', fontsize=10)\n",
    "\n",
    "plt.tight_layout()\n",
    "plt.show()"
   ]
  },
  {
   "cell_type": "markdown",
   "metadata": {},
   "source": [
    "<div class=\"alert alert-block alert-success\">\n",
    "\n",
    "**Комментарий ревьювера (все отлично)**\n",
    "    \n",
    "Задание выполнено👍\n",
    "</div>"
   ]
  },
  {
   "cell_type": "markdown",
   "metadata": {
    "id": "gAgmP6vo0eM1"
   },
   "source": [
    "#### 3.4. Равномерность распределения пользователей по регионам\n",
    "Теперь убедитесь, что пользователи равномерно распределены по регионам.\n",
    "\n",
    "Постройте две диаграммы:\n",
    "\n",
    "- доля каждого региона для пользователей из группы A,\n",
    "\n",
    "- доля каждого региона для пользователей из группы B.\n",
    "\n",
    "Постарайтесь добавить на диаграммы все необходимые подписи, пояснения и заголовки, которые позволят сделать вывод о том, совпадает ли распределение регионов в группах A и B. Постарайтесь использовать другой тип диаграммы, не тот, что в прошлом задании.\n"
   ]
  },
  {
   "cell_type": "code",
   "execution_count": 20,
   "metadata": {
    "id": "3hAq-FG4OdYM"
   },
   "outputs": [
    {
     "data": {
      "image/png": "[encoded data removed]",
      "text/plain": [
       "<Figure size 1152x576 with 2 Axes>"
      ]
     },
     "metadata": {},
     "output_type": "display_data"
    }
   ],
   "source": [
    "\n",
    "# Создаем подвыборки для каждой группы\n",
    "group_A = sessions_test_part[sessions_test_part['test_group'] == 'A']\n",
    "group_B = sessions_test_part[sessions_test_part['test_group'] == 'B']\n",
    "\n",
    "# Группируем по регионам и считаем доли для каждой группы\n",
    "region_A = group_A.groupby('region')['user_id'].nunique().reset_index()\n",
    "region_A['percentage'] = region_A['user_id'] / region_A['user_id'].sum() * 100\n",
    "\n",
    "region_B = group_B.groupby('region')['user_id'].nunique().reset_index()\n",
    "region_B['percentage'] = region_B['user_id'] / region_B['user_id'].sum() * 100\n",
    "\n",
    "# Визуализация с использованием круговой диаграммы\n",
    "plt.figure(figsize=(16, 8))\n",
    "\n",
    "# График для группы A (синие цвета)\n",
    "plt.subplot(1, 2, 1)\n",
    "plt.pie(\n",
    "    region_A['percentage'],\n",
    "    labels=region_A['region'],\n",
    "    autopct='%1.1f%%',\n",
    "    startangle=90,\n",
    "    colors=plt.cm.Blues(np.linspace(0.2, 0.9, len(region_A))),  # ИЗМЕНЕНО\n",
    "    wedgeprops={'linewidth': 1, 'edgecolor': 'white'}\n",
    ")\n",
    "plt.title('Распределение регионов в группе A', fontsize=14)\n",
    "plt.axis('equal')  # делаем круг идеальным\n",
    "\n",
    "# График для группы B (зеленые цвета)\n",
    "plt.subplot(1, 2, 2)\n",
    "plt.pie(\n",
    "    region_B['percentage'],\n",
    "    labels=region_B['region'],\n",
    "    autopct='%1.1f%%',\n",
    "    startangle=90,\n",
    "    colors=plt.cm.Greens(np.linspace(0.2, 0.9, len(region_B))),  # ИЗМЕНЕНО\n",
    "    wedgeprops={'linewidth': 1, 'edgecolor': 'white'}\n",
    ")\n",
    "plt.title('Распределение регионов в группе B', fontsize=14)\n",
    "plt.axis('equal')  # делаем круг идеальным\n",
    "\n",
    "plt.suptitle('Сравнение распределения регионов между группами A и B', fontsize=16, y=1.05)\n",
    "plt.tight_layout(rect=[0, 0, 1, 0.95])\n",
    "plt.show()"
   ]
  },
  {
   "cell_type": "markdown",
   "metadata": {},
   "source": [
    "<div class=\"alert alert-block alert-success\">\n",
    "\n",
    "**Комментарий ревьювера (все отлично)**\n",
    "    \n",
    "Верное решение👍\n",
    "</div>"
   ]
  },
  {
   "cell_type": "markdown",
   "metadata": {
    "id": "X2WSZ-sDrSUi"
   },
   "source": [
    "#### 3.5. Вывод после проверки A/B-теста\n",
    "\n",
    "На основе проведённого анализа A/B-теста сформулируйте и запишите свои выводы. В выводе обязательно укажите:\n",
    "\n",
    "- Было ли обнаружено различие в количестве пользователей в двух группах.\n",
    "\n",
    "- Являются ли выборки независимыми. Было ли обнаружено пересечение пользователей из тестовой и контрольной групп.\n",
    "\n",
    "- Сохраняется ли равномерное распределение пользователей тестовой и контрольной групп по категориальным переменным: устройствам и регионам.\n",
    "\n",
    "Сделайте заключение: корректно ли проходит A/B-тест, или наблюдаются какие-либо нарушения."
   ]
  },
  {
   "cell_type": "markdown",
   "metadata": {
    "id": "dDELHlAcOi8d"
   },
   "source": [
    "#### Сравнение количества пользователей в группах\n",
    "В результате анализа установлено, что количество пользователей в тестовой и контрольной группах сопоставимо и распределение пользователей между группами можно считать равномерным\n",
    "\n",
    "####  Независимость выборок\n",
    "По результатам проверки пересечений пользователей между тестовой и контрольной группами не обнаружено, т.е. выбороки являются независимыми, что подтверждает корректность формирования групп\n",
    "\n",
    "#### Распределение по категориальным переменным\n",
    "Доли пользователей по типам устройств схожи в обеих группах, статистических различий в распределении по устройствам не выявлено\n",
    "\n",
    "Географическое распределение пользователей равномерное, региональные доли сопоставимы в тестовой и контрольной группах\n",
    "\n",
    "\n",
    "#### Общие выводы\n",
    "##### Корректность проведения A/B-теста подтверждается следующими факторами:\n",
    "\n",
    "* Равномерное распределение пользователей\n",
    "\n",
    "* Независимость выборок\n",
    "\n",
    "* Схожесть распределения по категориальным переменным\n",
    "\n",
    "##### Рекомендации по дальнейшей работе:\n",
    "\n",
    "* Продолжить мониторинг эксперимента\n",
    "\n",
    "* Отслеживать появление новых данных\n",
    "\n",
    "* Регулярно проверять стабильность результатов\n",
    "\n",
    "#### Заключение\n",
    "A/B-тест организован корректно и может быть продолжен. Все ключевые показатели находятся в пределах нормы, что позволяет делать достоверные выводы по результатам эксперимента. Нарушения, способные исказить результаты тестирования, не обнаружены."
   ]
  },
  {
   "cell_type": "markdown",
   "metadata": {},
   "source": [
    "<div class=\"alert alert-block alert-success\">\n",
    "\n",
    "**Комментарий ревьювера (все отлично)**\n",
    "    \n",
    "Основные результаты раздела, которые позволяют оценить корректность А/В теста, отражены👍\n",
    "\n",
    "</div>"
   ]
  },
  {
   "cell_type": "markdown",
   "metadata": {
    "id": "nudRr_BQ0eM2"
   },
   "source": [
    "### 4. Проверка результатов A/B-теста\n",
    "\n",
    "A/B-тест завершён, и у вас есть результаты за все дни проведения эксперимента. Необходимо убедиться в корректности теста и верно интерпретировать результаты."
   ]
  },
  {
   "cell_type": "markdown",
   "metadata": {
    "id": "JVve-YBB0eM2"
   },
   "source": [
    "#### 4.1. Получение результатов теста и подсчёт основной метрики\n",
    "\n",
    "- Считайте и сохраните в датафрейм `sessions_test` CSV-файл с историческими данными о сессиях пользователей `sessions_project_test.csv`.\n",
    "\n",
    "- В датафрейме `sessions_test` создайте дополнительный столбец `good_session`. В него войдёт значение `1`, если за одну сессию было просмотрено 4 и более страниц, и значение `0`, если просмотрено меньше."
   ]
  },
  {
   "cell_type": "code",
   "execution_count": 21,
   "metadata": {
    "id": "EqRlwMtKPTir"
   },
   "outputs": [],
   "source": [
    "sessions_test=pd.read_csv('/datasets/sessions_project_test.csv')"
   ]
  },
  {
   "cell_type": "code",
   "execution_count": 22,
   "metadata": {},
   "outputs": [],
   "source": [
    "# Создаем новый столбец good_session\n",
    "sessions_test['good_session'] = sessions_test['page_counter'].apply(lambda x: 1 if x >= 4 else 0)"
   ]
  },
  {
   "cell_type": "markdown",
   "metadata": {
    "id": "aeYhrMYy0eM2"
   },
   "source": [
    "#### 4.2. Проверка корректности результатов теста\n",
    "\n",
    "Прежде чем приступать к анализу ключевых продуктовых метрик, необходимо убедиться, что тест проведён корректно и вы будете сравнивать две сопоставимые группы.\n",
    "\n",
    "- Рассчитайте количество уникальных сессий для каждого дня и обеих тестовых групп, используя группировку.\n",
    "\n",
    "- Проверьте, что количество уникальных дневных сессий в двух выборках не различается или различия не статистически значимыми. Используйте статистический тест, который позволит сделать вывод о равенстве средних двух выборок.\n",
    "\n",
    "- В качестве ответа выведите на экран полученное значение p-value и интерпретируйте его."
   ]
  },
  {
   "cell_type": "code",
   "execution_count": 23,
   "metadata": {
    "id": "5NUlcltkTTSU"
   },
   "outputs": [
    {
     "name": "stdout",
     "output_type": "stream",
     "text": [
      "Значение p-value: 0.9382\n",
      "Различия в количестве сессий между группами статистически не значимы.\n"
     ]
    }
   ],
   "source": [
    "\n",
    "# Группируем данные по дате и группе, считаем уникальные сессии\n",
    "daily_sessions = sessions_test.groupby(['session_date', 'test_group'])['session_id'].nunique().reset_index()\n",
    "\n",
    "# Разделяем данные по группам\n",
    "group_A = daily_sessions[daily_sessions['test_group'] == 'A']['session_id']\n",
    "group_B = daily_sessions[daily_sessions['test_group'] == 'B']['session_id']\n",
    "\n",
    "# Проводим t-тест для проверки равенства средних\n",
    "t_stat, p_value = stats.ttest_ind(group_A, group_B, equal_var=False)\n",
    "\n",
    "# Выводим результаты\n",
    "print(f\"Значение p-value: {p_value:.4f}\")\n",
    "\n",
    "# Интерпретация результата\n",
    "if p_value < 0.05:\n",
    "    print(\"Различия в количестве сессий между группами статистически значимы.\")\n",
    "else:\n",
    "    print(\"Различия в количестве сессий между группами статистически не значимы.\")"
   ]
  },
  {
   "cell_type": "markdown",
   "metadata": {},
   "source": [
    "<div class=\"alert alert-block alert-success\">\n",
    "\n",
    "**Комментарий ревьювера (все отлично)**\n",
    "    \n",
    "Проверка выполнена корректно👍\n",
    "</div>"
   ]
  },
  {
   "cell_type": "markdown",
   "metadata": {
    "id": "7kwRxzg70eM3"
   },
   "source": [
    "#### 4.3. Сравнение доли успешных сессий\n",
    "\n",
    "Когда вы убедились, что количество сессий в обеих выборках не различалось, можно переходить к анализу ключевой метрики — доли успешных сессий.\n",
    "\n",
    "Используйте созданный на первом шаге задания столбец `good_session` и рассчитайте долю успешных сессий для выборок A и B, а также разницу в этом показателе. Полученный вывод отобразите на экране."
   ]
  },
  {
   "cell_type": "code",
   "execution_count": 24,
   "metadata": {
    "id": "Uku-V1CpPRCz"
   },
   "outputs": [
    {
     "name": "stdout",
     "output_type": "stream",
     "text": [
      "Доля успешных сессий в группе A: 30.77%\n",
      "Доля успешных сессий в группе B: 31.83%\n",
      "Разница между группами: 1.06%\n"
     ]
    }
   ],
   "source": [
    "# Рассчитаем долю успешных сессий для каждой группы\n",
    "group_A = sessions_test[sessions_test['test_group'] == 'A']\n",
    "group_B = sessions_test[sessions_test['test_group'] == 'B']\n",
    "\n",
    "# Доля успешных сессий в группе A\n",
    "success_rate_A = group_A['good_session'].mean()\n",
    "\n",
    "# Доля успешных сессий в группе B\n",
    "success_rate_B = group_B['good_session'].mean()\n",
    "\n",
    "# Разница между группами\n",
    "difference = success_rate_B - success_rate_A\n",
    "\n",
    "# Выводим результаты\n",
    "print(f\"Доля успешных сессий в группе A: {success_rate_A:.2%}\")\n",
    "print(f\"Доля успешных сессий в группе B: {success_rate_B:.2%}\")\n",
    "print(f\"Разница между группами: {difference:.2%}\")"
   ]
  },
  {
   "cell_type": "markdown",
   "metadata": {},
   "source": [
    "<div class=\"alert alert-block alert-warning\">\n",
    "\n",
    "**Комментарий ревьювера (что можно улучшить)**\n",
    "    \n",
    "   \n",
    "Абсолютная разница двух значений, выраженных в %, считается в процентных пунктах (не в %).\n",
    "</div>"
   ]
  },
  {
   "cell_type": "markdown",
   "metadata": {
    "id": "9fMFuja10eM4"
   },
   "source": [
    "#### 4.4. Насколько статистически значимо изменение ключевой метрики\n",
    "\n",
    "На предыдущем шаге вы убедились, что количество успешных сессий в тестовой выборке примерно на 1.1% выше, чем в контрольной, но делать выводы только на основе этого значения будет некорректно. Для принятия решения всегда необходимо отвечать на вопрос: является ли это изменение статистически значимым.\n",
    "\n",
    "- Используя статистический тест, рассчитайте, является ли изменение в метрике доли успешных сессий статистически значимым.\n",
    "\n",
    "- Выведите на экран полученное значение p-value и свои выводы о статистической значимости. Напомним, что уровень значимости в эксперименте был выбран на уровне 0.05."
   ]
  },
  {
   "cell_type": "code",
   "execution_count": 25,
   "metadata": {
    "id": "gFvhRGwlPLS0"
   },
   "outputs": [
    {
     "name": "stdout",
     "output_type": "stream",
     "text": [
      "Значение z-статистики: -3.6027\n",
      "Значение p-value: 0.0003\n",
      "\n",
      "Разница в долях успешных сессий статистически значима.\n",
      "Можно говорить о реальном эффекте от тестирования.\n"
     ]
    }
   ],
   "source": [
    "\n",
    "# Подготавливаем данные для теста\n",
    "count_A = group_A['good_session'].sum()  # количество успешных сессий в группе A\n",
    "nobs_A = len(group_A)  # общее количество сессий в группе A\n",
    "\n",
    "count_B = group_B['good_session'].sum()  # количество успешных сессий в группе B\n",
    "nobs_B = len(group_B)  # общее количество сессий в группе B\n",
    "\n",
    "# Проводим z-тест для пропорций\n",
    "z_stat, p_value = proportions_ztest(\n",
    "    [count_A, count_B],  # количество успехов в каждой группе\n",
    "    [nobs_A, nobs_B]     # общее количество наблюдений в каждой группе\n",
    ")\n",
    "\n",
    "# Выводим результаты\n",
    "print(f\"Значение z-статистики: {z_stat:.4f}\")\n",
    "print(f\"Значение p-value: {p_value:.4f}\")\n",
    "\n",
    "# Интерпретация результата\n",
    "if p_value < 0.05:\n",
    "    print(\"\\nРазница в долях успешных сессий статистически значима.\")\n",
    "    print(\"Можно говорить о реальном эффекте от тестирования.\")\n",
    "else:\n",
    "    print(\"\\nРазница в долях успешных сессий статистически не значима.\")\n",
    "    print(\"Наблюдаемые различия могут быть случайными.\")"
   ]
  },
  {
   "cell_type": "markdown",
   "metadata": {},
   "source": [
    "<div class=\"alert alert-block alert-success\">\n",
    "\n",
    "**Комментарий ревьювера (все отлично)**\n",
    "    \n",
    "Проверка выполнена корректно👍\n",
    "</div>"
   ]
  },
  {
   "cell_type": "markdown",
   "metadata": {},
   "source": [
    "<div class=\"alert alert-block alert-warning\">\n",
    "\n",
    "**Комментарий ревьювера (что можно улучшить)**\n",
    "    \n",
    "Альтернативно можно выполнить односторонний тест, указав параметр alternative='smaller' или alternative='larger'.\n",
    "    \n",
    "*Если параметр `alternative='larger'`, то первыми в списках count и nobs следовало бы передать значения группы В*\n",
    "</div>"
   ]
  },
  {
   "cell_type": "markdown",
   "metadata": {
    "id": "GnJrkY9Q63zS"
   },
   "source": [
    "#### 4.5. Вывод по результатам A/B-эксперимента\n",
    "\n",
    "На основе проведённого анализа результатов теста сформулируйте и запишите свои выводы для команды разработки приложения. В выводе обязательно укажите:\n",
    "\n",
    "- Характеристики проведённого эксперимента, количество задействованных пользователей и длительность эксперимента.\n",
    "\n",
    "- Повлияло ли внедрение нового алгоритма рекомендаций на рост ключевой метрики и как.\n",
    "\n",
    "- Каким получилось значение p-value для оценки статистической значимости выявленного эффекта.\n",
    "\n",
    "- Стоит ли внедрять нововведение в приложение."
   ]
  },
  {
   "cell_type": "markdown",
   "metadata": {
    "id": "rri8KRIgPMrW"
   },
   "source": [
    "#### 1. Характеристики эксперимента\n",
    "\n",
    "Длительность тестирования: 5 дней\n",
    "\n",
    "Количество участников:\n",
    "\n",
    "* Группа A (контрольная): 1477 пользователей\n",
    "\n",
    "* Группа B (тестовая): 1466 пользователей\n",
    "\n",
    "Группы были сопоставимы по основным характеристикам.\n",
    "\n",
    "#### 2. Результаты тестирования\n",
    "Ключевая метрика: доля успешных сессий (good_session).\n",
    "\n",
    "Динамика метрики:\n",
    "\n",
    "* Контрольная группа (A): 30.77% успешных сессий.\n",
    "\n",
    "* Тестовая группа (B): 31.83% успешных сессий.\n",
    "\n",
    "Разница: увеличение на 1.1%.\n",
    "\n",
    "#### 3. Статистическая значимость\n",
    "Значение p-value: 0.0003.\n",
    "\n",
    "Интерпретация:\n",
    "\n",
    "При p-value < 0.05 различия статистически значимы.\n",
    "\n",
    "При p-value ≥ 0.05 различия случайны.\n",
    "\n",
    "#### 4. Рекомендации\n",
    "На основании проведенного анализа:\n",
    "\n",
    "Эффект от внедрения: новый алгоритм рекомендаций привел к увеличению доли успешных сессий на 1.1%.\n",
    "\n",
    "#### Заключение\n",
    "По результатам тестирования рекомендуется:\n",
    "\n",
    "* Мониторинг метрик после полного внедрения\n",
    "\n",
    "* Отслеживание долгосрочных эффектов\n",
    "\n",
    "* Анализ поведения пользователей\n",
    "\n",
    "Результаты теста демонстрируют положительный эффект от внедрения нового алгоритма рекомендаций, что делает его перспективным для масштабирования на всю аудиторию приложения."
   ]
  },
  {
   "cell_type": "markdown",
   "metadata": {},
   "source": [
    "<div class=\"alert alert-block alert-success\">\n",
    "\n",
    "**Комментарий ревьювера (все отлично)**\n",
    "    \n",
    "Молодец, что отразила все требуемые пункты в выводе, результаты статистического теста верно интерпретированы👍\n",
    "</div>"
   ]
  },
  {
   "cell_type": "markdown",
   "metadata": {},
   "source": [
    "<div class=\"alert alert-block alert-warning\">\n",
    "\n",
    "**Общий комментарий ревьювера**\n",
    "    \n",
    "Лидия, хорошая работа! Выводы структурированы и достаточно четко отражают результаты исследования, качественная визуализация данных, есть навыки проверки статистических гипотез. Спасибо за четкие комментарии по результатам исследования и аккуратный код, это упростило проверку. Для принятия работы надо исправить критические недочеты:\n",
    "\n",
    "* исправить расчёт длительности теста.\n",
    "    \n",
    "    \n",
    "Еще есть несколько рекомендаций, которые помогут тебе с будущими проектами. Жду твою работу!\n",
    "    \n",
    "В дополнении прикрепляю полезные материалы по A/B-тесту: \n",
    "    \n",
    "* https://your-scorpion.ru/ab-tests-check-mathematics/\n",
    "\n",
    "</div>"
   ]
  },
  {
   "cell_type": "code",
   "execution_count": null,
   "metadata": {},
   "outputs": [],
   "source": []
  }
 ],
 "metadata": {
  "ExecuteTimeLog": [
   {
    "duration": 403,
    "start_time": "2025-07-31T10:08:53.599Z"
   },
   {
    "duration": 483,
    "start_time": "2025-07-31T12:46:03.778Z"
   },
   {
    "duration": 120,
    "start_time": "2025-07-31T12:46:07.059Z"
   },
   {
    "duration": 1162,
    "start_time": "2025-07-31T12:46:30.265Z"
   },
   {
    "duration": 16,
    "start_time": "2025-07-31T12:47:21.942Z"
   },
   {
    "duration": 615,
    "start_time": "2025-07-31T12:50:40.681Z"
   },
   {
    "duration": 1667,
    "start_time": "2025-07-31T12:52:36.494Z"
   },
   {
    "duration": 6,
    "start_time": "2025-07-31T12:53:46.197Z"
   },
   {
    "duration": 31,
    "start_time": "2025-07-31T12:54:25.961Z"
   },
   {
    "duration": 29,
    "start_time": "2025-07-31T12:55:46.635Z"
   },
   {
    "duration": 767,
    "start_time": "2025-07-31T12:59:06.594Z"
   },
   {
    "duration": 795,
    "start_time": "2025-07-31T12:59:39.643Z"
   },
   {
    "duration": 439,
    "start_time": "2025-08-01T06:22:16.824Z"
   },
   {
    "duration": 1134,
    "start_time": "2025-08-01T06:22:17.265Z"
   },
   {
    "duration": 18,
    "start_time": "2025-08-01T06:22:18.401Z"
   },
   {
    "duration": 628,
    "start_time": "2025-08-01T06:22:18.422Z"
   },
   {
    "duration": 5,
    "start_time": "2025-08-01T06:22:19.052Z"
   },
   {
    "duration": 38,
    "start_time": "2025-08-01T06:22:19.059Z"
   },
   {
    "duration": 41,
    "start_time": "2025-08-01T06:22:19.099Z"
   },
   {
    "duration": 750,
    "start_time": "2025-08-01T06:22:19.142Z"
   },
   {
    "duration": 548,
    "start_time": "2025-08-01T06:22:19.893Z"
   },
   {
    "duration": 0,
    "start_time": "2025-08-01T06:22:20.443Z"
   },
   {
    "duration": 522,
    "start_time": "2025-08-01T06:27:27.949Z"
   },
   {
    "duration": 871,
    "start_time": "2025-08-01T06:28:09.773Z"
   },
   {
    "duration": 799,
    "start_time": "2025-08-01T06:28:53.775Z"
   },
   {
    "duration": 778,
    "start_time": "2025-08-01T06:29:12.296Z"
   },
   {
    "duration": 767,
    "start_time": "2025-08-01T06:30:00.021Z"
   },
   {
    "duration": 89,
    "start_time": "2025-08-01T06:32:40.857Z"
   },
   {
    "duration": 777,
    "start_time": "2025-08-01T06:34:49.126Z"
   },
   {
    "duration": 730,
    "start_time": "2025-08-01T06:35:11.302Z"
   },
   {
    "duration": 585,
    "start_time": "2025-08-01T06:39:59.067Z"
   },
   {
    "duration": 604,
    "start_time": "2025-08-01T06:41:59.300Z"
   },
   {
    "duration": 591,
    "start_time": "2025-08-01T06:43:32.193Z"
   },
   {
    "duration": 565,
    "start_time": "2025-08-01T06:44:04.385Z"
   },
   {
    "duration": 564,
    "start_time": "2025-08-01T07:05:14.403Z"
   },
   {
    "duration": 589,
    "start_time": "2025-08-01T07:05:36.355Z"
   },
   {
    "duration": 1153,
    "start_time": "2025-08-01T07:33:05.692Z"
   },
   {
    "duration": 1274,
    "start_time": "2025-08-01T07:34:31.416Z"
   },
   {
    "duration": 12,
    "start_time": "2025-08-01T07:52:00.559Z"
   },
   {
    "duration": 18,
    "start_time": "2025-08-01T07:52:48.164Z"
   },
   {
    "duration": 10,
    "start_time": "2025-08-01T08:11:32.282Z"
   },
   {
    "duration": 10,
    "start_time": "2025-08-01T08:11:55.856Z"
   },
   {
    "duration": 4,
    "start_time": "2025-08-01T08:12:13.043Z"
   },
   {
    "duration": 5,
    "start_time": "2025-08-01T08:25:11.257Z"
   },
   {
    "duration": 5,
    "start_time": "2025-08-01T08:25:19.183Z"
   },
   {
    "duration": 4,
    "start_time": "2025-08-01T08:25:34.364Z"
   },
   {
    "duration": 23,
    "start_time": "2025-08-01T08:27:05.128Z"
   },
   {
    "duration": 9,
    "start_time": "2025-08-01T08:29:42.655Z"
   },
   {
    "duration": 277,
    "start_time": "2025-08-01T08:35:11.009Z"
   },
   {
    "duration": 19,
    "start_time": "2025-08-01T08:39:00.138Z"
   },
   {
    "duration": 10,
    "start_time": "2025-08-01T08:39:34.193Z"
   },
   {
    "duration": 8,
    "start_time": "2025-08-01T08:41:58.606Z"
   },
   {
    "duration": 399,
    "start_time": "2025-08-01T08:59:55.013Z"
   },
   {
    "duration": 433,
    "start_time": "2025-08-01T09:00:36.710Z"
   },
   {
    "duration": 367,
    "start_time": "2025-08-01T09:01:40.736Z"
   },
   {
    "duration": 132,
    "start_time": "2025-08-01T09:02:21.778Z"
   },
   {
    "duration": 347,
    "start_time": "2025-08-01T09:02:44.624Z"
   },
   {
    "duration": 133,
    "start_time": "2025-08-01T09:03:55.230Z"
   },
   {
    "duration": 121,
    "start_time": "2025-08-01T09:08:56.019Z"
   },
   {
    "duration": 397,
    "start_time": "2025-08-01T09:09:36.375Z"
   },
   {
    "duration": 135,
    "start_time": "2025-08-01T09:11:05.331Z"
   },
   {
    "duration": 432,
    "start_time": "2025-08-01T09:12:06.578Z"
   },
   {
    "duration": 263,
    "start_time": "2025-08-01T09:22:54.763Z"
   },
   {
    "duration": 45,
    "start_time": "2025-08-01T09:24:08.530Z"
   },
   {
    "duration": 18,
    "start_time": "2025-08-01T09:28:34.521Z"
   },
   {
    "duration": 53,
    "start_time": "2025-08-01T09:29:12.419Z"
   },
   {
    "duration": 52,
    "start_time": "2025-08-01T09:29:23.249Z"
   },
   {
    "duration": 33,
    "start_time": "2025-08-01T09:30:10.256Z"
   },
   {
    "duration": 12,
    "start_time": "2025-08-01T09:39:35.330Z"
   },
   {
    "duration": 12,
    "start_time": "2025-08-01T09:39:47.687Z"
   },
   {
    "duration": 8,
    "start_time": "2025-08-01T09:40:08.839Z"
   },
   {
    "duration": 7,
    "start_time": "2025-08-01T09:40:37.111Z"
   },
   {
    "duration": 437,
    "start_time": "2025-08-01T12:12:52.035Z"
   },
   {
    "duration": 1119,
    "start_time": "2025-08-01T12:12:52.474Z"
   },
   {
    "duration": 18,
    "start_time": "2025-08-01T12:12:53.595Z"
   },
   {
    "duration": 619,
    "start_time": "2025-08-01T12:12:53.616Z"
   },
   {
    "duration": 3,
    "start_time": "2025-08-01T12:12:54.239Z"
   },
   {
    "duration": 141,
    "start_time": "2025-08-01T12:12:54.243Z"
   },
   {
    "duration": 38,
    "start_time": "2025-08-01T12:12:54.385Z"
   },
   {
    "duration": 729,
    "start_time": "2025-08-01T12:12:54.425Z"
   },
   {
    "duration": 1025,
    "start_time": "2025-08-01T12:12:55.156Z"
   },
   {
    "duration": 857,
    "start_time": "2025-08-01T12:12:56.183Z"
   },
   {
    "duration": 725,
    "start_time": "2025-08-01T12:12:57.041Z"
   },
   {
    "duration": 592,
    "start_time": "2025-08-01T12:12:57.768Z"
   },
   {
    "duration": 1071,
    "start_time": "2025-08-01T12:12:58.362Z"
   },
   {
    "duration": 111,
    "start_time": "2025-08-01T12:12:59.439Z"
   },
   {
    "duration": 0,
    "start_time": "2025-08-01T12:12:59.552Z"
   },
   {
    "duration": 1,
    "start_time": "2025-08-01T12:12:59.554Z"
   },
   {
    "duration": 0,
    "start_time": "2025-08-01T12:12:59.556Z"
   },
   {
    "duration": 0,
    "start_time": "2025-08-01T12:12:59.558Z"
   },
   {
    "duration": 0,
    "start_time": "2025-08-01T12:12:59.559Z"
   },
   {
    "duration": 0,
    "start_time": "2025-08-01T12:12:59.561Z"
   },
   {
    "duration": 0,
    "start_time": "2025-08-01T12:12:59.563Z"
   },
   {
    "duration": 0,
    "start_time": "2025-08-01T12:12:59.564Z"
   },
   {
    "duration": 0,
    "start_time": "2025-08-01T12:12:59.566Z"
   },
   {
    "duration": 0,
    "start_time": "2025-08-01T12:12:59.567Z"
   },
   {
    "duration": 0,
    "start_time": "2025-08-01T12:12:59.569Z"
   },
   {
    "duration": 0,
    "start_time": "2025-08-01T12:12:59.571Z"
   },
   {
    "duration": 438,
    "start_time": "2025-08-01T12:43:15.829Z"
   },
   {
    "duration": 1255,
    "start_time": "2025-08-01T12:43:16.269Z"
   },
   {
    "duration": 29,
    "start_time": "2025-08-01T12:43:17.526Z"
   },
   {
    "duration": 678,
    "start_time": "2025-08-01T12:43:17.558Z"
   },
   {
    "duration": 4,
    "start_time": "2025-08-01T12:43:18.239Z"
   },
   {
    "duration": 118,
    "start_time": "2025-08-01T12:43:18.244Z"
   },
   {
    "duration": 46,
    "start_time": "2025-08-01T12:43:18.364Z"
   },
   {
    "duration": 762,
    "start_time": "2025-08-01T12:43:18.412Z"
   },
   {
    "duration": 794,
    "start_time": "2025-08-01T12:43:19.175Z"
   },
   {
    "duration": 772,
    "start_time": "2025-08-01T12:43:19.971Z"
   },
   {
    "duration": 728,
    "start_time": "2025-08-01T12:43:20.745Z"
   },
   {
    "duration": 608,
    "start_time": "2025-08-01T12:43:21.475Z"
   },
   {
    "duration": 1069,
    "start_time": "2025-08-01T12:43:22.085Z"
   },
   {
    "duration": 21,
    "start_time": "2025-08-01T12:43:23.157Z"
   },
   {
    "duration": 32,
    "start_time": "2025-08-01T12:43:23.180Z"
   },
   {
    "duration": 25,
    "start_time": "2025-08-01T12:43:23.214Z"
   },
   {
    "duration": 9,
    "start_time": "2025-08-01T12:43:23.240Z"
   },
   {
    "duration": 256,
    "start_time": "2025-08-01T12:43:23.251Z"
   },
   {
    "duration": 9,
    "start_time": "2025-08-01T12:43:23.509Z"
   },
   {
    "duration": 475,
    "start_time": "2025-08-01T12:43:23.539Z"
   },
   {
    "duration": 467,
    "start_time": "2025-08-01T12:43:24.017Z"
   },
   {
    "duration": 259,
    "start_time": "2025-08-01T12:43:24.485Z"
   },
   {
    "duration": 33,
    "start_time": "2025-08-01T12:43:24.746Z"
   },
   {
    "duration": 64,
    "start_time": "2025-08-01T12:43:24.781Z"
   },
   {
    "duration": 35,
    "start_time": "2025-08-01T12:43:24.847Z"
   },
   {
    "duration": 10,
    "start_time": "2025-08-01T12:43:24.885Z"
   },
   {
    "duration": 761,
    "start_time": "2025-08-01T12:44:52.120Z"
   },
   {
    "duration": 385,
    "start_time": "2025-08-01T12:48:01.896Z"
   },
   {
    "duration": 1101,
    "start_time": "2025-08-01T12:48:02.283Z"
   },
   {
    "duration": 18,
    "start_time": "2025-08-01T12:48:03.385Z"
   },
   {
    "duration": 763,
    "start_time": "2025-08-01T12:48:03.404Z"
   },
   {
    "duration": 5,
    "start_time": "2025-08-01T12:48:04.170Z"
   },
   {
    "duration": 41,
    "start_time": "2025-08-01T12:48:04.177Z"
   },
   {
    "duration": 45,
    "start_time": "2025-08-01T12:48:04.220Z"
   },
   {
    "duration": 757,
    "start_time": "2025-08-01T12:48:04.267Z"
   },
   {
    "duration": 756,
    "start_time": "2025-08-01T12:48:05.025Z"
   },
   {
    "duration": 780,
    "start_time": "2025-08-01T12:48:05.783Z"
   },
   {
    "duration": 685,
    "start_time": "2025-08-01T12:48:06.565Z"
   },
   {
    "duration": 611,
    "start_time": "2025-08-01T12:48:07.252Z"
   },
   {
    "duration": 1100,
    "start_time": "2025-08-01T12:48:07.864Z"
   },
   {
    "duration": 22,
    "start_time": "2025-08-01T12:48:08.966Z"
   },
   {
    "duration": 5,
    "start_time": "2025-08-01T12:48:08.989Z"
   },
   {
    "duration": 28,
    "start_time": "2025-08-01T12:48:08.995Z"
   },
   {
    "duration": 22,
    "start_time": "2025-08-01T12:48:09.024Z"
   },
   {
    "duration": 332,
    "start_time": "2025-08-01T12:48:09.048Z"
   },
   {
    "duration": 8,
    "start_time": "2025-08-01T12:48:09.382Z"
   },
   {
    "duration": 510,
    "start_time": "2025-08-01T12:48:09.392Z"
   },
   {
    "duration": 461,
    "start_time": "2025-08-01T12:48:09.904Z"
   },
   {
    "duration": 256,
    "start_time": "2025-08-01T12:48:10.368Z"
   },
   {
    "duration": 38,
    "start_time": "2025-08-01T12:48:10.626Z"
   },
   {
    "duration": 150,
    "start_time": "2025-08-01T12:48:10.666Z"
   },
   {
    "duration": 37,
    "start_time": "2025-08-01T12:48:10.818Z"
   },
   {
    "duration": 7,
    "start_time": "2025-08-01T12:48:10.858Z"
   },
   {
    "duration": 1383,
    "start_time": "2025-08-04T08:39:25.669Z"
   },
   {
    "duration": 3,
    "start_time": "2025-08-04T08:40:00.228Z"
   },
   {
    "duration": 1223,
    "start_time": "2025-08-04T08:40:25.871Z"
   },
   {
    "duration": 1005,
    "start_time": "2025-08-04T08:40:27.095Z"
   },
   {
    "duration": 14,
    "start_time": "2025-08-04T08:40:28.102Z"
   },
   {
    "duration": 557,
    "start_time": "2025-08-04T08:40:28.118Z"
   },
   {
    "duration": 12,
    "start_time": "2025-08-04T08:40:28.677Z"
   },
   {
    "duration": 115,
    "start_time": "2025-08-04T08:40:28.691Z"
   },
   {
    "duration": 29,
    "start_time": "2025-08-04T08:40:28.808Z"
   },
   {
    "duration": 666,
    "start_time": "2025-08-04T08:40:28.839Z"
   },
   {
    "duration": 787,
    "start_time": "2025-08-04T08:40:29.507Z"
   },
   {
    "duration": 679,
    "start_time": "2025-08-04T08:40:30.297Z"
   },
   {
    "duration": 611,
    "start_time": "2025-08-04T08:40:30.978Z"
   },
   {
    "duration": 1084,
    "start_time": "2025-08-04T08:40:31.591Z"
   },
   {
    "duration": 26,
    "start_time": "2025-08-04T08:40:32.677Z"
   },
   {
    "duration": 228,
    "start_time": "2025-08-04T08:40:32.707Z"
   },
   {
    "duration": 75,
    "start_time": "2025-08-04T08:40:32.937Z"
   },
   {
    "duration": 10,
    "start_time": "2025-08-04T08:40:33.014Z"
   },
   {
    "duration": 317,
    "start_time": "2025-08-04T08:40:33.025Z"
   },
   {
    "duration": 8,
    "start_time": "2025-08-04T08:40:33.343Z"
   },
   {
    "duration": 502,
    "start_time": "2025-08-04T08:40:33.352Z"
   },
   {
    "duration": 361,
    "start_time": "2025-08-04T08:40:33.856Z"
   },
   {
    "duration": 239,
    "start_time": "2025-08-04T08:40:34.219Z"
   },
   {
    "duration": 38,
    "start_time": "2025-08-04T08:40:34.460Z"
   },
   {
    "duration": 56,
    "start_time": "2025-08-04T08:40:34.499Z"
   },
   {
    "duration": 47,
    "start_time": "2025-08-04T08:40:34.557Z"
   },
   {
    "duration": 43,
    "start_time": "2025-08-04T08:40:34.605Z"
   },
   {
    "duration": 171,
    "start_time": "2025-08-04T08:41:07.493Z"
   },
   {
    "duration": 32,
    "start_time": "2025-08-04T08:41:39.670Z"
   },
   {
    "duration": 4,
    "start_time": "2025-08-04T08:44:28.225Z"
   },
   {
    "duration": 6,
    "start_time": "2025-08-04T08:44:57.308Z"
   },
   {
    "duration": 5,
    "start_time": "2025-08-04T08:45:04.837Z"
   },
   {
    "duration": 1285,
    "start_time": "2025-08-04T09:44:38.830Z"
   },
   {
    "duration": 1129,
    "start_time": "2025-08-04T09:44:40.120Z"
   },
   {
    "duration": 15,
    "start_time": "2025-08-04T09:44:41.250Z"
   },
   {
    "duration": 658,
    "start_time": "2025-08-04T09:44:41.267Z"
   },
   {
    "duration": 5,
    "start_time": "2025-08-04T09:44:41.928Z"
   },
   {
    "duration": 32,
    "start_time": "2025-08-04T09:44:41.935Z"
   },
   {
    "duration": 59,
    "start_time": "2025-08-04T09:44:41.968Z"
   },
   {
    "duration": 784,
    "start_time": "2025-08-04T09:44:42.029Z"
   },
   {
    "duration": 867,
    "start_time": "2025-08-04T09:44:42.816Z"
   },
   {
    "duration": 775,
    "start_time": "2025-08-04T09:44:43.684Z"
   },
   {
    "duration": 697,
    "start_time": "2025-08-04T09:44:44.461Z"
   },
   {
    "duration": 1194,
    "start_time": "2025-08-04T09:44:45.160Z"
   },
   {
    "duration": 24,
    "start_time": "2025-08-04T09:44:46.356Z"
   },
   {
    "duration": 18,
    "start_time": "2025-08-04T09:44:46.400Z"
   },
   {
    "duration": 76,
    "start_time": "2025-08-04T09:44:46.420Z"
   },
   {
    "duration": 25,
    "start_time": "2025-08-04T09:44:46.497Z"
   },
   {
    "duration": 509,
    "start_time": "2025-08-04T09:44:46.524Z"
   },
   {
    "duration": 8,
    "start_time": "2025-08-04T09:44:47.034Z"
   },
   {
    "duration": 572,
    "start_time": "2025-08-04T09:44:47.044Z"
   },
   {
    "duration": 398,
    "start_time": "2025-08-04T09:44:47.618Z"
   },
   {
    "duration": 295,
    "start_time": "2025-08-04T09:44:48.018Z"
   },
   {
    "duration": 39,
    "start_time": "2025-08-04T09:44:48.315Z"
   },
   {
    "duration": 111,
    "start_time": "2025-08-04T09:44:48.355Z"
   },
   {
    "duration": 45,
    "start_time": "2025-08-04T09:44:48.468Z"
   },
   {
    "duration": 184,
    "start_time": "2025-08-04T09:44:48.515Z"
   },
   {
    "duration": 1235,
    "start_time": "2025-08-04T09:45:10.311Z"
   },
   {
    "duration": 2268,
    "start_time": "2025-08-04T09:45:11.549Z"
   },
   {
    "duration": 16,
    "start_time": "2025-08-04T09:45:13.819Z"
   },
   {
    "duration": 665,
    "start_time": "2025-08-04T09:45:13.837Z"
   },
   {
    "duration": 9,
    "start_time": "2025-08-04T09:45:14.505Z"
   },
   {
    "duration": 232,
    "start_time": "2025-08-04T09:45:14.515Z"
   },
   {
    "duration": 181,
    "start_time": "2025-08-04T09:45:14.749Z"
   },
   {
    "duration": 784,
    "start_time": "2025-08-04T09:45:14.932Z"
   },
   {
    "duration": 895,
    "start_time": "2025-08-04T09:45:15.718Z"
   },
   {
    "duration": 734,
    "start_time": "2025-08-04T09:45:16.617Z"
   },
   {
    "duration": 673,
    "start_time": "2025-08-04T09:45:17.353Z"
   },
   {
    "duration": 1210,
    "start_time": "2025-08-04T09:45:18.028Z"
   },
   {
    "duration": 18,
    "start_time": "2025-08-04T09:45:19.240Z"
   },
   {
    "duration": 87,
    "start_time": "2025-08-04T09:45:19.261Z"
   },
   {
    "duration": 31,
    "start_time": "2025-08-04T09:45:19.349Z"
   },
   {
    "duration": 18,
    "start_time": "2025-08-04T09:45:19.382Z"
   },
   {
    "duration": 273,
    "start_time": "2025-08-04T09:45:19.402Z"
   },
   {
    "duration": 9,
    "start_time": "2025-08-04T09:45:19.676Z"
   },
   {
    "duration": 567,
    "start_time": "2025-08-04T09:45:19.702Z"
   },
   {
    "duration": 399,
    "start_time": "2025-08-04T09:45:20.271Z"
   },
   {
    "duration": 274,
    "start_time": "2025-08-04T09:45:20.672Z"
   },
   {
    "duration": 36,
    "start_time": "2025-08-04T09:45:20.947Z"
   },
   {
    "duration": 103,
    "start_time": "2025-08-04T09:45:20.985Z"
   },
   {
    "duration": 40,
    "start_time": "2025-08-04T09:45:21.090Z"
   },
   {
    "duration": 7,
    "start_time": "2025-08-04T09:45:21.133Z"
   },
   {
    "duration": 1264,
    "start_time": "2025-08-04T09:48:28.669Z"
   },
   {
    "duration": 1190,
    "start_time": "2025-08-04T09:48:29.935Z"
   },
   {
    "duration": 16,
    "start_time": "2025-08-04T09:48:31.127Z"
   },
   {
    "duration": 668,
    "start_time": "2025-08-04T09:48:31.144Z"
   },
   {
    "duration": 5,
    "start_time": "2025-08-04T09:48:31.815Z"
   },
   {
    "duration": 84,
    "start_time": "2025-08-04T09:48:31.822Z"
   },
   {
    "duration": 51,
    "start_time": "2025-08-04T09:48:31.915Z"
   },
   {
    "duration": 785,
    "start_time": "2025-08-04T09:48:31.967Z"
   },
   {
    "duration": 841,
    "start_time": "2025-08-04T09:48:32.754Z"
   },
   {
    "duration": 765,
    "start_time": "2025-08-04T09:48:33.597Z"
   },
   {
    "duration": 691,
    "start_time": "2025-08-04T09:48:34.364Z"
   },
   {
    "duration": 1220,
    "start_time": "2025-08-04T09:48:35.057Z"
   },
   {
    "duration": 33,
    "start_time": "2025-08-04T09:48:36.279Z"
   },
   {
    "duration": 55,
    "start_time": "2025-08-04T09:48:36.316Z"
   },
   {
    "duration": 51,
    "start_time": "2025-08-04T09:48:36.373Z"
   },
   {
    "duration": 49,
    "start_time": "2025-08-04T09:48:36.426Z"
   },
   {
    "duration": 487,
    "start_time": "2025-08-04T09:48:36.477Z"
   },
   {
    "duration": 10,
    "start_time": "2025-08-04T09:48:36.966Z"
   },
   {
    "duration": 599,
    "start_time": "2025-08-04T09:48:36.978Z"
   },
   {
    "duration": 387,
    "start_time": "2025-08-04T09:48:37.579Z"
   },
   {
    "duration": 285,
    "start_time": "2025-08-04T09:48:37.969Z"
   },
   {
    "duration": 42,
    "start_time": "2025-08-04T09:48:38.256Z"
   },
   {
    "duration": 117,
    "start_time": "2025-08-04T09:48:38.302Z"
   },
   {
    "duration": 34,
    "start_time": "2025-08-04T09:48:38.421Z"
   },
   {
    "duration": 21,
    "start_time": "2025-08-04T09:48:38.457Z"
   }
  ],
  "colab": {
   "provenance": []
  },
  "kernelspec": {
   "display_name": "Python 3 (ipykernel)",
   "language": "python",
   "name": "python3"
  },
  "language_info": {
   "codemirror_mode": {
    "name": "ipython",
    "version": 3
   },
   "file_extension": ".py",
   "mimetype": "text/x-python",
   "name": "python",
   "nbconvert_exporter": "python",
   "pygments_lexer": "ipython3",
   "version": "3.9.5"
  },
  "toc": {
   "base_numbering": 1,
   "nav_menu": {},
   "number_sections": true,
   "sideBar": true,
   "skip_h1_title": true,
   "title_cell": "Table of Contents",
   "title_sidebar": "Contents",
   "toc_cell": false,
   "toc_position": {},
   "toc_section_display": true,
   "toc_window_display": false
  }
 },
 "nbformat": 4,
 "nbformat_minor": 1
}
